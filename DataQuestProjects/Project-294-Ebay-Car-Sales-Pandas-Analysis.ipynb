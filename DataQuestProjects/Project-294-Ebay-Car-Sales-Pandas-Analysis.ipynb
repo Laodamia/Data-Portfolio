{
 "cells": [
  {
   "cell_type": "markdown",
   "metadata": {
    "collapsed": true
   },
   "source": [
    "## Data Analysis: eBay Kleinanzeigen \n",
    "\n",
    "A dataset of used cars from eBay Kleinanzeigen, a classifieds section of the German eBay website.\n",
    "\n",
    "The dataset was originally scraped and [uploaded to Kaggle](https://www.kaggle.com/orgesleka/used-cars-database/data). The course creators made a few modifications from the original dataset:\n",
    "\n",
    "* Sampled 50,000 data points from the full dataset. \n",
    "* Dirtied the dataset a bit to more closely resemble what you would expect from a scraped dataset (the version uploaded to Kaggle was cleaned to be easier to work with).\n",
    "\n",
    "### Description of the data set\n",
    "\n",
    "The columns found in the dataset.\n",
    "\n",
    "|Columns| Description|\n",
    "|---|---|\n",
    "|dateCrawled| When this ad was first crawled. All field-values are taken from this date.|\n",
    "|name| Name of the car.|\n",
    "|seller | Whether the seller is private or a dealer.|\n",
    "|offerType| The type of listing|\n",
    "| price| The price on the ad to sell the car|\n",
    "| abtest | Whether the listing is included in an A/B test|\n",
    "|vehicleType| The vehicle Type.|\n",
    "|yearOfRegistration | The year in which the car was first registered.|\n",
    "| gearbox | The transmission type|\n",
    "|powerPS | The power of the car in PS|\n",
    "| model | The car model name|\n",
    "|kilometer | How many kilometers the car has driven|\n",
    "|monthOfRegistration | The month in which the car was first registered.|\n",
    "| fuelType | What type of fuel the car uses|\n",
    "|brand |The brand of the car.|\n",
    "|notRepairedDamage | If the car has a damage which is not yet repaired.|\n",
    "|dateCreated | The date on which the eBay listing was created.|\n",
    "|nrOfPictures | The number of pictures in the ad.|\n",
    "| postalCode | The postal code for the location of the vehicle.|\n",
    "|lastSeenOnline | When the crawler saw this ad last online.|\n",
    "\n",
    "### Aim\n",
    "The aim of this project is to clean the data and analyze the included used car listings. \n",
    "\n",
    "## Preparation"
   ]
  },
  {
   "cell_type": "code",
   "execution_count": 1,
   "metadata": {},
   "outputs": [],
   "source": [
    "# import libraries\n",
    "import pandas as pd\n",
    "import numpy as np\n",
    "\n",
    "#read the file\n",
    "autos = pd.read_csv(\"autos.csv\", encoding =\"Latin-1\")"
   ]
  },
  {
   "cell_type": "code",
   "execution_count": 2,
   "metadata": {},
   "outputs": [
    {
     "data": {
      "text/html": [
       "<div>\n",
       "<style scoped>\n",
       "    .dataframe tbody tr th:only-of-type {\n",
       "        vertical-align: middle;\n",
       "    }\n",
       "\n",
       "    .dataframe tbody tr th {\n",
       "        vertical-align: top;\n",
       "    }\n",
       "\n",
       "    .dataframe thead th {\n",
       "        text-align: right;\n",
       "    }\n",
       "</style>\n",
       "<table border=\"1\" class=\"dataframe\">\n",
       "  <thead>\n",
       "    <tr style=\"text-align: right;\">\n",
       "      <th></th>\n",
       "      <th>dateCrawled</th>\n",
       "      <th>name</th>\n",
       "      <th>seller</th>\n",
       "      <th>offerType</th>\n",
       "      <th>price</th>\n",
       "      <th>abtest</th>\n",
       "      <th>vehicleType</th>\n",
       "      <th>yearOfRegistration</th>\n",
       "      <th>gearbox</th>\n",
       "      <th>powerPS</th>\n",
       "      <th>model</th>\n",
       "      <th>odometer</th>\n",
       "      <th>monthOfRegistration</th>\n",
       "      <th>fuelType</th>\n",
       "      <th>brand</th>\n",
       "      <th>notRepairedDamage</th>\n",
       "      <th>dateCreated</th>\n",
       "      <th>nrOfPictures</th>\n",
       "      <th>postalCode</th>\n",
       "      <th>lastSeen</th>\n",
       "    </tr>\n",
       "  </thead>\n",
       "  <tbody>\n",
       "    <tr>\n",
       "      <th>0</th>\n",
       "      <td>2016-03-26 17:47:46</td>\n",
       "      <td>Peugeot_807_160_NAVTECH_ON_BOARD</td>\n",
       "      <td>privat</td>\n",
       "      <td>Angebot</td>\n",
       "      <td>$5,000</td>\n",
       "      <td>control</td>\n",
       "      <td>bus</td>\n",
       "      <td>2004</td>\n",
       "      <td>manuell</td>\n",
       "      <td>158</td>\n",
       "      <td>andere</td>\n",
       "      <td>150,000km</td>\n",
       "      <td>3</td>\n",
       "      <td>lpg</td>\n",
       "      <td>peugeot</td>\n",
       "      <td>nein</td>\n",
       "      <td>2016-03-26 00:00:00</td>\n",
       "      <td>0</td>\n",
       "      <td>79588</td>\n",
       "      <td>2016-04-06 06:45:54</td>\n",
       "    </tr>\n",
       "    <tr>\n",
       "      <th>1</th>\n",
       "      <td>2016-04-04 13:38:56</td>\n",
       "      <td>BMW_740i_4_4_Liter_HAMANN_UMBAU_Mega_Optik</td>\n",
       "      <td>privat</td>\n",
       "      <td>Angebot</td>\n",
       "      <td>$8,500</td>\n",
       "      <td>control</td>\n",
       "      <td>limousine</td>\n",
       "      <td>1997</td>\n",
       "      <td>automatik</td>\n",
       "      <td>286</td>\n",
       "      <td>7er</td>\n",
       "      <td>150,000km</td>\n",
       "      <td>6</td>\n",
       "      <td>benzin</td>\n",
       "      <td>bmw</td>\n",
       "      <td>nein</td>\n",
       "      <td>2016-04-04 00:00:00</td>\n",
       "      <td>0</td>\n",
       "      <td>71034</td>\n",
       "      <td>2016-04-06 14:45:08</td>\n",
       "    </tr>\n",
       "    <tr>\n",
       "      <th>2</th>\n",
       "      <td>2016-03-26 18:57:24</td>\n",
       "      <td>Volkswagen_Golf_1.6_United</td>\n",
       "      <td>privat</td>\n",
       "      <td>Angebot</td>\n",
       "      <td>$8,990</td>\n",
       "      <td>test</td>\n",
       "      <td>limousine</td>\n",
       "      <td>2009</td>\n",
       "      <td>manuell</td>\n",
       "      <td>102</td>\n",
       "      <td>golf</td>\n",
       "      <td>70,000km</td>\n",
       "      <td>7</td>\n",
       "      <td>benzin</td>\n",
       "      <td>volkswagen</td>\n",
       "      <td>nein</td>\n",
       "      <td>2016-03-26 00:00:00</td>\n",
       "      <td>0</td>\n",
       "      <td>35394</td>\n",
       "      <td>2016-04-06 20:15:37</td>\n",
       "    </tr>\n",
       "  </tbody>\n",
       "</table>\n",
       "</div>"
      ],
      "text/plain": [
       "           dateCrawled                                        name  seller  \\\n",
       "0  2016-03-26 17:47:46            Peugeot_807_160_NAVTECH_ON_BOARD  privat   \n",
       "1  2016-04-04 13:38:56  BMW_740i_4_4_Liter_HAMANN_UMBAU_Mega_Optik  privat   \n",
       "2  2016-03-26 18:57:24                  Volkswagen_Golf_1.6_United  privat   \n",
       "\n",
       "  offerType   price   abtest vehicleType  yearOfRegistration    gearbox  \\\n",
       "0   Angebot  $5,000  control         bus                2004    manuell   \n",
       "1   Angebot  $8,500  control   limousine                1997  automatik   \n",
       "2   Angebot  $8,990     test   limousine                2009    manuell   \n",
       "\n",
       "   powerPS   model   odometer  monthOfRegistration fuelType       brand  \\\n",
       "0      158  andere  150,000km                    3      lpg     peugeot   \n",
       "1      286     7er  150,000km                    6   benzin         bmw   \n",
       "2      102    golf   70,000km                    7   benzin  volkswagen   \n",
       "\n",
       "  notRepairedDamage          dateCreated  nrOfPictures  postalCode  \\\n",
       "0              nein  2016-03-26 00:00:00             0       79588   \n",
       "1              nein  2016-04-04 00:00:00             0       71034   \n",
       "2              nein  2016-03-26 00:00:00             0       35394   \n",
       "\n",
       "              lastSeen  \n",
       "0  2016-04-06 06:45:54  \n",
       "1  2016-04-06 14:45:08  \n",
       "2  2016-04-06 20:15:37  "
      ]
     },
     "execution_count": 2,
     "metadata": {},
     "output_type": "execute_result"
    }
   ],
   "source": [
    "#inspect first 3 rows\n",
    "autos.head(3)"
   ]
  },
  {
   "cell_type": "code",
   "execution_count": 3,
   "metadata": {},
   "outputs": [
    {
     "name": "stdout",
     "output_type": "stream",
     "text": [
      "<class 'pandas.core.frame.DataFrame'>\n",
      "RangeIndex: 50000 entries, 0 to 49999\n",
      "Data columns (total 20 columns):\n",
      "dateCrawled            50000 non-null object\n",
      "name                   50000 non-null object\n",
      "seller                 50000 non-null object\n",
      "offerType              50000 non-null object\n",
      "price                  50000 non-null object\n",
      "abtest                 50000 non-null object\n",
      "vehicleType            44905 non-null object\n",
      "yearOfRegistration     50000 non-null int64\n",
      "gearbox                47320 non-null object\n",
      "powerPS                50000 non-null int64\n",
      "model                  47242 non-null object\n",
      "odometer               50000 non-null object\n",
      "monthOfRegistration    50000 non-null int64\n",
      "fuelType               45518 non-null object\n",
      "brand                  50000 non-null object\n",
      "notRepairedDamage      40171 non-null object\n",
      "dateCreated            50000 non-null object\n",
      "nrOfPictures           50000 non-null int64\n",
      "postalCode             50000 non-null int64\n",
      "lastSeen               50000 non-null object\n",
      "dtypes: int64(5), object(15)\n",
      "memory usage: 7.6+ MB\n"
     ]
    }
   ],
   "source": [
    "#get basic info about the dataframe\n",
    "autos.info()"
   ]
  },
  {
   "cell_type": "code",
   "execution_count": 4,
   "metadata": {},
   "outputs": [
    {
     "data": {
      "text/plain": [
       "array(['nein', nan, 'ja'], dtype=object)"
      ]
     },
     "execution_count": 4,
     "metadata": {},
     "output_type": "execute_result"
    }
   ],
   "source": [
    "#check values in potential bool columns\n",
    "autos[\"notRepairedDamage\"].unique()"
   ]
  },
  {
   "cell_type": "code",
   "execution_count": 5,
   "metadata": {},
   "outputs": [
    {
     "data": {
      "text/plain": [
       "array(['control', 'test'], dtype=object)"
      ]
     },
     "execution_count": 5,
     "metadata": {},
     "output_type": "execute_result"
    }
   ],
   "source": [
    "autos[\"abtest\"].unique()"
   ]
  },
  {
   "cell_type": "markdown",
   "metadata": {},
   "source": [
    "Observations\n",
    "* There are 20 columns in the dataset most are `object` type. \n",
    "* Several of those could be turned into integers, or datetime objects: `dateCrawled`, `price`, `dateCreated`, `lastSeen`\n",
    "* `notRepairedDamage` and `abtest` columns could also potentially be turned into boolean values since they require yes/no answers.\n",
    "* Four columns contain some null values: `fuelType`, `notRepairedDamage`, `vehicleType`, `model`. These values might be unknown. "
   ]
  },
  {
   "cell_type": "markdown",
   "metadata": {},
   "source": [
    "We might additionally want to split:\n",
    "* Date columns into date & time columns\n",
    "* Durn the `odometer` column into integers.\n",
    "\n",
    "### Converting names\n",
    "The column names use camelcase instead of Python's preferred snakecase.\n",
    "\n",
    "We'll convert the column names from camelcase to snakecase and reword some of the column names based on the data dictionary to be more descriptive."
   ]
  },
  {
   "cell_type": "code",
   "execution_count": 6,
   "metadata": {},
   "outputs": [
    {
     "name": "stdout",
     "output_type": "stream",
     "text": [
      "Index(['dateCrawled', 'name', 'seller', 'offerType', 'price', 'abtest',\n",
      "       'vehicleType', 'yearOfRegistration', 'gearbox', 'powerPS', 'model',\n",
      "       'odometer', 'monthOfRegistration', 'fuelType', 'brand',\n",
      "       'notRepairedDamage', 'dateCreated', 'nrOfPictures', 'postalCode',\n",
      "       'lastSeen'],\n",
      "      dtype='object')\n"
     ]
    }
   ],
   "source": [
    "index = autos.columns\n",
    "print(index)"
   ]
  },
  {
   "cell_type": "code",
   "execution_count": 7,
   "metadata": {},
   "outputs": [
    {
     "name": "stdout",
     "output_type": "stream",
     "text": [
      "['dateCrawled', 'name', 'seller', 'offerType', 'price', 'abtest', 'vehicleType', 'yearOfRegistration', 'gearbox', 'powerPS', 'model', 'odometer', 'monthOfRegistration', 'fuelType', 'brand', 'notRepairedDamage', 'dateCreated', 'nrOfPictures', 'postalCode', 'lastSeen']\n"
     ]
    }
   ],
   "source": [
    "import re\n",
    "\n",
    "#create a funciton to convert names into lowercase\n",
    "def convert(name):\n",
    "    s1 = re.sub('(.)([A-Z][a-z]+)', r'\\1_\\2', name)\n",
    "    return re.sub('([a-z0-9])([A-Z])', r'\\1_\\2', s1).lower()\n",
    "\n",
    "#new list of names with lowercase\n",
    "new_list = []\n",
    "for word in index:\n",
    "    convert(word)\n",
    "    new_list.append(word)\n",
    "print(new_list)"
   ]
  },
  {
   "cell_type": "code",
   "execution_count": 8,
   "metadata": {},
   "outputs": [],
   "source": [
    "#rename columns\n",
    "autos.rename(columns={'dateCrawled': \"date_crawled\", 'offerType':'offer_type','vehicleType':\"vehicle_type\", 'yearOfRegistration':'registration_year', 'powerPS':\"power_PS\", 'monthOfRegistration':'registration_month', \"fuelType\":'fuel_type','notRepairedDamage':\"unrepaired_damage\", 'dateCreated':'ad_created', 'nrOfPictures':'nr_of_pictures', 'postalCode':'postal_code', 'lastSeen':'last_seen'},inplace = True)"
   ]
  },
  {
   "cell_type": "code",
   "execution_count": 9,
   "metadata": {},
   "outputs": [
    {
     "data": {
      "text/plain": [
       "Index(['date_crawled', 'name', 'seller', 'offer_type', 'price', 'abtest',\n",
       "       'vehicle_type', 'registration_year', 'gearbox', 'power_PS', 'model',\n",
       "       'odometer', 'registration_month', 'fuel_type', 'brand',\n",
       "       'unrepaired_damage', 'ad_created', 'nr_of_pictures', 'postal_code',\n",
       "       'last_seen'],\n",
       "      dtype='object')"
      ]
     },
     "execution_count": 9,
     "metadata": {},
     "output_type": "execute_result"
    }
   ],
   "source": [
    "autos.columns"
   ]
  },
  {
   "cell_type": "code",
   "execution_count": 10,
   "metadata": {},
   "outputs": [
    {
     "data": {
      "text/html": [
       "<div>\n",
       "<style scoped>\n",
       "    .dataframe tbody tr th:only-of-type {\n",
       "        vertical-align: middle;\n",
       "    }\n",
       "\n",
       "    .dataframe tbody tr th {\n",
       "        vertical-align: top;\n",
       "    }\n",
       "\n",
       "    .dataframe thead th {\n",
       "        text-align: right;\n",
       "    }\n",
       "</style>\n",
       "<table border=\"1\" class=\"dataframe\">\n",
       "  <thead>\n",
       "    <tr style=\"text-align: right;\">\n",
       "      <th></th>\n",
       "      <th>date_crawled</th>\n",
       "      <th>name</th>\n",
       "      <th>seller</th>\n",
       "      <th>offer_type</th>\n",
       "      <th>price</th>\n",
       "      <th>abtest</th>\n",
       "      <th>vehicle_type</th>\n",
       "      <th>registration_year</th>\n",
       "      <th>gearbox</th>\n",
       "      <th>power_PS</th>\n",
       "      <th>model</th>\n",
       "      <th>odometer</th>\n",
       "      <th>registration_month</th>\n",
       "      <th>fuel_type</th>\n",
       "      <th>brand</th>\n",
       "      <th>unrepaired_damage</th>\n",
       "      <th>ad_created</th>\n",
       "      <th>nr_of_pictures</th>\n",
       "      <th>postal_code</th>\n",
       "      <th>last_seen</th>\n",
       "    </tr>\n",
       "  </thead>\n",
       "  <tbody>\n",
       "    <tr>\n",
       "      <th>0</th>\n",
       "      <td>2016-03-26 17:47:46</td>\n",
       "      <td>Peugeot_807_160_NAVTECH_ON_BOARD</td>\n",
       "      <td>privat</td>\n",
       "      <td>Angebot</td>\n",
       "      <td>$5,000</td>\n",
       "      <td>control</td>\n",
       "      <td>bus</td>\n",
       "      <td>2004</td>\n",
       "      <td>manuell</td>\n",
       "      <td>158</td>\n",
       "      <td>andere</td>\n",
       "      <td>150,000km</td>\n",
       "      <td>3</td>\n",
       "      <td>lpg</td>\n",
       "      <td>peugeot</td>\n",
       "      <td>nein</td>\n",
       "      <td>2016-03-26 00:00:00</td>\n",
       "      <td>0</td>\n",
       "      <td>79588</td>\n",
       "      <td>2016-04-06 06:45:54</td>\n",
       "    </tr>\n",
       "    <tr>\n",
       "      <th>1</th>\n",
       "      <td>2016-04-04 13:38:56</td>\n",
       "      <td>BMW_740i_4_4_Liter_HAMANN_UMBAU_Mega_Optik</td>\n",
       "      <td>privat</td>\n",
       "      <td>Angebot</td>\n",
       "      <td>$8,500</td>\n",
       "      <td>control</td>\n",
       "      <td>limousine</td>\n",
       "      <td>1997</td>\n",
       "      <td>automatik</td>\n",
       "      <td>286</td>\n",
       "      <td>7er</td>\n",
       "      <td>150,000km</td>\n",
       "      <td>6</td>\n",
       "      <td>benzin</td>\n",
       "      <td>bmw</td>\n",
       "      <td>nein</td>\n",
       "      <td>2016-04-04 00:00:00</td>\n",
       "      <td>0</td>\n",
       "      <td>71034</td>\n",
       "      <td>2016-04-06 14:45:08</td>\n",
       "    </tr>\n",
       "  </tbody>\n",
       "</table>\n",
       "</div>"
      ],
      "text/plain": [
       "          date_crawled                                        name  seller  \\\n",
       "0  2016-03-26 17:47:46            Peugeot_807_160_NAVTECH_ON_BOARD  privat   \n",
       "1  2016-04-04 13:38:56  BMW_740i_4_4_Liter_HAMANN_UMBAU_Mega_Optik  privat   \n",
       "\n",
       "  offer_type   price   abtest vehicle_type  registration_year    gearbox  \\\n",
       "0    Angebot  $5,000  control          bus               2004    manuell   \n",
       "1    Angebot  $8,500  control    limousine               1997  automatik   \n",
       "\n",
       "   power_PS   model   odometer  registration_month fuel_type    brand  \\\n",
       "0       158  andere  150,000km                   3       lpg  peugeot   \n",
       "1       286     7er  150,000km                   6    benzin      bmw   \n",
       "\n",
       "  unrepaired_damage           ad_created  nr_of_pictures  postal_code  \\\n",
       "0              nein  2016-03-26 00:00:00               0        79588   \n",
       "1              nein  2016-04-04 00:00:00               0        71034   \n",
       "\n",
       "             last_seen  \n",
       "0  2016-04-06 06:45:54  \n",
       "1  2016-04-06 14:45:08  "
      ]
     },
     "execution_count": 10,
     "metadata": {},
     "output_type": "execute_result"
    }
   ],
   "source": [
    "#hck if worked\n",
    "autos.head(2)"
   ]
  },
  {
   "cell_type": "markdown",
   "metadata": {},
   "source": [
    "## Exploration for cleaning prep\n",
    "Let's determine what other cleaning tasks need to be done. Initially we will look for: \n",
    "- Text columns where all or almost all values are the same. These can often be dropped as they don't have useful information for analysis. \n",
    "- Examples of numeric data stored as text which can be cleaned and converted."
   ]
  },
  {
   "cell_type": "code",
   "execution_count": 11,
   "metadata": {},
   "outputs": [
    {
     "data": {
      "text/html": [
       "<div>\n",
       "<style scoped>\n",
       "    .dataframe tbody tr th:only-of-type {\n",
       "        vertical-align: middle;\n",
       "    }\n",
       "\n",
       "    .dataframe tbody tr th {\n",
       "        vertical-align: top;\n",
       "    }\n",
       "\n",
       "    .dataframe thead th {\n",
       "        text-align: right;\n",
       "    }\n",
       "</style>\n",
       "<table border=\"1\" class=\"dataframe\">\n",
       "  <thead>\n",
       "    <tr style=\"text-align: right;\">\n",
       "      <th></th>\n",
       "      <th>date_crawled</th>\n",
       "      <th>name</th>\n",
       "      <th>seller</th>\n",
       "      <th>offer_type</th>\n",
       "      <th>price</th>\n",
       "      <th>abtest</th>\n",
       "      <th>vehicle_type</th>\n",
       "      <th>registration_year</th>\n",
       "      <th>gearbox</th>\n",
       "      <th>power_PS</th>\n",
       "      <th>model</th>\n",
       "      <th>odometer</th>\n",
       "      <th>registration_month</th>\n",
       "      <th>fuel_type</th>\n",
       "      <th>brand</th>\n",
       "      <th>unrepaired_damage</th>\n",
       "      <th>ad_created</th>\n",
       "      <th>nr_of_pictures</th>\n",
       "      <th>postal_code</th>\n",
       "      <th>last_seen</th>\n",
       "    </tr>\n",
       "  </thead>\n",
       "  <tbody>\n",
       "    <tr>\n",
       "      <th>count</th>\n",
       "      <td>50000</td>\n",
       "      <td>50000</td>\n",
       "      <td>50000</td>\n",
       "      <td>50000</td>\n",
       "      <td>50000</td>\n",
       "      <td>50000</td>\n",
       "      <td>44905</td>\n",
       "      <td>50000.000000</td>\n",
       "      <td>47320</td>\n",
       "      <td>50000.000000</td>\n",
       "      <td>47242</td>\n",
       "      <td>50000</td>\n",
       "      <td>50000.000000</td>\n",
       "      <td>45518</td>\n",
       "      <td>50000</td>\n",
       "      <td>40171</td>\n",
       "      <td>50000</td>\n",
       "      <td>50000.0</td>\n",
       "      <td>50000.000000</td>\n",
       "      <td>50000</td>\n",
       "    </tr>\n",
       "    <tr>\n",
       "      <th>unique</th>\n",
       "      <td>48213</td>\n",
       "      <td>38754</td>\n",
       "      <td>2</td>\n",
       "      <td>2</td>\n",
       "      <td>2357</td>\n",
       "      <td>2</td>\n",
       "      <td>8</td>\n",
       "      <td>NaN</td>\n",
       "      <td>2</td>\n",
       "      <td>NaN</td>\n",
       "      <td>245</td>\n",
       "      <td>13</td>\n",
       "      <td>NaN</td>\n",
       "      <td>7</td>\n",
       "      <td>40</td>\n",
       "      <td>2</td>\n",
       "      <td>76</td>\n",
       "      <td>NaN</td>\n",
       "      <td>NaN</td>\n",
       "      <td>39481</td>\n",
       "    </tr>\n",
       "    <tr>\n",
       "      <th>top</th>\n",
       "      <td>2016-03-05 16:57:05</td>\n",
       "      <td>Ford_Fiesta</td>\n",
       "      <td>privat</td>\n",
       "      <td>Angebot</td>\n",
       "      <td>$0</td>\n",
       "      <td>test</td>\n",
       "      <td>limousine</td>\n",
       "      <td>NaN</td>\n",
       "      <td>manuell</td>\n",
       "      <td>NaN</td>\n",
       "      <td>golf</td>\n",
       "      <td>150,000km</td>\n",
       "      <td>NaN</td>\n",
       "      <td>benzin</td>\n",
       "      <td>volkswagen</td>\n",
       "      <td>nein</td>\n",
       "      <td>2016-04-03 00:00:00</td>\n",
       "      <td>NaN</td>\n",
       "      <td>NaN</td>\n",
       "      <td>2016-04-07 06:17:27</td>\n",
       "    </tr>\n",
       "    <tr>\n",
       "      <th>freq</th>\n",
       "      <td>3</td>\n",
       "      <td>78</td>\n",
       "      <td>49999</td>\n",
       "      <td>49999</td>\n",
       "      <td>1421</td>\n",
       "      <td>25756</td>\n",
       "      <td>12859</td>\n",
       "      <td>NaN</td>\n",
       "      <td>36993</td>\n",
       "      <td>NaN</td>\n",
       "      <td>4024</td>\n",
       "      <td>32424</td>\n",
       "      <td>NaN</td>\n",
       "      <td>30107</td>\n",
       "      <td>10687</td>\n",
       "      <td>35232</td>\n",
       "      <td>1946</td>\n",
       "      <td>NaN</td>\n",
       "      <td>NaN</td>\n",
       "      <td>8</td>\n",
       "    </tr>\n",
       "    <tr>\n",
       "      <th>mean</th>\n",
       "      <td>NaN</td>\n",
       "      <td>NaN</td>\n",
       "      <td>NaN</td>\n",
       "      <td>NaN</td>\n",
       "      <td>NaN</td>\n",
       "      <td>NaN</td>\n",
       "      <td>NaN</td>\n",
       "      <td>2005.073280</td>\n",
       "      <td>NaN</td>\n",
       "      <td>116.355920</td>\n",
       "      <td>NaN</td>\n",
       "      <td>NaN</td>\n",
       "      <td>5.723360</td>\n",
       "      <td>NaN</td>\n",
       "      <td>NaN</td>\n",
       "      <td>NaN</td>\n",
       "      <td>NaN</td>\n",
       "      <td>0.0</td>\n",
       "      <td>50813.627300</td>\n",
       "      <td>NaN</td>\n",
       "    </tr>\n",
       "    <tr>\n",
       "      <th>std</th>\n",
       "      <td>NaN</td>\n",
       "      <td>NaN</td>\n",
       "      <td>NaN</td>\n",
       "      <td>NaN</td>\n",
       "      <td>NaN</td>\n",
       "      <td>NaN</td>\n",
       "      <td>NaN</td>\n",
       "      <td>105.712813</td>\n",
       "      <td>NaN</td>\n",
       "      <td>209.216627</td>\n",
       "      <td>NaN</td>\n",
       "      <td>NaN</td>\n",
       "      <td>3.711984</td>\n",
       "      <td>NaN</td>\n",
       "      <td>NaN</td>\n",
       "      <td>NaN</td>\n",
       "      <td>NaN</td>\n",
       "      <td>0.0</td>\n",
       "      <td>25779.747957</td>\n",
       "      <td>NaN</td>\n",
       "    </tr>\n",
       "    <tr>\n",
       "      <th>min</th>\n",
       "      <td>NaN</td>\n",
       "      <td>NaN</td>\n",
       "      <td>NaN</td>\n",
       "      <td>NaN</td>\n",
       "      <td>NaN</td>\n",
       "      <td>NaN</td>\n",
       "      <td>NaN</td>\n",
       "      <td>1000.000000</td>\n",
       "      <td>NaN</td>\n",
       "      <td>0.000000</td>\n",
       "      <td>NaN</td>\n",
       "      <td>NaN</td>\n",
       "      <td>0.000000</td>\n",
       "      <td>NaN</td>\n",
       "      <td>NaN</td>\n",
       "      <td>NaN</td>\n",
       "      <td>NaN</td>\n",
       "      <td>0.0</td>\n",
       "      <td>1067.000000</td>\n",
       "      <td>NaN</td>\n",
       "    </tr>\n",
       "    <tr>\n",
       "      <th>25%</th>\n",
       "      <td>NaN</td>\n",
       "      <td>NaN</td>\n",
       "      <td>NaN</td>\n",
       "      <td>NaN</td>\n",
       "      <td>NaN</td>\n",
       "      <td>NaN</td>\n",
       "      <td>NaN</td>\n",
       "      <td>1999.000000</td>\n",
       "      <td>NaN</td>\n",
       "      <td>70.000000</td>\n",
       "      <td>NaN</td>\n",
       "      <td>NaN</td>\n",
       "      <td>3.000000</td>\n",
       "      <td>NaN</td>\n",
       "      <td>NaN</td>\n",
       "      <td>NaN</td>\n",
       "      <td>NaN</td>\n",
       "      <td>0.0</td>\n",
       "      <td>30451.000000</td>\n",
       "      <td>NaN</td>\n",
       "    </tr>\n",
       "    <tr>\n",
       "      <th>50%</th>\n",
       "      <td>NaN</td>\n",
       "      <td>NaN</td>\n",
       "      <td>NaN</td>\n",
       "      <td>NaN</td>\n",
       "      <td>NaN</td>\n",
       "      <td>NaN</td>\n",
       "      <td>NaN</td>\n",
       "      <td>2003.000000</td>\n",
       "      <td>NaN</td>\n",
       "      <td>105.000000</td>\n",
       "      <td>NaN</td>\n",
       "      <td>NaN</td>\n",
       "      <td>6.000000</td>\n",
       "      <td>NaN</td>\n",
       "      <td>NaN</td>\n",
       "      <td>NaN</td>\n",
       "      <td>NaN</td>\n",
       "      <td>0.0</td>\n",
       "      <td>49577.000000</td>\n",
       "      <td>NaN</td>\n",
       "    </tr>\n",
       "    <tr>\n",
       "      <th>75%</th>\n",
       "      <td>NaN</td>\n",
       "      <td>NaN</td>\n",
       "      <td>NaN</td>\n",
       "      <td>NaN</td>\n",
       "      <td>NaN</td>\n",
       "      <td>NaN</td>\n",
       "      <td>NaN</td>\n",
       "      <td>2008.000000</td>\n",
       "      <td>NaN</td>\n",
       "      <td>150.000000</td>\n",
       "      <td>NaN</td>\n",
       "      <td>NaN</td>\n",
       "      <td>9.000000</td>\n",
       "      <td>NaN</td>\n",
       "      <td>NaN</td>\n",
       "      <td>NaN</td>\n",
       "      <td>NaN</td>\n",
       "      <td>0.0</td>\n",
       "      <td>71540.000000</td>\n",
       "      <td>NaN</td>\n",
       "    </tr>\n",
       "    <tr>\n",
       "      <th>max</th>\n",
       "      <td>NaN</td>\n",
       "      <td>NaN</td>\n",
       "      <td>NaN</td>\n",
       "      <td>NaN</td>\n",
       "      <td>NaN</td>\n",
       "      <td>NaN</td>\n",
       "      <td>NaN</td>\n",
       "      <td>9999.000000</td>\n",
       "      <td>NaN</td>\n",
       "      <td>17700.000000</td>\n",
       "      <td>NaN</td>\n",
       "      <td>NaN</td>\n",
       "      <td>12.000000</td>\n",
       "      <td>NaN</td>\n",
       "      <td>NaN</td>\n",
       "      <td>NaN</td>\n",
       "      <td>NaN</td>\n",
       "      <td>0.0</td>\n",
       "      <td>99998.000000</td>\n",
       "      <td>NaN</td>\n",
       "    </tr>\n",
       "  </tbody>\n",
       "</table>\n",
       "</div>"
      ],
      "text/plain": [
       "               date_crawled         name  seller offer_type  price abtest  \\\n",
       "count                 50000        50000   50000      50000  50000  50000   \n",
       "unique                48213        38754       2          2   2357      2   \n",
       "top     2016-03-05 16:57:05  Ford_Fiesta  privat    Angebot     $0   test   \n",
       "freq                      3           78   49999      49999   1421  25756   \n",
       "mean                    NaN          NaN     NaN        NaN    NaN    NaN   \n",
       "std                     NaN          NaN     NaN        NaN    NaN    NaN   \n",
       "min                     NaN          NaN     NaN        NaN    NaN    NaN   \n",
       "25%                     NaN          NaN     NaN        NaN    NaN    NaN   \n",
       "50%                     NaN          NaN     NaN        NaN    NaN    NaN   \n",
       "75%                     NaN          NaN     NaN        NaN    NaN    NaN   \n",
       "max                     NaN          NaN     NaN        NaN    NaN    NaN   \n",
       "\n",
       "       vehicle_type  registration_year  gearbox      power_PS  model  \\\n",
       "count         44905       50000.000000    47320  50000.000000  47242   \n",
       "unique            8                NaN        2           NaN    245   \n",
       "top       limousine                NaN  manuell           NaN   golf   \n",
       "freq          12859                NaN    36993           NaN   4024   \n",
       "mean            NaN        2005.073280      NaN    116.355920    NaN   \n",
       "std             NaN         105.712813      NaN    209.216627    NaN   \n",
       "min             NaN        1000.000000      NaN      0.000000    NaN   \n",
       "25%             NaN        1999.000000      NaN     70.000000    NaN   \n",
       "50%             NaN        2003.000000      NaN    105.000000    NaN   \n",
       "75%             NaN        2008.000000      NaN    150.000000    NaN   \n",
       "max             NaN        9999.000000      NaN  17700.000000    NaN   \n",
       "\n",
       "         odometer  registration_month fuel_type       brand unrepaired_damage  \\\n",
       "count       50000        50000.000000     45518       50000             40171   \n",
       "unique         13                 NaN         7          40                 2   \n",
       "top     150,000km                 NaN    benzin  volkswagen              nein   \n",
       "freq        32424                 NaN     30107       10687             35232   \n",
       "mean          NaN            5.723360       NaN         NaN               NaN   \n",
       "std           NaN            3.711984       NaN         NaN               NaN   \n",
       "min           NaN            0.000000       NaN         NaN               NaN   \n",
       "25%           NaN            3.000000       NaN         NaN               NaN   \n",
       "50%           NaN            6.000000       NaN         NaN               NaN   \n",
       "75%           NaN            9.000000       NaN         NaN               NaN   \n",
       "max           NaN           12.000000       NaN         NaN               NaN   \n",
       "\n",
       "                 ad_created  nr_of_pictures   postal_code            last_seen  \n",
       "count                 50000         50000.0  50000.000000                50000  \n",
       "unique                   76             NaN           NaN                39481  \n",
       "top     2016-04-03 00:00:00             NaN           NaN  2016-04-07 06:17:27  \n",
       "freq                   1946             NaN           NaN                    8  \n",
       "mean                    NaN             0.0  50813.627300                  NaN  \n",
       "std                     NaN             0.0  25779.747957                  NaN  \n",
       "min                     NaN             0.0   1067.000000                  NaN  \n",
       "25%                     NaN             0.0  30451.000000                  NaN  \n",
       "50%                     NaN             0.0  49577.000000                  NaN  \n",
       "75%                     NaN             0.0  71540.000000                  NaN  \n",
       "max                     NaN             0.0  99998.000000                  NaN  "
      ]
     },
     "execution_count": 11,
     "metadata": {},
     "output_type": "execute_result"
    }
   ],
   "source": [
    "autos.describe(include='all')"
   ]
  },
  {
   "cell_type": "markdown",
   "metadata": {},
   "source": [
    "Based on the above we can see:\n",
    "* The column `nr_of_pictures` has only null values and can be removed. \n",
    "* As suggested above there are columns which only have two unique values, which means they can potentially be converted to booleans.\n",
    "* `registration_year`, `registration_month`, `postal_code`, and `power_PS` are int64 columns yet return NaN values in some stats, this needs to be checked. \n",
    "* `ad_created` min values is 1946 whcih seems implausible."
   ]
  },
  {
   "cell_type": "code",
   "execution_count": 12,
   "metadata": {},
   "outputs": [
    {
     "data": {
      "text/plain": [
       "0"
      ]
     },
     "execution_count": 12,
     "metadata": {},
     "output_type": "execute_result"
    }
   ],
   "source": [
    "#chech for NaNs in registration year & month column\n",
    "autos[\"registration_year\"].isnull().sum()"
   ]
  },
  {
   "cell_type": "code",
   "execution_count": 13,
   "metadata": {},
   "outputs": [
    {
     "data": {
      "text/plain": [
       "0"
      ]
     },
     "execution_count": 13,
     "metadata": {},
     "output_type": "execute_result"
    }
   ],
   "source": [
    "autos[\"registration_month\"].isnull().sum()"
   ]
  },
  {
   "cell_type": "code",
   "execution_count": 14,
   "metadata": {},
   "outputs": [
    {
     "data": {
      "text/plain": [
       "0"
      ]
     },
     "execution_count": 14,
     "metadata": {},
     "output_type": "execute_result"
    }
   ],
   "source": [
    "autos[\"postal_code\"].isnull().sum()"
   ]
  },
  {
   "cell_type": "code",
   "execution_count": 15,
   "metadata": {},
   "outputs": [
    {
     "data": {
      "text/plain": [
       "0"
      ]
     },
     "execution_count": 15,
     "metadata": {},
     "output_type": "execute_result"
    }
   ],
   "source": [
    "autos[\"power_PS\"].isnull().sum()"
   ]
  },
  {
   "cell_type": "markdown",
   "metadata": {},
   "source": [
    "As noted before, there are two columns with numerical values stored as text: price in `price` and km in `odometer`. We'll clean these columns and rename them. "
   ]
  },
  {
   "cell_type": "code",
   "execution_count": 16,
   "metadata": {},
   "outputs": [],
   "source": [
    "#convert price into a numeric column\n",
    "autos[\"price\"] = (autos[\"price\"]\n",
    "                 .str.replace(\"$\",\"\")\n",
    "                 .str.replace(\",\",\"\")                  \n",
    "                 .str.strip()\n",
    "                 .astype(int)\n",
    "                 )"
   ]
  },
  {
   "cell_type": "code",
   "execution_count": 17,
   "metadata": {},
   "outputs": [],
   "source": [
    "#convert odometer into a numeric col\n",
    "autos[\"odometer\"] = (autos[\"odometer\"]\n",
    "                    .str.replace(\"km\", \"\")\n",
    "                    .str.replace(\",\",\"\")\n",
    "                    .str.strip()\n",
    "                    .astype(int)\n",
    "                    )\n",
    "autos.rename(columns= {\"odometer\":\"odometer_km\"}, inplace=True)"
   ]
  },
  {
   "cell_type": "code",
   "execution_count": 18,
   "metadata": {},
   "outputs": [
    {
     "data": {
      "text/html": [
       "<div>\n",
       "<style scoped>\n",
       "    .dataframe tbody tr th:only-of-type {\n",
       "        vertical-align: middle;\n",
       "    }\n",
       "\n",
       "    .dataframe tbody tr th {\n",
       "        vertical-align: top;\n",
       "    }\n",
       "\n",
       "    .dataframe thead th {\n",
       "        text-align: right;\n",
       "    }\n",
       "</style>\n",
       "<table border=\"1\" class=\"dataframe\">\n",
       "  <thead>\n",
       "    <tr style=\"text-align: right;\">\n",
       "      <th></th>\n",
       "      <th>date_crawled</th>\n",
       "      <th>name</th>\n",
       "      <th>seller</th>\n",
       "      <th>offer_type</th>\n",
       "      <th>price</th>\n",
       "      <th>abtest</th>\n",
       "      <th>vehicle_type</th>\n",
       "      <th>registration_year</th>\n",
       "      <th>gearbox</th>\n",
       "      <th>power_PS</th>\n",
       "      <th>model</th>\n",
       "      <th>odometer_km</th>\n",
       "      <th>registration_month</th>\n",
       "      <th>fuel_type</th>\n",
       "      <th>brand</th>\n",
       "      <th>unrepaired_damage</th>\n",
       "      <th>ad_created</th>\n",
       "      <th>nr_of_pictures</th>\n",
       "      <th>postal_code</th>\n",
       "      <th>last_seen</th>\n",
       "    </tr>\n",
       "  </thead>\n",
       "  <tbody>\n",
       "    <tr>\n",
       "      <th>count</th>\n",
       "      <td>50000</td>\n",
       "      <td>50000</td>\n",
       "      <td>50000</td>\n",
       "      <td>50000</td>\n",
       "      <td>5.000000e+04</td>\n",
       "      <td>50000</td>\n",
       "      <td>44905</td>\n",
       "      <td>50000.000000</td>\n",
       "      <td>47320</td>\n",
       "      <td>50000.000000</td>\n",
       "      <td>47242</td>\n",
       "      <td>50000.000000</td>\n",
       "      <td>50000.000000</td>\n",
       "      <td>45518</td>\n",
       "      <td>50000</td>\n",
       "      <td>40171</td>\n",
       "      <td>50000</td>\n",
       "      <td>50000.0</td>\n",
       "      <td>50000.000000</td>\n",
       "      <td>50000</td>\n",
       "    </tr>\n",
       "    <tr>\n",
       "      <th>unique</th>\n",
       "      <td>48213</td>\n",
       "      <td>38754</td>\n",
       "      <td>2</td>\n",
       "      <td>2</td>\n",
       "      <td>NaN</td>\n",
       "      <td>2</td>\n",
       "      <td>8</td>\n",
       "      <td>NaN</td>\n",
       "      <td>2</td>\n",
       "      <td>NaN</td>\n",
       "      <td>245</td>\n",
       "      <td>NaN</td>\n",
       "      <td>NaN</td>\n",
       "      <td>7</td>\n",
       "      <td>40</td>\n",
       "      <td>2</td>\n",
       "      <td>76</td>\n",
       "      <td>NaN</td>\n",
       "      <td>NaN</td>\n",
       "      <td>39481</td>\n",
       "    </tr>\n",
       "    <tr>\n",
       "      <th>top</th>\n",
       "      <td>2016-03-05 16:57:05</td>\n",
       "      <td>Ford_Fiesta</td>\n",
       "      <td>privat</td>\n",
       "      <td>Angebot</td>\n",
       "      <td>NaN</td>\n",
       "      <td>test</td>\n",
       "      <td>limousine</td>\n",
       "      <td>NaN</td>\n",
       "      <td>manuell</td>\n",
       "      <td>NaN</td>\n",
       "      <td>golf</td>\n",
       "      <td>NaN</td>\n",
       "      <td>NaN</td>\n",
       "      <td>benzin</td>\n",
       "      <td>volkswagen</td>\n",
       "      <td>nein</td>\n",
       "      <td>2016-04-03 00:00:00</td>\n",
       "      <td>NaN</td>\n",
       "      <td>NaN</td>\n",
       "      <td>2016-04-07 06:17:27</td>\n",
       "    </tr>\n",
       "    <tr>\n",
       "      <th>freq</th>\n",
       "      <td>3</td>\n",
       "      <td>78</td>\n",
       "      <td>49999</td>\n",
       "      <td>49999</td>\n",
       "      <td>NaN</td>\n",
       "      <td>25756</td>\n",
       "      <td>12859</td>\n",
       "      <td>NaN</td>\n",
       "      <td>36993</td>\n",
       "      <td>NaN</td>\n",
       "      <td>4024</td>\n",
       "      <td>NaN</td>\n",
       "      <td>NaN</td>\n",
       "      <td>30107</td>\n",
       "      <td>10687</td>\n",
       "      <td>35232</td>\n",
       "      <td>1946</td>\n",
       "      <td>NaN</td>\n",
       "      <td>NaN</td>\n",
       "      <td>8</td>\n",
       "    </tr>\n",
       "    <tr>\n",
       "      <th>mean</th>\n",
       "      <td>NaN</td>\n",
       "      <td>NaN</td>\n",
       "      <td>NaN</td>\n",
       "      <td>NaN</td>\n",
       "      <td>9.840044e+03</td>\n",
       "      <td>NaN</td>\n",
       "      <td>NaN</td>\n",
       "      <td>2005.073280</td>\n",
       "      <td>NaN</td>\n",
       "      <td>116.355920</td>\n",
       "      <td>NaN</td>\n",
       "      <td>125732.700000</td>\n",
       "      <td>5.723360</td>\n",
       "      <td>NaN</td>\n",
       "      <td>NaN</td>\n",
       "      <td>NaN</td>\n",
       "      <td>NaN</td>\n",
       "      <td>0.0</td>\n",
       "      <td>50813.627300</td>\n",
       "      <td>NaN</td>\n",
       "    </tr>\n",
       "    <tr>\n",
       "      <th>std</th>\n",
       "      <td>NaN</td>\n",
       "      <td>NaN</td>\n",
       "      <td>NaN</td>\n",
       "      <td>NaN</td>\n",
       "      <td>4.811044e+05</td>\n",
       "      <td>NaN</td>\n",
       "      <td>NaN</td>\n",
       "      <td>105.712813</td>\n",
       "      <td>NaN</td>\n",
       "      <td>209.216627</td>\n",
       "      <td>NaN</td>\n",
       "      <td>40042.211706</td>\n",
       "      <td>3.711984</td>\n",
       "      <td>NaN</td>\n",
       "      <td>NaN</td>\n",
       "      <td>NaN</td>\n",
       "      <td>NaN</td>\n",
       "      <td>0.0</td>\n",
       "      <td>25779.747957</td>\n",
       "      <td>NaN</td>\n",
       "    </tr>\n",
       "    <tr>\n",
       "      <th>min</th>\n",
       "      <td>NaN</td>\n",
       "      <td>NaN</td>\n",
       "      <td>NaN</td>\n",
       "      <td>NaN</td>\n",
       "      <td>0.000000e+00</td>\n",
       "      <td>NaN</td>\n",
       "      <td>NaN</td>\n",
       "      <td>1000.000000</td>\n",
       "      <td>NaN</td>\n",
       "      <td>0.000000</td>\n",
       "      <td>NaN</td>\n",
       "      <td>5000.000000</td>\n",
       "      <td>0.000000</td>\n",
       "      <td>NaN</td>\n",
       "      <td>NaN</td>\n",
       "      <td>NaN</td>\n",
       "      <td>NaN</td>\n",
       "      <td>0.0</td>\n",
       "      <td>1067.000000</td>\n",
       "      <td>NaN</td>\n",
       "    </tr>\n",
       "    <tr>\n",
       "      <th>25%</th>\n",
       "      <td>NaN</td>\n",
       "      <td>NaN</td>\n",
       "      <td>NaN</td>\n",
       "      <td>NaN</td>\n",
       "      <td>1.100000e+03</td>\n",
       "      <td>NaN</td>\n",
       "      <td>NaN</td>\n",
       "      <td>1999.000000</td>\n",
       "      <td>NaN</td>\n",
       "      <td>70.000000</td>\n",
       "      <td>NaN</td>\n",
       "      <td>125000.000000</td>\n",
       "      <td>3.000000</td>\n",
       "      <td>NaN</td>\n",
       "      <td>NaN</td>\n",
       "      <td>NaN</td>\n",
       "      <td>NaN</td>\n",
       "      <td>0.0</td>\n",
       "      <td>30451.000000</td>\n",
       "      <td>NaN</td>\n",
       "    </tr>\n",
       "    <tr>\n",
       "      <th>50%</th>\n",
       "      <td>NaN</td>\n",
       "      <td>NaN</td>\n",
       "      <td>NaN</td>\n",
       "      <td>NaN</td>\n",
       "      <td>2.950000e+03</td>\n",
       "      <td>NaN</td>\n",
       "      <td>NaN</td>\n",
       "      <td>2003.000000</td>\n",
       "      <td>NaN</td>\n",
       "      <td>105.000000</td>\n",
       "      <td>NaN</td>\n",
       "      <td>150000.000000</td>\n",
       "      <td>6.000000</td>\n",
       "      <td>NaN</td>\n",
       "      <td>NaN</td>\n",
       "      <td>NaN</td>\n",
       "      <td>NaN</td>\n",
       "      <td>0.0</td>\n",
       "      <td>49577.000000</td>\n",
       "      <td>NaN</td>\n",
       "    </tr>\n",
       "    <tr>\n",
       "      <th>75%</th>\n",
       "      <td>NaN</td>\n",
       "      <td>NaN</td>\n",
       "      <td>NaN</td>\n",
       "      <td>NaN</td>\n",
       "      <td>7.200000e+03</td>\n",
       "      <td>NaN</td>\n",
       "      <td>NaN</td>\n",
       "      <td>2008.000000</td>\n",
       "      <td>NaN</td>\n",
       "      <td>150.000000</td>\n",
       "      <td>NaN</td>\n",
       "      <td>150000.000000</td>\n",
       "      <td>9.000000</td>\n",
       "      <td>NaN</td>\n",
       "      <td>NaN</td>\n",
       "      <td>NaN</td>\n",
       "      <td>NaN</td>\n",
       "      <td>0.0</td>\n",
       "      <td>71540.000000</td>\n",
       "      <td>NaN</td>\n",
       "    </tr>\n",
       "    <tr>\n",
       "      <th>max</th>\n",
       "      <td>NaN</td>\n",
       "      <td>NaN</td>\n",
       "      <td>NaN</td>\n",
       "      <td>NaN</td>\n",
       "      <td>1.000000e+08</td>\n",
       "      <td>NaN</td>\n",
       "      <td>NaN</td>\n",
       "      <td>9999.000000</td>\n",
       "      <td>NaN</td>\n",
       "      <td>17700.000000</td>\n",
       "      <td>NaN</td>\n",
       "      <td>150000.000000</td>\n",
       "      <td>12.000000</td>\n",
       "      <td>NaN</td>\n",
       "      <td>NaN</td>\n",
       "      <td>NaN</td>\n",
       "      <td>NaN</td>\n",
       "      <td>0.0</td>\n",
       "      <td>99998.000000</td>\n",
       "      <td>NaN</td>\n",
       "    </tr>\n",
       "  </tbody>\n",
       "</table>\n",
       "</div>"
      ],
      "text/plain": [
       "               date_crawled         name  seller offer_type         price  \\\n",
       "count                 50000        50000   50000      50000  5.000000e+04   \n",
       "unique                48213        38754       2          2           NaN   \n",
       "top     2016-03-05 16:57:05  Ford_Fiesta  privat    Angebot           NaN   \n",
       "freq                      3           78   49999      49999           NaN   \n",
       "mean                    NaN          NaN     NaN        NaN  9.840044e+03   \n",
       "std                     NaN          NaN     NaN        NaN  4.811044e+05   \n",
       "min                     NaN          NaN     NaN        NaN  0.000000e+00   \n",
       "25%                     NaN          NaN     NaN        NaN  1.100000e+03   \n",
       "50%                     NaN          NaN     NaN        NaN  2.950000e+03   \n",
       "75%                     NaN          NaN     NaN        NaN  7.200000e+03   \n",
       "max                     NaN          NaN     NaN        NaN  1.000000e+08   \n",
       "\n",
       "       abtest vehicle_type  registration_year  gearbox      power_PS  model  \\\n",
       "count   50000        44905       50000.000000    47320  50000.000000  47242   \n",
       "unique      2            8                NaN        2           NaN    245   \n",
       "top      test    limousine                NaN  manuell           NaN   golf   \n",
       "freq    25756        12859                NaN    36993           NaN   4024   \n",
       "mean      NaN          NaN        2005.073280      NaN    116.355920    NaN   \n",
       "std       NaN          NaN         105.712813      NaN    209.216627    NaN   \n",
       "min       NaN          NaN        1000.000000      NaN      0.000000    NaN   \n",
       "25%       NaN          NaN        1999.000000      NaN     70.000000    NaN   \n",
       "50%       NaN          NaN        2003.000000      NaN    105.000000    NaN   \n",
       "75%       NaN          NaN        2008.000000      NaN    150.000000    NaN   \n",
       "max       NaN          NaN        9999.000000      NaN  17700.000000    NaN   \n",
       "\n",
       "          odometer_km  registration_month fuel_type       brand  \\\n",
       "count    50000.000000        50000.000000     45518       50000   \n",
       "unique            NaN                 NaN         7          40   \n",
       "top               NaN                 NaN    benzin  volkswagen   \n",
       "freq              NaN                 NaN     30107       10687   \n",
       "mean    125732.700000            5.723360       NaN         NaN   \n",
       "std      40042.211706            3.711984       NaN         NaN   \n",
       "min       5000.000000            0.000000       NaN         NaN   \n",
       "25%     125000.000000            3.000000       NaN         NaN   \n",
       "50%     150000.000000            6.000000       NaN         NaN   \n",
       "75%     150000.000000            9.000000       NaN         NaN   \n",
       "max     150000.000000           12.000000       NaN         NaN   \n",
       "\n",
       "       unrepaired_damage           ad_created  nr_of_pictures   postal_code  \\\n",
       "count              40171                50000         50000.0  50000.000000   \n",
       "unique                 2                   76             NaN           NaN   \n",
       "top                 nein  2016-04-03 00:00:00             NaN           NaN   \n",
       "freq               35232                 1946             NaN           NaN   \n",
       "mean                 NaN                  NaN             0.0  50813.627300   \n",
       "std                  NaN                  NaN             0.0  25779.747957   \n",
       "min                  NaN                  NaN             0.0   1067.000000   \n",
       "25%                  NaN                  NaN             0.0  30451.000000   \n",
       "50%                  NaN                  NaN             0.0  49577.000000   \n",
       "75%                  NaN                  NaN             0.0  71540.000000   \n",
       "max                  NaN                  NaN             0.0  99998.000000   \n",
       "\n",
       "                  last_seen  \n",
       "count                 50000  \n",
       "unique                39481  \n",
       "top     2016-04-07 06:17:27  \n",
       "freq                      8  \n",
       "mean                    NaN  \n",
       "std                     NaN  \n",
       "min                     NaN  \n",
       "25%                     NaN  \n",
       "50%                     NaN  \n",
       "75%                     NaN  \n",
       "max                     NaN  "
      ]
     },
     "execution_count": 18,
     "metadata": {},
     "output_type": "execute_result"
    }
   ],
   "source": [
    "autos.describe(include='all')"
   ]
  },
  {
   "cell_type": "markdown",
   "metadata": {},
   "source": [
    "## Removing outliers\n",
    "We'll explore the data, specifically looking for data that doesn't look right, in order to remove potential outliers.\n",
    "\n",
    "We'll start by analyzing the `odometer_km` and `price` columns.\n",
    "\n",
    "### Price column"
   ]
  },
  {
   "cell_type": "code",
   "execution_count": 19,
   "metadata": {},
   "outputs": [
    {
     "data": {
      "text/plain": [
       "(2357,)"
      ]
     },
     "execution_count": 19,
     "metadata": {},
     "output_type": "execute_result"
    }
   ],
   "source": [
    "autos[\"price\"].unique().shape"
   ]
  },
  {
   "cell_type": "code",
   "execution_count": 20,
   "metadata": {},
   "outputs": [
    {
     "data": {
      "text/plain": [
       "count       50000\n",
       "mean         9840\n",
       "std        481104\n",
       "min             0\n",
       "25%          1100\n",
       "50%          2950\n",
       "75%          7200\n",
       "max      99999999\n",
       "Name: price, dtype: object"
      ]
     },
     "execution_count": 20,
     "metadata": {},
     "output_type": "execute_result"
    }
   ],
   "source": [
    "autos[\"price\"].describe().apply(lambda x: '{:.0f}'.format(x))"
   ]
  },
  {
   "cell_type": "markdown",
   "metadata": {},
   "source": [
    "#### IQR "
   ]
  },
  {
   "cell_type": "markdown",
   "metadata": {},
   "source": [
    "To calculate the outliers we calculate the interquartile range. Subrtracting the value of the lower quartile (2950) from the upper quartile (7200). \n",
    "\n",
    "To find minor outliers we identify the inner fences of the data, multipl the interquartlie range by 1.5. "
   ]
  },
  {
   "cell_type": "code",
   "execution_count": 21,
   "metadata": {},
   "outputs": [
    {
     "name": "stdout",
     "output_type": "stream",
     "text": [
      "6100.0\n"
     ]
    }
   ],
   "source": [
    "Q1 = autos[\"price\"].quantile(0.25)\n",
    "Q3 = autos[\"price\"].quantile(0.75)\n",
    "IQR = Q3 - Q1\n",
    "print(IQR)"
   ]
  },
  {
   "cell_type": "code",
   "execution_count": 22,
   "metadata": {},
   "outputs": [
    {
     "name": "stdout",
     "output_type": "stream",
     "text": [
      "-8050.0 16350.0\n"
     ]
    }
   ],
   "source": [
    "lower = Q1 - 1.5 * IQR\n",
    "higher = Q3 + 1.5 * IQR\n",
    "\n",
    "print(lower, higher)"
   ]
  },
  {
   "cell_type": "markdown",
   "metadata": {},
   "source": [
    "This suggests for the price column we should drop all data points lower than -7775 and higher than 16350.\n",
    "\n",
    "In addition to this consideraiton common sense dictates that price values can't be negative or 0. Given the ebay is an auction site opening bids cound likely be form 1 up. So we'll adjust the bounds and keep all values between 1 and 16350."
   ]
  },
  {
   "cell_type": "markdown",
   "metadata": {},
   "source": [
    "#### Use Z score"
   ]
  },
  {
   "cell_type": "markdown",
   "metadata": {},
   "source": [
    "*Haven't used this methods but keeping the section for reference*\n",
    "\n",
    "We could also use the Z score to remove the outliers. Z scores range from -3 to 3 and tell us how far a particular score is away from the mean. Eg. A Z score of -2 is 2 standrd deviations away from the mean, to the left of the distribution curve. A Z score of 2 is 2 standrd deviations away from the mean, to the right of the distribution curve. "
   ]
  },
  {
   "cell_type": "code",
   "execution_count": 23,
   "metadata": {},
   "outputs": [
    {
     "data": {
      "text/plain": [
       "array([0.01006038, 0.00278538, 0.00176688, ..., 0.00698391, 0.02714606,\n",
       "       0.01785502])"
      ]
     },
     "execution_count": 23,
     "metadata": {},
     "output_type": "execute_result"
    }
   ],
   "source": [
    "from scipy import stats\n",
    "z = np.abs(stats.zscore(autos[\"price\"]))\n",
    "z"
   ]
  },
  {
   "cell_type": "code",
   "execution_count": 24,
   "metadata": {},
   "outputs": [
    {
     "data": {
      "text/plain": [
       "array([  2.05811649,  23.0747888 ,   2.68169011,  20.7652648 ,\n",
       "         2.54568084,  23.0747888 ,  25.64092496,   2.05809778,\n",
       "        25.64092496, 207.8367251 ,  56.77074704,   2.05811649,\n",
       "        25.64092496,   8.06519108])"
      ]
     },
     "execution_count": 24,
     "metadata": {},
     "output_type": "execute_result"
    }
   ],
   "source": [
    "z1 = z[z>2]\n",
    "z1"
   ]
  },
  {
   "cell_type": "markdown",
   "metadata": {},
   "source": [
    "#### Dropping the values"
   ]
  },
  {
   "cell_type": "code",
   "execution_count": 25,
   "metadata": {},
   "outputs": [],
   "source": [
    "#drop rows where prices don't fall in the indicated range\n",
    "autos = autos[autos[\"price\"].between(1,16350)]"
   ]
  },
  {
   "cell_type": "code",
   "execution_count": 26,
   "metadata": {},
   "outputs": [
    {
     "data": {
      "text/plain": [
       "(1532,)"
      ]
     },
     "execution_count": 26,
     "metadata": {},
     "output_type": "execute_result"
    }
   ],
   "source": [
    "autos[\"price\"].unique().shape"
   ]
  },
  {
   "cell_type": "code",
   "execution_count": 27,
   "metadata": {},
   "outputs": [
    {
     "data": {
      "text/plain": [
       "count    44795.000000\n",
       "mean      4089.433620\n",
       "std       3841.429247\n",
       "min          1.000000\n",
       "25%       1150.000000\n",
       "50%       2700.000000\n",
       "75%       5999.000000\n",
       "max      16350.000000\n",
       "Name: price, dtype: float64"
      ]
     },
     "execution_count": 27,
     "metadata": {},
     "output_type": "execute_result"
    }
   ],
   "source": [
    "autos[\"price\"].describe()"
   ]
  },
  {
   "cell_type": "markdown",
   "metadata": {},
   "source": [
    "## Odometer column"
   ]
  },
  {
   "cell_type": "code",
   "execution_count": 28,
   "metadata": {},
   "outputs": [
    {
     "data": {
      "text/plain": [
       "count     44795.000000\n",
       "mean     129762.361871\n",
       "std       36398.554742\n",
       "min        5000.000000\n",
       "25%      125000.000000\n",
       "50%      150000.000000\n",
       "75%      150000.000000\n",
       "max      150000.000000\n",
       "Name: odometer_km, dtype: float64"
      ]
     },
     "execution_count": 28,
     "metadata": {},
     "output_type": "execute_result"
    }
   ],
   "source": [
    "autos[\"odometer_km\"].describe()"
   ]
  },
  {
   "cell_type": "code",
   "execution_count": 29,
   "metadata": {},
   "outputs": [
    {
     "data": {
      "text/plain": [
       "150000    30685\n",
       "125000     4722\n",
       "100000     1864\n",
       "90000      1503\n",
       "80000      1178\n",
       "70000       954\n",
       "60000       874\n",
       "5000        733\n",
       "50000       704\n",
       "40000       527\n",
       "30000       487\n",
       "20000       438\n",
       "10000       126\n",
       "Name: odometer_km, dtype: int64"
      ]
     },
     "execution_count": 29,
     "metadata": {},
     "output_type": "execute_result"
    }
   ],
   "source": [
    "autos[\"odometer_km\"].value_counts()"
   ]
  },
  {
   "cell_type": "markdown",
   "metadata": {},
   "source": [
    "There don't seem to be any outliers here. "
   ]
  },
  {
   "cell_type": "markdown",
   "metadata": {},
   "source": [
    "## Date column\n",
    "We'll now explore the date columns and understand the date range the data covers.\n",
    "\n",
    "There are 5 columns that should represent date values. Some of these columns were created by the crawler, some came from the website itself. We can differentiate by referring to the data dictionary:\n",
    "\n",
    "- `date_crawled`: added by the crawler\n",
    "- `last_seen`: added by the crawler\n",
    "- `ad_created`: from the website\n",
    "- `registration_month`: from the website\n",
    "- `registration_year`: from the website\n",
    "\n",
    "The `date_crawled`, `last_seen`, and `ad_created` columns are all identified as string values. \n",
    "\n",
    "We need to convert the data into a numerical representation so we can understand it quantitatively.\n",
    "\n",
    "These columns all represent full timestamp values, like so:"
   ]
  },
  {
   "cell_type": "code",
   "execution_count": 30,
   "metadata": {},
   "outputs": [
    {
     "data": {
      "text/html": [
       "<div>\n",
       "<style scoped>\n",
       "    .dataframe tbody tr th:only-of-type {\n",
       "        vertical-align: middle;\n",
       "    }\n",
       "\n",
       "    .dataframe tbody tr th {\n",
       "        vertical-align: top;\n",
       "    }\n",
       "\n",
       "    .dataframe thead th {\n",
       "        text-align: right;\n",
       "    }\n",
       "</style>\n",
       "<table border=\"1\" class=\"dataframe\">\n",
       "  <thead>\n",
       "    <tr style=\"text-align: right;\">\n",
       "      <th></th>\n",
       "      <th>date_crawled</th>\n",
       "      <th>ad_created</th>\n",
       "      <th>last_seen</th>\n",
       "    </tr>\n",
       "  </thead>\n",
       "  <tbody>\n",
       "    <tr>\n",
       "      <th>0</th>\n",
       "      <td>2016-03-26 17:47:46</td>\n",
       "      <td>2016-03-26 00:00:00</td>\n",
       "      <td>2016-04-06 06:45:54</td>\n",
       "    </tr>\n",
       "    <tr>\n",
       "      <th>1</th>\n",
       "      <td>2016-04-04 13:38:56</td>\n",
       "      <td>2016-04-04 00:00:00</td>\n",
       "      <td>2016-04-06 14:45:08</td>\n",
       "    </tr>\n",
       "    <tr>\n",
       "      <th>2</th>\n",
       "      <td>2016-03-26 18:57:24</td>\n",
       "      <td>2016-03-26 00:00:00</td>\n",
       "      <td>2016-04-06 20:15:37</td>\n",
       "    </tr>\n",
       "    <tr>\n",
       "      <th>3</th>\n",
       "      <td>2016-03-12 16:58:10</td>\n",
       "      <td>2016-03-12 00:00:00</td>\n",
       "      <td>2016-03-15 03:16:28</td>\n",
       "    </tr>\n",
       "    <tr>\n",
       "      <th>4</th>\n",
       "      <td>2016-04-01 14:38:50</td>\n",
       "      <td>2016-04-01 00:00:00</td>\n",
       "      <td>2016-04-01 14:38:50</td>\n",
       "    </tr>\n",
       "  </tbody>\n",
       "</table>\n",
       "</div>"
      ],
      "text/plain": [
       "          date_crawled           ad_created            last_seen\n",
       "0  2016-03-26 17:47:46  2016-03-26 00:00:00  2016-04-06 06:45:54\n",
       "1  2016-04-04 13:38:56  2016-04-04 00:00:00  2016-04-06 14:45:08\n",
       "2  2016-03-26 18:57:24  2016-03-26 00:00:00  2016-04-06 20:15:37\n",
       "3  2016-03-12 16:58:10  2016-03-12 00:00:00  2016-03-15 03:16:28\n",
       "4  2016-04-01 14:38:50  2016-04-01 00:00:00  2016-04-01 14:38:50"
      ]
     },
     "execution_count": 30,
     "metadata": {},
     "output_type": "execute_result"
    }
   ],
   "source": [
    "autos[['date_crawled','ad_created','last_seen']][0:5]"
   ]
  },
  {
   "cell_type": "code",
   "execution_count": 31,
   "metadata": {},
   "outputs": [
    {
     "data": {
      "text/plain": [
       "0    2016-03-26\n",
       "1    2016-04-04\n",
       "2    2016-03-26\n",
       "3    2016-03-12\n",
       "4    2016-04-01\n",
       "Name: date_crawled, dtype: object"
      ]
     },
     "execution_count": 31,
     "metadata": {},
     "output_type": "execute_result"
    }
   ],
   "source": [
    "#select 10 first chars in a column\n",
    "date_crawled = autos['date_crawled'].str[:10]\n",
    "date_crawled[0:5]"
   ]
  },
  {
   "cell_type": "code",
   "execution_count": 32,
   "metadata": {},
   "outputs": [
    {
     "data": {
      "text/plain": [
       "2016-03-05    0.025516\n",
       "2016-03-06    0.013997\n",
       "2016-03-07    0.036098\n",
       "2016-03-08    0.033642\n",
       "2016-03-09    0.033129\n",
       "2016-03-10    0.032705\n",
       "2016-03-11    0.032481\n",
       "2016-03-12    0.037393\n",
       "2016-03-13    0.015604\n",
       "2016-03-14    0.036991\n",
       "2016-03-15    0.034178\n",
       "2016-03-16    0.029959\n",
       "2016-03-17    0.031990\n",
       "2016-03-18    0.012769\n",
       "2016-03-19    0.034200\n",
       "2016-03-20    0.037705\n",
       "2016-03-21    0.037192\n",
       "2016-03-22    0.032727\n",
       "2016-03-23    0.032481\n",
       "2016-03-24    0.029378\n",
       "2016-03-25    0.032013\n",
       "2016-03-26    0.032593\n",
       "2016-03-27    0.030718\n",
       "2016-03-28    0.034781\n",
       "2016-03-29    0.034200\n",
       "2016-03-30    0.033865\n",
       "2016-03-31    0.031588\n",
       "2016-04-01    0.032794\n",
       "2016-04-02    0.034982\n",
       "2016-04-03    0.038531\n",
       "2016-04-04    0.036366\n",
       "2016-04-05    0.012948\n",
       "2016-04-06    0.003170\n",
       "2016-04-07    0.001317\n",
       "Name: date_crawled, dtype: float64"
      ]
     },
     "execution_count": 32,
     "metadata": {},
     "output_type": "execute_result"
    }
   ],
   "source": [
    "#display % of values for each date\n",
    "#sort the values in ascending order\n",
    "date_crawled.value_counts(normalize=True, dropna=False).sort_index()"
   ]
  },
  {
   "cell_type": "markdown",
   "metadata": {},
   "source": [
    "The site was crawled between March 5 and April 7 2016. Most days had ~3% of the site crawled. "
   ]
  },
  {
   "cell_type": "code",
   "execution_count": 33,
   "metadata": {},
   "outputs": [
    {
     "data": {
      "text/plain": [
       "0    2016-03-26\n",
       "1    2016-04-04\n",
       "2    2016-03-26\n",
       "3    2016-03-12\n",
       "4    2016-04-01\n",
       "Name: ad_created, dtype: object"
      ]
     },
     "execution_count": 33,
     "metadata": {},
     "output_type": "execute_result"
    }
   ],
   "source": [
    "#ad created column\n",
    "#select 10 first chars in a column\n",
    "ad_created = autos.loc[:,'ad_created'].str[:10]\n",
    "ad_created[0:5]"
   ]
  },
  {
   "cell_type": "code",
   "execution_count": 34,
   "metadata": {},
   "outputs": [
    {
     "data": {
      "text/plain": [
       "2015-08-10    0.000022\n",
       "2015-09-09    0.000022\n",
       "2015-11-10    0.000022\n",
       "2015-12-05    0.000022\n",
       "2015-12-30    0.000022\n",
       "                ...   \n",
       "2016-04-03    0.038799\n",
       "2016-04-04    0.036701\n",
       "2016-04-05    0.011653\n",
       "2016-04-06    0.003237\n",
       "2016-04-07    0.001183\n",
       "Name: ad_created, Length: 73, dtype: float64"
      ]
     },
     "execution_count": 34,
     "metadata": {},
     "output_type": "execute_result"
    }
   ],
   "source": [
    "#display % of values for each date\n",
    "#sort the dates in ascending order\n",
    "ad_created.value_counts(normalize=True, dropna=False).sort_index()"
   ]
  },
  {
   "cell_type": "code",
   "execution_count": 35,
   "metadata": {},
   "outputs": [
    {
     "data": {
      "text/plain": [
       "count          44795\n",
       "unique            73\n",
       "top       2016-04-03\n",
       "freq            1738\n",
       "Name: ad_created, dtype: object"
      ]
     },
     "execution_count": 35,
     "metadata": {},
     "output_type": "execute_result"
    }
   ],
   "source": [
    "ad_created.describe()"
   ]
  },
  {
   "cell_type": "code",
   "execution_count": 36,
   "metadata": {},
   "outputs": [
    {
     "data": {
      "text/plain": [
       "2016-04-03    0.038799\n",
       "2016-03-20    0.037772\n",
       "2016-03-21    0.037370\n",
       "2016-03-12    0.037236\n",
       "2016-04-04    0.036701\n",
       "2016-03-14    0.035674\n",
       "2016-03-28    0.035049\n",
       "2016-03-07    0.034803\n",
       "2016-04-02    0.034691\n",
       "2016-03-29    0.034044\n",
       "2016-03-15    0.033999\n",
       "2016-03-30    0.033664\n",
       "2016-03-08    0.033575\n",
       "2016-03-09    0.033196\n",
       "2016-03-19    0.033084\n",
       "2016-04-01    0.032838\n",
       "2016-03-11    0.032838\n",
       "2016-03-26    0.032615\n",
       "2016-03-22    0.032571\n",
       "2016-03-10    0.032414\n",
       "2016-03-23    0.032347\n",
       "2016-03-25    0.032102\n",
       "2016-03-31    0.031633\n",
       "2016-03-17    0.031521\n",
       "2016-03-27    0.030561\n",
       "2016-03-16    0.030450\n",
       "2016-03-24    0.029356\n",
       "2016-03-05    0.023128\n",
       "2016-03-13    0.016855\n",
       "2016-03-06    0.015337\n",
       "2016-03-18    0.013528\n",
       "2016-04-05    0.011653\n",
       "2016-04-06    0.003237\n",
       "2016-03-04    0.001496\n",
       "2016-04-07    0.001183\n",
       "2016-03-03    0.000871\n",
       "2016-02-28    0.000201\n",
       "2016-02-29    0.000156\n",
       "2016-02-27    0.000134\n",
       "2016-03-01    0.000112\n",
       "2016-02-23    0.000089\n",
       "2016-03-02    0.000089\n",
       "2016-02-25    0.000067\n",
       "2016-02-21    0.000067\n",
       "2016-02-19    0.000067\n",
       "2016-01-27    0.000067\n",
       "2016-02-05    0.000045\n",
       "2016-02-18    0.000045\n",
       "2016-02-20    0.000045\n",
       "2016-01-10    0.000045\n",
       "Name: ad_created, dtype: float64"
      ]
     },
     "execution_count": 36,
     "metadata": {},
     "output_type": "execute_result"
    }
   ],
   "source": [
    "#display % of values for each date\n",
    "#sort the values in descending order\n",
    "ad_created.value_counts(normalize=True, dropna=False, ascending=False).head(50)"
   ]
  },
  {
   "cell_type": "markdown",
   "metadata": {},
   "source": [
    "The ads were created between 2015-08-10 and 2016-03-10. Most ads were places from mid March 2016 to early April 2016."
   ]
  },
  {
   "cell_type": "code",
   "execution_count": 37,
   "metadata": {},
   "outputs": [],
   "source": [
    "#last seen column\n",
    "#select 10 first chars in a column\n",
    "last_seen = autos.loc[:,'last_seen'].str[:10]"
   ]
  },
  {
   "cell_type": "code",
   "execution_count": 38,
   "metadata": {},
   "outputs": [
    {
     "data": {
      "text/plain": [
       "2016-03-05    0.001161\n",
       "2016-03-06    0.004576\n",
       "2016-03-07    0.005693\n",
       "2016-03-08    0.007903\n",
       "2016-03-09    0.010068\n",
       "2016-03-10    0.011162\n",
       "2016-03-11    0.013037\n",
       "2016-03-12    0.024936\n",
       "2016-03-13    0.009376\n",
       "2016-03-14    0.012859\n",
       "2016-03-15    0.016274\n",
       "2016-03-16    0.016966\n",
       "2016-03-17    0.029043\n",
       "2016-03-18    0.007568\n",
       "2016-03-19    0.016475\n",
       "2016-03-20    0.021230\n",
       "2016-03-21    0.021185\n",
       "2016-03-22    0.021922\n",
       "2016-03-23    0.019109\n",
       "2016-03-24    0.020449\n",
       "2016-03-25    0.020002\n",
       "2016-03-26    0.017234\n",
       "2016-03-27    0.016207\n",
       "2016-03-28    0.021699\n",
       "2016-03-29    0.023016\n",
       "2016-03-30    0.025472\n",
       "2016-03-31    0.024333\n",
       "2016-04-01    0.023306\n",
       "2016-04-02    0.025226\n",
       "2016-04-03    0.025673\n",
       "2016-04-04    0.025047\n",
       "2016-04-05    0.121286\n",
       "2016-04-06    0.214332\n",
       "2016-04-07    0.126175\n",
       "Name: last_seen, dtype: float64"
      ]
     },
     "execution_count": 38,
     "metadata": {},
     "output_type": "execute_result"
    }
   ],
   "source": [
    "#display % of values for each date\n",
    "#sort the dates in ascending order\n",
    "last_seen.value_counts(normalize=True, dropna=False).sort_index()"
   ]
  },
  {
   "cell_type": "code",
   "execution_count": 39,
   "metadata": {},
   "outputs": [
    {
     "data": {
      "text/plain": [
       "2016-04-06    9601\n",
       "2016-04-07    5652\n",
       "2016-04-05    5433\n",
       "2016-03-17    1301\n",
       "2016-04-03    1150\n",
       "2016-03-30    1141\n",
       "2016-04-02    1130\n",
       "2016-04-04    1122\n",
       "2016-03-12    1117\n",
       "2016-03-31    1090\n",
       "2016-04-01    1044\n",
       "2016-03-29    1031\n",
       "2016-03-22     982\n",
       "2016-03-28     972\n",
       "2016-03-20     951\n",
       "2016-03-21     949\n",
       "2016-03-24     916\n",
       "2016-03-25     896\n",
       "2016-03-23     856\n",
       "2016-03-26     772\n",
       "Name: last_seen, dtype: int64"
      ]
     },
     "execution_count": 39,
     "metadata": {},
     "output_type": "execute_result"
    }
   ],
   "source": [
    "last_seen.value_counts().head(20)"
   ]
  },
  {
   "cell_type": "markdown",
   "metadata": {},
   "source": [
    "Users were seen last betweeen 2016-03-05 and 2016-04-07. Days with higher than usual traffic were between April 5 and April 7, inclusive. "
   ]
  },
  {
   "cell_type": "code",
   "execution_count": 40,
   "metadata": {},
   "outputs": [
    {
     "data": {
      "text/plain": [
       "count    44795.00000\n",
       "mean      2003.97339\n",
       "std         74.81955\n",
       "min       1000.00000\n",
       "25%       1999.00000\n",
       "50%       2003.00000\n",
       "75%       2007.00000\n",
       "max       9999.00000\n",
       "Name: registration_year, dtype: float64"
      ]
     },
     "execution_count": 40,
     "metadata": {},
     "output_type": "execute_result"
    }
   ],
   "source": [
    "#registration_year\n",
    "\n",
    "autos['registration_year'].describe()"
   ]
  },
  {
   "cell_type": "markdown",
   "metadata": {},
   "source": [
    "There seem to be wrong values in the `registration_year` column, the min and max values (year 1000 and 9999) are unrealistic. \n",
    "\n",
    "A car can't be first registered after the listing was seen, any vehicle with a registration year above 2016 is definitely inaccurate. Determining the earliest valid year is more difficult. Realistically, it could be somewhere in the first few decades of the 1900s.\n",
    "\n",
    "Let's count the number of listings with cars that fall outside the 1900 - 2016 interval and see if it's safe to remove those rows entirely, or if we need more custom logic."
   ]
  },
  {
   "cell_type": "code",
   "execution_count": 41,
   "metadata": {},
   "outputs": [],
   "source": [
    "#removing values outside of the range 1990-2016\n",
    "autos = autos[autos[\"registration_year\"].between(1990, 2016, inclusive=True)]"
   ]
  },
  {
   "cell_type": "code",
   "execution_count": 42,
   "metadata": {},
   "outputs": [
    {
     "data": {
      "text/plain": [
       "count    41822.000000\n",
       "mean      2002.997083\n",
       "std          5.503330\n",
       "min       1990.000000\n",
       "25%       1999.000000\n",
       "50%       2003.000000\n",
       "75%       2007.000000\n",
       "max       2016.000000\n",
       "Name: registration_year, dtype: float64"
      ]
     },
     "execution_count": 42,
     "metadata": {},
     "output_type": "execute_result"
    }
   ],
   "source": [
    "autos[\"registration_year\"].describe()"
   ]
  },
  {
   "cell_type": "code",
   "execution_count": 43,
   "metadata": {},
   "outputs": [
    {
     "data": {
      "text/plain": [
       "2000    0.075128\n",
       "1999    0.069055\n",
       "2005    0.069055\n",
       "2003    0.063818\n",
       "2004    0.063603\n",
       "2001    0.062551\n",
       "2006    0.061762\n",
       "2002    0.058821\n",
       "1998    0.056191\n",
       "2007    0.050858\n",
       "2008    0.047463\n",
       "1997    0.046483\n",
       "2009    0.043231\n",
       "1996    0.032567\n",
       "2010    0.029315\n",
       "1995    0.029171\n",
       "2016    0.028167\n",
       "2011    0.026398\n",
       "2012    0.019129\n",
       "1994    0.014825\n",
       "1993    0.009947\n",
       "2013    0.009469\n",
       "1992    0.008584\n",
       "1990    0.008130\n",
       "1991    0.007891\n",
       "2014    0.005763\n",
       "2015    0.002630\n",
       "Name: registration_year, dtype: float64"
      ]
     },
     "execution_count": 43,
     "metadata": {},
     "output_type": "execute_result"
    }
   ],
   "source": [
    "#calculate the distribution of the remaining values \n",
    "autos[\"registration_year\"].value_counts(normalize = True, ascending=False)"
   ]
  },
  {
   "cell_type": "markdown",
   "metadata": {},
   "source": [
    "Th etop values for registration year are:\n",
    "2000, 1999, 2005, 2003, 2004, 2001, 2006. Each covers >6% of all values in the dataset."
   ]
  },
  {
   "cell_type": "markdown",
   "metadata": {},
   "source": [
    "## Exploring brands\n",
    "\n",
    "Aggregate the columns based on brands. "
   ]
  },
  {
   "cell_type": "code",
   "execution_count": 44,
   "metadata": {},
   "outputs": [
    {
     "data": {
      "text/plain": [
       "volkswagen        8955\n",
       "opel              4868\n",
       "bmw               4363\n",
       "mercedes_benz     3567\n",
       "audi              3285\n",
       "ford              3084\n",
       "renault           2166\n",
       "peugeot           1381\n",
       "fiat              1160\n",
       "seat               819\n",
       "skoda              725\n",
       "mazda              686\n",
       "nissan             669\n",
       "smart              660\n",
       "citroen            632\n",
       "toyota             564\n",
       "hyundai            453\n",
       "volvo              382\n",
       "mitsubishi         372\n",
       "honda              348\n",
       "mini               329\n",
       "kia                299\n",
       "alfa_romeo         288\n",
       "suzuki             272\n",
       "sonstige_autos     258\n",
       "chevrolet          221\n",
       "chrysler           156\n",
       "dacia              123\n",
       "daihatsu           116\n",
       "subaru              91\n",
       "jeep                82\n",
       "saab                72\n",
       "daewoo              70\n",
       "rover               61\n",
       "porsche             58\n",
       "land_rover          54\n",
       "jaguar              52\n",
       "lancia              46\n",
       "lada                22\n",
       "trabant             13\n",
       "Name: brand, dtype: int64"
      ]
     },
     "execution_count": 44,
     "metadata": {},
     "output_type": "execute_result"
    }
   ],
   "source": [
    "#list all brands and number of cars in each\n",
    "autos[\"brand\"].value_counts()"
   ]
  },
  {
   "cell_type": "code",
   "execution_count": 45,
   "metadata": {},
   "outputs": [
    {
     "data": {
      "text/plain": [
       "count          41822\n",
       "unique            40\n",
       "top       volkswagen\n",
       "freq            8955\n",
       "Name: brand, dtype: object"
      ]
     },
     "execution_count": 45,
     "metadata": {},
     "output_type": "execute_result"
    }
   ],
   "source": [
    "#check basic stats\n",
    "autos['brand'].describe()"
   ]
  },
  {
   "cell_type": "code",
   "execution_count": 46,
   "metadata": {},
   "outputs": [
    {
     "data": {
      "text/plain": [
       "volkswagen        0.214122\n",
       "opel              0.116398\n",
       "bmw               0.104323\n",
       "mercedes_benz     0.085290\n",
       "audi              0.078547\n",
       "ford              0.073741\n",
       "renault           0.051791\n",
       "peugeot           0.033021\n",
       "fiat              0.027737\n",
       "seat              0.019583\n",
       "skoda             0.017335\n",
       "mazda             0.016403\n",
       "nissan            0.015996\n",
       "smart             0.015781\n",
       "citroen           0.015112\n",
       "toyota            0.013486\n",
       "hyundai           0.010832\n",
       "volvo             0.009134\n",
       "mitsubishi        0.008895\n",
       "honda             0.008321\n",
       "mini              0.007867\n",
       "kia               0.007149\n",
       "alfa_romeo        0.006886\n",
       "suzuki            0.006504\n",
       "sonstige_autos    0.006169\n",
       "chevrolet         0.005284\n",
       "chrysler          0.003730\n",
       "dacia             0.002941\n",
       "daihatsu          0.002774\n",
       "subaru            0.002176\n",
       "Name: brand, dtype: float64"
      ]
     },
     "execution_count": 46,
     "metadata": {},
     "output_type": "execute_result"
    }
   ],
   "source": [
    "#display how much % of the dataset belongs to each brand \n",
    "#assign to a new series\n",
    "#sort in ascending order & show the top 30\n",
    "brand_series=autos['brand'].value_counts(normalize=True)\n",
    "brand_series.head(30)"
   ]
  },
  {
   "cell_type": "markdown",
   "metadata": {},
   "source": [
    "### Removing\n",
    "For the later part of the analysis we will remove the brands that take less than 2% of the distribution. We'll pick only those that take over 2%."
   ]
  },
  {
   "cell_type": "code",
   "execution_count": 47,
   "metadata": {},
   "outputs": [
    {
     "data": {
      "text/plain": [
       "Index(['volkswagen', 'opel', 'bmw', 'mercedes_benz', 'audi', 'ford', 'renault',\n",
       "       'peugeot', 'fiat'],\n",
       "      dtype='object')"
      ]
     },
     "execution_count": 47,
     "metadata": {},
     "output_type": "execute_result"
    }
   ],
   "source": [
    "#pick values that are over 2% and drop NaNs in the process\n",
    "brands_over_2 = brand_series.where(brand_series >= 0.02).dropna()\n",
    "\n",
    "#set the index of the df as an array to have a list of brands over 2%\n",
    "brands_over_2 = brands_over_2.index\n",
    "brands_over_2"
   ]
  },
  {
   "cell_type": "code",
   "execution_count": 48,
   "metadata": {},
   "outputs": [
    {
     "data": {
      "text/plain": [
       "{'volkswagen': 4186,\n",
       " 'opel': 2697,\n",
       " 'bmw': 5651,\n",
       " 'mercedes_benz': 5239,\n",
       " 'audi': 5759,\n",
       " 'ford': 2915,\n",
       " 'renault': 2267,\n",
       " 'peugeot': 2962,\n",
       " 'fiat': 2644}"
      ]
     },
     "execution_count": 48,
     "metadata": {},
     "output_type": "execute_result"
    }
   ],
   "source": [
    "#create a dictionary of brand + mean price\n",
    "top_brands = {}\n",
    "\n",
    "for brand in brands_over_2: \n",
    "    #find the brand in the autos dataframe\n",
    "    brand_auto = autos[autos[\"brand\"] == brand]\n",
    "    #calc the mean\n",
    "    mean_price = brand_auto[\"price\"].mean()\n",
    "    top_brands[brand] = int(mean_price)\n",
    "    \n",
    "top_brands"
   ]
  },
  {
   "cell_type": "markdown",
   "metadata": {},
   "source": [
    "The most expensive brands are audi, bmw, and mercedes-benz, mid-pric is volksvagen. After a big gap the prices fall in the 2000s 5th an 6th position taken by peugeot and ford. Then opel, fiat and renault."
   ]
  },
  {
   "cell_type": "code",
   "execution_count": 49,
   "metadata": {},
   "outputs": [
    {
     "data": {
      "text/html": [
       "<div>\n",
       "<style scoped>\n",
       "    .dataframe tbody tr th:only-of-type {\n",
       "        vertical-align: middle;\n",
       "    }\n",
       "\n",
       "    .dataframe tbody tr th {\n",
       "        vertical-align: top;\n",
       "    }\n",
       "\n",
       "    .dataframe thead th {\n",
       "        text-align: right;\n",
       "    }\n",
       "</style>\n",
       "<table border=\"1\" class=\"dataframe\">\n",
       "  <thead>\n",
       "    <tr style=\"text-align: right;\">\n",
       "      <th></th>\n",
       "      <th>brand</th>\n",
       "      <th>mean_price</th>\n",
       "    </tr>\n",
       "  </thead>\n",
       "  <tbody>\n",
       "    <tr>\n",
       "      <th>0</th>\n",
       "      <td>volkswagen</td>\n",
       "      <td>4186</td>\n",
       "    </tr>\n",
       "    <tr>\n",
       "      <th>1</th>\n",
       "      <td>opel</td>\n",
       "      <td>2697</td>\n",
       "    </tr>\n",
       "    <tr>\n",
       "      <th>2</th>\n",
       "      <td>bmw</td>\n",
       "      <td>5651</td>\n",
       "    </tr>\n",
       "    <tr>\n",
       "      <th>3</th>\n",
       "      <td>mercedes_benz</td>\n",
       "      <td>5239</td>\n",
       "    </tr>\n",
       "    <tr>\n",
       "      <th>4</th>\n",
       "      <td>audi</td>\n",
       "      <td>5759</td>\n",
       "    </tr>\n",
       "    <tr>\n",
       "      <th>5</th>\n",
       "      <td>ford</td>\n",
       "      <td>2915</td>\n",
       "    </tr>\n",
       "    <tr>\n",
       "      <th>6</th>\n",
       "      <td>renault</td>\n",
       "      <td>2267</td>\n",
       "    </tr>\n",
       "    <tr>\n",
       "      <th>7</th>\n",
       "      <td>peugeot</td>\n",
       "      <td>2962</td>\n",
       "    </tr>\n",
       "    <tr>\n",
       "      <th>8</th>\n",
       "      <td>fiat</td>\n",
       "      <td>2644</td>\n",
       "    </tr>\n",
       "  </tbody>\n",
       "</table>\n",
       "</div>"
      ],
      "text/plain": [
       "           brand  mean_price\n",
       "0     volkswagen        4186\n",
       "1           opel        2697\n",
       "2            bmw        5651\n",
       "3  mercedes_benz        5239\n",
       "4           audi        5759\n",
       "5           ford        2915\n",
       "6        renault        2267\n",
       "7        peugeot        2962\n",
       "8           fiat        2644"
      ]
     },
     "execution_count": 49,
     "metadata": {},
     "output_type": "execute_result"
    }
   ],
   "source": [
    "#turn the results into a df\n",
    "top_brands_df=pd.DataFrame(top_brands.items(), columns=['brand', 'mean_price'])\n",
    "top_brands_df"
   ]
  },
  {
   "cell_type": "markdown",
   "metadata": {},
   "source": [
    "## Mean mileage & mean price \n",
    "Let's use aggregation to understand the average mileage for those cars and if there's any visible link with mean price.\n",
    "\n",
    "### Calculate mean mileage for top brands"
   ]
  },
  {
   "cell_type": "code",
   "execution_count": 50,
   "metadata": {},
   "outputs": [
    {
     "data": {
      "text/plain": [
       "count     41822.000000\n",
       "mean     130232.054899\n",
       "std       35778.990002\n",
       "min        5000.000000\n",
       "25%      125000.000000\n",
       "50%      150000.000000\n",
       "75%      150000.000000\n",
       "max      150000.000000\n",
       "Name: odometer_km, dtype: float64"
      ]
     },
     "execution_count": 50,
     "metadata": {},
     "output_type": "execute_result"
    }
   ],
   "source": [
    "autos['odometer_km'].describe()"
   ]
  },
  {
   "cell_type": "code",
   "execution_count": 51,
   "metadata": {},
   "outputs": [],
   "source": [
    "#how much mileage belongs to each brand in %\n",
    "brand_km=autos['odometer_km'].value_counts(normalize=True)"
   ]
  },
  {
   "cell_type": "code",
   "execution_count": 52,
   "metadata": {},
   "outputs": [
    {
     "data": {
      "text/html": [
       "<div>\n",
       "<style scoped>\n",
       "    .dataframe tbody tr th:only-of-type {\n",
       "        vertical-align: middle;\n",
       "    }\n",
       "\n",
       "    .dataframe tbody tr th {\n",
       "        vertical-align: top;\n",
       "    }\n",
       "\n",
       "    .dataframe thead th {\n",
       "        text-align: right;\n",
       "    }\n",
       "</style>\n",
       "<table border=\"1\" class=\"dataframe\">\n",
       "  <thead>\n",
       "    <tr style=\"text-align: right;\">\n",
       "      <th></th>\n",
       "      <th>brand</th>\n",
       "      <th>mean_mileage</th>\n",
       "    </tr>\n",
       "  </thead>\n",
       "  <tbody>\n",
       "    <tr>\n",
       "      <th>0</th>\n",
       "      <td>volkswagen</td>\n",
       "      <td>133300</td>\n",
       "    </tr>\n",
       "    <tr>\n",
       "      <th>1</th>\n",
       "      <td>opel</td>\n",
       "      <td>131036</td>\n",
       "    </tr>\n",
       "    <tr>\n",
       "      <th>2</th>\n",
       "      <td>bmw</td>\n",
       "      <td>139049</td>\n",
       "    </tr>\n",
       "    <tr>\n",
       "      <th>3</th>\n",
       "      <td>mercedes_benz</td>\n",
       "      <td>138728</td>\n",
       "    </tr>\n",
       "    <tr>\n",
       "      <th>4</th>\n",
       "      <td>audi</td>\n",
       "      <td>139636</td>\n",
       "    </tr>\n",
       "    <tr>\n",
       "      <th>5</th>\n",
       "      <td>ford</td>\n",
       "      <td>127534</td>\n",
       "    </tr>\n",
       "    <tr>\n",
       "      <th>6</th>\n",
       "      <td>renault</td>\n",
       "      <td>129141</td>\n",
       "    </tr>\n",
       "    <tr>\n",
       "      <th>7</th>\n",
       "      <td>peugeot</td>\n",
       "      <td>127918</td>\n",
       "    </tr>\n",
       "    <tr>\n",
       "      <th>8</th>\n",
       "      <td>fiat</td>\n",
       "      <td>118625</td>\n",
       "    </tr>\n",
       "  </tbody>\n",
       "</table>\n",
       "</div>"
      ],
      "text/plain": [
       "           brand  mean_mileage\n",
       "0     volkswagen        133300\n",
       "1           opel        131036\n",
       "2            bmw        139049\n",
       "3  mercedes_benz        138728\n",
       "4           audi        139636\n",
       "5           ford        127534\n",
       "6        renault        129141\n",
       "7        peugeot        127918\n",
       "8           fiat        118625"
      ]
     },
     "execution_count": 52,
     "metadata": {},
     "output_type": "execute_result"
    }
   ],
   "source": [
    "#how much mileage belongs to each brand\n",
    "mean_mileage = {}\n",
    "\n",
    "for brand in brands_over_2: \n",
    "    #pick the brands from the top brands\n",
    "    brand_auto = autos[autos[\"brand\"] == brand]\n",
    "    #calc the mean\n",
    "    mean_miles = brand_auto[\"odometer_km\"].mean()\n",
    "    mean_mileage[brand] = int(mean_miles)\n",
    "\n",
    "#turn a dictionary to a DF\n",
    "mean_mil_df= pd.DataFrame(mean_mileage.items(), columns=['brand', 'mean_mileage'])\n",
    "mean_mil_df"
   ]
  },
  {
   "cell_type": "code",
   "execution_count": 53,
   "metadata": {},
   "outputs": [
    {
     "data": {
      "text/html": [
       "<div>\n",
       "<style scoped>\n",
       "    .dataframe tbody tr th:only-of-type {\n",
       "        vertical-align: middle;\n",
       "    }\n",
       "\n",
       "    .dataframe tbody tr th {\n",
       "        vertical-align: top;\n",
       "    }\n",
       "\n",
       "    .dataframe thead th {\n",
       "        text-align: right;\n",
       "    }\n",
       "</style>\n",
       "<table border=\"1\" class=\"dataframe\">\n",
       "  <thead>\n",
       "    <tr style=\"text-align: right;\">\n",
       "      <th></th>\n",
       "      <th>brand</th>\n",
       "      <th>mean_price</th>\n",
       "      <th>mean_mileage</th>\n",
       "    </tr>\n",
       "  </thead>\n",
       "  <tbody>\n",
       "    <tr>\n",
       "      <th>0</th>\n",
       "      <td>volkswagen</td>\n",
       "      <td>4186</td>\n",
       "      <td>133300</td>\n",
       "    </tr>\n",
       "    <tr>\n",
       "      <th>1</th>\n",
       "      <td>opel</td>\n",
       "      <td>2697</td>\n",
       "      <td>131036</td>\n",
       "    </tr>\n",
       "    <tr>\n",
       "      <th>2</th>\n",
       "      <td>bmw</td>\n",
       "      <td>5651</td>\n",
       "      <td>139049</td>\n",
       "    </tr>\n",
       "    <tr>\n",
       "      <th>3</th>\n",
       "      <td>mercedes_benz</td>\n",
       "      <td>5239</td>\n",
       "      <td>138728</td>\n",
       "    </tr>\n",
       "    <tr>\n",
       "      <th>4</th>\n",
       "      <td>audi</td>\n",
       "      <td>5759</td>\n",
       "      <td>139636</td>\n",
       "    </tr>\n",
       "    <tr>\n",
       "      <th>5</th>\n",
       "      <td>ford</td>\n",
       "      <td>2915</td>\n",
       "      <td>127534</td>\n",
       "    </tr>\n",
       "    <tr>\n",
       "      <th>6</th>\n",
       "      <td>renault</td>\n",
       "      <td>2267</td>\n",
       "      <td>129141</td>\n",
       "    </tr>\n",
       "    <tr>\n",
       "      <th>7</th>\n",
       "      <td>peugeot</td>\n",
       "      <td>2962</td>\n",
       "      <td>127918</td>\n",
       "    </tr>\n",
       "    <tr>\n",
       "      <th>8</th>\n",
       "      <td>fiat</td>\n",
       "      <td>2644</td>\n",
       "      <td>118625</td>\n",
       "    </tr>\n",
       "  </tbody>\n",
       "</table>\n",
       "</div>"
      ],
      "text/plain": [
       "           brand  mean_price  mean_mileage\n",
       "0     volkswagen        4186        133300\n",
       "1           opel        2697        131036\n",
       "2            bmw        5651        139049\n",
       "3  mercedes_benz        5239        138728\n",
       "4           audi        5759        139636\n",
       "5           ford        2915        127534\n",
       "6        renault        2267        129141\n",
       "7        peugeot        2962        127918\n",
       "8           fiat        2644        118625"
      ]
     },
     "execution_count": 53,
     "metadata": {},
     "output_type": "execute_result"
    }
   ],
   "source": [
    "#merge the dfs into one\n",
    "cols_to_use = mean_mil_df.columns.difference(top_brands_df.columns)\n",
    "dfNew = pd.merge(top_brands_df, mean_mil_df[cols_to_use], left_index=True, right_index=True, how='outer')\n",
    "dfNew"
   ]
  },
  {
   "cell_type": "markdown",
   "metadata": {
    "collapsed": true
   },
   "source": [
    "## Data cleaning, next steps\n",
    "\n",
    "Split all cloumns that have dates into date and hour. Then convert all dates into numerical columns."
   ]
  },
  {
   "cell_type": "code",
   "execution_count": 55,
   "metadata": {},
   "outputs": [],
   "source": [
    "autos[\"ad_created\"] = (autos[\"ad_created\"]\n",
    "                         .str.split(n=1, expand= True)\n",
    "                         .iloc[:,0]\n",
    "                         .str.replace(\"-\",\"\")\n",
    "                        )   "
   ]
  },
  {
   "cell_type": "code",
   "execution_count": 56,
   "metadata": {},
   "outputs": [],
   "source": [
    "autos['date_crawled_day'], autos['date_crawled_time'] = autos['date_crawled'].str.split(' ', 1).str\n",
    "\n",
    "autos = autos.drop([\"date_crawled\"], axis =1)"
   ]
  },
  {
   "cell_type": "code",
   "execution_count": 57,
   "metadata": {},
   "outputs": [],
   "source": [
    "autos[\"date_crawled_day\"] = (autos[\"date_crawled_day\"]\n",
    "                         .str.replace(\"-\",\"\")                         \n",
    "                         .str.split(n=1, expand= True)\n",
    "                         .iloc[:,0]\n",
    "                         .astype(int)\n",
    "                        )   \n",
    "autos[\"date_crawled_time\"] = (autos[\"date_crawled_time\"]\n",
    "                         .str.replace(\":\",\"\")                         \n",
    "                         .str.split(n=1, expand= True)\n",
    "                         .iloc[:,0]\n",
    "                         .astype(int)\n",
    "                        ) "
   ]
  },
  {
   "cell_type": "code",
   "execution_count": 58,
   "metadata": {},
   "outputs": [],
   "source": [
    "#same process with the \"last seen\" column\n",
    "autos['last_seen_day'], autos['last_seen_time'] = autos['last_seen'].str.split(' ', 1).str\n",
    "\n",
    "autos = autos.drop([\"last_seen\"], axis =1)"
   ]
  },
  {
   "cell_type": "code",
   "execution_count": 59,
   "metadata": {},
   "outputs": [
    {
     "data": {
      "text/html": [
       "<div>\n",
       "<style scoped>\n",
       "    .dataframe tbody tr th:only-of-type {\n",
       "        vertical-align: middle;\n",
       "    }\n",
       "\n",
       "    .dataframe tbody tr th {\n",
       "        vertical-align: top;\n",
       "    }\n",
       "\n",
       "    .dataframe thead th {\n",
       "        text-align: right;\n",
       "    }\n",
       "</style>\n",
       "<table border=\"1\" class=\"dataframe\">\n",
       "  <thead>\n",
       "    <tr style=\"text-align: right;\">\n",
       "      <th></th>\n",
       "      <th>name</th>\n",
       "      <th>seller</th>\n",
       "      <th>offer_type</th>\n",
       "      <th>price</th>\n",
       "      <th>abtest</th>\n",
       "      <th>vehicle_type</th>\n",
       "      <th>registration_year</th>\n",
       "      <th>gearbox</th>\n",
       "      <th>power_PS</th>\n",
       "      <th>model</th>\n",
       "      <th>...</th>\n",
       "      <th>fuel_type</th>\n",
       "      <th>brand</th>\n",
       "      <th>unrepaired_damage</th>\n",
       "      <th>ad_created</th>\n",
       "      <th>nr_of_pictures</th>\n",
       "      <th>postal_code</th>\n",
       "      <th>date_crawled_day</th>\n",
       "      <th>date_crawled_time</th>\n",
       "      <th>last_seen_day</th>\n",
       "      <th>last_seen_time</th>\n",
       "    </tr>\n",
       "  </thead>\n",
       "  <tbody>\n",
       "    <tr>\n",
       "      <th>0</th>\n",
       "      <td>Peugeot_807_160_NAVTECH_ON_BOARD</td>\n",
       "      <td>privat</td>\n",
       "      <td>Angebot</td>\n",
       "      <td>5000</td>\n",
       "      <td>control</td>\n",
       "      <td>bus</td>\n",
       "      <td>2004</td>\n",
       "      <td>manuell</td>\n",
       "      <td>158</td>\n",
       "      <td>andere</td>\n",
       "      <td>...</td>\n",
       "      <td>lpg</td>\n",
       "      <td>peugeot</td>\n",
       "      <td>nein</td>\n",
       "      <td>20160326</td>\n",
       "      <td>0</td>\n",
       "      <td>79588</td>\n",
       "      <td>20160326</td>\n",
       "      <td>174746</td>\n",
       "      <td>20160406</td>\n",
       "      <td>64554</td>\n",
       "    </tr>\n",
       "    <tr>\n",
       "      <th>1</th>\n",
       "      <td>BMW_740i_4_4_Liter_HAMANN_UMBAU_Mega_Optik</td>\n",
       "      <td>privat</td>\n",
       "      <td>Angebot</td>\n",
       "      <td>8500</td>\n",
       "      <td>control</td>\n",
       "      <td>limousine</td>\n",
       "      <td>1997</td>\n",
       "      <td>automatik</td>\n",
       "      <td>286</td>\n",
       "      <td>7er</td>\n",
       "      <td>...</td>\n",
       "      <td>benzin</td>\n",
       "      <td>bmw</td>\n",
       "      <td>nein</td>\n",
       "      <td>20160404</td>\n",
       "      <td>0</td>\n",
       "      <td>71034</td>\n",
       "      <td>20160404</td>\n",
       "      <td>133856</td>\n",
       "      <td>20160406</td>\n",
       "      <td>144508</td>\n",
       "    </tr>\n",
       "    <tr>\n",
       "      <th>2</th>\n",
       "      <td>Volkswagen_Golf_1.6_United</td>\n",
       "      <td>privat</td>\n",
       "      <td>Angebot</td>\n",
       "      <td>8990</td>\n",
       "      <td>test</td>\n",
       "      <td>limousine</td>\n",
       "      <td>2009</td>\n",
       "      <td>manuell</td>\n",
       "      <td>102</td>\n",
       "      <td>golf</td>\n",
       "      <td>...</td>\n",
       "      <td>benzin</td>\n",
       "      <td>volkswagen</td>\n",
       "      <td>nein</td>\n",
       "      <td>20160326</td>\n",
       "      <td>0</td>\n",
       "      <td>35394</td>\n",
       "      <td>20160326</td>\n",
       "      <td>185724</td>\n",
       "      <td>20160406</td>\n",
       "      <td>201537</td>\n",
       "    </tr>\n",
       "    <tr>\n",
       "      <th>3</th>\n",
       "      <td>Smart_smart_fortwo_coupe_softouch/F1/Klima/Pan...</td>\n",
       "      <td>privat</td>\n",
       "      <td>Angebot</td>\n",
       "      <td>4350</td>\n",
       "      <td>control</td>\n",
       "      <td>kleinwagen</td>\n",
       "      <td>2007</td>\n",
       "      <td>automatik</td>\n",
       "      <td>71</td>\n",
       "      <td>fortwo</td>\n",
       "      <td>...</td>\n",
       "      <td>benzin</td>\n",
       "      <td>smart</td>\n",
       "      <td>nein</td>\n",
       "      <td>20160312</td>\n",
       "      <td>0</td>\n",
       "      <td>33729</td>\n",
       "      <td>20160312</td>\n",
       "      <td>165810</td>\n",
       "      <td>20160315</td>\n",
       "      <td>31628</td>\n",
       "    </tr>\n",
       "    <tr>\n",
       "      <th>4</th>\n",
       "      <td>Ford_Focus_1_6_Benzin_TÜV_neu_ist_sehr_gepfleg...</td>\n",
       "      <td>privat</td>\n",
       "      <td>Angebot</td>\n",
       "      <td>1350</td>\n",
       "      <td>test</td>\n",
       "      <td>kombi</td>\n",
       "      <td>2003</td>\n",
       "      <td>manuell</td>\n",
       "      <td>0</td>\n",
       "      <td>focus</td>\n",
       "      <td>...</td>\n",
       "      <td>benzin</td>\n",
       "      <td>ford</td>\n",
       "      <td>nein</td>\n",
       "      <td>20160401</td>\n",
       "      <td>0</td>\n",
       "      <td>39218</td>\n",
       "      <td>20160401</td>\n",
       "      <td>143850</td>\n",
       "      <td>20160401</td>\n",
       "      <td>143850</td>\n",
       "    </tr>\n",
       "  </tbody>\n",
       "</table>\n",
       "<p>5 rows × 22 columns</p>\n",
       "</div>"
      ],
      "text/plain": [
       "                                                name  seller offer_type  \\\n",
       "0                   Peugeot_807_160_NAVTECH_ON_BOARD  privat    Angebot   \n",
       "1         BMW_740i_4_4_Liter_HAMANN_UMBAU_Mega_Optik  privat    Angebot   \n",
       "2                         Volkswagen_Golf_1.6_United  privat    Angebot   \n",
       "3  Smart_smart_fortwo_coupe_softouch/F1/Klima/Pan...  privat    Angebot   \n",
       "4  Ford_Focus_1_6_Benzin_TÜV_neu_ist_sehr_gepfleg...  privat    Angebot   \n",
       "\n",
       "   price   abtest vehicle_type  registration_year    gearbox  power_PS  \\\n",
       "0   5000  control          bus               2004    manuell       158   \n",
       "1   8500  control    limousine               1997  automatik       286   \n",
       "2   8990     test    limousine               2009    manuell       102   \n",
       "3   4350  control   kleinwagen               2007  automatik        71   \n",
       "4   1350     test        kombi               2003    manuell         0   \n",
       "\n",
       "    model  ...  fuel_type       brand unrepaired_damage ad_created  \\\n",
       "0  andere  ...        lpg     peugeot              nein   20160326   \n",
       "1     7er  ...     benzin         bmw              nein   20160404   \n",
       "2    golf  ...     benzin  volkswagen              nein   20160326   \n",
       "3  fortwo  ...     benzin       smart              nein   20160312   \n",
       "4   focus  ...     benzin        ford              nein   20160401   \n",
       "\n",
       "  nr_of_pictures postal_code  date_crawled_day  date_crawled_time  \\\n",
       "0              0       79588          20160326             174746   \n",
       "1              0       71034          20160404             133856   \n",
       "2              0       35394          20160326             185724   \n",
       "3              0       33729          20160312             165810   \n",
       "4              0       39218          20160401             143850   \n",
       "\n",
       "   last_seen_day  last_seen_time  \n",
       "0       20160406           64554  \n",
       "1       20160406          144508  \n",
       "2       20160406          201537  \n",
       "3       20160315           31628  \n",
       "4       20160401          143850  \n",
       "\n",
       "[5 rows x 22 columns]"
      ]
     },
     "execution_count": 59,
     "metadata": {},
     "output_type": "execute_result"
    }
   ],
   "source": [
    "autos[\"last_seen_day\"] = (autos[\"last_seen_day\"]\n",
    "                         .str.replace(\"-\",\"\")                         \n",
    "                         .str.split(n=1, expand= True)\n",
    "                         .iloc[:,0]\n",
    "                         .astype(int)\n",
    "                        )   \n",
    "autos[\"last_seen_time\"] = (autos[\"last_seen_time\"]\n",
    "                         .str.replace(\":\",\"\")                         \n",
    "                         .str.split(n=1, expand= True)\n",
    "                         .iloc[:,0]\n",
    "                         .astype(int)  \n",
    "                        ) \n",
    "\n",
    "autos.head()"
   ]
  },
  {
   "cell_type": "code",
   "execution_count": 67,
   "metadata": {},
   "outputs": [
    {
     "name": "stdout",
     "output_type": "stream",
     "text": [
      "<class 'pandas.core.frame.DataFrame'>\n",
      "Int64Index: 41822 entries, 0 to 49999\n",
      "Data columns (total 21 columns):\n",
      "brand                 41822 non-null object\n",
      "model                 41667 non-null object\n",
      "seller                41822 non-null object\n",
      "offer_type            41822 non-null object\n",
      "price                 41822 non-null int64\n",
      "abtest                41822 non-null object\n",
      "vehicle_type          39265 non-null object\n",
      "registration_year     41822 non-null int64\n",
      "gearbox               39915 non-null object\n",
      "power_PS              41822 non-null int64\n",
      "odometer_km           41822 non-null int64\n",
      "registration_month    41822 non-null int64\n",
      "fuel_type             38747 non-null object\n",
      "unrepaired_damage     34059 non-null object\n",
      "ad_created            41822 non-null object\n",
      "nr_of_pictures        41822 non-null int64\n",
      "postal_code           41822 non-null int64\n",
      "date_crawled_day      41822 non-null int64\n",
      "date_crawled_time     41822 non-null int64\n",
      "last_seen_day         41822 non-null int64\n",
      "last_seen_time        41822 non-null int64\n",
      "dtypes: int64(11), object(10)\n",
      "memory usage: 7.0+ MB\n"
     ]
    }
   ],
   "source": [
    "#double-check the type of the new columns\n",
    "autos.info()"
   ]
  },
  {
   "cell_type": "markdown",
   "metadata": {},
   "source": [
    "### Extracting models\n",
    "From the name column we can extract the model, or rather eliminate the brand, which already has its own column."
   ]
  },
  {
   "cell_type": "code",
   "execution_count": 61,
   "metadata": {},
   "outputs": [
    {
     "data": {
      "text/plain": [
       "0                     Peugeot_807_160_NAVTECH_ON_BOARD\n",
       "1           BMW_740i_4_4_Liter_HAMANN_UMBAU_Mega_Optik\n",
       "2                           Volkswagen_Golf_1.6_United\n",
       "3    Smart_smart_fortwo_coupe_softouch/F1/Klima/Pan...\n",
       "4    Ford_Focus_1_6_Benzin_TÜV_neu_ist_sehr_gepfleg...\n",
       "Name: name, dtype: object"
      ]
     },
     "execution_count": 61,
     "metadata": {},
     "output_type": "execute_result"
    }
   ],
   "source": [
    "#see how the names are displayed\n",
    "autos[\"name\"].head(5)"
   ]
  },
  {
   "cell_type": "code",
   "execution_count": 62,
   "metadata": {},
   "outputs": [
    {
     "data": {
      "text/html": [
       "<div>\n",
       "<style scoped>\n",
       "    .dataframe tbody tr th:only-of-type {\n",
       "        vertical-align: middle;\n",
       "    }\n",
       "\n",
       "    .dataframe tbody tr th {\n",
       "        vertical-align: top;\n",
       "    }\n",
       "\n",
       "    .dataframe thead th {\n",
       "        text-align: right;\n",
       "    }\n",
       "</style>\n",
       "<table border=\"1\" class=\"dataframe\">\n",
       "  <thead>\n",
       "    <tr style=\"text-align: right;\">\n",
       "      <th></th>\n",
       "      <th>seller</th>\n",
       "      <th>offer_type</th>\n",
       "      <th>price</th>\n",
       "      <th>abtest</th>\n",
       "      <th>vehicle_type</th>\n",
       "      <th>registration_year</th>\n",
       "      <th>gearbox</th>\n",
       "      <th>power_PS</th>\n",
       "      <th>model</th>\n",
       "      <th>odometer_km</th>\n",
       "      <th>...</th>\n",
       "      <th>fuel_type</th>\n",
       "      <th>brand</th>\n",
       "      <th>unrepaired_damage</th>\n",
       "      <th>ad_created</th>\n",
       "      <th>nr_of_pictures</th>\n",
       "      <th>postal_code</th>\n",
       "      <th>date_crawled_day</th>\n",
       "      <th>date_crawled_time</th>\n",
       "      <th>last_seen_day</th>\n",
       "      <th>last_seen_time</th>\n",
       "    </tr>\n",
       "  </thead>\n",
       "  <tbody>\n",
       "    <tr>\n",
       "      <th>0</th>\n",
       "      <td>privat</td>\n",
       "      <td>Angebot</td>\n",
       "      <td>5000</td>\n",
       "      <td>control</td>\n",
       "      <td>bus</td>\n",
       "      <td>2004</td>\n",
       "      <td>manuell</td>\n",
       "      <td>158</td>\n",
       "      <td>807 160 NAVTECH ON BOARD</td>\n",
       "      <td>150000</td>\n",
       "      <td>...</td>\n",
       "      <td>lpg</td>\n",
       "      <td>peugeot</td>\n",
       "      <td>nein</td>\n",
       "      <td>20160326</td>\n",
       "      <td>0</td>\n",
       "      <td>79588</td>\n",
       "      <td>20160326</td>\n",
       "      <td>174746</td>\n",
       "      <td>20160406</td>\n",
       "      <td>64554</td>\n",
       "    </tr>\n",
       "    <tr>\n",
       "      <th>1</th>\n",
       "      <td>privat</td>\n",
       "      <td>Angebot</td>\n",
       "      <td>8500</td>\n",
       "      <td>control</td>\n",
       "      <td>limousine</td>\n",
       "      <td>1997</td>\n",
       "      <td>automatik</td>\n",
       "      <td>286</td>\n",
       "      <td>740i 4 4 Liter HAMANN UMBAU Mega Optik</td>\n",
       "      <td>150000</td>\n",
       "      <td>...</td>\n",
       "      <td>benzin</td>\n",
       "      <td>bmw</td>\n",
       "      <td>nein</td>\n",
       "      <td>20160404</td>\n",
       "      <td>0</td>\n",
       "      <td>71034</td>\n",
       "      <td>20160404</td>\n",
       "      <td>133856</td>\n",
       "      <td>20160406</td>\n",
       "      <td>144508</td>\n",
       "    </tr>\n",
       "    <tr>\n",
       "      <th>2</th>\n",
       "      <td>privat</td>\n",
       "      <td>Angebot</td>\n",
       "      <td>8990</td>\n",
       "      <td>test</td>\n",
       "      <td>limousine</td>\n",
       "      <td>2009</td>\n",
       "      <td>manuell</td>\n",
       "      <td>102</td>\n",
       "      <td>Golf 1.6 United</td>\n",
       "      <td>70000</td>\n",
       "      <td>...</td>\n",
       "      <td>benzin</td>\n",
       "      <td>volkswagen</td>\n",
       "      <td>nein</td>\n",
       "      <td>20160326</td>\n",
       "      <td>0</td>\n",
       "      <td>35394</td>\n",
       "      <td>20160326</td>\n",
       "      <td>185724</td>\n",
       "      <td>20160406</td>\n",
       "      <td>201537</td>\n",
       "    </tr>\n",
       "    <tr>\n",
       "      <th>3</th>\n",
       "      <td>privat</td>\n",
       "      <td>Angebot</td>\n",
       "      <td>4350</td>\n",
       "      <td>control</td>\n",
       "      <td>kleinwagen</td>\n",
       "      <td>2007</td>\n",
       "      <td>automatik</td>\n",
       "      <td>71</td>\n",
       "      <td>smart fortwo coupe softouch/F1/Klima/Panorama</td>\n",
       "      <td>70000</td>\n",
       "      <td>...</td>\n",
       "      <td>benzin</td>\n",
       "      <td>smart</td>\n",
       "      <td>nein</td>\n",
       "      <td>20160312</td>\n",
       "      <td>0</td>\n",
       "      <td>33729</td>\n",
       "      <td>20160312</td>\n",
       "      <td>165810</td>\n",
       "      <td>20160315</td>\n",
       "      <td>31628</td>\n",
       "    </tr>\n",
       "    <tr>\n",
       "      <th>4</th>\n",
       "      <td>privat</td>\n",
       "      <td>Angebot</td>\n",
       "      <td>1350</td>\n",
       "      <td>test</td>\n",
       "      <td>kombi</td>\n",
       "      <td>2003</td>\n",
       "      <td>manuell</td>\n",
       "      <td>0</td>\n",
       "      <td>Focus 1 6 Benzin TÜV neu ist sehr gepflegt.mit...</td>\n",
       "      <td>150000</td>\n",
       "      <td>...</td>\n",
       "      <td>benzin</td>\n",
       "      <td>ford</td>\n",
       "      <td>nein</td>\n",
       "      <td>20160401</td>\n",
       "      <td>0</td>\n",
       "      <td>39218</td>\n",
       "      <td>20160401</td>\n",
       "      <td>143850</td>\n",
       "      <td>20160401</td>\n",
       "      <td>143850</td>\n",
       "    </tr>\n",
       "  </tbody>\n",
       "</table>\n",
       "<p>5 rows × 21 columns</p>\n",
       "</div>"
      ],
      "text/plain": [
       "   seller offer_type  price   abtest vehicle_type  registration_year  \\\n",
       "0  privat    Angebot   5000  control          bus               2004   \n",
       "1  privat    Angebot   8500  control    limousine               1997   \n",
       "2  privat    Angebot   8990     test    limousine               2009   \n",
       "3  privat    Angebot   4350  control   kleinwagen               2007   \n",
       "4  privat    Angebot   1350     test        kombi               2003   \n",
       "\n",
       "     gearbox  power_PS                                              model  \\\n",
       "0    manuell       158                           807 160 NAVTECH ON BOARD   \n",
       "1  automatik       286             740i 4 4 Liter HAMANN UMBAU Mega Optik   \n",
       "2    manuell       102                                    Golf 1.6 United   \n",
       "3  automatik        71      smart fortwo coupe softouch/F1/Klima/Panorama   \n",
       "4    manuell         0  Focus 1 6 Benzin TÜV neu ist sehr gepflegt.mit...   \n",
       "\n",
       "   odometer_km  ...  fuel_type       brand unrepaired_damage ad_created  \\\n",
       "0       150000  ...        lpg     peugeot              nein   20160326   \n",
       "1       150000  ...     benzin         bmw              nein   20160404   \n",
       "2        70000  ...     benzin  volkswagen              nein   20160326   \n",
       "3        70000  ...     benzin       smart              nein   20160312   \n",
       "4       150000  ...     benzin        ford              nein   20160401   \n",
       "\n",
       "  nr_of_pictures  postal_code  date_crawled_day  date_crawled_time  \\\n",
       "0              0        79588          20160326             174746   \n",
       "1              0        71034          20160404             133856   \n",
       "2              0        35394          20160326             185724   \n",
       "3              0        33729          20160312             165810   \n",
       "4              0        39218          20160401             143850   \n",
       "\n",
       "   last_seen_day  last_seen_time  \n",
       "0       20160406           64554  \n",
       "1       20160406          144508  \n",
       "2       20160406          201537  \n",
       "3       20160315           31628  \n",
       "4       20160401          143850  \n",
       "\n",
       "[5 rows x 21 columns]"
      ]
     },
     "execution_count": 62,
     "metadata": {},
     "output_type": "execute_result"
    }
   ],
   "source": [
    "#create a column \"model\" then drop rdundant columns\n",
    "autos['to_drop'], autos['model'] = autos['name'].str.split('_', 1).str\n",
    "autos = autos.drop(['to_drop'], axis =1)\n",
    "autos = autos.drop(['name'], axis =1)\n",
    "\n",
    "autos[\"model\"] = (autos[\"model\"]\n",
    "                 .str.replace(\"_\",\" \")\n",
    "                 .str.strip()\n",
    "                 )\n",
    "autos.head()"
   ]
  },
  {
   "cell_type": "code",
   "execution_count": 68,
   "metadata": {},
   "outputs": [
    {
     "data": {
      "text/html": [
       "<div>\n",
       "<style scoped>\n",
       "    .dataframe tbody tr th:only-of-type {\n",
       "        vertical-align: middle;\n",
       "    }\n",
       "\n",
       "    .dataframe tbody tr th {\n",
       "        vertical-align: top;\n",
       "    }\n",
       "\n",
       "    .dataframe thead th {\n",
       "        text-align: right;\n",
       "    }\n",
       "</style>\n",
       "<table border=\"1\" class=\"dataframe\">\n",
       "  <thead>\n",
       "    <tr style=\"text-align: right;\">\n",
       "      <th></th>\n",
       "      <th>brand</th>\n",
       "      <th>model</th>\n",
       "      <th>seller</th>\n",
       "      <th>offer_type</th>\n",
       "      <th>price</th>\n",
       "      <th>abtest</th>\n",
       "      <th>vehicle_type</th>\n",
       "      <th>registration_year</th>\n",
       "      <th>gearbox</th>\n",
       "      <th>power_PS</th>\n",
       "      <th>...</th>\n",
       "      <th>registration_month</th>\n",
       "      <th>fuel_type</th>\n",
       "      <th>unrepaired_damage</th>\n",
       "      <th>ad_created</th>\n",
       "      <th>nr_of_pictures</th>\n",
       "      <th>postal_code</th>\n",
       "      <th>date_crawled_day</th>\n",
       "      <th>date_crawled_time</th>\n",
       "      <th>last_seen_day</th>\n",
       "      <th>last_seen_time</th>\n",
       "    </tr>\n",
       "  </thead>\n",
       "  <tbody>\n",
       "    <tr>\n",
       "      <th>0</th>\n",
       "      <td>peugeot</td>\n",
       "      <td>807 160 NAVTECH ON BOARD</td>\n",
       "      <td>privat</td>\n",
       "      <td>Angebot</td>\n",
       "      <td>5000</td>\n",
       "      <td>control</td>\n",
       "      <td>bus</td>\n",
       "      <td>2004</td>\n",
       "      <td>manuell</td>\n",
       "      <td>158</td>\n",
       "      <td>...</td>\n",
       "      <td>3</td>\n",
       "      <td>lpg</td>\n",
       "      <td>nein</td>\n",
       "      <td>20160326</td>\n",
       "      <td>0</td>\n",
       "      <td>79588</td>\n",
       "      <td>20160326</td>\n",
       "      <td>174746</td>\n",
       "      <td>20160406</td>\n",
       "      <td>64554</td>\n",
       "    </tr>\n",
       "    <tr>\n",
       "      <th>1</th>\n",
       "      <td>bmw</td>\n",
       "      <td>740i 4 4 Liter HAMANN UMBAU Mega Optik</td>\n",
       "      <td>privat</td>\n",
       "      <td>Angebot</td>\n",
       "      <td>8500</td>\n",
       "      <td>control</td>\n",
       "      <td>limousine</td>\n",
       "      <td>1997</td>\n",
       "      <td>automatik</td>\n",
       "      <td>286</td>\n",
       "      <td>...</td>\n",
       "      <td>6</td>\n",
       "      <td>benzin</td>\n",
       "      <td>nein</td>\n",
       "      <td>20160404</td>\n",
       "      <td>0</td>\n",
       "      <td>71034</td>\n",
       "      <td>20160404</td>\n",
       "      <td>133856</td>\n",
       "      <td>20160406</td>\n",
       "      <td>144508</td>\n",
       "    </tr>\n",
       "    <tr>\n",
       "      <th>2</th>\n",
       "      <td>volkswagen</td>\n",
       "      <td>Golf 1.6 United</td>\n",
       "      <td>privat</td>\n",
       "      <td>Angebot</td>\n",
       "      <td>8990</td>\n",
       "      <td>test</td>\n",
       "      <td>limousine</td>\n",
       "      <td>2009</td>\n",
       "      <td>manuell</td>\n",
       "      <td>102</td>\n",
       "      <td>...</td>\n",
       "      <td>7</td>\n",
       "      <td>benzin</td>\n",
       "      <td>nein</td>\n",
       "      <td>20160326</td>\n",
       "      <td>0</td>\n",
       "      <td>35394</td>\n",
       "      <td>20160326</td>\n",
       "      <td>185724</td>\n",
       "      <td>20160406</td>\n",
       "      <td>201537</td>\n",
       "    </tr>\n",
       "    <tr>\n",
       "      <th>3</th>\n",
       "      <td>smart</td>\n",
       "      <td>smart fortwo coupe softouch/F1/Klima/Panorama</td>\n",
       "      <td>privat</td>\n",
       "      <td>Angebot</td>\n",
       "      <td>4350</td>\n",
       "      <td>control</td>\n",
       "      <td>kleinwagen</td>\n",
       "      <td>2007</td>\n",
       "      <td>automatik</td>\n",
       "      <td>71</td>\n",
       "      <td>...</td>\n",
       "      <td>6</td>\n",
       "      <td>benzin</td>\n",
       "      <td>nein</td>\n",
       "      <td>20160312</td>\n",
       "      <td>0</td>\n",
       "      <td>33729</td>\n",
       "      <td>20160312</td>\n",
       "      <td>165810</td>\n",
       "      <td>20160315</td>\n",
       "      <td>31628</td>\n",
       "    </tr>\n",
       "    <tr>\n",
       "      <th>4</th>\n",
       "      <td>ford</td>\n",
       "      <td>Focus 1 6 Benzin TÜV neu ist sehr gepflegt.mit...</td>\n",
       "      <td>privat</td>\n",
       "      <td>Angebot</td>\n",
       "      <td>1350</td>\n",
       "      <td>test</td>\n",
       "      <td>kombi</td>\n",
       "      <td>2003</td>\n",
       "      <td>manuell</td>\n",
       "      <td>0</td>\n",
       "      <td>...</td>\n",
       "      <td>7</td>\n",
       "      <td>benzin</td>\n",
       "      <td>nein</td>\n",
       "      <td>20160401</td>\n",
       "      <td>0</td>\n",
       "      <td>39218</td>\n",
       "      <td>20160401</td>\n",
       "      <td>143850</td>\n",
       "      <td>20160401</td>\n",
       "      <td>143850</td>\n",
       "    </tr>\n",
       "  </tbody>\n",
       "</table>\n",
       "<p>5 rows × 21 columns</p>\n",
       "</div>"
      ],
      "text/plain": [
       "        brand                                              model  seller  \\\n",
       "0     peugeot                           807 160 NAVTECH ON BOARD  privat   \n",
       "1         bmw             740i 4 4 Liter HAMANN UMBAU Mega Optik  privat   \n",
       "2  volkswagen                                    Golf 1.6 United  privat   \n",
       "3       smart      smart fortwo coupe softouch/F1/Klima/Panorama  privat   \n",
       "4        ford  Focus 1 6 Benzin TÜV neu ist sehr gepflegt.mit...  privat   \n",
       "\n",
       "  offer_type  price   abtest vehicle_type  registration_year    gearbox  \\\n",
       "0    Angebot   5000  control          bus               2004    manuell   \n",
       "1    Angebot   8500  control    limousine               1997  automatik   \n",
       "2    Angebot   8990     test    limousine               2009    manuell   \n",
       "3    Angebot   4350  control   kleinwagen               2007  automatik   \n",
       "4    Angebot   1350     test        kombi               2003    manuell   \n",
       "\n",
       "   power_PS  ...  registration_month  fuel_type unrepaired_damage ad_created  \\\n",
       "0       158  ...                   3        lpg              nein   20160326   \n",
       "1       286  ...                   6     benzin              nein   20160404   \n",
       "2       102  ...                   7     benzin              nein   20160326   \n",
       "3        71  ...                   6     benzin              nein   20160312   \n",
       "4         0  ...                   7     benzin              nein   20160401   \n",
       "\n",
       "  nr_of_pictures  postal_code  date_crawled_day  date_crawled_time  \\\n",
       "0              0        79588          20160326             174746   \n",
       "1              0        71034          20160404             133856   \n",
       "2              0        35394          20160326             185724   \n",
       "3              0        33729          20160312             165810   \n",
       "4              0        39218          20160401             143850   \n",
       "\n",
       "   last_seen_day  last_seen_time  \n",
       "0       20160406           64554  \n",
       "1       20160406          144508  \n",
       "2       20160406          201537  \n",
       "3       20160315           31628  \n",
       "4       20160401          143850  \n",
       "\n",
       "[5 rows x 21 columns]"
      ]
     },
     "execution_count": 68,
     "metadata": {},
     "output_type": "execute_result"
    }
   ],
   "source": [
    "#reorder the columns \n",
    "autos= autos[[\"brand\", \"model\",\"seller\",\"offer_type\",\"price\",\"abtest\",\"vehicle_type\",\"registration_year\",\"gearbox\",\"power_PS\",\"odometer_km\",\"registration_month\",\"fuel_type\",\"unrepaired_damage\",\"ad_created\",\"nr_of_pictures\",\"postal_code\",\"date_crawled_day\",\"date_crawled_time\", \"last_seen_day\", \"last_seen_time\"]]\n",
    "\n",
    "autos.head()"
   ]
  },
  {
   "cell_type": "markdown",
   "metadata": {},
   "source": [
    "## Damage vs price\n",
    "How much cheaper are cars with damage than their non-damaged counterparts?"
   ]
  },
  {
   "cell_type": "code",
   "execution_count": 77,
   "metadata": {},
   "outputs": [
    {
     "data": {
      "text/plain": [
       "nein    0.871987\n",
       "ja      0.128013\n",
       "Name: unrepaired_damage, dtype: float64"
      ]
     },
     "execution_count": 77,
     "metadata": {},
     "output_type": "execute_result"
    }
   ],
   "source": [
    "autos[\"unrepaired_damage\"].value_counts(normalize= True)"
   ]
  },
  {
   "cell_type": "markdown",
   "metadata": {},
   "source": [
    "There are 87% of cars with no damage and 13% of cars with damage. "
   ]
  },
  {
   "cell_type": "code",
   "execution_count": 78,
   "metadata": {},
   "outputs": [
    {
     "name": "stdout",
     "output_type": "stream",
     "text": [
      "the mean price for cars without damage is 4828.97 , and the mean price for cars with damage is  1962.3 .\n"
     ]
    }
   ],
   "source": [
    "mask_1 = autos[\"unrepaired_damage\"] == \"ja\"\n",
    "mask_2 = autos[\"unrepaired_damage\"] == \"nein\"\n",
    "damage_ja = autos[mask_1]\n",
    "mean_ja = damage_ja[\"price\"].mean()\n",
    "\n",
    "damage_nein = autos[mask_2]\n",
    "mean_nein = damage_nein[\"price\"].mean()\n",
    "\n",
    "print(\"the mean price for cars without damage is\", round(mean_nein,2), \", and the mean price for cars with damage is \", round(mean_ja,2),\".\")"
   ]
  },
  {
   "cell_type": "markdown",
   "metadata": {},
   "source": [
    "## Mileage vs price\n",
    "Split the odometer_km into groups, see if average prices follows any patterns based on the milage."
   ]
  },
  {
   "cell_type": "code",
   "execution_count": 93,
   "metadata": {
    "scrolled": true
   },
   "outputs": [
    {
     "data": {
      "text/plain": [
       "150000    28793\n",
       "125000     4426\n",
       "100000     1725\n",
       "90000      1401\n",
       "80000      1096\n",
       "70000       881\n",
       "60000       805\n",
       "50000       661\n",
       "5000        595\n",
       "40000       493\n",
       "30000       447\n",
       "20000       398\n",
       "10000       101\n",
       "Name: odometer_km, dtype: int64"
      ]
     },
     "execution_count": 93,
     "metadata": {},
     "output_type": "execute_result"
    }
   ],
   "source": [
    "autos[\"odometer_km\"].value_counts(dropna=False)"
   ]
  },
  {
   "cell_type": "markdown",
   "metadata": {},
   "source": [
    "Suggested groups:\n",
    "\n",
    "* < 20000\n",
    "* 20001 - 50000\n",
    "* 50001 - 100000\n",
    "* 100000 - 125001 \n",
    "* 125000 - 150000"
   ]
  },
  {
   "cell_type": "code",
   "execution_count": 105,
   "metadata": {},
   "outputs": [
    {
     "data": {
      "text/plain": [
       "between_125k_150k    28793\n",
       "between_50k_100k      5908\n",
       "between_100k_125k     4426\n",
       "between_20k_50k       1601\n",
       "below_20k             1094\n",
       "Name: km_status, dtype: int64"
      ]
     },
     "execution_count": 105,
     "metadata": {},
     "output_type": "execute_result"
    }
   ],
   "source": [
    "#create a new column with km status\n",
    "\n",
    "def km_map(col):\n",
    "    if col <= 20000:\n",
    "        return \"below_20k\"\n",
    "    if 50000 >= col > 20001:\n",
    "        return \"between_20k_50k\"\n",
    "    if 100000 >= col > 50001:\n",
    "        return \"between_50k_100k\"\n",
    "    if 125000 >= col > 100001:\n",
    "        return \"between_100k_125k\"\n",
    "    if 150000 >= col > 125001:\n",
    "        return \"between_125k_150k\"\n",
    "    \n",
    "autos[\"km_status\"] = autos[\"odometer_km\"].apply(km_map)\n",
    "autos[\"km_status\"].value_counts(dropna=False)"
   ]
  },
  {
   "cell_type": "code",
   "execution_count": 113,
   "metadata": {},
   "outputs": [
    {
     "data": {
      "text/plain": [
       "km_status\n",
       "below_20k            4932.827239\n",
       "between_100k_125k    4856.477406\n",
       "between_125k_150k    3278.142708\n",
       "between_20k_50k      8252.512180\n",
       "between_50k_100k     6334.855112\n",
       "Name: price, dtype: float64"
      ]
     },
     "execution_count": 113,
     "metadata": {},
     "output_type": "execute_result"
    }
   ],
   "source": [
    "#group by price & calc mean \n",
    "grouped= autos.groupby('km_status')\n",
    "grouped['price'].agg(np.mean)"
   ]
  },
  {
   "cell_type": "markdown",
   "metadata": {},
   "source": [
    "**Obeservations:**\n",
    "* Cars with mileage between 20000 and 50000km get sold for the highest mean price. \n",
    "* The second highest price is that of cas with mileage between 50000 and 100000km.\n",
    "* This is surprising sicne we might expect cars withthe lowest mileage to be sold for the highest prices. \n",
    "\n",
    "Unsurprisingly, the cars witht he highest mileage get the lowest mean prices. \n",
    "\n",
    "*However, the datasets for each group were* **not equal in size**, *which might be skewing the results.*"
   ]
  }
 ],
 "metadata": {
  "kernelspec": {
   "display_name": "Python 3",
   "language": "python",
   "name": "python3"
  },
  "language_info": {
   "codemirror_mode": {
    "name": "ipython",
    "version": 3
   },
   "file_extension": ".py",
   "mimetype": "text/x-python",
   "name": "python",
   "nbconvert_exporter": "python",
   "pygments_lexer": "ipython3",
   "version": "3.7.3"
  }
 },
 "nbformat": 4,
 "nbformat_minor": 2
}
