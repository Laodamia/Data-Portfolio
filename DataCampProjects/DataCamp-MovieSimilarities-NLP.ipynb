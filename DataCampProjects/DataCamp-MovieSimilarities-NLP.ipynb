{
 "cells": [
  {
   "cell_type": "markdown",
   "metadata": {
    "dc": {
     "key": "3"
    },
    "deletable": false,
    "editable": false,
    "run_control": {
     "frozen": true
    },
    "tags": [
     "context"
    ]
   },
   "source": [
    "## 1. Import and observe dataset\n",
    "<p>We all love watching movies! There are some movies we like, some we don't. Most people have a preference for movies of a similar genre. Some of us love watching action movies, while some of us like watching horror. Some of us like watching movies that have ninjas in them, while some of us like watching superheroes.</p>\n",
    "<p>Movies within a genre often share common base parameters. Consider the following two movies:</p>\n",
    "<p><img style=\"margin:5px 20px 5px 1px; height: 250px; display: inline-block;\" alt=\"2001: A Space Odyssey\" src=\"https://assets.datacamp.com/production/project_648/img/movie1.jpg\">\n",
    "<img style=\"margin:5px 20px 5px 1px; height: 250px; display: inline-block;\" alt=\"Close Encounters of the Third Kind\" src=\"https://assets.datacamp.com/production/project_648/img/movie2.jpg\"></p>\n",
    "<p>Both movies, <em>2001: A Space Odyssey</em> and <em>Close Encounters of the Third Kind</em>, are movies based on aliens coming to Earth. I've seen both, and they indeed share many similarities. We could conclude that both of these fall into the same genre of movies based on intuition, but that's no fun in a data science context. In this notebook, we will quantify the similarity of movies based on their plot summaries available on IMDb and Wikipedia, then separate them into groups, also known as clusters. We'll create a dendrogram to represent how closely the movies are related to each other.</p>\n",
    "<p>Let's start by importing the dataset and observing the data provided.</p>"
   ]
  },
  {
   "cell_type": "code",
   "execution_count": 1,
   "metadata": {
    "dc": {
     "key": "3"
    },
    "tags": [
     "sample_code"
    ]
   },
   "outputs": [
    {
     "name": "stdout",
     "output_type": "stream",
     "text": [
      "Number of movies loaded: 100 \n"
     ]
    },
    {
     "data": {
      "text/html": [
       "<div>\n",
       "<style scoped>\n",
       "    .dataframe tbody tr th:only-of-type {\n",
       "        vertical-align: middle;\n",
       "    }\n",
       "\n",
       "    .dataframe tbody tr th {\n",
       "        vertical-align: top;\n",
       "    }\n",
       "\n",
       "    .dataframe thead th {\n",
       "        text-align: right;\n",
       "    }\n",
       "</style>\n",
       "<table border=\"1\" class=\"dataframe\">\n",
       "  <thead>\n",
       "    <tr style=\"text-align: right;\">\n",
       "      <th></th>\n",
       "      <th>rank</th>\n",
       "      <th>title</th>\n",
       "      <th>genre</th>\n",
       "      <th>wiki_plot</th>\n",
       "      <th>imdb_plot</th>\n",
       "    </tr>\n",
       "  </thead>\n",
       "  <tbody>\n",
       "    <tr>\n",
       "      <td>0</td>\n",
       "      <td>0</td>\n",
       "      <td>The Godfather</td>\n",
       "      <td>[u' Crime', u' Drama']</td>\n",
       "      <td>On the day of his only daughter's wedding, Vit...</td>\n",
       "      <td>In late summer 1945, guests are gathered for t...</td>\n",
       "    </tr>\n",
       "    <tr>\n",
       "      <td>1</td>\n",
       "      <td>1</td>\n",
       "      <td>The Shawshank Redemption</td>\n",
       "      <td>[u' Crime', u' Drama']</td>\n",
       "      <td>In 1947, banker Andy Dufresne is convicted of ...</td>\n",
       "      <td>In 1947, Andy Dufresne (Tim Robbins), a banker...</td>\n",
       "    </tr>\n",
       "    <tr>\n",
       "      <td>2</td>\n",
       "      <td>2</td>\n",
       "      <td>Schindler's List</td>\n",
       "      <td>[u' Biography', u' Drama', u' History']</td>\n",
       "      <td>In 1939, the Germans move Polish Jews into the...</td>\n",
       "      <td>The relocation of Polish Jews from surrounding...</td>\n",
       "    </tr>\n",
       "    <tr>\n",
       "      <td>3</td>\n",
       "      <td>3</td>\n",
       "      <td>Raging Bull</td>\n",
       "      <td>[u' Biography', u' Drama', u' Sport']</td>\n",
       "      <td>In a brief scene in 1964, an aging, overweight...</td>\n",
       "      <td>The film opens in 1964, where an older and fat...</td>\n",
       "    </tr>\n",
       "    <tr>\n",
       "      <td>4</td>\n",
       "      <td>4</td>\n",
       "      <td>Casablanca</td>\n",
       "      <td>[u' Drama', u' Romance', u' War']</td>\n",
       "      <td>It is early December 1941. American expatriate...</td>\n",
       "      <td>In the early years of World War II, December 1...</td>\n",
       "    </tr>\n",
       "    <tr>\n",
       "      <td>...</td>\n",
       "      <td>...</td>\n",
       "      <td>...</td>\n",
       "      <td>...</td>\n",
       "      <td>...</td>\n",
       "      <td>...</td>\n",
       "    </tr>\n",
       "    <tr>\n",
       "      <td>95</td>\n",
       "      <td>95</td>\n",
       "      <td>Rebel Without a Cause</td>\n",
       "      <td>[u' Drama']</td>\n",
       "      <td>\\n\\n\\n\\nJim Stark is in police custody.\\n\\n  \\...</td>\n",
       "      <td>Shortly after moving to Los Angeles with his p...</td>\n",
       "    </tr>\n",
       "    <tr>\n",
       "      <td>96</td>\n",
       "      <td>96</td>\n",
       "      <td>Rear Window</td>\n",
       "      <td>[u' Mystery', u' Thriller']</td>\n",
       "      <td>\\n\\n\\n\\nJames Stewart as L.B. Jefferies\\n\\n  \\...</td>\n",
       "      <td>L.B. \"Jeff\" Jeffries (James Stewart) recuperat...</td>\n",
       "    </tr>\n",
       "    <tr>\n",
       "      <td>97</td>\n",
       "      <td>97</td>\n",
       "      <td>The Third Man</td>\n",
       "      <td>[u' Film-Noir', u' Mystery', u' Thriller']</td>\n",
       "      <td>\\n\\n\\n\\nSocial network mapping all major chara...</td>\n",
       "      <td>Sights of Vienna, Austria, flash across the sc...</td>\n",
       "    </tr>\n",
       "    <tr>\n",
       "      <td>98</td>\n",
       "      <td>98</td>\n",
       "      <td>North by Northwest</td>\n",
       "      <td>[u' Mystery', u' Thriller']</td>\n",
       "      <td>Advertising executive Roger O. Thornhill is mi...</td>\n",
       "      <td>At the end of an ordinary work day, advertisin...</td>\n",
       "    </tr>\n",
       "    <tr>\n",
       "      <td>99</td>\n",
       "      <td>99</td>\n",
       "      <td>Yankee Doodle Dandy</td>\n",
       "      <td>[u' Biography', u' Drama', u' Musical']</td>\n",
       "      <td>\\n  In the early days of World War II, Cohan ...</td>\n",
       "      <td>NaN</td>\n",
       "    </tr>\n",
       "  </tbody>\n",
       "</table>\n",
       "<p>100 rows × 5 columns</p>\n",
       "</div>"
      ],
      "text/plain": [
       "    rank                     title  \\\n",
       "0      0             The Godfather   \n",
       "1      1  The Shawshank Redemption   \n",
       "2      2          Schindler's List   \n",
       "3      3               Raging Bull   \n",
       "4      4                Casablanca   \n",
       "..   ...                       ...   \n",
       "95    95     Rebel Without a Cause   \n",
       "96    96               Rear Window   \n",
       "97    97             The Third Man   \n",
       "98    98        North by Northwest   \n",
       "99    99       Yankee Doodle Dandy   \n",
       "\n",
       "                                         genre  \\\n",
       "0                       [u' Crime', u' Drama']   \n",
       "1                       [u' Crime', u' Drama']   \n",
       "2      [u' Biography', u' Drama', u' History']   \n",
       "3        [u' Biography', u' Drama', u' Sport']   \n",
       "4            [u' Drama', u' Romance', u' War']   \n",
       "..                                         ...   \n",
       "95                                 [u' Drama']   \n",
       "96                 [u' Mystery', u' Thriller']   \n",
       "97  [u' Film-Noir', u' Mystery', u' Thriller']   \n",
       "98                 [u' Mystery', u' Thriller']   \n",
       "99     [u' Biography', u' Drama', u' Musical']   \n",
       "\n",
       "                                            wiki_plot  \\\n",
       "0   On the day of his only daughter's wedding, Vit...   \n",
       "1   In 1947, banker Andy Dufresne is convicted of ...   \n",
       "2   In 1939, the Germans move Polish Jews into the...   \n",
       "3   In a brief scene in 1964, an aging, overweight...   \n",
       "4   It is early December 1941. American expatriate...   \n",
       "..                                                ...   \n",
       "95  \\n\\n\\n\\nJim Stark is in police custody.\\n\\n  \\...   \n",
       "96  \\n\\n\\n\\nJames Stewart as L.B. Jefferies\\n\\n  \\...   \n",
       "97  \\n\\n\\n\\nSocial network mapping all major chara...   \n",
       "98  Advertising executive Roger O. Thornhill is mi...   \n",
       "99   \\n  In the early days of World War II, Cohan ...   \n",
       "\n",
       "                                            imdb_plot  \n",
       "0   In late summer 1945, guests are gathered for t...  \n",
       "1   In 1947, Andy Dufresne (Tim Robbins), a banker...  \n",
       "2   The relocation of Polish Jews from surrounding...  \n",
       "3   The film opens in 1964, where an older and fat...  \n",
       "4   In the early years of World War II, December 1...  \n",
       "..                                                ...  \n",
       "95  Shortly after moving to Los Angeles with his p...  \n",
       "96  L.B. \"Jeff\" Jeffries (James Stewart) recuperat...  \n",
       "97  Sights of Vienna, Austria, flash across the sc...  \n",
       "98  At the end of an ordinary work day, advertisin...  \n",
       "99                                                NaN  \n",
       "\n",
       "[100 rows x 5 columns]"
      ]
     },
     "execution_count": 1,
     "metadata": {},
     "output_type": "execute_result"
    }
   ],
   "source": [
    "# Import modules\n",
    "import numpy as np\n",
    "import pandas as pd\n",
    "import nltk\n",
    "\n",
    "# Set seed for reproducibility\n",
    "np.random.seed(5)\n",
    "\n",
    "# Read in IMDb and Wikipedia movie data (both in same file)\n",
    "movies_df = pd.read_csv('datasets/movies.csv')\n",
    "\n",
    "print(\"Number of movies loaded: %s \" % (len(movies_df)))\n",
    "\n",
    "# Display the data\n",
    "movies_df"
   ]
  },
  {
   "cell_type": "markdown",
   "metadata": {
    "dc": {
     "key": "10"
    },
    "deletable": false,
    "editable": false,
    "run_control": {
     "frozen": true
    },
    "tags": [
     "context"
    ]
   },
   "source": [
    "## 2. Combine Wikipedia and IMDb plot summaries\n",
    "<p>The dataset we imported currently contains two columns titled <code>wiki_plot</code> and <code>imdb_plot</code>. They are the plot found for the movies on Wikipedia and IMDb, respectively. The text in the two columns is similar, however, they are often written in different tones and thus provide context on a movie in a different manner of linguistic expression. Further, sometimes the text in one column may mention a feature of the plot that is not present in the other column. For example, consider the following plot extracts from <em>The Godfather</em>:</p>\n",
    "<ul>\n",
    "<li>Wikipedia: \"On the day of his only daughter's wedding, Vito Corleone\"</li>\n",
    "<li>IMDb: \"In late summer 1945, guests are gathered for the wedding reception of Don Vito Corleone's daughter Connie\"</li>\n",
    "</ul>\n",
    "<p>While the Wikipedia plot only mentions it is the day of the daughter's wedding, the IMDb plot also mentions the year of the scene and the name of the daughter. </p>\n",
    "<p>Let's combine both the columns to avoid the overheads in computation associated with extra columns to process.</p>"
   ]
  },
  {
   "cell_type": "code",
   "execution_count": 2,
   "metadata": {
    "dc": {
     "key": "10"
    },
    "tags": [
     "sample_code"
    ]
   },
   "outputs": [
    {
     "data": {
      "text/html": [
       "<div>\n",
       "<style scoped>\n",
       "    .dataframe tbody tr th:only-of-type {\n",
       "        vertical-align: middle;\n",
       "    }\n",
       "\n",
       "    .dataframe tbody tr th {\n",
       "        vertical-align: top;\n",
       "    }\n",
       "\n",
       "    .dataframe thead th {\n",
       "        text-align: right;\n",
       "    }\n",
       "</style>\n",
       "<table border=\"1\" class=\"dataframe\">\n",
       "  <thead>\n",
       "    <tr style=\"text-align: right;\">\n",
       "      <th></th>\n",
       "      <th>rank</th>\n",
       "      <th>title</th>\n",
       "      <th>genre</th>\n",
       "      <th>wiki_plot</th>\n",
       "      <th>imdb_plot</th>\n",
       "      <th>plot</th>\n",
       "    </tr>\n",
       "  </thead>\n",
       "  <tbody>\n",
       "    <tr>\n",
       "      <td>0</td>\n",
       "      <td>0</td>\n",
       "      <td>The Godfather</td>\n",
       "      <td>[u' Crime', u' Drama']</td>\n",
       "      <td>On the day of his only daughter's wedding, Vit...</td>\n",
       "      <td>In late summer 1945, guests are gathered for t...</td>\n",
       "      <td>On the day of his only daughter's wedding, Vit...</td>\n",
       "    </tr>\n",
       "    <tr>\n",
       "      <td>1</td>\n",
       "      <td>1</td>\n",
       "      <td>The Shawshank Redemption</td>\n",
       "      <td>[u' Crime', u' Drama']</td>\n",
       "      <td>In 1947, banker Andy Dufresne is convicted of ...</td>\n",
       "      <td>In 1947, Andy Dufresne (Tim Robbins), a banker...</td>\n",
       "      <td>In 1947, banker Andy Dufresne is convicted of ...</td>\n",
       "    </tr>\n",
       "    <tr>\n",
       "      <td>2</td>\n",
       "      <td>2</td>\n",
       "      <td>Schindler's List</td>\n",
       "      <td>[u' Biography', u' Drama', u' History']</td>\n",
       "      <td>In 1939, the Germans move Polish Jews into the...</td>\n",
       "      <td>The relocation of Polish Jews from surrounding...</td>\n",
       "      <td>In 1939, the Germans move Polish Jews into the...</td>\n",
       "    </tr>\n",
       "    <tr>\n",
       "      <td>3</td>\n",
       "      <td>3</td>\n",
       "      <td>Raging Bull</td>\n",
       "      <td>[u' Biography', u' Drama', u' Sport']</td>\n",
       "      <td>In a brief scene in 1964, an aging, overweight...</td>\n",
       "      <td>The film opens in 1964, where an older and fat...</td>\n",
       "      <td>In a brief scene in 1964, an aging, overweight...</td>\n",
       "    </tr>\n",
       "    <tr>\n",
       "      <td>4</td>\n",
       "      <td>4</td>\n",
       "      <td>Casablanca</td>\n",
       "      <td>[u' Drama', u' Romance', u' War']</td>\n",
       "      <td>It is early December 1941. American expatriate...</td>\n",
       "      <td>In the early years of World War II, December 1...</td>\n",
       "      <td>It is early December 1941. American expatriate...</td>\n",
       "    </tr>\n",
       "  </tbody>\n",
       "</table>\n",
       "</div>"
      ],
      "text/plain": [
       "   rank                     title                                    genre  \\\n",
       "0     0             The Godfather                   [u' Crime', u' Drama']   \n",
       "1     1  The Shawshank Redemption                   [u' Crime', u' Drama']   \n",
       "2     2          Schindler's List  [u' Biography', u' Drama', u' History']   \n",
       "3     3               Raging Bull    [u' Biography', u' Drama', u' Sport']   \n",
       "4     4                Casablanca        [u' Drama', u' Romance', u' War']   \n",
       "\n",
       "                                           wiki_plot  \\\n",
       "0  On the day of his only daughter's wedding, Vit...   \n",
       "1  In 1947, banker Andy Dufresne is convicted of ...   \n",
       "2  In 1939, the Germans move Polish Jews into the...   \n",
       "3  In a brief scene in 1964, an aging, overweight...   \n",
       "4  It is early December 1941. American expatriate...   \n",
       "\n",
       "                                           imdb_plot  \\\n",
       "0  In late summer 1945, guests are gathered for t...   \n",
       "1  In 1947, Andy Dufresne (Tim Robbins), a banker...   \n",
       "2  The relocation of Polish Jews from surrounding...   \n",
       "3  The film opens in 1964, where an older and fat...   \n",
       "4  In the early years of World War II, December 1...   \n",
       "\n",
       "                                                plot  \n",
       "0  On the day of his only daughter's wedding, Vit...  \n",
       "1  In 1947, banker Andy Dufresne is convicted of ...  \n",
       "2  In 1939, the Germans move Polish Jews into the...  \n",
       "3  In a brief scene in 1964, an aging, overweight...  \n",
       "4  It is early December 1941. American expatriate...  "
      ]
     },
     "execution_count": 2,
     "metadata": {},
     "output_type": "execute_result"
    }
   ],
   "source": [
    "# Combine wiki_plot and imdb_plot into a single column\n",
    "movies_df['plot'] = movies_df['wiki_plot'].astype(str) + \"\\n\" + \\\n",
    "                 movies_df['imdb_plot'].astype(str)\n",
    "\n",
    "# Inspect the new DataFrame\n",
    "movies_df.head()"
   ]
  },
  {
   "cell_type": "markdown",
   "metadata": {
    "dc": {
     "key": "17"
    },
    "deletable": false,
    "editable": false,
    "run_control": {
     "frozen": true
    },
    "tags": [
     "context"
    ]
   },
   "source": [
    "## 3. Tokenization\n",
    "<p>Tokenization is the process  by which we break down articles into individual sentences or words, as needed. Besides the tokenization method provided by NLTK, we might have to perform additional filtration to remove tokens which are entirely numeric values or punctuation.</p>\n",
    "<p>While a program may fail to build context from \"While waiting at a bus stop in 1981\" (<em>Forrest Gump</em>), because this string would not match in any dictionary, it is possible to build context from the words \"while\", \"waiting\" or \"bus\" because they are present in the English dictionary. </p>\n",
    "<p>Let us perform tokenization on a small extract from <em>The Godfather</em>.</p>"
   ]
  },
  {
   "cell_type": "code",
   "execution_count": 5,
   "metadata": {
    "dc": {
     "key": "17"
    },
    "tags": [
     "sample_code"
    ]
   },
   "outputs": [
    {
     "name": "stderr",
     "output_type": "stream",
     "text": [
      "[nltk_data] Downloading package punkt to\n",
      "[nltk_data]     /Users/martakrzeminska/nltk_data...\n",
      "[nltk_data]   Unzipping tokenizers/punkt.zip.\n"
     ]
    },
    {
     "data": {
      "text/plain": [
       "['Today', 'May', 'is', 'his', 'only', 'daughter', \"'s\", 'wedding']"
      ]
     },
     "execution_count": 5,
     "metadata": {},
     "output_type": "execute_result"
    }
   ],
   "source": [
    "nltk.download('punkt')\n",
    "\n",
    "# Tokenize a paragraph into sentences and store in sent_tokenized\n",
    "sent_tokenized = [sent for sent in nltk.sent_tokenize(\"\"\"\n",
    "                        Today (May 19, 2016) is his only daughter's wedding. \n",
    "                        Vito Corleone is the Godfather.\"\"\")]\n",
    "\n",
    "# Word Tokenize first sentence from sent_tokenized, save as words_tokenized\n",
    "words_tokenized = [word for word in nltk.word_tokenize(sent_tokenized[0])]\n",
    "\n",
    "# Remove tokens that do not contain any letters from words_tokenized\n",
    "import re\n",
    "\n",
    "filtered = [word for word in words_tokenized if re.search('[a-zA-Z]', word)]\n",
    "\n",
    "# Display filtered words to observe words after tokenization\n",
    "filtered"
   ]
  },
  {
   "cell_type": "markdown",
   "metadata": {
    "dc": {
     "key": "24"
    },
    "deletable": false,
    "editable": false,
    "run_control": {
     "frozen": true
    },
    "tags": [
     "context"
    ]
   },
   "source": [
    "## 4. Stemming\n",
    "<p>Stemming is the process by which we bring down a word from its different forms to the root word. This helps us establish meaning to different forms of the same words without having to deal with each form separately. For example, the words 'fishing', 'fished', and 'fisher' all get stemmed to the word 'fish'.</p>\n",
    "<p>Consider the following sentences:</p>\n",
    "<ul>\n",
    "<li>\"Young William Wallace witnesses the treachery of Longshanks\" ~ <em>Gladiator</em></li>\n",
    "<li>\"escapes to the city walls only to witness Cicero's death\" ~ <em>Braveheart</em></li>\n",
    "</ul>\n",
    "<p>Instead of building separate dictionary entries for both witnesses and witness, which mean the same thing outside of quantity, stemming them reduces them to 'wit'.</p>\n",
    "<p>There are different algorithms available for stemming such as the Porter Stemmer, Snowball Stemmer, etc. We shall use the Snowball Stemmer.</p>"
   ]
  },
  {
   "cell_type": "code",
   "execution_count": 6,
   "metadata": {
    "dc": {
     "key": "24"
    },
    "tags": [
     "sample_code"
    ]
   },
   "outputs": [
    {
     "name": "stdout",
     "output_type": "stream",
     "text": [
      "Without stemming:  ['Today', 'May', 'is', 'his', 'only', 'daughter', \"'s\", 'wedding']\n",
      "After stemming:    ['today', 'may', 'is', 'his', 'onli', 'daughter', \"'s\", 'wed']\n"
     ]
    }
   ],
   "source": [
    "# Import the SnowballStemmer to perform stemming\n",
    "from nltk.stem.snowball import SnowballStemmer\n",
    "\n",
    "# Create an English language SnowballStemmer object\n",
    "stemmer = SnowballStemmer(\"english\")\n",
    "\n",
    "# Print filtered to observe words without stemming\n",
    "print(\"Without stemming: \", filtered)\n",
    "\n",
    "# Stem the words from filtered and store in stemmed_words\n",
    "stemmed_words = [stemmer.stem(word) for word in filtered]\n",
    "\n",
    "# Print the stemmed_words to observe words after stemming\n",
    "print(\"After stemming:   \", stemmed_words)"
   ]
  },
  {
   "cell_type": "markdown",
   "metadata": {
    "dc": {
     "key": "31"
    },
    "deletable": false,
    "editable": false,
    "run_control": {
     "frozen": true
    },
    "tags": [
     "context"
    ]
   },
   "source": [
    "## 5. Club together Tokenize & Stem\n",
    "<p>We are now able to tokenize and stem sentences. But we may have to use the two functions repeatedly one after the other to handle a large amount of data, hence we can think of wrapping them in a function and passing the text to be tokenized and stemmed as the function argument. Then we can pass the new wrapping function, which shall perform both tokenizing and stemming instead of just tokenizing, as the tokenizer argument while creating the TF-IDF vector of the text.  </p>\n",
    "<p>What difference does it make though? Consider the sentence from the plot of <em>The Godfather</em>: \"Today (May 19, 2016) is his only daughter's wedding.\" If we do a 'tokenize-only' for this sentence, we have the following result:</p>\n",
    "<blockquote>\n",
    "  <p>'today', 'may', 'is', 'his', 'only', 'daughter', \"'s\", 'wedding'</p>\n",
    "</blockquote>\n",
    "<p>But when we do a 'tokenize-and-stem' operation we get:</p>\n",
    "<blockquote>\n",
    "  <p>'today', 'may', 'is', 'his', 'onli', 'daughter', \"'s\", 'wed'</p>\n",
    "</blockquote>\n",
    "<p>All the words are in their root form, which will lead to a better establishment of meaning as some of the non-root forms may not be present in the NLTK training corpus.</p>"
   ]
  },
  {
   "cell_type": "code",
   "execution_count": 10,
   "metadata": {
    "dc": {
     "key": "31"
    },
    "tags": [
     "sample_code"
    ]
   },
   "outputs": [
    {
     "name": "stdout",
     "output_type": "stream",
     "text": [
      "[\"Today (May 19, 2016) is his only daughter's wedding.\", 'what about that.']\n",
      "None\n"
     ]
    }
   ],
   "source": [
    "# Define a function to perform both stemming and tokenization\n",
    "def tokenize_and_stem(text):\n",
    "    \n",
    "    # Tokenize by sentence, then by word\n",
    "    sentences = [sent for sent in nltk.sent_tokenize(text)]\n",
    "#     tokens = [word for word in nltk.word_tokenize(sentences)]\n",
    "#     tokens = [word for word in nltk.word_tokenize([sent for sent in nltk.sent_tokenize(text)][0])]\n",
    "    # Filter out raw tokens to remove noise\n",
    "#     filtered_tokens = [token for token in tokens if re.search('[a-zA-Z]', token)]\n",
    "    \n",
    "    # Stem the filtered_tokens\n",
    "#     stems = [stemmer.stem(token) for token in filtered_tokens]\n",
    "    print(sentences)\n",
    "#     return stems\n",
    "\n",
    "#test function\n",
    "words_stemmed = tokenize_and_stem(\"Today (May 19, 2016) is his only daughter's wedding. what about that.\")\n",
    "print(words_stemmed)"
   ]
  },
  {
   "cell_type": "markdown",
   "metadata": {
    "dc": {
     "key": "38"
    },
    "deletable": false,
    "editable": false,
    "run_control": {
     "frozen": true
    },
    "tags": [
     "context"
    ]
   },
   "source": [
    "## 6. Create TfidfVectorizer\n",
    "<p>Computers do not <em>understand</em> text. These are machines only capable of understanding numbers and performing numerical computation. Hence, we must convert our textual plot summaries to numbers for the computer to be able to extract meaning from them. One simple method of doing this would be to count all the occurrences of each word in the entire vocabulary and return the counts in a vector. Enter <code>CountVectorizer</code>.</p>\n",
    "<p>Consider the word 'the'. It appears quite frequently in almost all movie plots and will have a high count in each case. But obviously, it isn't the theme of all the movies! <a href=\"https://campus.datacamp.com/courses/natural-language-processing-fundamentals-in-python/simple-topic-identification?ex=11\">Term Frequency-Inverse Document Frequency</a> (TF-IDF) is one method which overcomes the shortcomings of <code>CountVectorizer</code>. The Term Frequency of a word is the measure of how often it appears in a document, while the Inverse Document Frequency is the parameter which reduces the importance of a word if it frequently appears in several documents.</p>\n",
    "<p>For example, when we apply the TF-IDF on the first 3 sentences from the plot of <em>The Wizard of Oz</em>, we are told that the most important word there is 'Toto', the pet dog of the lead character. This is because the movie begins with 'Toto' biting someone due to which the journey of Oz begins!</p>\n",
    "<p>In simplest terms, TF-IDF recognizes words which are unique and important to any given document. Let's create one for our purposes.</p>"
   ]
  },
  {
   "cell_type": "code",
   "execution_count": null,
   "metadata": {
    "dc": {
     "key": "38"
    },
    "tags": [
     "sample_code"
    ]
   },
   "outputs": [],
   "source": [
    "# Import TfidfVectorizer to create TF-IDF vectors\n",
    "from sklearn.feature_extraction.text import TfidfVectorizer\n",
    "\n",
    "# Instantiate TfidfVectorizer object with stopwords and tokenizer\n",
    "# parameters for efficient processing of text\n",
    "tfidf_vectorizer = TfidfVectorizer(max_df=0.8, max_features=200000,\n",
    "                                 min_df=0.16, stop_words='english',\n",
    "                                 use_idf=True, tokenizer=tokenize_and_stem,\n",
    "                                 ngram_range=(1,3))\n",
    "\n",
    "#given params min_df = 0.2, max_df = 0.8. Gives error. \n",
    "# no error with min_df = 0.16 (the smallest with no error) and max_df=0.8.\n"
   ]
  },
  {
   "cell_type": "markdown",
   "metadata": {
    "dc": {
     "key": "45"
    },
    "deletable": false,
    "editable": false,
    "run_control": {
     "frozen": true
    },
    "tags": [
     "context"
    ]
   },
   "source": [
    "## 7. Fit transform TfidfVectorizer\n",
    "<p>Once we create a TF-IDF Vectorizer, we must fit the text to it and then transform the text to produce the corresponding numeric form of the data which the computer will be able to understand and derive meaning from. To do this, we use the <code>fit_transform()</code> method of the <code>TfidfVectorizer</code> object. </p>\n",
    "<p>If we observe the <code>TfidfVectorizer</code> object we created, we come across a parameter stopwords. 'stopwords' are those words in a given text which do not contribute considerably towards the meaning of the sentence and are generally grammatical filler words. For example, in the sentence 'Dorothy Gale lives with her dog Toto on the farm of her Aunt Em and Uncle Henry', we could drop the words 'her' and 'the', and still have a similar overall meaning to the sentence. Thus, 'her' and 'the' are stopwords and can be conveniently dropped from the sentence. </p>\n",
    "<p>On setting the stopwords to 'english', we direct the vectorizer to drop all stopwords from a pre-defined list of English language stopwords present in the nltk module. Another parameter, <code>ngram_range</code>, defines the length of the ngrams to be formed while vectorizing the text.</p>"
   ]
  },
  {
   "cell_type": "code",
   "execution_count": null,
   "metadata": {
    "dc": {
     "key": "45"
    },
    "tags": [
     "sample_code"
    ]
   },
   "outputs": [],
   "source": [
    "# Fit and transform the tfidf_vectorizer with the \"plot\" of each movie\n",
    "# to create a vector representation of the plot summaries\n",
    "tfidf_matrix = tfidf_vectorizer.fit_transform([x for x in movies_df[\"plot\"]])\n",
    "\n",
    "print(tfidf_matrix.shape)"
   ]
  },
  {
   "cell_type": "markdown",
   "metadata": {
    "dc": {
     "key": "52"
    },
    "deletable": false,
    "editable": false,
    "run_control": {
     "frozen": true
    },
    "tags": [
     "context"
    ]
   },
   "source": [
    "## 8. Import KMeans and create clusters\n",
    "<p>To determine how closely one movie is related to the other by the help of unsupervised learning, we can use clustering techniques. Clustering is the method of grouping together a number of items such that they exhibit similar properties. According to the measure of similarity desired, a given sample of items can have one or more clusters. </p>\n",
    "<p>A good basis of clustering in our dataset could be the genre of the movies. Say we could have a cluster '0' which holds movies of the 'Drama' genre. We would expect movies like <em>Chinatown</em> or <em>Psycho</em> to belong to this cluster. Similarly, the cluster '1' in this project holds movies which belong to the 'Adventure' genre (<em>Lawrence of Arabia</em> and the <em>Raiders of the Lost Ark</em>, for example).</p>\n",
    "<p>K-means is an algorithm which helps us to implement clustering in Python. The name derives from its method of implementation: the given sample is divided into <b><i>K</i></b> clusters where each cluster is denoted by the <b><i>mean</i></b> of all the items lying in that cluster. </p>\n",
    "<p>We get the following distribution for the clusters:</p>\n",
    "<p><img src=\"https://assets.datacamp.com/production/project_648/img/bar_clusters.png\" alt=\"bar graph of clusters\"></p>"
   ]
  },
  {
   "cell_type": "code",
   "execution_count": null,
   "metadata": {
    "dc": {
     "key": "52"
    },
    "tags": [
     "sample_code"
    ]
   },
   "outputs": [],
   "source": [
    "# Import k-means to perform clusters\n",
    "from sklearn.cluster import KMeans\n",
    "\n",
    "# Create a KMeans object with 5 clusters and save as km\n",
    "km = KMeans(n_clusters=5)\n",
    "\n",
    "# Fit the k-means object with tfidf_matrix\n",
    "km.fit(tfidf_matrix)\n",
    "\n",
    "clusters = km.labels_.tolist()\n",
    "\n",
    "# Create a column cluster to denote the generated cluster for each movie\n",
    "movies_df[\"cluster\"] = clusters\n",
    "\n",
    "# Display number of films per cluster (clusters from 0 to 4)\n",
    "movies_df['cluster'].value_counts() "
   ]
  },
  {
   "cell_type": "markdown",
   "metadata": {
    "dc": {
     "key": "59"
    },
    "deletable": false,
    "editable": false,
    "run_control": {
     "frozen": true
    },
    "tags": [
     "context"
    ]
   },
   "source": [
    "## 9. Calculate similarity distance\n",
    "<p>Consider the following two sentences from the movie <em>The Wizard of Oz</em>: </p>\n",
    "<blockquote>\n",
    "  <p>\"they find in the Emerald City\"</p>\n",
    "  <p>\"they finally reach the Emerald City\"</p>\n",
    "</blockquote>\n",
    "<p>If we put the above sentences in a <code>CountVectorizer</code>, the vocabulary produced would be \"they, find, in, the, Emerald, City, finally, reach\" and the vectors for each sentence would be as follows: </p>\n",
    "<blockquote>\n",
    "  <p>1, 1, 1, 1, 1, 1, 0, 0</p>\n",
    "  <p>1, 0, 0, 1, 1, 1, 1, 1</p>\n",
    "</blockquote>\n",
    "<p>When we calculate the cosine angle formed between the vectors represented by the above, we get a score of 0.667. This means the above sentences are very closely related. <em>Similarity distance</em> is 1 - <a href=\"https://en.wikipedia.org/wiki/Cosine_similarity\">cosine similarity angle</a>. This follows from that if the vectors are similar, the cosine of their angle would be 1 and hence, the distance between then would be 1 - 1 = 0.</p>\n",
    "<p>Let's calculate the similarity distance for all of our movies.</p>"
   ]
  },
  {
   "cell_type": "code",
   "execution_count": null,
   "metadata": {
    "dc": {
     "key": "59"
    },
    "tags": [
     "sample_code"
    ]
   },
   "outputs": [],
   "source": [
    "# Import cosine_similarity to calculate similarity of movie plots\n",
    "from ... import ...\n",
    "\n",
    "# Calculate the similarity distance\n",
    "similarity_distance = 1 - ...(...)"
   ]
  },
  {
   "cell_type": "markdown",
   "metadata": {
    "dc": {
     "key": "66"
    },
    "deletable": false,
    "editable": false,
    "run_control": {
     "frozen": true
    },
    "tags": [
     "context"
    ]
   },
   "source": [
    "## 10. Import Matplotlib, Linkage, and Dendrograms\n",
    "<p>We shall now create a tree-like diagram (called a dendrogram) of the movie titles to help us understand the level of similarity between them visually. Dendrograms help visualize the results of hierarchical clustering, which is an alternative to k-means clustering. Two pairs of movies at the same level of hierarchical clustering are expected to have similar strength of similarity between the corresponding pairs of movies. For example, the movie <em>Fargo</em> would be as similar to <em>North By Northwest</em> as the movie <em>Platoon</em> is to <em>Saving Private Ryan</em>, given both the pairs exhibit the same level of the hierarchy.</p>\n",
    "<p>Let's import the modules we'll need to create our dendrogram.</p>"
   ]
  },
  {
   "cell_type": "code",
   "execution_count": null,
   "metadata": {
    "dc": {
     "key": "66"
    },
    "tags": [
     "sample_code"
    ]
   },
   "outputs": [],
   "source": [
    "# Import matplotlib.pyplot for plotting graphs\n",
    "# ... YOUR CODE FOR TASK 10 ...\n",
    "\n",
    "# Configure matplotlib to display the output inline\n",
    "%matplotlib inline\n",
    "\n",
    "# Import modules necessary to plot dendrogram\n",
    "# ... YOUR CODE FOR TASK 10 ..."
   ]
  },
  {
   "cell_type": "markdown",
   "metadata": {
    "dc": {
     "key": "73"
    },
    "deletable": false,
    "editable": false,
    "run_control": {
     "frozen": true
    },
    "tags": [
     "context"
    ]
   },
   "source": [
    "## 11. Create merging and plot dendrogram\n",
    "<p>We shall plot a dendrogram of the movies whose similarity measure will be given by the similarity distance we previously calculated. The lower the similarity distance between any two movies, the lower their linkage will make an intercept on the y-axis. For instance, the lowest dendrogram linkage we shall discover will be between the movies, <em>It's a Wonderful Life</em> and <em>A Place in the Sun</em>. This indicates that the movies are very similar to each other in their plots.</p>"
   ]
  },
  {
   "cell_type": "code",
   "execution_count": null,
   "metadata": {
    "dc": {
     "key": "73"
    },
    "tags": [
     "sample_code"
    ]
   },
   "outputs": [],
   "source": [
    "# Create mergings matrix \n",
    "mergings = ...(..., method='complete')\n",
    "\n",
    "# Plot the dendrogram, using title as label column\n",
    "dendrogram_ = ...(...,\n",
    "               labels=[x for x in movies_df[\"...\"]],\n",
    "               leaf_rotation=90,\n",
    "               leaf_font_size=16,\n",
    ")\n",
    "\n",
    "# Adjust the plot\n",
    "fig = plt.gcf()\n",
    "_ = [lbl.set_color('r') for lbl in plt.gca().get_xmajorticklabels()]\n",
    "fig.set_size_inches(108, 21)\n",
    "\n",
    "# Show the plotted dendrogram\n",
    "plt.show()"
   ]
  },
  {
   "cell_type": "markdown",
   "metadata": {
    "dc": {
     "key": "80"
    },
    "deletable": false,
    "editable": false,
    "run_control": {
     "frozen": true
    },
    "tags": [
     "context"
    ]
   },
   "source": [
    "## 12. Which movies are most similar?\n",
    "<p>We can now determine the similarity between movies based on their plots! To wrap up, let's answer one final question: which movie is most similar to the movie <em>Braveheart</em>?</p>"
   ]
  },
  {
   "cell_type": "code",
   "execution_count": null,
   "metadata": {
    "dc": {
     "key": "80"
    },
    "tags": [
     "sample_code"
    ]
   },
   "outputs": [],
   "source": [
    "# Answer the question \n",
    "ans = \"...\"\n",
    "print(ans)"
   ]
  }
 ],
 "metadata": {
  "kernelspec": {
   "display_name": "Python 3",
   "language": "python",
   "name": "python3"
  },
  "language_info": {
   "codemirror_mode": {
    "name": "ipython",
    "version": 3
   },
   "file_extension": ".py",
   "mimetype": "text/x-python",
   "name": "python",
   "nbconvert_exporter": "python",
   "pygments_lexer": "ipython3",
   "version": "3.7.4"
  }
 },
 "nbformat": 4,
 "nbformat_minor": 2
}
