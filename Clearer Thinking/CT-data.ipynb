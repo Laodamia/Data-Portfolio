{
 "cells": [
  {
   "cell_type": "markdown",
   "metadata": {},
   "source": [
    "# Analysis of the Clearer Thinking: Value of Time Calculator data\n",
    "\n",
    "[Clearer Thinking](https://www.clearerthinking.org/) is a website with research-based interactive tools and tests that help users understand themselves more deeply, form new positive habits, and make better decisions.\n",
    "\n",
    "One of the tools on the website is the [Value of Time Calculator](https://programs.clearerthinking.org/what_is_your_time_really_worth_to_you.html), a test that helps respondents reflect on and discover how much monetary value they assign to their free time. \n",
    "\n",
    "Since the publishing of the tool, hundreds of thousands of people used the test. The analysis in this notebook is based on a slice of the full data set including 13958 usages of the program.\n",
    "\n",
    "The goal of th enotebook is to explore the dataset numerically and visually, find out if there are any interesting trends or correlations."
   ]
  },
  {
   "cell_type": "markdown",
   "metadata": {},
   "source": [
    "## Exploration"
   ]
  },
  {
   "cell_type": "code",
   "execution_count": 1,
   "metadata": {},
   "outputs": [],
   "source": [
    "import pandas as pd\n",
    "import numpy as np\n",
    "import matplotlib.pyplot as plt\n",
    "import seaborn as sns\n",
    "import scipy\n",
    "from scipy import stats"
   ]
  },
  {
   "cell_type": "code",
   "execution_count": 2,
   "metadata": {},
   "outputs": [],
   "source": [
    "tv = pd.read_excel('clearerthinking.xlsx', encoding='ascii')"
   ]
  },
  {
   "cell_type": "code",
   "execution_count": 3,
   "metadata": {},
   "outputs": [
    {
     "data": {
      "text/html": [
       "<div>\n",
       "<style scoped>\n",
       "    .dataframe tbody tr th:only-of-type {\n",
       "        vertical-align: middle;\n",
       "    }\n",
       "\n",
       "    .dataframe tbody tr th {\n",
       "        vertical-align: top;\n",
       "    }\n",
       "\n",
       "    .dataframe thead th {\n",
       "        text-align: right;\n",
       "    }\n",
       "</style>\n",
       "<table border=\"1\" class=\"dataframe\">\n",
       "  <thead>\n",
       "    <tr style=\"text-align: right;\">\n",
       "      <th></th>\n",
       "      <th>Run</th>\n",
       "      <th>Program Version</th>\n",
       "      <th>Time Started (UTC)</th>\n",
       "      <th>Time Finished (UTC)</th>\n",
       "      <th>Minutes Spent</th>\n",
       "      <th>Position</th>\n",
       "      <th>Points</th>\n",
       "      <th>weeklywage</th>\n",
       "      <th>wageorsalary</th>\n",
       "      <th>transferquestion</th>\n",
       "      <th>...</th>\n",
       "      <th>Do you have one job, or do you work several jobs? (umadzt9)</th>\n",
       "      <th>At your 2nd job, how many hours do you work *per week* in total, on weeks when you are not on vacation? (tqli88s)</th>\n",
       "      <th>Do you know roughly how much your 2nd job pays you *on an hourly basis*, including benefits? (00)</th>\n",
       "      <th>What is your current *annual after-tax salary*? (tlotksk)</th>\n",
       "      <th>Are you paid an hourly wage by your job, or do you draw an annual salary? (-xk33y2j)</th>\n",
       "      <th>Are you paid an hourly wage by your 1st job, or do you draw an annual salary? (-xk33y2j)</th>\n",
       "      <th>What's the minimum *hourly* wage you would be willing to accept for this job, under the conditions described above? (00)</th>\n",
       "      <th>Do you enjoy your current work? (00)</th>\n",
       "      <th>What is your current *after-tax annual* salary? (00)</th>\n",
       "      <th>What's the total value of any dental insurance you receive every year at this job? (00)</th>\n",
       "    </tr>\n",
       "  </thead>\n",
       "  <tbody>\n",
       "    <tr>\n",
       "      <th>0</th>\n",
       "      <td>1038685</td>\n",
       "      <td>2</td>\n",
       "      <td>NaT</td>\n",
       "      <td>NaT</td>\n",
       "      <td>NaN</td>\n",
       "      <td>vlph7u0</td>\n",
       "      <td>0</td>\n",
       "      <td>760.961538</td>\n",
       "      <td>0</td>\n",
       "      <td>no</td>\n",
       "      <td>...</td>\n",
       "      <td>NaN</td>\n",
       "      <td>NaN</td>\n",
       "      <td>NaN</td>\n",
       "      <td>NaN</td>\n",
       "      <td>NaN</td>\n",
       "      <td>NaN</td>\n",
       "      <td>NaN</td>\n",
       "      <td>NaN</td>\n",
       "      <td>NaN</td>\n",
       "      <td>NaN</td>\n",
       "    </tr>\n",
       "    <tr>\n",
       "      <th>1</th>\n",
       "      <td>1038869</td>\n",
       "      <td>5</td>\n",
       "      <td>NaT</td>\n",
       "      <td>NaT</td>\n",
       "      <td>6.87</td>\n",
       "      <td>1nbnhh3</td>\n",
       "      <td>0</td>\n",
       "      <td>0.000000</td>\n",
       "      <td>0</td>\n",
       "      <td>no</td>\n",
       "      <td>...</td>\n",
       "      <td>NaN</td>\n",
       "      <td>NaN</td>\n",
       "      <td>NaN</td>\n",
       "      <td>NaN</td>\n",
       "      <td>NaN</td>\n",
       "      <td>NaN</td>\n",
       "      <td>NaN</td>\n",
       "      <td>NaN</td>\n",
       "      <td>NaN</td>\n",
       "      <td>NaN</td>\n",
       "    </tr>\n",
       "    <tr>\n",
       "      <th>2</th>\n",
       "      <td>1038883</td>\n",
       "      <td>5</td>\n",
       "      <td>NaT</td>\n",
       "      <td>NaT</td>\n",
       "      <td>NaN</td>\n",
       "      <td>ddn4yjl</td>\n",
       "      <td>0</td>\n",
       "      <td>951.826923</td>\n",
       "      <td>2</td>\n",
       "      <td>yes</td>\n",
       "      <td>...</td>\n",
       "      <td>NaN</td>\n",
       "      <td>NaN</td>\n",
       "      <td>NaN</td>\n",
       "      <td>NaN</td>\n",
       "      <td>NaN</td>\n",
       "      <td>NaN</td>\n",
       "      <td>NaN</td>\n",
       "      <td>NaN</td>\n",
       "      <td>NaN</td>\n",
       "      <td>NaN</td>\n",
       "    </tr>\n",
       "    <tr>\n",
       "      <th>3</th>\n",
       "      <td>1038885</td>\n",
       "      <td>5</td>\n",
       "      <td>NaT</td>\n",
       "      <td>NaT</td>\n",
       "      <td>NaN</td>\n",
       "      <td>vlph7u0</td>\n",
       "      <td>0</td>\n",
       "      <td>3115.384615</td>\n",
       "      <td>0</td>\n",
       "      <td>yes</td>\n",
       "      <td>...</td>\n",
       "      <td>NaN</td>\n",
       "      <td>NaN</td>\n",
       "      <td>NaN</td>\n",
       "      <td>NaN</td>\n",
       "      <td>NaN</td>\n",
       "      <td>NaN</td>\n",
       "      <td>NaN</td>\n",
       "      <td>NaN</td>\n",
       "      <td>NaN</td>\n",
       "      <td>NaN</td>\n",
       "    </tr>\n",
       "    <tr>\n",
       "      <th>4</th>\n",
       "      <td>1038892</td>\n",
       "      <td>5</td>\n",
       "      <td>NaT</td>\n",
       "      <td>NaT</td>\n",
       "      <td>NaN</td>\n",
       "      <td>vlph7u0</td>\n",
       "      <td>0</td>\n",
       "      <td>2490.384615</td>\n",
       "      <td>2</td>\n",
       "      <td>yes</td>\n",
       "      <td>...</td>\n",
       "      <td>NaN</td>\n",
       "      <td>NaN</td>\n",
       "      <td>NaN</td>\n",
       "      <td>NaN</td>\n",
       "      <td>NaN</td>\n",
       "      <td>NaN</td>\n",
       "      <td>NaN</td>\n",
       "      <td>NaN</td>\n",
       "      <td>NaN</td>\n",
       "      <td>NaN</td>\n",
       "    </tr>\n",
       "  </tbody>\n",
       "</table>\n",
       "<p>5 rows × 423 columns</p>\n",
       "</div>"
      ],
      "text/plain": [
       "       Run  Program Version Time Started (UTC) Time Finished (UTC)  \\\n",
       "0  1038685                2                NaT                 NaT   \n",
       "1  1038869                5                NaT                 NaT   \n",
       "2  1038883                5                NaT                 NaT   \n",
       "3  1038885                5                NaT                 NaT   \n",
       "4  1038892                5                NaT                 NaT   \n",
       "\n",
       "   Minutes Spent Position  Points   weeklywage  wageorsalary transferquestion  \\\n",
       "0            NaN  vlph7u0       0   760.961538             0               no   \n",
       "1           6.87  1nbnhh3       0     0.000000             0               no   \n",
       "2            NaN  ddn4yjl       0   951.826923             2              yes   \n",
       "3            NaN  vlph7u0       0  3115.384615             0              yes   \n",
       "4            NaN  vlph7u0       0  2490.384615             2              yes   \n",
       "\n",
       "   ...  Do you have one job, or do you work several jobs? (umadzt9)  \\\n",
       "0  ...                                                NaN             \n",
       "1  ...                                                NaN             \n",
       "2  ...                                                NaN             \n",
       "3  ...                                                NaN             \n",
       "4  ...                                                NaN             \n",
       "\n",
       "   At your 2nd job, how many hours do you work *per week* in total, on weeks when you are not on vacation? (tqli88s)  \\\n",
       "0                                                NaN                                                                   \n",
       "1                                                NaN                                                                   \n",
       "2                                                NaN                                                                   \n",
       "3                                                NaN                                                                   \n",
       "4                                                NaN                                                                   \n",
       "\n",
       "   Do you know roughly how much your 2nd job pays you *on an hourly basis*, including benefits? (00)  \\\n",
       "0                                                NaN                                                   \n",
       "1                                                NaN                                                   \n",
       "2                                                NaN                                                   \n",
       "3                                                NaN                                                   \n",
       "4                                                NaN                                                   \n",
       "\n",
       "   What is your current *annual after-tax salary*? (tlotksk)  \\\n",
       "0                                                NaN           \n",
       "1                                                NaN           \n",
       "2                                                NaN           \n",
       "3                                                NaN           \n",
       "4                                                NaN           \n",
       "\n",
       "   Are you paid an hourly wage by your job, or do you draw an annual salary? (-xk33y2j)  \\\n",
       "0                                                NaN                                      \n",
       "1                                                NaN                                      \n",
       "2                                                NaN                                      \n",
       "3                                                NaN                                      \n",
       "4                                                NaN                                      \n",
       "\n",
       "  Are you paid an hourly wage by your 1st job, or do you draw an annual salary? (-xk33y2j)  \\\n",
       "0                                                NaN                                         \n",
       "1                                                NaN                                         \n",
       "2                                                NaN                                         \n",
       "3                                                NaN                                         \n",
       "4                                                NaN                                         \n",
       "\n",
       "   What's the minimum *hourly* wage you would be willing to accept for this job, under the conditions described above? (00)  \\\n",
       "0                                                NaN                                                                          \n",
       "1                                                NaN                                                                          \n",
       "2                                                NaN                                                                          \n",
       "3                                                NaN                                                                          \n",
       "4                                                NaN                                                                          \n",
       "\n",
       "   Do you enjoy your current work? (00)  \\\n",
       "0                                   NaN   \n",
       "1                                   NaN   \n",
       "2                                   NaN   \n",
       "3                                   NaN   \n",
       "4                                   NaN   \n",
       "\n",
       "   What is your current *after-tax annual* salary? (00)  \\\n",
       "0                                                NaN      \n",
       "1                                                NaN      \n",
       "2                                                NaN      \n",
       "3                                                NaN      \n",
       "4                                                NaN      \n",
       "\n",
       "   What's the total value of any dental insurance you receive every year at this job? (00)  \n",
       "0                                                NaN                                        \n",
       "1                                                NaN                                        \n",
       "2                                                NaN                                        \n",
       "3                                                NaN                                        \n",
       "4                                                NaN                                        \n",
       "\n",
       "[5 rows x 423 columns]"
      ]
     },
     "execution_count": 3,
     "metadata": {},
     "output_type": "execute_result"
    }
   ],
   "source": [
    "tv.head()"
   ]
  },
  {
   "cell_type": "code",
   "execution_count": 4,
   "metadata": {},
   "outputs": [
    {
     "name": "stdout",
     "output_type": "stream",
     "text": [
      "(13958, 180)\n"
     ]
    },
    {
     "data": {
      "text/plain": [
       "Index(['Run', 'Program Version', 'Minutes Spent', 'Points', 'weeklywage',\n",
       "       'wageorsalary', 'transfer', 'totalweeks', 'totalhoursyearly',\n",
       "       'totalannualwage',\n",
       "       ...\n",
       "       'Do you have one job, or do you work several jobs? (umadzt9)',\n",
       "       'At your 2nd job, how many hours do you work *per week* in total, on weeks when you are not on vacation? (tqli88s)',\n",
       "       'Do you know roughly how much your 2nd job pays you *on an hourly basis*, including benefits? (00)',\n",
       "       'What is your current *annual after-tax salary*? (tlotksk)',\n",
       "       'Are you paid an hourly wage by your job, or do you draw an annual salary? (-xk33y2j)',\n",
       "       'Are you paid an hourly wage by your 1st job, or do you draw an annual salary? (-xk33y2j)',\n",
       "       'What's the minimum *hourly* wage you would be willing to accept for this job, under the conditions described above? (00)',\n",
       "       'Do you enjoy your current work? (00)',\n",
       "       'What is your current *after-tax annual* salary? (00)',\n",
       "       'What's the total value of any dental insurance you receive every year at this job? (00)'],\n",
       "      dtype='object', length=180)"
      ]
     },
     "execution_count": 4,
     "metadata": {},
     "output_type": "execute_result"
    }
   ],
   "source": [
    "tv_num = tv.select_dtypes(include=['float64', 'int64'])\n",
    "print(tv_num.shape)\n",
    "tv_num.columns"
   ]
  },
  {
   "cell_type": "markdown",
   "metadata": {},
   "source": [
    "### Explanation of variables:\n",
    "\n",
    "There are 423 columns in the original dataset. Most of them are not useful, or have been used as intermediary steps to find other values.\n",
    "\n",
    "Based on notes from Spencer Greenberg and the source code of the Value Of time Test we've identified columns/variables that could be helpful for our later analysis:\n",
    "\n",
    "* `hoursweekly` = totalhoursyearly / 52\n",
    "* `weeklywage` = totalannualwage / 52\n",
    "* `currentwage` = totalannualwage / totalhoursyearly\n",
    "* `onejobhoursweekly` answer to: At your {`jobsText`}, how many hours do you work *per week* in total, on weeks when you are not on vacation?\n",
    "* `paidweeks` = How many weeks do you work every year at this job?\n",
    "* `jobask` = How many jobs the person has if more than 1.\n",
    "* `jobnumber` = number of jobs the person has\n",
    "* `enjoy` = answer to = Do you enjoy your current work? (yes, no, somewhat)\n",
    "* `employment` = is the person emplyed (1), or not (0)\n",
    "* `Z`= hoursweekly * currentwage\n",
    "* `symbol` = currency symbol (`choseOtherCurrency` =1, if currency 'Other' was chosen\n",
    "* `jobtotal` = ?\n",
    "* `wageorsalary` = Are you paid an hourly wage by your {jobsText}, or do you draw an annual salary? (wage =1, salary=2)\n",
    "* `E` = final value of time per h. (calculated using formulas from line 599)\n",
    "\n",
    "**Value *hourminimum* comes from the hourminimum question:**\n",
    "Suppose that your current main job disappears, but you immediately come across an opportunity to take a very similar job at which you'd do work that you like about as much as your current work, and at which you'd work about the same number of hours per week. Also suppose that you feel confident in your ability to find another stable job even if you pass up this opportunity.\n",
    "* `hourminimum` =  Answer to: What's the minimum *hourly, after-tax wage* you would be willing to accept for this job, under the conditions described above?\n",
    "\n",
    "**Value *A* comes from the parttime question:**\n",
    "Say someone offers you a part-time job that you only do for *one hour per week*, on top of your current work. Suppose that this part-time job involves neutral work that you neither like nor dislike, and (\"it doesn't conflict with your main job in any way — their schedules don't overlap and your employers at your main job don't mind if you take on outside work\" or \"your current schedule in any way\"). You're also not going to really learn anything new by doing this work.\n",
    "`parttime` = answer to How much money *per hour, after tax,* would someone have to offer you to take this job?\n",
    "`A` = parttime\n",
    "    \n",
    "**Value *B* comes from the chores question:**\n",
    "Say you have a neutral (i.e. neither pleasant nor unpleasant) 4-hour personal task to take care of this weekend. You also have the opportunity to pay for the use of a machine which would allow you to complete the task in just *2 minutes, instead of 4 hours.*\n",
    "* `chore` = answer to What's the maximum amount of money you'd be willing to pay to use this machine? \n",
    "* `B` = chore /4 (value per hour of skipping chores)\n",
    "\n",
    "\n",
    "**Value *C* comes from the gift certificate question:**\n",
    "Say you come across an opportunity to get a {symbol}100 gift certificate to a store that you shop at very regularly, but the promotion requires you to wait in line at the store to receive your certificate. Suppose that you have some form of minimal entertainment with you, so the time you spend waiting will be neither especially pleasant nor especially unpleasant.\n",
    "* `certif` = How long *in minutes* would you be willing to wait for it?\n",
    "* `C` = 100 / (certif/60)\n",
    "\n",
    "\n",
    "**Value *D* comes from the transfer question:**\n",
    "\n",
    "Say you're offered a transfer within your company. If you take the transfer, your new position would involve doing work that you enjoy about as much as your current work, but that would require you to work 10% more hours per week than your current job does. On the bright side, if you take this transfer, you also get a raise, and you won't have to move from your current home.\n",
    "\n",
    "* `transfer` =  answer to: What's the minimum *total* amount of money this new position would have to pay you *per week, after tax,* in order for you to take it?\n",
    "* `D` = (transfer - (hoursweekly * currentwage)) / (hoursweekly * 0.1)\n",
    "    - enjoy = \"Somewhat\"\n",
    "        * D = (transfer - (hoursweekly * currentwage)) / (hoursweekly * 0.1)\n",
    "    -  enjoy = \"No\"\n",
    "        * D = ((transfer - (hoursweekly * currentwage)) / (hoursweekly * 0.1)) / 1.037\n",
    "\n",
    "Only people with employment=1 and one job got  `transferquestion`\n",
    "\n",
    "Others get:\n",
    "\n",
    "Imagine that you're in a city you haven't visited before. You've got plans on the other side of town, but they're way too far away for you to walk there. In this particular city, you have 2 options: you can take the local train, which is cheap, or you can take the express train, which is more expensive but which will *save you a full hour of travel time.* (Suppose your plans aren't time-sensitive, and that you don't have anything fun to do on the train — you'll just be waiting in your seat throughout the ride, and there isn't really anything to see outside the window.)\n",
    "* train = `D`\n",
    "\n",
    "Based on this selection we can create a base table."
   ]
  },
  {
   "cell_type": "code",
   "execution_count": 5,
   "metadata": {},
   "outputs": [
    {
     "data": {
      "text/html": [
       "<div>\n",
       "<style scoped>\n",
       "    .dataframe tbody tr th:only-of-type {\n",
       "        vertical-align: middle;\n",
       "    }\n",
       "\n",
       "    .dataframe tbody tr th {\n",
       "        vertical-align: top;\n",
       "    }\n",
       "\n",
       "    .dataframe thead th {\n",
       "        text-align: right;\n",
       "    }\n",
       "</style>\n",
       "<table border=\"1\" class=\"dataframe\">\n",
       "  <thead>\n",
       "    <tr style=\"text-align: right;\">\n",
       "      <th></th>\n",
       "      <th>employment</th>\n",
       "      <th>wageorsalary</th>\n",
       "      <th>symbol</th>\n",
       "      <th>choseOtherCurrency</th>\n",
       "      <th>currentwage</th>\n",
       "      <th>A</th>\n",
       "      <th>B</th>\n",
       "      <th>C</th>\n",
       "      <th>E</th>\n",
       "      <th>hoursweekly</th>\n",
       "      <th>...</th>\n",
       "      <th>D</th>\n",
       "      <th>hourminimum</th>\n",
       "      <th>jobnumber</th>\n",
       "      <th>weeklywage</th>\n",
       "      <th>jobask</th>\n",
       "      <th>totalweeks</th>\n",
       "      <th>totalhoursyearly</th>\n",
       "      <th>totalannualwage</th>\n",
       "      <th>transferquestion</th>\n",
       "      <th>jobtotal</th>\n",
       "    </tr>\n",
       "  </thead>\n",
       "  <tbody>\n",
       "    <tr>\n",
       "      <th>0</th>\n",
       "      <td>1</td>\n",
       "      <td>0</td>\n",
       "      <td>$</td>\n",
       "      <td>0</td>\n",
       "      <td>20.086294</td>\n",
       "      <td>20.0</td>\n",
       "      <td>12.5</td>\n",
       "      <td>2.000000e+02</td>\n",
       "      <td>20.000000</td>\n",
       "      <td>37.884615</td>\n",
       "      <td>...</td>\n",
       "      <td>20.000000</td>\n",
       "      <td>25.0</td>\n",
       "      <td>2.0</td>\n",
       "      <td>760.961538</td>\n",
       "      <td>2</td>\n",
       "      <td>0</td>\n",
       "      <td>1970.0</td>\n",
       "      <td>39570.0</td>\n",
       "      <td>no</td>\n",
       "      <td>0</td>\n",
       "    </tr>\n",
       "    <tr>\n",
       "      <th>1</th>\n",
       "      <td>0</td>\n",
       "      <td>0</td>\n",
       "      <td>$</td>\n",
       "      <td>0</td>\n",
       "      <td>0.000000</td>\n",
       "      <td>30.0</td>\n",
       "      <td>58524558.5</td>\n",
       "      <td>1.850656e-10</td>\n",
       "      <td>47.500000</td>\n",
       "      <td>0.000000</td>\n",
       "      <td>...</td>\n",
       "      <td>65.000000</td>\n",
       "      <td>0.0</td>\n",
       "      <td>0.0</td>\n",
       "      <td>0.000000</td>\n",
       "      <td>0</td>\n",
       "      <td>0</td>\n",
       "      <td>0.0</td>\n",
       "      <td>0.0</td>\n",
       "      <td>no</td>\n",
       "      <td>0</td>\n",
       "    </tr>\n",
       "    <tr>\n",
       "      <th>2</th>\n",
       "      <td>1</td>\n",
       "      <td>2</td>\n",
       "      <td>$</td>\n",
       "      <td>0</td>\n",
       "      <td>21.151709</td>\n",
       "      <td>30.0</td>\n",
       "      <td>12.5</td>\n",
       "      <td>5.000000e+01</td>\n",
       "      <td>31.463675</td>\n",
       "      <td>45.000000</td>\n",
       "      <td>...</td>\n",
       "      <td>32.927350</td>\n",
       "      <td>22.0</td>\n",
       "      <td>1.0</td>\n",
       "      <td>951.826923</td>\n",
       "      <td>1</td>\n",
       "      <td>0</td>\n",
       "      <td>2340.0</td>\n",
       "      <td>49495.0</td>\n",
       "      <td>yes</td>\n",
       "      <td>0</td>\n",
       "    </tr>\n",
       "    <tr>\n",
       "      <th>3</th>\n",
       "      <td>1</td>\n",
       "      <td>0</td>\n",
       "      <td>$</td>\n",
       "      <td>0</td>\n",
       "      <td>75.000000</td>\n",
       "      <td>100.0</td>\n",
       "      <td>25.0</td>\n",
       "      <td>1.200000e+03</td>\n",
       "      <td>120.370370</td>\n",
       "      <td>41.538462</td>\n",
       "      <td>...</td>\n",
       "      <td>140.740741</td>\n",
       "      <td>60.0</td>\n",
       "      <td>1.0</td>\n",
       "      <td>3115.384615</td>\n",
       "      <td>1</td>\n",
       "      <td>0</td>\n",
       "      <td>2160.0</td>\n",
       "      <td>162000.0</td>\n",
       "      <td>yes</td>\n",
       "      <td>0</td>\n",
       "    </tr>\n",
       "    <tr>\n",
       "      <th>4</th>\n",
       "      <td>1</td>\n",
       "      <td>2</td>\n",
       "      <td>$</td>\n",
       "      <td>0</td>\n",
       "      <td>49.807692</td>\n",
       "      <td>49.0</td>\n",
       "      <td>12.5</td>\n",
       "      <td>5.000000e+01</td>\n",
       "      <td>49.500000</td>\n",
       "      <td>50.000000</td>\n",
       "      <td>...</td>\n",
       "      <td>101.923077</td>\n",
       "      <td>49.0</td>\n",
       "      <td>1.0</td>\n",
       "      <td>2490.384615</td>\n",
       "      <td>1</td>\n",
       "      <td>0</td>\n",
       "      <td>2600.0</td>\n",
       "      <td>129500.0</td>\n",
       "      <td>yes</td>\n",
       "      <td>0</td>\n",
       "    </tr>\n",
       "  </tbody>\n",
       "</table>\n",
       "<p>5 rows × 23 columns</p>\n",
       "</div>"
      ],
      "text/plain": [
       "   employment  wageorsalary symbol  choseOtherCurrency  currentwage      A  \\\n",
       "0           1             0      $                   0    20.086294   20.0   \n",
       "1           0             0      $                   0     0.000000   30.0   \n",
       "2           1             2      $                   0    21.151709   30.0   \n",
       "3           1             0      $                   0    75.000000  100.0   \n",
       "4           1             2      $                   0    49.807692   49.0   \n",
       "\n",
       "            B             C           E  hoursweekly  ...           D  \\\n",
       "0        12.5  2.000000e+02   20.000000    37.884615  ...   20.000000   \n",
       "1  58524558.5  1.850656e-10   47.500000     0.000000  ...   65.000000   \n",
       "2        12.5  5.000000e+01   31.463675    45.000000  ...   32.927350   \n",
       "3        25.0  1.200000e+03  120.370370    41.538462  ...  140.740741   \n",
       "4        12.5  5.000000e+01   49.500000    50.000000  ...  101.923077   \n",
       "\n",
       "  hourminimum  jobnumber   weeklywage  jobask  totalweeks  totalhoursyearly  \\\n",
       "0        25.0        2.0   760.961538       2           0            1970.0   \n",
       "1         0.0        0.0     0.000000       0           0               0.0   \n",
       "2        22.0        1.0   951.826923       1           0            2340.0   \n",
       "3        60.0        1.0  3115.384615       1           0            2160.0   \n",
       "4        49.0        1.0  2490.384615       1           0            2600.0   \n",
       "\n",
       "   totalannualwage  transferquestion  jobtotal  \n",
       "0          39570.0                no         0  \n",
       "1              0.0                no         0  \n",
       "2          49495.0               yes         0  \n",
       "3         162000.0               yes         0  \n",
       "4         129500.0               yes         0  \n",
       "\n",
       "[5 rows x 23 columns]"
      ]
     },
     "execution_count": 5,
     "metadata": {},
     "output_type": "execute_result"
    }
   ],
   "source": [
    "base_tv = tv[['employment', 'wageorsalary','symbol','choseOtherCurrency','currentwage','A','B','C','E',\n",
    "    'hoursweekly','Z','enjoy','transfer', 'D', \n",
    "    'hourminimum','jobnumber','weeklywage','jobask',\n",
    "    'totalweeks','totalhoursyearly','totalannualwage','transferquestion',\n",
    "    'jobtotal']]\n",
    "base_tv.head()"
   ]
  },
  {
   "cell_type": "code",
   "execution_count": 6,
   "metadata": {},
   "outputs": [
    {
     "data": {
      "text/plain": [
       "(13958, 23)"
      ]
     },
     "execution_count": 6,
     "metadata": {},
     "output_type": "execute_result"
    }
   ],
   "source": [
    "base_tv.shape"
   ]
  },
  {
   "cell_type": "code",
   "execution_count": 7,
   "metadata": {},
   "outputs": [],
   "source": [
    "# create a list of columsn where d type is object\n",
    "objs = []\n",
    "for n in range(0,len(base_tv.dtypes)):\n",
    "    i = base_tv.dtypes.index[n]\n",
    "    if base_tv.dtypes[n] == 'O':\n",
    "        objs.append(i)"
   ]
  },
  {
   "cell_type": "code",
   "execution_count": 8,
   "metadata": {},
   "outputs": [
    {
     "data": {
      "text/plain": [
       "employment              0\n",
       "wageorsalary            0\n",
       "choseOtherCurrency      0\n",
       "currentwage             2\n",
       "A                       0\n",
       "B                       0\n",
       "C                       0\n",
       "E                       0\n",
       "hoursweekly             0\n",
       "Z                       2\n",
       "transfer                0\n",
       "D                     218\n",
       "hourminimum             0\n",
       "jobnumber               0\n",
       "weeklywage              2\n",
       "jobask                  0\n",
       "totalweeks              0\n",
       "totalhoursyearly        0\n",
       "totalannualwage         2\n",
       "jobtotal                0\n",
       "dtype: int64"
      ]
     },
     "execution_count": 8,
     "metadata": {},
     "output_type": "execute_result"
    }
   ],
   "source": [
    "# remove obj clumns temporarily to be able to filter by numerical values\n",
    "base_tv_noobj = base_tv.drop(columns=objs)\n",
    "\n",
    "#check for values lower than 0\n",
    "base_tv_noobj[base_tv_noobj<0].notna().sum()"
   ]
  },
  {
   "cell_type": "markdown",
   "metadata": {},
   "source": [
    "There are two rows wher the current wage and total annual wage are entered as negative. We can investigate these. Perhaps these are people who don't earn, but are paying off a debt? (Rare but possible.)"
   ]
  },
  {
   "cell_type": "code",
   "execution_count": 9,
   "metadata": {},
   "outputs": [
    {
     "data": {
      "text/html": [
       "<div>\n",
       "<style scoped>\n",
       "    .dataframe tbody tr th:only-of-type {\n",
       "        vertical-align: middle;\n",
       "    }\n",
       "\n",
       "    .dataframe tbody tr th {\n",
       "        vertical-align: top;\n",
       "    }\n",
       "\n",
       "    .dataframe thead th {\n",
       "        text-align: right;\n",
       "    }\n",
       "</style>\n",
       "<table border=\"1\" class=\"dataframe\">\n",
       "  <thead>\n",
       "    <tr style=\"text-align: right;\">\n",
       "      <th></th>\n",
       "      <th>employment</th>\n",
       "      <th>wageorsalary</th>\n",
       "      <th>choseOtherCurrency</th>\n",
       "      <th>currentwage</th>\n",
       "      <th>A</th>\n",
       "      <th>B</th>\n",
       "      <th>C</th>\n",
       "      <th>E</th>\n",
       "      <th>hoursweekly</th>\n",
       "      <th>Z</th>\n",
       "      <th>transfer</th>\n",
       "      <th>D</th>\n",
       "      <th>hourminimum</th>\n",
       "      <th>jobnumber</th>\n",
       "      <th>weeklywage</th>\n",
       "      <th>jobask</th>\n",
       "      <th>totalweeks</th>\n",
       "      <th>totalhoursyearly</th>\n",
       "      <th>totalannualwage</th>\n",
       "      <th>jobtotal</th>\n",
       "    </tr>\n",
       "  </thead>\n",
       "  <tbody>\n",
       "    <tr>\n",
       "      <th>1613</th>\n",
       "      <td>1</td>\n",
       "      <td>2</td>\n",
       "      <td>0</td>\n",
       "      <td>-4.327619</td>\n",
       "      <td>30.0</td>\n",
       "      <td>20.0</td>\n",
       "      <td>50.0</td>\n",
       "      <td>25.0</td>\n",
       "      <td>50.480769</td>\n",
       "      <td>-218.461538</td>\n",
       "      <td>0.0</td>\n",
       "      <td>10.0</td>\n",
       "      <td>35.0</td>\n",
       "      <td>2.0</td>\n",
       "      <td>-218.461538</td>\n",
       "      <td>2</td>\n",
       "      <td>0</td>\n",
       "      <td>2625.0</td>\n",
       "      <td>-11360.0</td>\n",
       "      <td>0</td>\n",
       "    </tr>\n",
       "    <tr>\n",
       "      <th>3096</th>\n",
       "      <td>1</td>\n",
       "      <td>0</td>\n",
       "      <td>0</td>\n",
       "      <td>-933.840757</td>\n",
       "      <td>20.0</td>\n",
       "      <td>10.0</td>\n",
       "      <td>50.0</td>\n",
       "      <td>15.0</td>\n",
       "      <td>31.519231</td>\n",
       "      <td>-29433.942308</td>\n",
       "      <td>0.0</td>\n",
       "      <td>10.0</td>\n",
       "      <td>15.0</td>\n",
       "      <td>5.0</td>\n",
       "      <td>-29433.942308</td>\n",
       "      <td>5</td>\n",
       "      <td>0</td>\n",
       "      <td>1639.0</td>\n",
       "      <td>-1530565.0</td>\n",
       "      <td>0</td>\n",
       "    </tr>\n",
       "  </tbody>\n",
       "</table>\n",
       "</div>"
      ],
      "text/plain": [
       "      employment  wageorsalary  choseOtherCurrency  currentwage     A     B  \\\n",
       "1613           1             2                   0    -4.327619  30.0  20.0   \n",
       "3096           1             0                   0  -933.840757  20.0  10.0   \n",
       "\n",
       "         C     E  hoursweekly             Z  transfer     D  hourminimum  \\\n",
       "1613  50.0  25.0    50.480769   -218.461538       0.0  10.0         35.0   \n",
       "3096  50.0  15.0    31.519231 -29433.942308       0.0  10.0         15.0   \n",
       "\n",
       "      jobnumber    weeklywage  jobask  totalweeks  totalhoursyearly  \\\n",
       "1613        2.0   -218.461538       2           0            2625.0   \n",
       "3096        5.0 -29433.942308       5           0            1639.0   \n",
       "\n",
       "      totalannualwage  jobtotal  \n",
       "1613         -11360.0         0  \n",
       "3096       -1530565.0         0  "
      ]
     },
     "execution_count": 9,
     "metadata": {},
     "output_type": "execute_result"
    }
   ],
   "source": [
    "base_tv_noobj[base_tv_noobj['currentwage']<0]"
   ]
  },
  {
   "cell_type": "markdown",
   "metadata": {},
   "source": [
    "The two values have employment= 1 and negative earnings. We can assume these were mistakenly put values/values added as a joke and remove them, as they might skew later results."
   ]
  },
  {
   "cell_type": "code",
   "execution_count": 10,
   "metadata": {},
   "outputs": [],
   "source": [
    "#remove negative values\n",
    "base_tv = base_tv[base_tv.currentwage >= 0.0]"
   ]
  },
  {
   "cell_type": "code",
   "execution_count": 11,
   "metadata": {},
   "outputs": [
    {
     "data": {
      "text/plain": [
       "(13913, 23)"
      ]
     },
     "execution_count": 11,
     "metadata": {},
     "output_type": "execute_result"
    }
   ],
   "source": [
    "base_tv.shape"
   ]
  },
  {
   "cell_type": "markdown",
   "metadata": {},
   "source": [
    "More than 2 values were removed (45), looks like there were more than two negative values in this column.\n",
    "\n",
    "There are also 218 records in the dataframe where the answer to question D has a negative value. But, looking at the formula that generates the answer this is a plausible result."
   ]
  },
  {
   "cell_type": "markdown",
   "metadata": {},
   "source": [
    "## Currencies & missing values\n",
    "\n",
    "There are several currencies in the dataset, respondents give values with their currency in mind. The distribution of values entered each currency can differ, which is something to bear in mind for later analysis.\n",
    "\n",
    "Performing later calculations, or filling in missing values (if necessary) would be best done based on currency groupings."
   ]
  },
  {
   "cell_type": "code",
   "execution_count": 12,
   "metadata": {},
   "outputs": [
    {
     "data": {
      "text/plain": [
       "0    13913\n",
       "Name: choseOtherCurrency, dtype: int64"
      ]
     },
     "execution_count": 12,
     "metadata": {},
     "output_type": "execute_result"
    }
   ],
   "source": [
    "# check if any participant used other curency than the main ones\n",
    "base_tv['choseOtherCurrency'].value_counts()"
   ]
  },
  {
   "cell_type": "markdown",
   "metadata": {},
   "source": [
    "There are no other currencies than dollars, rupees, pounds, rubles, euros, shekels, or pesos in the data frame."
   ]
  },
  {
   "cell_type": "code",
   "execution_count": 13,
   "metadata": {},
   "outputs": [
    {
     "data": {
      "text/plain": [
       "$      10581\n",
       "‚Ç¨     1894\n",
       "¬£      1018\n",
       "‚Ç™      225\n",
       "INR      166\n",
       "RUB       29\n",
       "Name: symbol, dtype: int64"
      ]
     },
     "execution_count": 13,
     "metadata": {},
     "output_type": "execute_result"
    }
   ],
   "source": [
    "base_tv['symbol'].value_counts(dropna=False)"
   ]
  },
  {
   "cell_type": "markdown",
   "metadata": {},
   "source": [
    "Thre are two unknown symbols here ‚Ç¨ and ‚Ç™. Given the choices given in the answer to the currency question one has to be euros and the other shekels. Given the worldwide usage of these, I'm assuming ‚Ç¨ is euros and ‚Ç™ is shekels."
   ]
  },
  {
   "cell_type": "code",
   "execution_count": 14,
   "metadata": {},
   "outputs": [],
   "source": [
    "# replace values with ISO 4217 currency codes\n",
    "base_tv['symbol'] = base_tv['symbol'].replace('‚Ç™', 'NIS').replace(\"¬£\", \"GBP\").replace(\"‚Ç¨\", \"EUR\")"
   ]
  },
  {
   "cell_type": "code",
   "execution_count": 15,
   "metadata": {},
   "outputs": [],
   "source": [
    "#dropping nans if there are any in that column\n",
    "base_tv['symbol'].dropna(inplace=True)"
   ]
  },
  {
   "cell_type": "code",
   "execution_count": 16,
   "metadata": {},
   "outputs": [],
   "source": [
    "# group the dataframe by symbol\n",
    "currency_grouped = base_tv.groupby(by='symbol')"
   ]
  },
  {
   "cell_type": "code",
   "execution_count": 17,
   "metadata": {},
   "outputs": [
    {
     "data": {
      "text/plain": [
       "symbol\n",
       "$      1181921331316187629690177482364825212726422367...\n",
       "EUR                                                 43.2\n",
       "GBP          49115913556483304672369347560493564297216.0\n",
       "INR                                              15961.6\n",
       "NIS                                                220.5\n",
       "RUB                                       215517244141.1\n",
       "Name: E, dtype: object"
      ]
     },
     "execution_count": 17,
     "metadata": {},
     "output_type": "execute_result"
    }
   ],
   "source": [
    "#check means in column E per currency\n",
    "currency_grouped_means = currency_grouped.mean()\n",
    "currency_grouped_means['E'].apply(lambda x: '%.1f' % x)"
   ]
  },
  {
   "cell_type": "markdown",
   "metadata": {},
   "source": [
    "Very high means for $ and GBP suggest the presence of outliers. \n",
    "**Decision**: We'll have to remove them from each currency group."
   ]
  },
  {
   "cell_type": "code",
   "execution_count": 18,
   "metadata": {},
   "outputs": [
    {
     "data": {
      "text/plain": [
       "employment              0\n",
       "wageorsalary            0\n",
       "symbol                  0\n",
       "choseOtherCurrency      0\n",
       "currentwage             0\n",
       "A                       2\n",
       "B                       2\n",
       "C                     113\n",
       "E                       6\n",
       "hoursweekly             0\n",
       "Z                       0\n",
       "enjoy                   0\n",
       "transfer                0\n",
       "D                       5\n",
       "hourminimum             0\n",
       "jobnumber               0\n",
       "weeklywage              0\n",
       "jobask                  0\n",
       "totalweeks              0\n",
       "totalhoursyearly        0\n",
       "totalannualwage         0\n",
       "transferquestion        0\n",
       "jobtotal                0\n",
       "dtype: int64"
      ]
     },
     "execution_count": 18,
     "metadata": {},
     "output_type": "execute_result"
    }
   ],
   "source": [
    "# check for nans\n",
    "base_tv.isna().sum()"
   ]
  },
  {
   "cell_type": "markdown",
   "metadata": {},
   "source": [
    "There are also several missing values in the dataframe which we should handle. Considering the small number, it will be easier & quicker to simply drop them."
   ]
  },
  {
   "cell_type": "code",
   "execution_count": 19,
   "metadata": {},
   "outputs": [],
   "source": [
    "base_tv_clean = base_tv.dropna()"
   ]
  },
  {
   "cell_type": "code",
   "execution_count": 20,
   "metadata": {},
   "outputs": [
    {
     "name": "stdout",
     "output_type": "stream",
     "text": [
      "Yay! All nans are gone!\n"
     ]
    }
   ],
   "source": [
    "# check\n",
    "counter = 0\n",
    "\n",
    "for each in  base_tv_clean.isna().sum():\n",
    "    if base_tv_clean.isna().sum()[each] > 0:\n",
    "        counter+=0\n",
    "        \n",
    "if counter > 0:\n",
    "    print(\"Still some nans!\")\n",
    "else:\n",
    "    print(\"Yay! All nans are gone!\")"
   ]
  },
  {
   "cell_type": "markdown",
   "metadata": {},
   "source": [
    "## Handling outliers"
   ]
  },
  {
   "cell_type": "code",
   "execution_count": 21,
   "metadata": {},
   "outputs": [],
   "source": [
    "# function to remove outliers from a df\n",
    "# takes in df and col returns df without the rows that had outliers in the specified column\n",
    "def remove_outliers(df, column):\n",
    "    Q1 = np.percentile(df[column],25)\n",
    "    Q3 = np.percentile(df[column],75)\n",
    "    IQR = Q3 - Q1\n",
    "    lower_bound = Q1 - 1.5 * IQR\n",
    "    upper_bound = Q3 + 1.5 * IQR\n",
    "    df_no_out_1 = df[df[column]>lower_bound]\n",
    "    df_no_out_2 = df_no_out_1[df_no_out_1[column]<upper_bound]\n",
    "    return df_no_out_2"
   ]
  },
  {
   "cell_type": "code",
   "execution_count": 22,
   "metadata": {},
   "outputs": [
    {
     "data": {
      "text/plain": [
       "<matplotlib.axes._subplots.AxesSubplot at 0x7f943c4e5690>"
      ]
     },
     "execution_count": 22,
     "metadata": {},
     "output_type": "execute_result"
    },
    {
     "data": {
      "image/png": "[encoded data removed]",
      "text/plain": [
       "<Figure size 432x288 with 1 Axes>"
      ]
     },
     "metadata": {
      "needs_background": "light"
     },
     "output_type": "display_data"
    }
   ],
   "source": [
    "#test\n",
    "test_df = remove_outliers(base_tv_clean,'B')\n",
    "sns.boxplot(test_df['B'])"
   ]
  },
  {
   "cell_type": "code",
   "execution_count": 23,
   "metadata": {},
   "outputs": [],
   "source": [
    "# function to remove outliers from a given array\n",
    "def remove_outliers_a(array):\n",
    "    Q1 = np.percentile(array,25)\n",
    "    Q3 = np.percentile(array,75)\n",
    "    IQR = Q3 - Q1\n",
    "    lower_bound = Q1 - 1.5 * IQR\n",
    "    upper_bound = Q3 + 1.5 * IQR\n",
    "    array_noout = array[(array>(Q1-IQR*1.5))&(array<(Q3+IQR*1.5))]\n",
    "    return array_noout"
   ]
  },
  {
   "cell_type": "code",
   "execution_count": 24,
   "metadata": {},
   "outputs": [],
   "source": [
    "# test removing outliers on a part of the dataframe \n",
    "# group df by curency\n",
    "base_tv_filled_gr = base_tv_clean.groupby(by='symbol')\n",
    "gr_usd = base_tv_filled_gr.get_group('$')"
   ]
  },
  {
   "cell_type": "code",
   "execution_count": 25,
   "metadata": {},
   "outputs": [
    {
     "name": "stdout",
     "output_type": "stream",
     "text": [
      "Removing outliers from col A removes 803 rows.\n",
      "Removing outliers from col B removes 775 rows.\n",
      "Removing outliers from col C removes 790 rows.\n",
      "Removing outliers from col D removes 1123 rows.\n",
      "Removing outliers from col E removes 968 rows.\n"
     ]
    }
   ],
   "source": [
    "# check how many outliers are present in each separate column\n",
    "cols = ['A','B','C','D','E']\n",
    "for c in cols:\n",
    "    no_out = remove_outliers(gr_usd, c)\n",
    "    print(\"Removing outliers from col\",c, \"removes\", len(gr_usd)- len(no_out), \"rows.\")"
   ]
  },
  {
   "cell_type": "markdown",
   "metadata": {},
   "source": [
    "We could remove outliers from each column creating a new dataframe, and then merge all resulting dataframes. This however would create many duplicate rows. "
   ]
  },
  {
   "cell_type": "code",
   "execution_count": 26,
   "metadata": {},
   "outputs": [
    {
     "name": "stdout",
     "output_type": "stream",
     "text": [
      "Removing outliers from col A removes 1089 rows\n",
      "    and leaves us with 12707 rows\n",
      "Removing outliers from col B removes 1040 rows\n",
      "    and leaves us with 12756 rows\n",
      "Removing outliers from col C removes 1106 rows\n",
      "    and leaves us with 12690 rows\n",
      "Removing outliers from col D removes 1530 rows\n",
      "    and leaves us with 12266 rows\n",
      "Removing outliers from col E removes 1274 rows\n",
      "    and leaves us with 12522 rows\n",
      "If we merge them all without removing duplicates we'll get a df with 62941 rows.\n"
     ]
    }
   ],
   "source": [
    "lens = []\n",
    "for c in cols:\n",
    "    no_out = remove_outliers(base_tv_clean, c)\n",
    "    lens.append(len(no_out))\n",
    "    print(f'''Removing outliers from col {c} removes {len(base_tv_clean)- len(no_out)} rows\n",
    "    and leaves us with {len(no_out)} rows''')\n",
    "\n",
    "print(\"If we merge them all without removing duplicates we'll get a df with\", sum(lens), \"rows.\")"
   ]
  },
  {
   "cell_type": "code",
   "execution_count": 27,
   "metadata": {},
   "outputs": [
    {
     "name": "stdout",
     "output_type": "stream",
     "text": [
      "If we remove all the outliers & duplicates we should expect around 12222 rows.\n"
     ]
    }
   ],
   "source": [
    "print(\"If we remove all the outliers & duplicates we should expect around\", len(base_tv_clean) - 1574, \"rows.\")"
   ]
  },
  {
   "cell_type": "markdown",
   "metadata": {},
   "source": [
    "Given the values in columns A-E are input in differnt currencies, we can only remove outliers for each currency group separately. "
   ]
  },
  {
   "cell_type": "code",
   "execution_count": 28,
   "metadata": {},
   "outputs": [
    {
     "name": "stdout",
     "output_type": "stream",
     "text": [
      "48046\n",
      "10213\n",
      "10213\n",
      "8637\n",
      "1855\n",
      "12068\n",
      "4702\n",
      "1008\n",
      "13076\n",
      "1009\n",
      "221\n",
      "13297\n",
      "672\n",
      "153\n",
      "13450\n",
      "116\n",
      "25\n",
      "13475\n"
     ]
    }
   ],
   "source": [
    "#create an empty df to which we append cleaned grouped dataframes\n",
    "base_tv_removed = pd.DataFrame(columns=base_tv_clean.columns)\n",
    "\n",
    "for currency in base_tv_clean['symbol'].value_counts().index:\n",
    "    #group by symbol\n",
    "    base_tv_filled_gr = base_tv_clean.groupby(by='symbol')\n",
    "    #get the group for each unique currency\n",
    "    grouped = base_tv_filled_gr.get_group(currency)\n",
    "    \n",
    "    #create a df to hold the grouped currency with duplicated rows\n",
    "    base_w_duplicates = pd.DataFrame(columns=base_tv_clean.columns)\n",
    "    #specify the columns to clean\n",
    "    cols = ['A','B','C','D','E']\n",
    "    for c in cols:\n",
    "        #apply the function that removes outliers from each column\n",
    "        grouped_no_out = remove_outliers(grouped, c)\n",
    "        #append resulting df to the intermediary df\n",
    "        base_w_duplicates = base_w_duplicates.append(grouped_no_out, ignore_index=True)\n",
    "    #remove duplicated rows from the currency group\n",
    "    print(len(base_w_duplicates))\n",
    "    base_tv_no_dup = base_w_duplicates.drop_duplicates(ignore_index=True)\n",
    "    print(len(base_tv_no_dup))\n",
    "    #append the currency group to the main df\n",
    "    base_tv_removed = base_tv_removed.append(base_tv_no_dup, ignore_index=True)\n",
    "    print(len(base_tv_removed))"
   ]
  },
  {
   "cell_type": "code",
   "execution_count": 29,
   "metadata": {},
   "outputs": [
    {
     "data": {
      "text/plain": [
       "0"
      ]
     },
     "execution_count": 29,
     "metadata": {},
     "output_type": "execute_result"
    }
   ],
   "source": [
    "# check for duplicates\n",
    "base_tv_removed.duplicated().sum()"
   ]
  },
  {
   "cell_type": "code",
   "execution_count": 30,
   "metadata": {},
   "outputs": [
    {
     "name": "stdout",
     "output_type": "stream",
     "text": [
      "This process removed 321 rows. Resulting in 13475 rows.\n"
     ]
    }
   ],
   "source": [
    "print(\"This process removed\", len(base_tv_clean) - len(base_tv_removed), \"rows. Resulting in\", len(base_tv_removed), \"rows.\")"
   ]
  },
  {
   "cell_type": "markdown",
   "metadata": {},
   "source": [
    "This is not the number I expected, which suggests something could have gone wrong.\n",
    "\n",
    "**As a result** we stil should have a dataframe with no missing values, and no outliers. "
   ]
  },
  {
   "cell_type": "code",
   "execution_count": 31,
   "metadata": {},
   "outputs": [
    {
     "data": {
      "text/plain": [
       "<matplotlib.axes._subplots.AxesSubplot at 0x7f943ead5250>"
      ]
     },
     "execution_count": 31,
     "metadata": {},
     "output_type": "execute_result"
    },
    {
     "data": {
      "image/png": "[encoded data removed]",
      "text/plain": [
       "<Figure size 432x288 with 1 Axes>"
      ]
     },
     "metadata": {
      "needs_background": "light"
     },
     "output_type": "display_data"
    }
   ],
   "source": [
    "#check for outliers\n",
    "sns.boxplot(base_tv_removed['B'])"
   ]
  },
  {
   "cell_type": "markdown",
   "metadata": {},
   "source": [
    "Clearly something is wrong here. We'll remove outliers from each currncy group and column in a different way."
   ]
  },
  {
   "cell_type": "markdown",
   "metadata": {},
   "source": [
    "## Difference between employed & unemployed\n",
    "Of the the questions the Value of Time tool was about the respondent's employment status. It'll be interesting to check whethere there is a significant difference in how employed and unemployed people value their time.\n",
    "\n",
    "We'll do it for each currency first, and then for the whole dataframe.\n",
    "\n",
    "We could convert all values into international dollar and remove outliers from the overall, but that could remove disproportional numbers of values from currencies used in locations where the pay is much lower. "
   ]
  },
  {
   "cell_type": "markdown",
   "metadata": {},
   "source": [
    "### USD"
   ]
  },
  {
   "cell_type": "code",
   "execution_count": 32,
   "metadata": {},
   "outputs": [
    {
     "data": {
      "text/plain": [
       "(10213, 23)"
      ]
     },
     "execution_count": 32,
     "metadata": {},
     "output_type": "execute_result"
    }
   ],
   "source": [
    "currency_grouped = base_tv_removed.groupby(by='symbol')\n",
    "currency_usd = currency_grouped.get_group('$')\n",
    "currency_usd.shape "
   ]
  },
  {
   "cell_type": "code",
   "execution_count": 33,
   "metadata": {},
   "outputs": [
    {
     "data": {
      "text/plain": [
       "(7441, 23)"
      ]
     },
     "execution_count": 33,
     "metadata": {},
     "output_type": "execute_result"
    }
   ],
   "source": [
    "# remove outliers from each column\n",
    "# doing a loop here didn't work, hence this ugly code for which i deeply apologize\n",
    "currency_usd_noout = remove_outliers(currency_usd,column = 'E')\n",
    "currency_usd_noout = remove_outliers(currency_usd_noout,column = 'B')\n",
    "currency_usd_noout = remove_outliers(currency_usd_noout,column = 'A')\n",
    "currency_usd_noout = remove_outliers(currency_usd_noout,column = 'C')\n",
    "currency_usd_noout = remove_outliers(currency_usd_noout,column = 'D')\n",
    "currency_usd_noout.shape"
   ]
  },
  {
   "cell_type": "code",
   "execution_count": 34,
   "metadata": {},
   "outputs": [
    {
     "name": "stdout",
     "output_type": "stream",
     "text": [
      "The number of outliers removed is 2772\n"
     ]
    }
   ],
   "source": [
    "print(\"The number of outliers removed is\", currency_usd.shape[0]-currency_usd_noout.shape[0])"
   ]
  },
  {
   "cell_type": "code",
   "execution_count": 35,
   "metadata": {},
   "outputs": [
    {
     "data": {
      "text/plain": [
       "<matplotlib.axes._subplots.AxesSubplot at 0x7f943e9204d0>"
      ]
     },
     "execution_count": 35,
     "metadata": {},
     "output_type": "execute_result"
    },
    {
     "data": {
      "image/png": "[encoded data removed]",
      "text/plain": [
       "<Figure size 432x288 with 1 Axes>"
      ]
     },
     "metadata": {
      "needs_background": "light"
     },
     "output_type": "display_data"
    }
   ],
   "source": [
    "sns.boxplot(x=currency_usd_noout['E'])"
   ]
  },
  {
   "cell_type": "code",
   "execution_count": 36,
   "metadata": {},
   "outputs": [
    {
     "data": {
      "text/html": [
       "<div>\n",
       "<style scoped>\n",
       "    .dataframe tbody tr th:only-of-type {\n",
       "        vertical-align: middle;\n",
       "    }\n",
       "\n",
       "    .dataframe tbody tr th {\n",
       "        vertical-align: top;\n",
       "    }\n",
       "\n",
       "    .dataframe thead th {\n",
       "        text-align: right;\n",
       "    }\n",
       "</style>\n",
       "<table border=\"1\" class=\"dataframe\">\n",
       "  <thead>\n",
       "    <tr style=\"text-align: right;\">\n",
       "      <th></th>\n",
       "      <th>A</th>\n",
       "      <th>B</th>\n",
       "      <th>C</th>\n",
       "      <th>D</th>\n",
       "      <th>E</th>\n",
       "    </tr>\n",
       "    <tr>\n",
       "      <th>employment</th>\n",
       "      <th></th>\n",
       "      <th></th>\n",
       "      <th></th>\n",
       "      <th></th>\n",
       "      <th></th>\n",
       "    </tr>\n",
       "  </thead>\n",
       "  <tbody>\n",
       "    <tr>\n",
       "      <th>0</th>\n",
       "      <td>29.575375</td>\n",
       "      <td>8.385201</td>\n",
       "      <td>110.328045</td>\n",
       "      <td>13.168742</td>\n",
       "      <td>21.707228</td>\n",
       "    </tr>\n",
       "    <tr>\n",
       "      <th>1</th>\n",
       "      <td>41.612058</td>\n",
       "      <td>12.910193</td>\n",
       "      <td>130.273823</td>\n",
       "      <td>40.084815</td>\n",
       "      <td>40.151041</td>\n",
       "    </tr>\n",
       "  </tbody>\n",
       "</table>\n",
       "</div>"
      ],
      "text/plain": [
       "                    A          B           C          D          E\n",
       "employment                                                        \n",
       "0           29.575375   8.385201  110.328045  13.168742  21.707228\n",
       "1           41.612058  12.910193  130.273823  40.084815  40.151041"
      ]
     },
     "execution_count": 36,
     "metadata": {},
     "output_type": "execute_result"
    }
   ],
   "source": [
    "# group the USD datafram by employment\n",
    "currency_usd_noout_emp = currency_usd_noout.groupby('employment')\n",
    "\n",
    "# mean values for groups\n",
    "curency_usd_emp_m = currency_usd_noout_emp.mean()\n",
    "curency_usd_emp_m[['A','B','C','D', 'E']]"
   ]
  },
  {
   "cell_type": "code",
   "execution_count": 37,
   "metadata": {},
   "outputs": [
    {
     "data": {
      "text/html": [
       "<div>\n",
       "<style scoped>\n",
       "    .dataframe tbody tr th:only-of-type {\n",
       "        vertical-align: middle;\n",
       "    }\n",
       "\n",
       "    .dataframe tbody tr th {\n",
       "        vertical-align: top;\n",
       "    }\n",
       "\n",
       "    .dataframe thead th {\n",
       "        text-align: right;\n",
       "    }\n",
       "</style>\n",
       "<table border=\"1\" class=\"dataframe\">\n",
       "  <thead>\n",
       "    <tr style=\"text-align: right;\">\n",
       "      <th></th>\n",
       "      <th>A</th>\n",
       "      <th>B</th>\n",
       "      <th>C</th>\n",
       "      <th>D</th>\n",
       "      <th>E</th>\n",
       "    </tr>\n",
       "    <tr>\n",
       "      <th>employment</th>\n",
       "      <th></th>\n",
       "      <th></th>\n",
       "      <th></th>\n",
       "      <th></th>\n",
       "      <th></th>\n",
       "    </tr>\n",
       "  </thead>\n",
       "  <tbody>\n",
       "    <tr>\n",
       "      <th>0</th>\n",
       "      <td>658.717101</td>\n",
       "      <td>97.280279</td>\n",
       "      <td>7817.742600</td>\n",
       "      <td>207.778633</td>\n",
       "      <td>235.283042</td>\n",
       "    </tr>\n",
       "    <tr>\n",
       "      <th>1</th>\n",
       "      <td>744.237306</td>\n",
       "      <td>132.268063</td>\n",
       "      <td>8764.022535</td>\n",
       "      <td>771.713890</td>\n",
       "      <td>492.209439</td>\n",
       "    </tr>\n",
       "  </tbody>\n",
       "</table>\n",
       "</div>"
      ],
      "text/plain": [
       "                     A           B            C           D           E\n",
       "employment                                                             \n",
       "0           658.717101   97.280279  7817.742600  207.778633  235.283042\n",
       "1           744.237306  132.268063  8764.022535  771.713890  492.209439"
      ]
     },
     "execution_count": 37,
     "metadata": {},
     "output_type": "execute_result"
    }
   ],
   "source": [
    "# variance values for groups\n",
    "curency_usd_emp_v = currency_usd_noout_emp.var()\n",
    "curency_usd_emp_v[['A','B','C','D', 'E']]"
   ]
  },
  {
   "cell_type": "markdown",
   "metadata": {},
   "source": [
    "**Statistical difference**\n",
    "To assess whether there are statistically significant differneces between any of the values in columns A to E, between the employed and unemployed population we'll use Welch's t-test (unequal population size & unequal variance).\n",
    "\n",
    "Hypothesis: There is no difference between the means between the employed and unemployed for any of the cols A-E.\n",
    "\n",
    "* _mean.A for employed - mean.A unemployed  =0_"
   ]
  },
  {
   "cell_type": "code",
   "execution_count": 38,
   "metadata": {},
   "outputs": [],
   "source": [
    "cols = ['A','B', 'C', 'D', 'E']\n",
    "\n",
    "#create a dictionary to hold pvalues\n",
    "p_vals_usd = {}\n",
    "\n",
    "for c in cols:\n",
    "    unemployed_c = currency_usd_noout_emp.get_group(0)[c]\n",
    "    employed_c = currency_usd_noout_emp.get_group(1)[c]\n",
    "    \n",
    "    t_test = stats.ttest_ind(unemployed_c, employed_c, equal_var = False)\n",
    "    p_val = t_test[1]\n",
    "    p_vals_usd[c] = p_val"
   ]
  },
  {
   "cell_type": "code",
   "execution_count": 39,
   "metadata": {},
   "outputs": [
    {
     "data": {
      "text/plain": [
       "{'A': 9.051443864039993e-54,\n",
       " 'B': 8.289276130923991e-50,\n",
       " 'C': 3.4577701204083277e-14,\n",
       " 'D': 0.0,\n",
       " 'E': 1.531354307393106e-252}"
      ]
     },
     "execution_count": 39,
     "metadata": {},
     "output_type": "execute_result"
    }
   ],
   "source": [
    "p_vals_usd"
   ]
  },
  {
   "cell_type": "code",
   "execution_count": 40,
   "metadata": {},
   "outputs": [
    {
     "name": "stdout",
     "output_type": "stream",
     "text": [
      "There is a significant difference between the employed and unemployed groups as it comes to column A with a p value of 0.0000000000 .\n",
      "There is a significant difference between the employed and unemployed groups as it comes to column B with a p value of 0.0000000000 .\n",
      "There is a significant difference between the employed and unemployed groups as it comes to column C with a p value of 0.0000000000 .\n",
      "There is a significant difference between the employed and unemployed groups as it comes to column D with a p value of 0.0000000000 .\n",
      "There is a significant difference between the employed and unemployed groups as it comes to column E with a p value of 0.0000000000 .\n"
     ]
    }
   ],
   "source": [
    "float_formatter = lambda x: \"%.10f\" % x\n",
    "for c in cols:\n",
    "    if p_vals_usd[c] <= 0.05:\n",
    "        pval = float_formatter(p_vals_usd[c])\n",
    "        print('There is a significant difference between the employed and unemployed groups as it comes to column', c,'with a p value of',pval,'.' )\n",
    "    else:\n",
    "        print(\"There are no significan't differences.\")"
   ]
  },
  {
   "cell_type": "markdown",
   "metadata": {},
   "source": [
    "## Other currencies\n",
    "We'll repeat the same process for each currency. \n",
    "\n",
    "It will be useful to convert the values into international dollar **after** outliers from each separate currency group are removed, to have a better picture of the whole distribution. "
   ]
  },
  {
   "cell_type": "code",
   "execution_count": 41,
   "metadata": {},
   "outputs": [
    {
     "data": {
      "text/plain": [
       "(1008, 23)"
      ]
     },
     "execution_count": 41,
     "metadata": {},
     "output_type": "execute_result"
    }
   ],
   "source": [
    "# pounds \n",
    "currency_gbp = currency_grouped.get_group('GBP')\n",
    "currency_gbp.shape"
   ]
  },
  {
   "cell_type": "code",
   "execution_count": 42,
   "metadata": {},
   "outputs": [
    {
     "data": {
      "text/plain": [
       "(774, 23)"
      ]
     },
     "execution_count": 42,
     "metadata": {},
     "output_type": "execute_result"
    }
   ],
   "source": [
    "# remove outliers from each column\n",
    "currency_gbp_noout = remove_outliers(currency_gbp,column = 'E')\n",
    "currency_gbp_noout = remove_outliers(currency_gbp_noout,column = 'B')\n",
    "currency_gbp_noout = remove_outliers(currency_gbp_noout,column = 'A')\n",
    "currency_gbp_noout = remove_outliers(currency_gbp_noout,column = 'C')\n",
    "currency_gbp_noout = remove_outliers(currency_gbp_noout,column = 'D')\n",
    "currency_gbp_noout.shape"
   ]
  },
  {
   "cell_type": "code",
   "execution_count": 43,
   "metadata": {},
   "outputs": [
    {
     "name": "stdout",
     "output_type": "stream",
     "text": [
      "The number of outliers removed is 234\n"
     ]
    }
   ],
   "source": [
    "print(\"The number of outliers removed is\", currency_gbp.shape[0]-currency_gbp_noout.shape[0])"
   ]
  },
  {
   "cell_type": "code",
   "execution_count": 44,
   "metadata": {},
   "outputs": [
    {
     "data": {
      "text/plain": [
       "(25, 23)"
      ]
     },
     "execution_count": 44,
     "metadata": {},
     "output_type": "execute_result"
    }
   ],
   "source": [
    "currency_rub = currency_grouped.get_group('RUB')\n",
    "currency_rub.shape"
   ]
  },
  {
   "cell_type": "code",
   "execution_count": 45,
   "metadata": {},
   "outputs": [
    {
     "name": "stdout",
     "output_type": "stream",
     "text": [
      "(20, 23)\n",
      "The number of outliers removed in Rubles group is 5\n"
     ]
    }
   ],
   "source": [
    "# remove outliers from each column\n",
    "currency_rub_noout = remove_outliers(currency_rub,column = 'E')\n",
    "currency_rub_noout = remove_outliers(currency_rub_noout,column = 'B')\n",
    "currency_rub_noout = remove_outliers(currency_rub_noout,column = 'A')\n",
    "currency_rub_noout = remove_outliers(currency_rub_noout,column = 'C')\n",
    "currency_rub_noout = remove_outliers(currency_rub_noout,column = 'D')\n",
    "print(currency_rub_noout.shape)\n",
    "\n",
    "print(\"The number of outliers removed in Rubles group is\", currency_rub.shape[0]-currency_rub_noout.shape[0])"
   ]
  },
  {
   "cell_type": "code",
   "execution_count": 46,
   "metadata": {},
   "outputs": [
    {
     "data": {
      "text/plain": [
       "(1855, 23)"
      ]
     },
     "execution_count": 46,
     "metadata": {},
     "output_type": "execute_result"
    }
   ],
   "source": [
    "# euros\n",
    "currency_eur = currency_grouped.get_group(\"EUR\")\n",
    "currency_eur.shape"
   ]
  },
  {
   "cell_type": "code",
   "execution_count": 47,
   "metadata": {},
   "outputs": [
    {
     "name": "stdout",
     "output_type": "stream",
     "text": [
      "(1415, 23)\n",
      "The number of outliers removed in EUR grouo is 440\n"
     ]
    }
   ],
   "source": [
    "# remove outliers from each column\n",
    "currency_eur_noout = remove_outliers(currency_eur,column = 'E')\n",
    "currency_eur_noout = remove_outliers(currency_eur_noout,column = 'B')\n",
    "currency_eur_noout = remove_outliers(currency_eur_noout,column = 'A')\n",
    "currency_eur_noout = remove_outliers(currency_eur_noout,column = 'C')\n",
    "currency_eur_noout = remove_outliers(currency_eur_noout,column = 'D')\n",
    "print(currency_eur_noout.shape)\n",
    "\n",
    "print(\"The number of outliers removed in EUR grouo is\", currency_eur.shape[0]-currency_eur_noout.shape[0])"
   ]
  },
  {
   "cell_type": "code",
   "execution_count": 48,
   "metadata": {},
   "outputs": [
    {
     "data": {
      "text/plain": [
       "(153, 23)"
      ]
     },
     "execution_count": 48,
     "metadata": {},
     "output_type": "execute_result"
    }
   ],
   "source": [
    "# INR\n",
    "currency_inr = currency_grouped.get_group(\"INR\")\n",
    "currency_inr.shape"
   ]
  },
  {
   "cell_type": "code",
   "execution_count": 49,
   "metadata": {},
   "outputs": [
    {
     "name": "stdout",
     "output_type": "stream",
     "text": [
      "(89, 23)\n",
      "The number of outliers removed in the Rupee group is 64\n"
     ]
    }
   ],
   "source": [
    "# remove outliers from each column\n",
    "currency_inr_noout = remove_outliers(currency_inr,column = 'E')\n",
    "currency_inr_noout = remove_outliers(currency_inr_noout,column = 'B')\n",
    "currency_inr_noout = remove_outliers(currency_inr_noout,column = 'A')\n",
    "currency_inr_noout = remove_outliers(currency_inr_noout,column = 'C')\n",
    "currency_inr_noout = remove_outliers(currency_inr_noout,column = 'D')\n",
    "print(currency_inr_noout.shape)\n",
    "\n",
    "print(\"The number of outliers removed in the Rupee group is\", currency_inr.shape[0]-currency_inr_noout.shape[0])"
   ]
  },
  {
   "cell_type": "code",
   "execution_count": 50,
   "metadata": {},
   "outputs": [
    {
     "data": {
      "text/plain": [
       "(221, 23)"
      ]
     },
     "execution_count": 50,
     "metadata": {},
     "output_type": "execute_result"
    }
   ],
   "source": [
    "# NIS\n",
    "currency_nis = currency_grouped.get_group(\"NIS\")\n",
    "currency_nis.shape"
   ]
  },
  {
   "cell_type": "code",
   "execution_count": 51,
   "metadata": {},
   "outputs": [
    {
     "name": "stdout",
     "output_type": "stream",
     "text": [
      "(89, 23)\n",
      "The number of outliers removed in the Shekel group is 72\n"
     ]
    }
   ],
   "source": [
    "# remove outliers from each column\n",
    "currency_nis_noout = remove_outliers(currency_nis,column = 'E')\n",
    "currency_nis_noout = remove_outliers(currency_nis_noout,column = 'B')\n",
    "currency_nis_noout = remove_outliers(currency_nis_noout,column = 'A')\n",
    "currency_nis_noout = remove_outliers(currency_nis_noout,column = 'C')\n",
    "currency_nis_noout = remove_outliers(currency_nis_noout,column = 'D')\n",
    "print(currency_inr_noout.shape)\n",
    "\n",
    "print(\"The number of outliers removed in the Shekel group is\", currency_nis.shape[0]-currency_nis_noout.shape[0])"
   ]
  },
  {
   "cell_type": "code",
   "execution_count": 52,
   "metadata": {},
   "outputs": [
    {
     "name": "stdout",
     "output_type": "stream",
     "text": [
      "In total this process removed 3908 rows. The new df has 9888 rows.\n"
     ]
    }
   ],
   "source": [
    "# join all dfs with no outliers\n",
    "dfs = [currency_gbp_noout, currency_nis_noout, currency_rub_noout, currency_eur_noout, currency_inr_noout]\n",
    "\n",
    "basetv_noout = currency_usd_noout.append(dfs)\n",
    "print(\"In total this process removed\", base_tv_clean.shape[0] - basetv_noout.shape[0], \"rows. The new df has\", basetv_noout.shape[0], \"rows.\")"
   ]
  },
  {
   "cell_type": "code",
   "execution_count": 53,
   "metadata": {},
   "outputs": [],
   "source": [
    "basetv_noout.to_csv(\"CT_no_outliers.csv\")"
   ]
  },
  {
   "cell_type": "code",
   "execution_count": 54,
   "metadata": {},
   "outputs": [
    {
     "data": {
      "text/html": [
       "<div>\n",
       "<style scoped>\n",
       "    .dataframe tbody tr th:only-of-type {\n",
       "        vertical-align: middle;\n",
       "    }\n",
       "\n",
       "    .dataframe tbody tr th {\n",
       "        vertical-align: top;\n",
       "    }\n",
       "\n",
       "    .dataframe thead th {\n",
       "        text-align: right;\n",
       "    }\n",
       "</style>\n",
       "<table border=\"1\" class=\"dataframe\">\n",
       "  <thead>\n",
       "    <tr style=\"text-align: right;\">\n",
       "      <th></th>\n",
       "      <th></th>\n",
       "      <th>A</th>\n",
       "      <th>B</th>\n",
       "      <th>C</th>\n",
       "      <th>D</th>\n",
       "      <th>E</th>\n",
       "    </tr>\n",
       "    <tr>\n",
       "      <th>symbol</th>\n",
       "      <th>employment</th>\n",
       "      <th></th>\n",
       "      <th></th>\n",
       "      <th></th>\n",
       "      <th></th>\n",
       "      <th></th>\n",
       "    </tr>\n",
       "  </thead>\n",
       "  <tbody>\n",
       "    <tr>\n",
       "      <th rowspan=\"2\" valign=\"top\">$</th>\n",
       "      <th>0</th>\n",
       "      <td>29.575375</td>\n",
       "      <td>8.385201</td>\n",
       "      <td>110.328045</td>\n",
       "      <td>13.168742</td>\n",
       "      <td>21.707228</td>\n",
       "    </tr>\n",
       "    <tr>\n",
       "      <th>1</th>\n",
       "      <td>41.612058</td>\n",
       "      <td>12.910193</td>\n",
       "      <td>130.273823</td>\n",
       "      <td>40.084815</td>\n",
       "      <td>40.151041</td>\n",
       "    </tr>\n",
       "    <tr>\n",
       "      <th rowspan=\"2\" valign=\"top\">EUR</th>\n",
       "      <th>0</th>\n",
       "      <td>24.526613</td>\n",
       "      <td>5.249597</td>\n",
       "      <td>102.789493</td>\n",
       "      <td>9.253360</td>\n",
       "      <td>17.019216</td>\n",
       "    </tr>\n",
       "    <tr>\n",
       "      <th>1</th>\n",
       "      <td>31.929441</td>\n",
       "      <td>7.266289</td>\n",
       "      <td>120.870828</td>\n",
       "      <td>23.872342</td>\n",
       "      <td>27.646145</td>\n",
       "    </tr>\n",
       "    <tr>\n",
       "      <th rowspan=\"2\" valign=\"top\">GBP</th>\n",
       "      <th>0</th>\n",
       "      <td>18.534641</td>\n",
       "      <td>5.379085</td>\n",
       "      <td>90.262297</td>\n",
       "      <td>9.424902</td>\n",
       "      <td>14.502342</td>\n",
       "    </tr>\n",
       "    <tr>\n",
       "      <th>1</th>\n",
       "      <td>24.597617</td>\n",
       "      <td>7.526059</td>\n",
       "      <td>104.249985</td>\n",
       "      <td>21.833649</td>\n",
       "      <td>23.265459</td>\n",
       "    </tr>\n",
       "    <tr>\n",
       "      <th rowspan=\"2\" valign=\"top\">INR</th>\n",
       "      <th>0</th>\n",
       "      <td>466.818182</td>\n",
       "      <td>78.162879</td>\n",
       "      <td>296.533517</td>\n",
       "      <td>150.666667</td>\n",
       "      <td>188.728880</td>\n",
       "    </tr>\n",
       "    <tr>\n",
       "      <th>1</th>\n",
       "      <td>564.375000</td>\n",
       "      <td>115.147321</td>\n",
       "      <td>375.187075</td>\n",
       "      <td>630.204566</td>\n",
       "      <td>385.197445</td>\n",
       "    </tr>\n",
       "    <tr>\n",
       "      <th rowspan=\"2\" valign=\"top\">NIS</th>\n",
       "      <th>0</th>\n",
       "      <td>104.157895</td>\n",
       "      <td>19.605263</td>\n",
       "      <td>211.387560</td>\n",
       "      <td>40.210526</td>\n",
       "      <td>67.359649</td>\n",
       "    </tr>\n",
       "    <tr>\n",
       "      <th>1</th>\n",
       "      <td>135.230769</td>\n",
       "      <td>29.704615</td>\n",
       "      <td>254.910256</td>\n",
       "      <td>104.167855</td>\n",
       "      <td>114.600515</td>\n",
       "    </tr>\n",
       "    <tr>\n",
       "      <th rowspan=\"2\" valign=\"top\">RUB</th>\n",
       "      <th>0</th>\n",
       "      <td>640.750000</td>\n",
       "      <td>68.093750</td>\n",
       "      <td>642.295455</td>\n",
       "      <td>112.625000</td>\n",
       "      <td>206.500000</td>\n",
       "    </tr>\n",
       "    <tr>\n",
       "      <th>1</th>\n",
       "      <td>1459.333333</td>\n",
       "      <td>551.250000</td>\n",
       "      <td>1162.500000</td>\n",
       "      <td>1091.633857</td>\n",
       "      <td>1020.675903</td>\n",
       "    </tr>\n",
       "  </tbody>\n",
       "</table>\n",
       "</div>"
      ],
      "text/plain": [
       "                             A           B            C            D  \\\n",
       "symbol employment                                                      \n",
       "$      0             29.575375    8.385201   110.328045    13.168742   \n",
       "       1             41.612058   12.910193   130.273823    40.084815   \n",
       "EUR    0             24.526613    5.249597   102.789493     9.253360   \n",
       "       1             31.929441    7.266289   120.870828    23.872342   \n",
       "GBP    0             18.534641    5.379085    90.262297     9.424902   \n",
       "       1             24.597617    7.526059   104.249985    21.833649   \n",
       "INR    0            466.818182   78.162879   296.533517   150.666667   \n",
       "       1            564.375000  115.147321   375.187075   630.204566   \n",
       "NIS    0            104.157895   19.605263   211.387560    40.210526   \n",
       "       1            135.230769   29.704615   254.910256   104.167855   \n",
       "RUB    0            640.750000   68.093750   642.295455   112.625000   \n",
       "       1           1459.333333  551.250000  1162.500000  1091.633857   \n",
       "\n",
       "                             E  \n",
       "symbol employment               \n",
       "$      0             21.707228  \n",
       "       1             40.151041  \n",
       "EUR    0             17.019216  \n",
       "       1             27.646145  \n",
       "GBP    0             14.502342  \n",
       "       1             23.265459  \n",
       "INR    0            188.728880  \n",
       "       1            385.197445  \n",
       "NIS    0             67.359649  \n",
       "       1            114.600515  \n",
       "RUB    0            206.500000  \n",
       "       1           1020.675903  "
      ]
     },
     "execution_count": 54,
     "metadata": {},
     "output_type": "execute_result"
    }
   ],
   "source": [
    "# mean values for each question grouped by currency and employment\n",
    "currencies_employment_gr = basetv_noout.groupby(['symbol', 'employment'])\n",
    "currencies_employment_gr_mean = currencies_employment_gr.mean()\n",
    "currencies_employment_gr_mean[cols]"
   ]
  },
  {
   "cell_type": "code",
   "execution_count": 55,
   "metadata": {},
   "outputs": [
    {
     "data": {
      "text/html": [
       "<div>\n",
       "<style scoped>\n",
       "    .dataframe tbody tr th:only-of-type {\n",
       "        vertical-align: middle;\n",
       "    }\n",
       "\n",
       "    .dataframe tbody tr th {\n",
       "        vertical-align: top;\n",
       "    }\n",
       "\n",
       "    .dataframe thead th {\n",
       "        text-align: right;\n",
       "    }\n",
       "</style>\n",
       "<table border=\"1\" class=\"dataframe\">\n",
       "  <thead>\n",
       "    <tr style=\"text-align: right;\">\n",
       "      <th></th>\n",
       "      <th></th>\n",
       "      <th>A</th>\n",
       "      <th>B</th>\n",
       "      <th>C</th>\n",
       "      <th>D</th>\n",
       "      <th>E</th>\n",
       "    </tr>\n",
       "    <tr>\n",
       "      <th>symbol</th>\n",
       "      <th>employment</th>\n",
       "      <th></th>\n",
       "      <th></th>\n",
       "      <th></th>\n",
       "      <th></th>\n",
       "      <th></th>\n",
       "    </tr>\n",
       "  </thead>\n",
       "  <tbody>\n",
       "    <tr>\n",
       "      <th rowspan=\"2\" valign=\"top\">$</th>\n",
       "      <th>0</th>\n",
       "      <td>6.587171e+02</td>\n",
       "      <td>97.280279</td>\n",
       "      <td>7.817743e+03</td>\n",
       "      <td>207.778633</td>\n",
       "      <td>235.283042</td>\n",
       "    </tr>\n",
       "    <tr>\n",
       "      <th>1</th>\n",
       "      <td>7.442373e+02</td>\n",
       "      <td>132.268063</td>\n",
       "      <td>8.764023e+03</td>\n",
       "      <td>771.713890</td>\n",
       "      <td>492.209439</td>\n",
       "    </tr>\n",
       "    <tr>\n",
       "      <th rowspan=\"2\" valign=\"top\">EUR</th>\n",
       "      <th>0</th>\n",
       "      <td>4.421658e+02</td>\n",
       "      <td>34.862159</td>\n",
       "      <td>9.112387e+03</td>\n",
       "      <td>83.854942</td>\n",
       "      <td>156.746050</td>\n",
       "    </tr>\n",
       "    <tr>\n",
       "      <th>1</th>\n",
       "      <td>5.276709e+02</td>\n",
       "      <td>41.284598</td>\n",
       "      <td>9.096905e+03</td>\n",
       "      <td>225.026560</td>\n",
       "      <td>239.534373</td>\n",
       "    </tr>\n",
       "    <tr>\n",
       "      <th rowspan=\"2\" valign=\"top\">GBP</th>\n",
       "      <th>0</th>\n",
       "      <td>1.611862e+02</td>\n",
       "      <td>27.290382</td>\n",
       "      <td>6.651154e+03</td>\n",
       "      <td>86.530903</td>\n",
       "      <td>76.590847</td>\n",
       "    </tr>\n",
       "    <tr>\n",
       "      <th>1</th>\n",
       "      <td>1.877411e+02</td>\n",
       "      <td>42.391297</td>\n",
       "      <td>6.661119e+03</td>\n",
       "      <td>158.971247</td>\n",
       "      <td>111.657149</td>\n",
       "    </tr>\n",
       "    <tr>\n",
       "      <th rowspan=\"2\" valign=\"top\">INR</th>\n",
       "      <th>0</th>\n",
       "      <td>1.627255e+05</td>\n",
       "      <td>5623.170395</td>\n",
       "      <td>3.117306e+04</td>\n",
       "      <td>32386.104167</td>\n",
       "      <td>9715.891614</td>\n",
       "    </tr>\n",
       "    <tr>\n",
       "      <th>1</th>\n",
       "      <td>2.264500e+05</td>\n",
       "      <td>14738.404038</td>\n",
       "      <td>3.436386e+04</td>\n",
       "      <td>202629.603713</td>\n",
       "      <td>55713.863739</td>\n",
       "    </tr>\n",
       "    <tr>\n",
       "      <th rowspan=\"2\" valign=\"top\">NIS</th>\n",
       "      <th>0</th>\n",
       "      <td>4.921251e+03</td>\n",
       "      <td>622.620249</td>\n",
       "      <td>1.264242e+04</td>\n",
       "      <td>1039.730994</td>\n",
       "      <td>1700.374269</td>\n",
       "    </tr>\n",
       "    <tr>\n",
       "      <th>1</th>\n",
       "      <td>4.927078e+03</td>\n",
       "      <td>468.511955</td>\n",
       "      <td>2.418046e+04</td>\n",
       "      <td>4666.123983</td>\n",
       "      <td>2415.639652</td>\n",
       "    </tr>\n",
       "    <tr>\n",
       "      <th rowspan=\"2\" valign=\"top\">RUB</th>\n",
       "      <th>0</th>\n",
       "      <td>1.388539e+06</td>\n",
       "      <td>8873.713170</td>\n",
       "      <td>1.056222e+06</td>\n",
       "      <td>17415.696429</td>\n",
       "      <td>68697.303571</td>\n",
       "    </tr>\n",
       "    <tr>\n",
       "      <th>1</th>\n",
       "      <td>1.115845e+06</td>\n",
       "      <td>295615.340909</td>\n",
       "      <td>8.468750e+05</td>\n",
       "      <td>529890.613898</td>\n",
       "      <td>477786.410072</td>\n",
       "    </tr>\n",
       "  </tbody>\n",
       "</table>\n",
       "</div>"
      ],
      "text/plain": [
       "                              A              B             C              D  \\\n",
       "symbol employment                                                             \n",
       "$      0           6.587171e+02      97.280279  7.817743e+03     207.778633   \n",
       "       1           7.442373e+02     132.268063  8.764023e+03     771.713890   \n",
       "EUR    0           4.421658e+02      34.862159  9.112387e+03      83.854942   \n",
       "       1           5.276709e+02      41.284598  9.096905e+03     225.026560   \n",
       "GBP    0           1.611862e+02      27.290382  6.651154e+03      86.530903   \n",
       "       1           1.877411e+02      42.391297  6.661119e+03     158.971247   \n",
       "INR    0           1.627255e+05    5623.170395  3.117306e+04   32386.104167   \n",
       "       1           2.264500e+05   14738.404038  3.436386e+04  202629.603713   \n",
       "NIS    0           4.921251e+03     622.620249  1.264242e+04    1039.730994   \n",
       "       1           4.927078e+03     468.511955  2.418046e+04    4666.123983   \n",
       "RUB    0           1.388539e+06    8873.713170  1.056222e+06   17415.696429   \n",
       "       1           1.115845e+06  295615.340909  8.468750e+05  529890.613898   \n",
       "\n",
       "                               E  \n",
       "symbol employment                 \n",
       "$      0              235.283042  \n",
       "       1              492.209439  \n",
       "EUR    0              156.746050  \n",
       "       1              239.534373  \n",
       "GBP    0               76.590847  \n",
       "       1              111.657149  \n",
       "INR    0             9715.891614  \n",
       "       1            55713.863739  \n",
       "NIS    0             1700.374269  \n",
       "       1             2415.639652  \n",
       "RUB    0            68697.303571  \n",
       "       1           477786.410072  "
      ]
     },
     "execution_count": 55,
     "metadata": {},
     "output_type": "execute_result"
    }
   ],
   "source": [
    "# variance for each question grouped by currency and employment\n",
    "currencies_employment_gr_var = currencies_employment_gr.var()\n",
    "currencies_employment_gr_var[cols]"
   ]
  },
  {
   "cell_type": "code",
   "execution_count": 56,
   "metadata": {},
   "outputs": [
    {
     "data": {
      "text/html": [
       "<div>\n",
       "<style scoped>\n",
       "    .dataframe tbody tr th:only-of-type {\n",
       "        vertical-align: middle;\n",
       "    }\n",
       "\n",
       "    .dataframe tbody tr th {\n",
       "        vertical-align: top;\n",
       "    }\n",
       "\n",
       "    .dataframe thead th {\n",
       "        text-align: right;\n",
       "    }\n",
       "</style>\n",
       "<table border=\"1\" class=\"dataframe\">\n",
       "  <thead>\n",
       "    <tr style=\"text-align: right;\">\n",
       "      <th></th>\n",
       "      <th>employment</th>\n",
       "      <th>wageorsalary</th>\n",
       "      <th>symbol</th>\n",
       "      <th>choseOtherCurrency</th>\n",
       "      <th>currentwage</th>\n",
       "      <th>A</th>\n",
       "      <th>B</th>\n",
       "      <th>C</th>\n",
       "      <th>E</th>\n",
       "      <th>hoursweekly</th>\n",
       "      <th>...</th>\n",
       "      <th>D</th>\n",
       "      <th>hourminimum</th>\n",
       "      <th>jobnumber</th>\n",
       "      <th>weeklywage</th>\n",
       "      <th>jobask</th>\n",
       "      <th>totalweeks</th>\n",
       "      <th>totalhoursyearly</th>\n",
       "      <th>totalannualwage</th>\n",
       "      <th>transferquestion</th>\n",
       "      <th>jobtotal</th>\n",
       "    </tr>\n",
       "  </thead>\n",
       "  <tbody>\n",
       "    <tr>\n",
       "      <th>7</th>\n",
       "      <td>0</td>\n",
       "      <td>0</td>\n",
       "      <td>$</td>\n",
       "      <td>0</td>\n",
       "      <td>0.0</td>\n",
       "      <td>32.0</td>\n",
       "      <td>15.00</td>\n",
       "      <td>40.000000</td>\n",
       "      <td>26.000000</td>\n",
       "      <td>0.0</td>\n",
       "      <td>...</td>\n",
       "      <td>20.0</td>\n",
       "      <td>0.0</td>\n",
       "      <td>0.0</td>\n",
       "      <td>0.0</td>\n",
       "      <td>0</td>\n",
       "      <td>0</td>\n",
       "      <td>0.0</td>\n",
       "      <td>0.0</td>\n",
       "      <td>no</td>\n",
       "      <td>0</td>\n",
       "    </tr>\n",
       "    <tr>\n",
       "      <th>8</th>\n",
       "      <td>0</td>\n",
       "      <td>0</td>\n",
       "      <td>$</td>\n",
       "      <td>0</td>\n",
       "      <td>0.0</td>\n",
       "      <td>50.0</td>\n",
       "      <td>50.00</td>\n",
       "      <td>120.000000</td>\n",
       "      <td>50.000000</td>\n",
       "      <td>0.0</td>\n",
       "      <td>...</td>\n",
       "      <td>19.0</td>\n",
       "      <td>0.0</td>\n",
       "      <td>0.0</td>\n",
       "      <td>0.0</td>\n",
       "      <td>0</td>\n",
       "      <td>0</td>\n",
       "      <td>0.0</td>\n",
       "      <td>0.0</td>\n",
       "      <td>no</td>\n",
       "      <td>0</td>\n",
       "    </tr>\n",
       "    <tr>\n",
       "      <th>38</th>\n",
       "      <td>0</td>\n",
       "      <td>0</td>\n",
       "      <td>$</td>\n",
       "      <td>0</td>\n",
       "      <td>0.0</td>\n",
       "      <td>18.0</td>\n",
       "      <td>10.00</td>\n",
       "      <td>50.000000</td>\n",
       "      <td>14.000000</td>\n",
       "      <td>0.0</td>\n",
       "      <td>...</td>\n",
       "      <td>8.0</td>\n",
       "      <td>0.0</td>\n",
       "      <td>0.0</td>\n",
       "      <td>0.0</td>\n",
       "      <td>0</td>\n",
       "      <td>0</td>\n",
       "      <td>0.0</td>\n",
       "      <td>0.0</td>\n",
       "      <td>no</td>\n",
       "      <td>0</td>\n",
       "    </tr>\n",
       "    <tr>\n",
       "      <th>47</th>\n",
       "      <td>0</td>\n",
       "      <td>0</td>\n",
       "      <td>$</td>\n",
       "      <td>0</td>\n",
       "      <td>0.0</td>\n",
       "      <td>7.5</td>\n",
       "      <td>6.25</td>\n",
       "      <td>50.000000</td>\n",
       "      <td>16.250000</td>\n",
       "      <td>0.0</td>\n",
       "      <td>...</td>\n",
       "      <td>25.0</td>\n",
       "      <td>0.0</td>\n",
       "      <td>0.0</td>\n",
       "      <td>0.0</td>\n",
       "      <td>0</td>\n",
       "      <td>0</td>\n",
       "      <td>0.0</td>\n",
       "      <td>0.0</td>\n",
       "      <td>no</td>\n",
       "      <td>0</td>\n",
       "    </tr>\n",
       "    <tr>\n",
       "      <th>98</th>\n",
       "      <td>0</td>\n",
       "      <td>0</td>\n",
       "      <td>$</td>\n",
       "      <td>0</td>\n",
       "      <td>0.0</td>\n",
       "      <td>15.0</td>\n",
       "      <td>7.50</td>\n",
       "      <td>100.000000</td>\n",
       "      <td>12.500000</td>\n",
       "      <td>0.0</td>\n",
       "      <td>...</td>\n",
       "      <td>10.0</td>\n",
       "      <td>0.0</td>\n",
       "      <td>0.0</td>\n",
       "      <td>0.0</td>\n",
       "      <td>0</td>\n",
       "      <td>0</td>\n",
       "      <td>0.0</td>\n",
       "      <td>0.0</td>\n",
       "      <td>no</td>\n",
       "      <td>0</td>\n",
       "    </tr>\n",
       "    <tr>\n",
       "      <th>...</th>\n",
       "      <td>...</td>\n",
       "      <td>...</td>\n",
       "      <td>...</td>\n",
       "      <td>...</td>\n",
       "      <td>...</td>\n",
       "      <td>...</td>\n",
       "      <td>...</td>\n",
       "      <td>...</td>\n",
       "      <td>...</td>\n",
       "      <td>...</td>\n",
       "      <td>...</td>\n",
       "      <td>...</td>\n",
       "      <td>...</td>\n",
       "      <td>...</td>\n",
       "      <td>...</td>\n",
       "      <td>...</td>\n",
       "      <td>...</td>\n",
       "      <td>...</td>\n",
       "      <td>...</td>\n",
       "      <td>...</td>\n",
       "      <td>...</td>\n",
       "    </tr>\n",
       "    <tr>\n",
       "      <th>9511</th>\n",
       "      <td>0</td>\n",
       "      <td>0</td>\n",
       "      <td>$</td>\n",
       "      <td>0</td>\n",
       "      <td>0.0</td>\n",
       "      <td>50.0</td>\n",
       "      <td>5.00</td>\n",
       "      <td>33.333333</td>\n",
       "      <td>21.666667</td>\n",
       "      <td>0.0</td>\n",
       "      <td>...</td>\n",
       "      <td>10.0</td>\n",
       "      <td>0.0</td>\n",
       "      <td>0.0</td>\n",
       "      <td>0.0</td>\n",
       "      <td>0</td>\n",
       "      <td>0</td>\n",
       "      <td>0.0</td>\n",
       "      <td>0.0</td>\n",
       "      <td>no</td>\n",
       "      <td>0</td>\n",
       "    </tr>\n",
       "    <tr>\n",
       "      <th>9513</th>\n",
       "      <td>0</td>\n",
       "      <td>0</td>\n",
       "      <td>$</td>\n",
       "      <td>0</td>\n",
       "      <td>0.0</td>\n",
       "      <td>15.0</td>\n",
       "      <td>10.00</td>\n",
       "      <td>133.333333</td>\n",
       "      <td>17.500000</td>\n",
       "      <td>0.0</td>\n",
       "      <td>...</td>\n",
       "      <td>20.0</td>\n",
       "      <td>0.0</td>\n",
       "      <td>0.0</td>\n",
       "      <td>0.0</td>\n",
       "      <td>0</td>\n",
       "      <td>0</td>\n",
       "      <td>0.0</td>\n",
       "      <td>0.0</td>\n",
       "      <td>no</td>\n",
       "      <td>0</td>\n",
       "    </tr>\n",
       "    <tr>\n",
       "      <th>9514</th>\n",
       "      <td>0</td>\n",
       "      <td>0</td>\n",
       "      <td>$</td>\n",
       "      <td>0</td>\n",
       "      <td>0.0</td>\n",
       "      <td>28.0</td>\n",
       "      <td>3.75</td>\n",
       "      <td>85.714286</td>\n",
       "      <td>19.000000</td>\n",
       "      <td>0.0</td>\n",
       "      <td>...</td>\n",
       "      <td>10.0</td>\n",
       "      <td>0.0</td>\n",
       "      <td>0.0</td>\n",
       "      <td>0.0</td>\n",
       "      <td>0</td>\n",
       "      <td>0</td>\n",
       "      <td>0.0</td>\n",
       "      <td>0.0</td>\n",
       "      <td>no</td>\n",
       "      <td>0</td>\n",
       "    </tr>\n",
       "    <tr>\n",
       "      <th>9520</th>\n",
       "      <td>0</td>\n",
       "      <td>0</td>\n",
       "      <td>$</td>\n",
       "      <td>0</td>\n",
       "      <td>0.0</td>\n",
       "      <td>16.0</td>\n",
       "      <td>18.75</td>\n",
       "      <td>33.333333</td>\n",
       "      <td>19.375000</td>\n",
       "      <td>0.0</td>\n",
       "      <td>...</td>\n",
       "      <td>20.0</td>\n",
       "      <td>0.0</td>\n",
       "      <td>0.0</td>\n",
       "      <td>0.0</td>\n",
       "      <td>0</td>\n",
       "      <td>0</td>\n",
       "      <td>0.0</td>\n",
       "      <td>0.0</td>\n",
       "      <td>no</td>\n",
       "      <td>0</td>\n",
       "    </tr>\n",
       "    <tr>\n",
       "      <th>9523</th>\n",
       "      <td>0</td>\n",
       "      <td>0</td>\n",
       "      <td>$</td>\n",
       "      <td>0</td>\n",
       "      <td>0.0</td>\n",
       "      <td>20.0</td>\n",
       "      <td>1.25</td>\n",
       "      <td>66.666667</td>\n",
       "      <td>11.250000</td>\n",
       "      <td>0.0</td>\n",
       "      <td>...</td>\n",
       "      <td>2.5</td>\n",
       "      <td>0.0</td>\n",
       "      <td>0.0</td>\n",
       "      <td>0.0</td>\n",
       "      <td>0</td>\n",
       "      <td>0</td>\n",
       "      <td>0.0</td>\n",
       "      <td>0.0</td>\n",
       "      <td>no</td>\n",
       "      <td>0</td>\n",
       "    </tr>\n",
       "  </tbody>\n",
       "</table>\n",
       "<p>1455 rows × 23 columns</p>\n",
       "</div>"
      ],
      "text/plain": [
       "     employment wageorsalary symbol choseOtherCurrency  currentwage     A  \\\n",
       "7             0            0      $                  0          0.0  32.0   \n",
       "8             0            0      $                  0          0.0  50.0   \n",
       "38            0            0      $                  0          0.0  18.0   \n",
       "47            0            0      $                  0          0.0   7.5   \n",
       "98            0            0      $                  0          0.0  15.0   \n",
       "...         ...          ...    ...                ...          ...   ...   \n",
       "9511          0            0      $                  0          0.0  50.0   \n",
       "9513          0            0      $                  0          0.0  15.0   \n",
       "9514          0            0      $                  0          0.0  28.0   \n",
       "9520          0            0      $                  0          0.0  16.0   \n",
       "9523          0            0      $                  0          0.0  20.0   \n",
       "\n",
       "          B           C          E  hoursweekly  ...     D hourminimum  \\\n",
       "7     15.00   40.000000  26.000000          0.0  ...  20.0         0.0   \n",
       "8     50.00  120.000000  50.000000          0.0  ...  19.0         0.0   \n",
       "38    10.00   50.000000  14.000000          0.0  ...   8.0         0.0   \n",
       "47     6.25   50.000000  16.250000          0.0  ...  25.0         0.0   \n",
       "98     7.50  100.000000  12.500000          0.0  ...  10.0         0.0   \n",
       "...     ...         ...        ...          ...  ...   ...         ...   \n",
       "9511   5.00   33.333333  21.666667          0.0  ...  10.0         0.0   \n",
       "9513  10.00  133.333333  17.500000          0.0  ...  20.0         0.0   \n",
       "9514   3.75   85.714286  19.000000          0.0  ...  10.0         0.0   \n",
       "9520  18.75   33.333333  19.375000          0.0  ...  20.0         0.0   \n",
       "9523   1.25   66.666667  11.250000          0.0  ...   2.5         0.0   \n",
       "\n",
       "      jobnumber  weeklywage  jobask  totalweeks  totalhoursyearly  \\\n",
       "7           0.0         0.0       0           0               0.0   \n",
       "8           0.0         0.0       0           0               0.0   \n",
       "38          0.0         0.0       0           0               0.0   \n",
       "47          0.0         0.0       0           0               0.0   \n",
       "98          0.0         0.0       0           0               0.0   \n",
       "...         ...         ...     ...         ...               ...   \n",
       "9511        0.0         0.0       0           0               0.0   \n",
       "9513        0.0         0.0       0           0               0.0   \n",
       "9514        0.0         0.0       0           0               0.0   \n",
       "9520        0.0         0.0       0           0               0.0   \n",
       "9523        0.0         0.0       0           0               0.0   \n",
       "\n",
       "     totalannualwage transferquestion  jobtotal  \n",
       "7                0.0               no         0  \n",
       "8                0.0               no         0  \n",
       "38               0.0               no         0  \n",
       "47               0.0               no         0  \n",
       "98               0.0               no         0  \n",
       "...              ...              ...       ...  \n",
       "9511             0.0               no         0  \n",
       "9513             0.0               no         0  \n",
       "9514             0.0               no         0  \n",
       "9520             0.0               no         0  \n",
       "9523             0.0               no         0  \n",
       "\n",
       "[1455 rows x 23 columns]"
      ]
     },
     "execution_count": 56,
     "metadata": {},
     "output_type": "execute_result"
    }
   ],
   "source": [
    "# how to get a group\n",
    "currencies_employment_gr.get_group(('$',0))"
   ]
  },
  {
   "cell_type": "markdown",
   "metadata": {},
   "source": [
    "## Standardizing currencies\n",
    "\n",
    "Converting other currencies into international dollar for a more accurate comparison.\n",
    "Values from [OECD data, 2019](https://data.oecd.org/conversion/exchange-rates.htm#indicator-chart)\n",
    "\n",
    "* 1 USD = GBP 0.680\n",
    "* 1 USD = INR 21.107\n",
    "* 1 USD = NIS 3.687\n",
    "* 1 USD = EUR 0.706 (value for all 19 countries using EUR)\n",
    "* 1 USD = RUB 25.701\n",
    "\n",
    "To convert to dollars we'll divide the value in cols A-E by the value above."
   ]
  },
  {
   "cell_type": "code",
   "execution_count": 57,
   "metadata": {},
   "outputs": [],
   "source": [
    "#create cols to hold normalised currencies\n",
    "cols_normed = ['A_dol','B_dol','C_dol','D_dol','E_dol']\n",
    "\n",
    "for c in cols_normed:\n",
    "    basetv_noout[c] = 0"
   ]
  },
  {
   "cell_type": "code",
   "execution_count": 58,
   "metadata": {},
   "outputs": [
    {
     "name": "stdout",
     "output_type": "stream",
     "text": [
      "A A_dol\n",
      "B B_dol\n",
      "C C_dol\n",
      "D D_dol\n",
      "E E_dol\n"
     ]
    }
   ],
   "source": [
    "# create columns dictionary\n",
    "col_dict = {cols[i]: cols_normed[i] for i in range(len(cols))}\n",
    "\n",
    "for i in col_dict:\n",
    "    print(i, col_dict[i])"
   ]
  },
  {
   "cell_type": "code",
   "execution_count": 59,
   "metadata": {},
   "outputs": [
    {
     "name": "stdout",
     "output_type": "stream",
     "text": [
      "$ 1\n",
      "GBP 0.68\n",
      "INR 21.107\n",
      "NIS 3.687\n",
      "EUR 0.706\n",
      "RUB 25.701\n"
     ]
    }
   ],
   "source": [
    "# create currency dictionary\n",
    "exchange = {'$': 1,'GBP':0.680,'INR':21.107,'NIS':3.687, 'EUR':0.706,'RUB':25.701}\n",
    "for c in exchange:\n",
    "    print(c, exchange[c])"
   ]
  },
  {
   "cell_type": "code",
   "execution_count": 60,
   "metadata": {},
   "outputs": [],
   "source": [
    "# normalise all currencies\n",
    "conditions = [\n",
    "    (basetv_noout['symbol'] == 'GBP'),\n",
    "    (basetv_noout['symbol'] == '$'),  \n",
    "    (basetv_noout['symbol'] == 'INR'),\n",
    "    (basetv_noout['symbol'] == 'NIS'),\n",
    "    (basetv_noout['symbol'] == 'EUR'),\n",
    "    (basetv_noout['symbol'] == 'RUB')\n",
    "]\n",
    "\n",
    "for i in col_dict:\n",
    "    choices = [basetv_noout[i]/0.68, basetv_noout[i]/1, basetv_noout[i]/21.107, basetv_noout[i]/3.687, basetv_noout[i]/0.706, basetv_noout[i]/25.701]\n",
    "    new_col = col_dict[i]\n",
    "    basetv_noout[new_col] = np.select(conditions, choices, default=0)"
   ]
  },
  {
   "cell_type": "code",
   "execution_count": 61,
   "metadata": {},
   "outputs": [
    {
     "data": {
      "text/html": [
       "<div>\n",
       "<style scoped>\n",
       "    .dataframe tbody tr th:only-of-type {\n",
       "        vertical-align: middle;\n",
       "    }\n",
       "\n",
       "    .dataframe tbody tr th {\n",
       "        vertical-align: top;\n",
       "    }\n",
       "\n",
       "    .dataframe thead th {\n",
       "        text-align: right;\n",
       "    }\n",
       "</style>\n",
       "<table border=\"1\" class=\"dataframe\">\n",
       "  <thead>\n",
       "    <tr style=\"text-align: right;\">\n",
       "      <th></th>\n",
       "      <th>A_dol</th>\n",
       "      <th>B_dol</th>\n",
       "      <th>C_dol</th>\n",
       "      <th>D_dol</th>\n",
       "      <th>E_dol</th>\n",
       "    </tr>\n",
       "  </thead>\n",
       "  <tbody>\n",
       "    <tr>\n",
       "      <th>13297</th>\n",
       "      <td>33.164353</td>\n",
       "      <td>4.737765</td>\n",
       "      <td>28.426588</td>\n",
       "      <td>66.052362</td>\n",
       "      <td>30.795471</td>\n",
       "    </tr>\n",
       "    <tr>\n",
       "      <th>13298</th>\n",
       "      <td>23.688824</td>\n",
       "      <td>11.844412</td>\n",
       "      <td>28.426588</td>\n",
       "      <td>42.583227</td>\n",
       "      <td>26.057706</td>\n",
       "    </tr>\n",
       "    <tr>\n",
       "      <th>13302</th>\n",
       "      <td>47.377647</td>\n",
       "      <td>5.922206</td>\n",
       "      <td>28.426588</td>\n",
       "      <td>61.117165</td>\n",
       "      <td>37.902118</td>\n",
       "    </tr>\n",
       "    <tr>\n",
       "      <th>13303</th>\n",
       "      <td>23.688824</td>\n",
       "      <td>3.553324</td>\n",
       "      <td>18.951059</td>\n",
       "      <td>14.213294</td>\n",
       "      <td>16.582177</td>\n",
       "    </tr>\n",
       "    <tr>\n",
       "      <th>13305</th>\n",
       "      <td>0.331644</td>\n",
       "      <td>0.082911</td>\n",
       "      <td>40.609412</td>\n",
       "      <td>0.331644</td>\n",
       "      <td>0.331644</td>\n",
       "    </tr>\n",
       "  </tbody>\n",
       "</table>\n",
       "</div>"
      ],
      "text/plain": [
       "           A_dol      B_dol      C_dol      D_dol      E_dol\n",
       "13297  33.164353   4.737765  28.426588  66.052362  30.795471\n",
       "13298  23.688824  11.844412  28.426588  42.583227  26.057706\n",
       "13302  47.377647   5.922206  28.426588  61.117165  37.902118\n",
       "13303  23.688824   3.553324  18.951059  14.213294  16.582177\n",
       "13305   0.331644   0.082911  40.609412   0.331644   0.331644"
      ]
     },
     "execution_count": 61,
     "metadata": {},
     "output_type": "execute_result"
    }
   ],
   "source": [
    "#test \n",
    "basetv_noout[basetv_noout['symbol']=='INR'][cols_normed].head()"
   ]
  },
  {
   "cell_type": "code",
   "execution_count": 62,
   "metadata": {},
   "outputs": [],
   "source": [
    "basetv_noout = basetv_noout[basetv_noout['totalhoursyearly'] < 25000]"
   ]
  },
  {
   "cell_type": "code",
   "execution_count": 63,
   "metadata": {},
   "outputs": [],
   "source": [
    "# will export A-E converted but not wage per year\n",
    "basetv_noout.to_excel('CT_base_no_out.xlsx')"
   ]
  },
  {
   "cell_type": "markdown",
   "metadata": {},
   "source": [
    "### Mean values, by employment across the dataset"
   ]
  },
  {
   "cell_type": "code",
   "execution_count": 64,
   "metadata": {},
   "outputs": [
    {
     "name": "stderr",
     "output_type": "stream",
     "text": [
      "/Applications/anaconda3/lib/python3.7/site-packages/pandas/core/frame.py:2963: SettingWithCopyWarning: \n",
      "A value is trying to be set on a copy of a slice from a DataFrame.\n",
      "Try using .loc[row_indexer,col_indexer] = value instead\n",
      "\n",
      "See the caveats in the documentation: https://pandas.pydata.org/pandas-docs/stable/user_guide/indexing.html#returning-a-view-versus-a-copy\n",
      "  self[k1] = value[k2]\n"
     ]
    }
   ],
   "source": [
    "# convert all normed columns into floats\n",
    "basetv_noout[cols_normed]= basetv_noout[cols_normed].astype('float64')"
   ]
  },
  {
   "cell_type": "code",
   "execution_count": 65,
   "metadata": {},
   "outputs": [],
   "source": [
    "# plot differences overall by column\n",
    "total_employment = basetv_noout.groupby('employment')\n",
    "total_employment_means = total_employment.mean()[cols_normed]\n",
    "total_employment_count = total_employment.count()[cols_normed]\n",
    "total_employment_means.reset_index(inplace=True)"
   ]
  },
  {
   "cell_type": "code",
   "execution_count": 66,
   "metadata": {},
   "outputs": [
    {
     "data": {
      "text/html": [
       "<div>\n",
       "<style scoped>\n",
       "    .dataframe tbody tr th:only-of-type {\n",
       "        vertical-align: middle;\n",
       "    }\n",
       "\n",
       "    .dataframe tbody tr th {\n",
       "        vertical-align: top;\n",
       "    }\n",
       "\n",
       "    .dataframe thead th {\n",
       "        text-align: right;\n",
       "    }\n",
       "</style>\n",
       "<table border=\"1\" class=\"dataframe\">\n",
       "  <thead>\n",
       "    <tr style=\"text-align: right;\">\n",
       "      <th></th>\n",
       "      <th>employment</th>\n",
       "      <th>A_dol</th>\n",
       "      <th>B_dol</th>\n",
       "      <th>C_dol</th>\n",
       "      <th>D_dol</th>\n",
       "      <th>E_dol</th>\n",
       "    </tr>\n",
       "  </thead>\n",
       "  <tbody>\n",
       "    <tr>\n",
       "      <th>0</th>\n",
       "      <td>0</td>\n",
       "      <td>30.192101</td>\n",
       "      <td>8.049642</td>\n",
       "      <td>116.054037</td>\n",
       "      <td>13.056208</td>\n",
       "      <td>21.824091</td>\n",
       "    </tr>\n",
       "    <tr>\n",
       "      <th>1</th>\n",
       "      <td>1</td>\n",
       "      <td>41.502517</td>\n",
       "      <td>12.297488</td>\n",
       "      <td>135.602946</td>\n",
       "      <td>38.359717</td>\n",
       "      <td>39.247173</td>\n",
       "    </tr>\n",
       "  </tbody>\n",
       "</table>\n",
       "</div>"
      ],
      "text/plain": [
       "   employment      A_dol      B_dol       C_dol      D_dol      E_dol\n",
       "0           0  30.192101   8.049642  116.054037  13.056208  21.824091\n",
       "1           1  41.502517  12.297488  135.602946  38.359717  39.247173"
      ]
     },
     "execution_count": 66,
     "metadata": {},
     "output_type": "execute_result"
    }
   ],
   "source": [
    "# print means of all values\n",
    "total_employment_means"
   ]
  },
  {
   "cell_type": "code",
   "execution_count": 67,
   "metadata": {},
   "outputs": [
    {
     "data": {
      "text/html": [
       "<div>\n",
       "<style scoped>\n",
       "    .dataframe tbody tr th:only-of-type {\n",
       "        vertical-align: middle;\n",
       "    }\n",
       "\n",
       "    .dataframe tbody tr th {\n",
       "        vertical-align: top;\n",
       "    }\n",
       "\n",
       "    .dataframe thead th {\n",
       "        text-align: right;\n",
       "    }\n",
       "</style>\n",
       "<table border=\"1\" class=\"dataframe\">\n",
       "  <thead>\n",
       "    <tr style=\"text-align: right;\">\n",
       "      <th></th>\n",
       "      <th>A_dol</th>\n",
       "      <th>B_dol</th>\n",
       "      <th>C_dol</th>\n",
       "      <th>D_dol</th>\n",
       "      <th>E_dol</th>\n",
       "    </tr>\n",
       "    <tr>\n",
       "      <th>employment</th>\n",
       "      <th></th>\n",
       "      <th></th>\n",
       "      <th></th>\n",
       "      <th></th>\n",
       "      <th></th>\n",
       "    </tr>\n",
       "  </thead>\n",
       "  <tbody>\n",
       "    <tr>\n",
       "      <th>0</th>\n",
       "      <td>2040</td>\n",
       "      <td>2040</td>\n",
       "      <td>2040</td>\n",
       "      <td>2040</td>\n",
       "      <td>2040</td>\n",
       "    </tr>\n",
       "    <tr>\n",
       "      <th>1</th>\n",
       "      <td>7847</td>\n",
       "      <td>7847</td>\n",
       "      <td>7847</td>\n",
       "      <td>7847</td>\n",
       "      <td>7847</td>\n",
       "    </tr>\n",
       "  </tbody>\n",
       "</table>\n",
       "</div>"
      ],
      "text/plain": [
       "            A_dol  B_dol  C_dol  D_dol  E_dol\n",
       "employment                                   \n",
       "0            2040   2040   2040   2040   2040\n",
       "1            7847   7847   7847   7847   7847"
      ]
     },
     "execution_count": 67,
     "metadata": {},
     "output_type": "execute_result"
    }
   ],
   "source": [
    "# show number of samples in each group\n",
    "total_employment_count"
   ]
  },
  {
   "cell_type": "code",
   "execution_count": 68,
   "metadata": {},
   "outputs": [
    {
     "data": {
      "image/png": "[encoded data removed]",
      "text/plain": [
       "<Figure size 864x576 with 1 Axes>"
      ]
     },
     "metadata": {
      "needs_background": "light"
     },
     "output_type": "display_data"
    }
   ],
   "source": [
    "# plot means across the dataset\n",
    "fig, ax = plt.subplots(figsize=(12,8))\n",
    "labels = ['part-time job change',  'chore payment', 'gift certificate',  'company transfer', 'value of time']\n",
    "x = np.arange(len(labels))\n",
    "width=0.4\n",
    "\n",
    "_ = ax.bar(x, total_employment_means[cols_normed].iloc[0], width=width, label=\"Unemployed\")\n",
    "_ = ax.bar(x+width, total_employment_means[cols_normed].iloc[1],width=width, label=\"Employed\")\n",
    "\n",
    "ax.set_xticks(x+width/2)\n",
    "ax.set_xticklabels(labels)\n",
    "ax.set_ylabel(\"International dollar\", fontsize=14)\n",
    "\n",
    "plt.legend()\n",
    "plt.title(\"Mean values of answers to each question, by employment\", fontsize=16)\n",
    "\n",
    "plt.show()"
   ]
  },
  {
   "cell_type": "markdown",
   "metadata": {},
   "source": [
    "There are clear diffrences between values given by employed an unemployed. We can test the significance with a t-test."
   ]
  },
  {
   "cell_type": "code",
   "execution_count": 69,
   "metadata": {},
   "outputs": [],
   "source": [
    "#create a dictionary for pvalues\n",
    "p_vals_total = {}\n",
    "\n",
    "# iterate through columns, calc p value between employed and unemployed for each column\n",
    "for c in cols_normed:\n",
    "    unemployed_c = total_employment.get_group(0)[c]\n",
    "    employed_c = total_employment.get_group(1)[c]\n",
    "    \n",
    "    t_test = stats.ttest_ind(unemployed_c, employed_c, equal_var = False)\n",
    "    p_val = t_test[1]\n",
    "    p_vals_total[c] = p_val"
   ]
  },
  {
   "cell_type": "code",
   "execution_count": 70,
   "metadata": {},
   "outputs": [
    {
     "data": {
      "text/plain": [
       "{'A_dol': 5.66416644255204e-64,\n",
       " 'B_dol': 3.0650409053106936e-66,\n",
       " 'C_dol': 2.0205523420407214e-14,\n",
       " 'D_dol': 0.0,\n",
       " 'E_dol': 0.0}"
      ]
     },
     "execution_count": 70,
     "metadata": {},
     "output_type": "execute_result"
    }
   ],
   "source": [
    "p_vals_total"
   ]
  },
  {
   "cell_type": "markdown",
   "metadata": {},
   "source": [
    "pvalue = 0 seems a suspicious result. Can it be so small Python doesn't even bother to write it in the scientific notation?"
   ]
  },
  {
   "cell_type": "code",
   "execution_count": 71,
   "metadata": {},
   "outputs": [
    {
     "name": "stdout",
     "output_type": "stream",
     "text": [
      "Float value information:  sys.float_info(max=1.7976931348623157e+308, max_exp=1024, max_10_exp=308, min=2.2250738585072014e-308, min_exp=-1021, min_10_exp=-307, dig=15, mant_dig=53, epsilon=2.220446049250313e-16, radix=2, rounds=1)\n"
     ]
    }
   ],
   "source": [
    "#check max float value\n",
    "import sys\n",
    "print(\"Float value information: \",sys.float_info)"
   ]
  },
  {
   "cell_type": "markdown",
   "metadata": {},
   "source": [
    "The value would have to be smaller than 1.7976931348623157e+308, which seems ahighly unlikely. More likely there is an error somewhere, but I can't see where."
   ]
  },
  {
   "cell_type": "code",
   "execution_count": 72,
   "metadata": {},
   "outputs": [
    {
     "data": {
      "image/png": "[encoded data removed]",
      "text/plain": [
       "<Figure size 432x288 with 1 Axes>"
      ]
     },
     "metadata": {
      "needs_background": "light"
     },
     "output_type": "display_data"
    }
   ],
   "source": [
    "# check distribution of col D to see if anything weird appears\n",
    "unemp_dol = total_employment.get_group(0)['D_dol']\n",
    "_ = plt.hist(unemp_dol, bins=20)"
   ]
  },
  {
   "cell_type": "code",
   "execution_count": 73,
   "metadata": {},
   "outputs": [
    {
     "data": {
      "image/png": "[encoded data removed]",
      "text/plain": [
       "<Figure size 432x288 with 1 Axes>"
      ]
     },
     "metadata": {
      "needs_background": "light"
     },
     "output_type": "display_data"
    }
   ],
   "source": [
    "# check distribution\n",
    "unemp_dol = total_employment.get_group(1)['D_dol']\n",
    "_ = plt.hist(unemp_dol, bins=20)"
   ]
  },
  {
   "cell_type": "markdown",
   "metadata": {},
   "source": [
    "### Mean values, by employment by each currency group"
   ]
  },
  {
   "cell_type": "code",
   "execution_count": 74,
   "metadata": {},
   "outputs": [],
   "source": [
    "#dropping the russian respondents\n",
    "basetv_noout_norus = basetv_noout[basetv_noout['symbol']!='RUB']"
   ]
  },
  {
   "cell_type": "code",
   "execution_count": 75,
   "metadata": {},
   "outputs": [
    {
     "data": {
      "text/html": [
       "<div>\n",
       "<style scoped>\n",
       "    .dataframe tbody tr th:only-of-type {\n",
       "        vertical-align: middle;\n",
       "    }\n",
       "\n",
       "    .dataframe tbody tr th {\n",
       "        vertical-align: top;\n",
       "    }\n",
       "\n",
       "    .dataframe thead th {\n",
       "        text-align: right;\n",
       "    }\n",
       "</style>\n",
       "<table border=\"1\" class=\"dataframe\">\n",
       "  <thead>\n",
       "    <tr style=\"text-align: right;\">\n",
       "      <th></th>\n",
       "      <th></th>\n",
       "      <th>A_dol</th>\n",
       "      <th>B_dol</th>\n",
       "      <th>C_dol</th>\n",
       "      <th>D_dol</th>\n",
       "      <th>E_dol</th>\n",
       "    </tr>\n",
       "    <tr>\n",
       "      <th>symbol</th>\n",
       "      <th>employment</th>\n",
       "      <th></th>\n",
       "      <th></th>\n",
       "      <th></th>\n",
       "      <th></th>\n",
       "      <th></th>\n",
       "    </tr>\n",
       "  </thead>\n",
       "  <tbody>\n",
       "    <tr>\n",
       "      <th rowspan=\"2\" valign=\"top\">$</th>\n",
       "      <th>0</th>\n",
       "      <td>29.575375</td>\n",
       "      <td>8.385201</td>\n",
       "      <td>110.328045</td>\n",
       "      <td>13.168742</td>\n",
       "      <td>21.707228</td>\n",
       "    </tr>\n",
       "    <tr>\n",
       "      <th>1</th>\n",
       "      <td>41.612058</td>\n",
       "      <td>12.910193</td>\n",
       "      <td>130.273823</td>\n",
       "      <td>40.084815</td>\n",
       "      <td>40.151041</td>\n",
       "    </tr>\n",
       "    <tr>\n",
       "      <th rowspan=\"2\" valign=\"top\">EUR</th>\n",
       "      <th>0</th>\n",
       "      <td>34.740245</td>\n",
       "      <td>7.435689</td>\n",
       "      <td>145.594183</td>\n",
       "      <td>13.106743</td>\n",
       "      <td>24.106539</td>\n",
       "    </tr>\n",
       "    <tr>\n",
       "      <th>1</th>\n",
       "      <td>45.225837</td>\n",
       "      <td>10.292194</td>\n",
       "      <td>171.205139</td>\n",
       "      <td>33.813515</td>\n",
       "      <td>39.158845</td>\n",
       "    </tr>\n",
       "    <tr>\n",
       "      <th rowspan=\"2\" valign=\"top\">GBP</th>\n",
       "      <th>0</th>\n",
       "      <td>27.256824</td>\n",
       "      <td>7.910419</td>\n",
       "      <td>132.738672</td>\n",
       "      <td>13.860150</td>\n",
       "      <td>21.326974</td>\n",
       "    </tr>\n",
       "    <tr>\n",
       "      <th>1</th>\n",
       "      <td>36.172966</td>\n",
       "      <td>11.067733</td>\n",
       "      <td>153.308801</td>\n",
       "      <td>32.108307</td>\n",
       "      <td>34.213910</td>\n",
       "    </tr>\n",
       "    <tr>\n",
       "      <th rowspan=\"2\" valign=\"top\">INR</th>\n",
       "      <th>0</th>\n",
       "      <td>22.116747</td>\n",
       "      <td>3.703173</td>\n",
       "      <td>14.049060</td>\n",
       "      <td>7.138232</td>\n",
       "      <td>8.941530</td>\n",
       "    </tr>\n",
       "    <tr>\n",
       "      <th>1</th>\n",
       "      <td>27.218889</td>\n",
       "      <td>5.553091</td>\n",
       "      <td>17.360318</td>\n",
       "      <td>30.394445</td>\n",
       "      <td>18.575532</td>\n",
       "    </tr>\n",
       "    <tr>\n",
       "      <th rowspan=\"2\" valign=\"top\">NIS</th>\n",
       "      <th>0</th>\n",
       "      <td>28.250039</td>\n",
       "      <td>5.317403</td>\n",
       "      <td>57.333214</td>\n",
       "      <td>10.906028</td>\n",
       "      <td>18.269501</td>\n",
       "    </tr>\n",
       "    <tr>\n",
       "      <th>1</th>\n",
       "      <td>36.677724</td>\n",
       "      <td>8.056581</td>\n",
       "      <td>69.137580</td>\n",
       "      <td>28.252741</td>\n",
       "      <td>31.082320</td>\n",
       "    </tr>\n",
       "    <tr>\n",
       "      <th rowspan=\"2\" valign=\"top\">RUB</th>\n",
       "      <th>0</th>\n",
       "      <td>24.930937</td>\n",
       "      <td>2.649459</td>\n",
       "      <td>24.991069</td>\n",
       "      <td>4.382125</td>\n",
       "      <td>8.034707</td>\n",
       "    </tr>\n",
       "    <tr>\n",
       "      <th>1</th>\n",
       "      <td>56.781189</td>\n",
       "      <td>21.448582</td>\n",
       "      <td>45.231703</td>\n",
       "      <td>42.474373</td>\n",
       "      <td>39.713470</td>\n",
       "    </tr>\n",
       "  </tbody>\n",
       "</table>\n",
       "</div>"
      ],
      "text/plain": [
       "                       A_dol      B_dol       C_dol      D_dol      E_dol\n",
       "symbol employment                                                        \n",
       "$      0           29.575375   8.385201  110.328045  13.168742  21.707228\n",
       "       1           41.612058  12.910193  130.273823  40.084815  40.151041\n",
       "EUR    0           34.740245   7.435689  145.594183  13.106743  24.106539\n",
       "       1           45.225837  10.292194  171.205139  33.813515  39.158845\n",
       "GBP    0           27.256824   7.910419  132.738672  13.860150  21.326974\n",
       "       1           36.172966  11.067733  153.308801  32.108307  34.213910\n",
       "INR    0           22.116747   3.703173   14.049060   7.138232   8.941530\n",
       "       1           27.218889   5.553091   17.360318  30.394445  18.575532\n",
       "NIS    0           28.250039   5.317403   57.333214  10.906028  18.269501\n",
       "       1           36.677724   8.056581   69.137580  28.252741  31.082320\n",
       "RUB    0           24.930937   2.649459   24.991069   4.382125   8.034707\n",
       "       1           56.781189  21.448582   45.231703  42.474373  39.713470"
      ]
     },
     "execution_count": 75,
     "metadata": {},
     "output_type": "execute_result"
    }
   ],
   "source": [
    "# group df by currency and employment for the no rus group\n",
    "ppp_employment_gr = basetv_noout.groupby(['symbol','employment'])\n",
    "# create a view of sample sizes\n",
    "ppp_employment_gr_count = basetv_noout.groupby(['symbol','employment']).count()\n",
    "# get mean values for each columns\n",
    "ppp_employment_gr_mean = ppp_employment_gr.mean()\n",
    "\n",
    "#pick normalised columns to display\n",
    "ppp_employment_means = ppp_employment_gr_mean[cols_normed]\n",
    "ppp_employment_means"
   ]
  },
  {
   "cell_type": "code",
   "execution_count": 76,
   "metadata": {},
   "outputs": [
    {
     "data": {
      "text/html": [
       "<div>\n",
       "<style scoped>\n",
       "    .dataframe tbody tr th:only-of-type {\n",
       "        vertical-align: middle;\n",
       "    }\n",
       "\n",
       "    .dataframe tbody tr th {\n",
       "        vertical-align: top;\n",
       "    }\n",
       "\n",
       "    .dataframe thead th {\n",
       "        text-align: right;\n",
       "    }\n",
       "</style>\n",
       "<table border=\"1\" class=\"dataframe\">\n",
       "  <thead>\n",
       "    <tr style=\"text-align: right;\">\n",
       "      <th></th>\n",
       "      <th>symbol</th>\n",
       "      <th>employment</th>\n",
       "      <th>A_dol</th>\n",
       "      <th>B_dol</th>\n",
       "      <th>C_dol</th>\n",
       "      <th>D_dol</th>\n",
       "      <th>E_dol</th>\n",
       "    </tr>\n",
       "  </thead>\n",
       "  <tbody>\n",
       "    <tr>\n",
       "      <th>0</th>\n",
       "      <td>$</td>\n",
       "      <td>0</td>\n",
       "      <td>29.575375</td>\n",
       "      <td>8.385201</td>\n",
       "      <td>110.328045</td>\n",
       "      <td>13.168742</td>\n",
       "      <td>21.707228</td>\n",
       "    </tr>\n",
       "    <tr>\n",
       "      <th>1</th>\n",
       "      <td>$</td>\n",
       "      <td>1</td>\n",
       "      <td>41.612058</td>\n",
       "      <td>12.910193</td>\n",
       "      <td>130.273823</td>\n",
       "      <td>40.084815</td>\n",
       "      <td>40.151041</td>\n",
       "    </tr>\n",
       "    <tr>\n",
       "      <th>2</th>\n",
       "      <td>EUR</td>\n",
       "      <td>0</td>\n",
       "      <td>34.740245</td>\n",
       "      <td>7.435689</td>\n",
       "      <td>145.594183</td>\n",
       "      <td>13.106743</td>\n",
       "      <td>24.106539</td>\n",
       "    </tr>\n",
       "    <tr>\n",
       "      <th>3</th>\n",
       "      <td>EUR</td>\n",
       "      <td>1</td>\n",
       "      <td>45.225837</td>\n",
       "      <td>10.292194</td>\n",
       "      <td>171.205139</td>\n",
       "      <td>33.813515</td>\n",
       "      <td>39.158845</td>\n",
       "    </tr>\n",
       "    <tr>\n",
       "      <th>4</th>\n",
       "      <td>GBP</td>\n",
       "      <td>0</td>\n",
       "      <td>27.256824</td>\n",
       "      <td>7.910419</td>\n",
       "      <td>132.738672</td>\n",
       "      <td>13.860150</td>\n",
       "      <td>21.326974</td>\n",
       "    </tr>\n",
       "    <tr>\n",
       "      <th>5</th>\n",
       "      <td>GBP</td>\n",
       "      <td>1</td>\n",
       "      <td>36.172966</td>\n",
       "      <td>11.067733</td>\n",
       "      <td>153.308801</td>\n",
       "      <td>32.108307</td>\n",
       "      <td>34.213910</td>\n",
       "    </tr>\n",
       "    <tr>\n",
       "      <th>6</th>\n",
       "      <td>INR</td>\n",
       "      <td>0</td>\n",
       "      <td>22.116747</td>\n",
       "      <td>3.703173</td>\n",
       "      <td>14.049060</td>\n",
       "      <td>7.138232</td>\n",
       "      <td>8.941530</td>\n",
       "    </tr>\n",
       "    <tr>\n",
       "      <th>7</th>\n",
       "      <td>INR</td>\n",
       "      <td>1</td>\n",
       "      <td>27.218889</td>\n",
       "      <td>5.553091</td>\n",
       "      <td>17.360318</td>\n",
       "      <td>30.394445</td>\n",
       "      <td>18.575532</td>\n",
       "    </tr>\n",
       "    <tr>\n",
       "      <th>8</th>\n",
       "      <td>NIS</td>\n",
       "      <td>0</td>\n",
       "      <td>28.250039</td>\n",
       "      <td>5.317403</td>\n",
       "      <td>57.333214</td>\n",
       "      <td>10.906028</td>\n",
       "      <td>18.269501</td>\n",
       "    </tr>\n",
       "    <tr>\n",
       "      <th>9</th>\n",
       "      <td>NIS</td>\n",
       "      <td>1</td>\n",
       "      <td>36.677724</td>\n",
       "      <td>8.056581</td>\n",
       "      <td>69.137580</td>\n",
       "      <td>28.252741</td>\n",
       "      <td>31.082320</td>\n",
       "    </tr>\n",
       "  </tbody>\n",
       "</table>\n",
       "</div>"
      ],
      "text/plain": [
       "  symbol  employment      A_dol      B_dol       C_dol      D_dol      E_dol\n",
       "0      $           0  29.575375   8.385201  110.328045  13.168742  21.707228\n",
       "1      $           1  41.612058  12.910193  130.273823  40.084815  40.151041\n",
       "2    EUR           0  34.740245   7.435689  145.594183  13.106743  24.106539\n",
       "3    EUR           1  45.225837  10.292194  171.205139  33.813515  39.158845\n",
       "4    GBP           0  27.256824   7.910419  132.738672  13.860150  21.326974\n",
       "5    GBP           1  36.172966  11.067733  153.308801  32.108307  34.213910\n",
       "6    INR           0  22.116747   3.703173   14.049060   7.138232   8.941530\n",
       "7    INR           1  27.218889   5.553091   17.360318  30.394445  18.575532\n",
       "8    NIS           0  28.250039   5.317403   57.333214  10.906028  18.269501\n",
       "9    NIS           1  36.677724   8.056581   69.137580  28.252741  31.082320"
      ]
     },
     "execution_count": 76,
     "metadata": {},
     "output_type": "execute_result"
    }
   ],
   "source": [
    "# group df by currency and employment for the no rus group\n",
    "ppp_employment_gr_norus = basetv_noout_norus.groupby(['symbol','employment'])\n",
    "# create a view of sample sizes\n",
    "ppp_employment_gr_count_norus = basetv_noout_norus.groupby(['symbol','employment']).count()\n",
    "# get mean values for each columns\n",
    "ppp_employment_gr_mean_norus = ppp_employment_gr_norus.mean()\n",
    "\n",
    "#pick normalised columns to display\n",
    "ppp_employment_means_norus = ppp_employment_gr_mean_norus[cols_normed]\n",
    "ppp_employment_means_norus.reset_index(inplace=True)\n",
    "ppp_employment_means_norus"
   ]
  },
  {
   "cell_type": "code",
   "execution_count": 77,
   "metadata": {},
   "outputs": [
    {
     "data": {
      "text/html": [
       "<div>\n",
       "<style scoped>\n",
       "    .dataframe tbody tr th:only-of-type {\n",
       "        vertical-align: middle;\n",
       "    }\n",
       "\n",
       "    .dataframe tbody tr th {\n",
       "        vertical-align: top;\n",
       "    }\n",
       "\n",
       "    .dataframe thead th {\n",
       "        text-align: right;\n",
       "    }\n",
       "</style>\n",
       "<table border=\"1\" class=\"dataframe\">\n",
       "  <thead>\n",
       "    <tr style=\"text-align: right;\">\n",
       "      <th></th>\n",
       "      <th>symbol</th>\n",
       "      <th>employment</th>\n",
       "      <th>E_dol</th>\n",
       "    </tr>\n",
       "  </thead>\n",
       "  <tbody>\n",
       "    <tr>\n",
       "      <th>0</th>\n",
       "      <td>$</td>\n",
       "      <td>0</td>\n",
       "      <td>21.707228</td>\n",
       "    </tr>\n",
       "    <tr>\n",
       "      <th>1</th>\n",
       "      <td>$</td>\n",
       "      <td>1</td>\n",
       "      <td>40.151041</td>\n",
       "    </tr>\n",
       "    <tr>\n",
       "      <th>2</th>\n",
       "      <td>EUR</td>\n",
       "      <td>0</td>\n",
       "      <td>24.106539</td>\n",
       "    </tr>\n",
       "    <tr>\n",
       "      <th>3</th>\n",
       "      <td>EUR</td>\n",
       "      <td>1</td>\n",
       "      <td>39.158845</td>\n",
       "    </tr>\n",
       "    <tr>\n",
       "      <th>4</th>\n",
       "      <td>GBP</td>\n",
       "      <td>0</td>\n",
       "      <td>21.326974</td>\n",
       "    </tr>\n",
       "    <tr>\n",
       "      <th>5</th>\n",
       "      <td>GBP</td>\n",
       "      <td>1</td>\n",
       "      <td>34.213910</td>\n",
       "    </tr>\n",
       "    <tr>\n",
       "      <th>6</th>\n",
       "      <td>INR</td>\n",
       "      <td>0</td>\n",
       "      <td>8.941530</td>\n",
       "    </tr>\n",
       "    <tr>\n",
       "      <th>7</th>\n",
       "      <td>INR</td>\n",
       "      <td>1</td>\n",
       "      <td>18.575532</td>\n",
       "    </tr>\n",
       "    <tr>\n",
       "      <th>8</th>\n",
       "      <td>NIS</td>\n",
       "      <td>0</td>\n",
       "      <td>18.269501</td>\n",
       "    </tr>\n",
       "    <tr>\n",
       "      <th>9</th>\n",
       "      <td>NIS</td>\n",
       "      <td>1</td>\n",
       "      <td>31.082320</td>\n",
       "    </tr>\n",
       "  </tbody>\n",
       "</table>\n",
       "</div>"
      ],
      "text/plain": [
       "  symbol  employment      E_dol\n",
       "0      $           0  21.707228\n",
       "1      $           1  40.151041\n",
       "2    EUR           0  24.106539\n",
       "3    EUR           1  39.158845\n",
       "4    GBP           0  21.326974\n",
       "5    GBP           1  34.213910\n",
       "6    INR           0   8.941530\n",
       "7    INR           1  18.575532\n",
       "8    NIS           0  18.269501\n",
       "9    NIS           1  31.082320"
      ]
     },
     "execution_count": 77,
     "metadata": {},
     "output_type": "execute_result"
    }
   ],
   "source": [
    "# trasform the both of the above dfs for easier plotting\n",
    "ppp_employment_means.reset_index(inplace=True)\n",
    "ppp_e = ppp_employment_means[['symbol','employment','E_dol']]\n",
    "\n",
    "ppp_employment_means_norus.reset_index(inplace=True)\n",
    "ppp_e_norus = ppp_employment_means_norus[['symbol','employment','E_dol']]\n",
    "ppp_e_norus"
   ]
  },
  {
   "cell_type": "code",
   "execution_count": 78,
   "metadata": {},
   "outputs": [
    {
     "data": {
      "image/png": "[encoded data removed]",
      "text/plain": [
       "<Figure size 1152x720 with 1 Axes>"
      ]
     },
     "metadata": {
      "needs_background": "light"
     },
     "output_type": "display_data"
    }
   ],
   "source": [
    "fig, ax = plt.subplots(figsize=(16,10))\n",
    "\n",
    "labels = ppp_e['symbol'].unique()\n",
    "\n",
    "x = np.arange(len(labels))\n",
    "bar_width = 0.4\n",
    "\n",
    "g1 = ppp_e.loc[ppp_e['employment'] == 1, 'E_dol']\n",
    "g2 = ppp_e.loc[ppp_e['employment'] == 0, 'E_dol']\n",
    "\n",
    "_ = ax.bar(x, g2, width=bar_width, label='Unemployed',)\n",
    "_ = ax.bar(x+bar_width, g1, width=bar_width, label='Employed')\n",
    "\n",
    "ax.set_xticks(x + bar_width / 2)\n",
    "ax.set_xticklabels(labels, fontsize=14)\n",
    "ax.set_ylabel(\"International dollar (per h)\", fontsize=14)\n",
    "ax.set_title('Value of time by currency (in international USD)', pad=15, fontsize=18)\n",
    "ax.legend()\n",
    "\n",
    "plt.show()\n",
    "\n",
    "fig.tight_layout()"
   ]
  },
  {
   "cell_type": "markdown",
   "metadata": {},
   "source": [
    "### Statistical significance\n",
    "\n",
    "**1. In each currency group**\n",
    "\n",
    "We can check if the differnces between means for employed and unemployed groups for each curency, are statistically significant using a t-test. "
   ]
  },
  {
   "cell_type": "code",
   "execution_count": 79,
   "metadata": {},
   "outputs": [],
   "source": [
    "#create a dictionary to hold pvalues\n",
    "p_vals_e_dol = {}\n",
    "\n",
    "for l in labels:\n",
    "    unemployed_c = ppp_employment_gr.get_group((l,0))['E_dol']\n",
    "    employed_c = ppp_employment_gr.get_group((l,1))['E_dol']\n",
    "    \n",
    "    t_test = stats.ttest_ind(unemployed_c, employed_c, equal_var = False)\n",
    "    p_val = t_test[1]\n",
    "    p_vals_e_dol[l] = p_val"
   ]
  },
  {
   "cell_type": "code",
   "execution_count": 80,
   "metadata": {},
   "outputs": [
    {
     "data": {
      "text/plain": [
       "{'$': 1.531354307393106e-252,\n",
       " 'EUR': 5.3193985024449094e-36,\n",
       " 'GBP': 2.780992364005684e-22,\n",
       " 'INR': 2.0566192592612348e-07,\n",
       " 'NIS': 0.00011113510856142686,\n",
       " 'RUB': 0.0021043547622718716}"
      ]
     },
     "execution_count": 80,
     "metadata": {},
     "output_type": "execute_result"
    }
   ],
   "source": [
    "p_vals_e_dol"
   ]
  },
  {
   "cell_type": "markdown",
   "metadata": {},
   "source": [
    "**Resut**: In each currency group the differences between employed and unemployed are statistically significant."
   ]
  },
  {
   "cell_type": "code",
   "execution_count": 81,
   "metadata": {},
   "outputs": [
    {
     "data": {
      "text/html": [
       "<div>\n",
       "<style scoped>\n",
       "    .dataframe tbody tr th:only-of-type {\n",
       "        vertical-align: middle;\n",
       "    }\n",
       "\n",
       "    .dataframe tbody tr th {\n",
       "        vertical-align: top;\n",
       "    }\n",
       "\n",
       "    .dataframe thead th {\n",
       "        text-align: right;\n",
       "    }\n",
       "</style>\n",
       "<table border=\"1\" class=\"dataframe\">\n",
       "  <thead>\n",
       "    <tr style=\"text-align: right;\">\n",
       "      <th></th>\n",
       "      <th></th>\n",
       "      <th>A_dol</th>\n",
       "      <th>B_dol</th>\n",
       "      <th>C_dol</th>\n",
       "      <th>D_dol</th>\n",
       "      <th>E_dol</th>\n",
       "    </tr>\n",
       "    <tr>\n",
       "      <th>symbol</th>\n",
       "      <th>employment</th>\n",
       "      <th></th>\n",
       "      <th></th>\n",
       "      <th></th>\n",
       "      <th></th>\n",
       "      <th></th>\n",
       "    </tr>\n",
       "  </thead>\n",
       "  <tbody>\n",
       "    <tr>\n",
       "      <th rowspan=\"2\" valign=\"top\">$</th>\n",
       "      <th>0</th>\n",
       "      <td>1455</td>\n",
       "      <td>1455</td>\n",
       "      <td>1455</td>\n",
       "      <td>1455</td>\n",
       "      <td>1455</td>\n",
       "    </tr>\n",
       "    <tr>\n",
       "      <th>1</th>\n",
       "      <td>5986</td>\n",
       "      <td>5986</td>\n",
       "      <td>5986</td>\n",
       "      <td>5986</td>\n",
       "      <td>5986</td>\n",
       "    </tr>\n",
       "    <tr>\n",
       "      <th rowspan=\"2\" valign=\"top\">EUR</th>\n",
       "      <th>0</th>\n",
       "      <td>372</td>\n",
       "      <td>372</td>\n",
       "      <td>372</td>\n",
       "      <td>372</td>\n",
       "      <td>372</td>\n",
       "    </tr>\n",
       "    <tr>\n",
       "      <th>1</th>\n",
       "      <td>1043</td>\n",
       "      <td>1043</td>\n",
       "      <td>1043</td>\n",
       "      <td>1043</td>\n",
       "      <td>1043</td>\n",
       "    </tr>\n",
       "    <tr>\n",
       "      <th rowspan=\"2\" valign=\"top\">GBP</th>\n",
       "      <th>0</th>\n",
       "      <td>153</td>\n",
       "      <td>153</td>\n",
       "      <td>153</td>\n",
       "      <td>153</td>\n",
       "      <td>153</td>\n",
       "    </tr>\n",
       "    <tr>\n",
       "      <th>1</th>\n",
       "      <td>621</td>\n",
       "      <td>621</td>\n",
       "      <td>621</td>\n",
       "      <td>621</td>\n",
       "      <td>621</td>\n",
       "    </tr>\n",
       "    <tr>\n",
       "      <th rowspan=\"2\" valign=\"top\">INR</th>\n",
       "      <th>0</th>\n",
       "      <td>33</td>\n",
       "      <td>33</td>\n",
       "      <td>33</td>\n",
       "      <td>33</td>\n",
       "      <td>33</td>\n",
       "    </tr>\n",
       "    <tr>\n",
       "      <th>1</th>\n",
       "      <td>55</td>\n",
       "      <td>55</td>\n",
       "      <td>55</td>\n",
       "      <td>55</td>\n",
       "      <td>55</td>\n",
       "    </tr>\n",
       "    <tr>\n",
       "      <th rowspan=\"2\" valign=\"top\">NIS</th>\n",
       "      <th>0</th>\n",
       "      <td>19</td>\n",
       "      <td>19</td>\n",
       "      <td>19</td>\n",
       "      <td>19</td>\n",
       "      <td>19</td>\n",
       "    </tr>\n",
       "    <tr>\n",
       "      <th>1</th>\n",
       "      <td>130</td>\n",
       "      <td>130</td>\n",
       "      <td>130</td>\n",
       "      <td>130</td>\n",
       "      <td>130</td>\n",
       "    </tr>\n",
       "    <tr>\n",
       "      <th rowspan=\"2\" valign=\"top\">RUB</th>\n",
       "      <th>0</th>\n",
       "      <td>8</td>\n",
       "      <td>8</td>\n",
       "      <td>8</td>\n",
       "      <td>8</td>\n",
       "      <td>8</td>\n",
       "    </tr>\n",
       "    <tr>\n",
       "      <th>1</th>\n",
       "      <td>12</td>\n",
       "      <td>12</td>\n",
       "      <td>12</td>\n",
       "      <td>12</td>\n",
       "      <td>12</td>\n",
       "    </tr>\n",
       "  </tbody>\n",
       "</table>\n",
       "</div>"
      ],
      "text/plain": [
       "                   A_dol  B_dol  C_dol  D_dol  E_dol\n",
       "symbol employment                                   \n",
       "$      0            1455   1455   1455   1455   1455\n",
       "       1            5986   5986   5986   5986   5986\n",
       "EUR    0             372    372    372    372    372\n",
       "       1            1043   1043   1043   1043   1043\n",
       "GBP    0             153    153    153    153    153\n",
       "       1             621    621    621    621    621\n",
       "INR    0              33     33     33     33     33\n",
       "       1              55     55     55     55     55\n",
       "NIS    0              19     19     19     19     19\n",
       "       1             130    130    130    130    130\n",
       "RUB    0               8      8      8      8      8\n",
       "       1              12     12     12     12     12"
      ]
     },
     "execution_count": 81,
     "metadata": {},
     "output_type": "execute_result"
    }
   ],
   "source": [
    "ppp_employment_gr_count[cols_normed]"
   ]
  },
  {
   "cell_type": "markdown",
   "metadata": {},
   "source": [
    "**2. For each employment status between currency groups**\n",
    "\n",
    "We can also check for significance between pairsof currencies for the same employment status. \n",
    "E.g. _Is the difference in means between employed USD earners and NIS earners statistically significant?_\n",
    "\n",
    "We'll start by comparing employed USD earners with employed earners from other currency groups."
   ]
  },
  {
   "cell_type": "code",
   "execution_count": 82,
   "metadata": {},
   "outputs": [],
   "source": [
    "# compare employed\n",
    "p_vals_dol_vs_other = {}\n",
    "\n",
    "for l in labels:\n",
    "    employed_usd = ppp_employment_gr.get_group(('$',1))['E_dol']\n",
    "    employed_c = ppp_employment_gr.get_group((l,1))['E_dol']\n",
    "    \n",
    "    t_test = stats.ttest_ind(employed_usd, employed_c, equal_var = False)\n",
    "    p_val = t_test[1]\n",
    "    p_vals_dol_vs_other[l] = p_val"
   ]
  },
  {
   "cell_type": "code",
   "execution_count": 83,
   "metadata": {},
   "outputs": [
    {
     "data": {
      "text/plain": [
       "{'$': 1.0,\n",
       " 'EUR': 0.1783566739793286,\n",
       " 'GBP': 2.312277951123838e-17,\n",
       " 'INR': 1.2296979154547727e-20,\n",
       " 'NIS': 4.884867230344845e-12,\n",
       " 'RUB': 0.9560927995767583}"
      ]
     },
     "execution_count": 83,
     "metadata": {},
     "output_type": "execute_result"
    }
   ],
   "source": [
    "p_vals_dol_vs_other"
   ]
  },
  {
   "cell_type": "markdown",
   "metadata": {},
   "source": [
    "The difference is significant between employed USD earners and GBP, INR, and NIS earners. Not significant for EUR and RUB."
   ]
  },
  {
   "cell_type": "code",
   "execution_count": 84,
   "metadata": {},
   "outputs": [],
   "source": [
    "# function to check differeneces between each currency pair with regards to a given column\n",
    "# input column name, output dictionary of dictionaries\n",
    "\n",
    "def check_un_employment_pvals(column):\n",
    "    p_val_dict = {}\n",
    "\n",
    "    # iterate through all currencies\n",
    "    for l in labels:\n",
    "        p_vals_one_vs_other = {}\n",
    "\n",
    "        # create a currency group to compare other currencies to\n",
    "        employed_c1 = ppp_employment_gr.get_group((l,1))[column]\n",
    "\n",
    "        # iterate through all currencies again\n",
    "        for w in labels:\n",
    "            #create a compariosn group\n",
    "            employed_c = ppp_employment_gr.get_group((w,1))[column]\n",
    "\n",
    "            #run t test between each pair\n",
    "            t_test = stats.ttest_ind(employed_c1, employed_c, equal_var = False)\n",
    "\n",
    "            #extract the pvalue and add to a dictionary\n",
    "            p_val = t_test[1]\n",
    "            p_vals_one_vs_other[w] = p_val\n",
    "        # add the resulting currency dictionay to the master dictionary\n",
    "        p_val_dict[l] = p_vals_one_vs_other \n",
    "    return p_val_dict"
   ]
  },
  {
   "cell_type": "code",
   "execution_count": 85,
   "metadata": {},
   "outputs": [],
   "source": [
    "p_val_dict = check_un_employment_pvals('E_dol')"
   ]
  },
  {
   "cell_type": "code",
   "execution_count": 86,
   "metadata": {},
   "outputs": [
    {
     "name": "stdout",
     "output_type": "stream",
     "text": [
      "There is NO significant difference in means between $ and EUR with a p-value of 0.1783566739793286\n",
      "There is a significant difference in means between $ and GBP with a p-value of 2.312277951123838e-17\n",
      "There is a significant difference in means between $ and INR with a p-value of 1.2296979154547727e-20\n",
      "There is a significant difference in means between $ and NIS with a p-value of 4.884867230344845e-12\n",
      "There is NO significant difference in means between $ and RUB with a p-value of 0.9560927995767583\n",
      "There is NO significant difference in means between EUR and $ with a p-value of 0.1783566739793286\n",
      "There is a significant difference in means between EUR and GBP with a p-value of 9.281964171145644e-08\n",
      "There is a significant difference in means between EUR and INR with a p-value of 1.418999265144762e-20\n",
      "There is a significant difference in means between EUR and NIS with a p-value of 8.843538850410348e-09\n",
      "There is NO significant difference in means between EUR and RUB with a p-value of 0.9445243830321403\n",
      "There is a significant difference in means between GBP and $ with a p-value of 2.312277951123838e-17\n",
      "There is a significant difference in means between GBP and EUR with a p-value of 9.281964171145644e-08\n",
      "There is a significant difference in means between GBP and INR with a p-value of 7.214244404744414e-15\n",
      "There is a significant difference in means between GBP and NIS with a p-value of 0.019025496978533552\n",
      "There is NO significant difference in means between GBP and RUB with a p-value of 0.49463597736441567\n",
      "There is a significant difference in means between INR and $ with a p-value of 1.2296979154547727e-20\n",
      "There is a significant difference in means between INR and EUR with a p-value of 1.418999265144762e-20\n",
      "There is a significant difference in means between INR and GBP with a p-value of 7.214244404744414e-15\n",
      "There is a significant difference in means between INR and NIS with a p-value of 1.0316604315180278e-09\n",
      "There is a significant difference in means between INR and RUB with a p-value of 0.020488863355935662\n",
      "There is a significant difference in means between NIS and $ with a p-value of 4.884867230344845e-12\n",
      "There is a significant difference in means between NIS and EUR with a p-value of 8.843538850410348e-09\n",
      "There is a significant difference in means between NIS and GBP with a p-value of 0.019025496978533552\n",
      "There is a significant difference in means between NIS and INR with a p-value of 1.0316604315180278e-09\n",
      "There is NO significant difference in means between NIS and RUB with a p-value of 0.29410307072935277\n",
      "There is NO significant difference in means between RUB and $ with a p-value of 0.9560927995767583\n",
      "There is NO significant difference in means between RUB and EUR with a p-value of 0.9445243830321403\n",
      "There is NO significant difference in means between RUB and GBP with a p-value of 0.49463597736441567\n",
      "There is a significant difference in means between RUB and INR with a p-value of 0.020488863355935662\n",
      "There is NO significant difference in means between RUB and NIS with a p-value of 0.29410307072935277\n"
     ]
    }
   ],
   "source": [
    "for item in p_val_dict:\n",
    "    sub_dict = p_val_dict[item]\n",
    "    for c in sub_dict:\n",
    "        if sub_dict[c] < 0.05:\n",
    "            print(\"There is a significant difference in means between\", item, \"and\", c, \"with a p-value of\", sub_dict[c])\n",
    "        if (sub_dict[c] >= 0.05) & (sub_dict[c] < 1):\n",
    "            print(\"There is NO significant difference in means between\", item, \"and\", c, \"with a p-value of\", sub_dict[c])"
   ]
  },
  {
   "cell_type": "markdown",
   "metadata": {},
   "source": [
    "**Conclusion**\n",
    "Differences between employed Ruble earners and all other currencies, except rupees, weren’t statistically significant. This might be true, but we also need to bear in mind the sample for RUB was really small (below 20). Afaiu the Welch's t-test doesn’t need same sample sizes or variances, but still comparing a sample of ~8k to a sample of ~20 is bound to be somewhat unreliable. \n",
    "\n",
    "For all other pairs of currencies the differences were statistically significant, except for one, EUR and USD. This means while USD earners value their time slightly higher on average than EUR earners, the difference is not significant. "
   ]
  },
  {
   "cell_type": "markdown",
   "metadata": {},
   "source": [
    "## Mean value plots for each question by employment"
   ]
  },
  {
   "cell_type": "code",
   "execution_count": 87,
   "metadata": {},
   "outputs": [],
   "source": [
    "def plot_means_by_employment_for_column(column):\n",
    "    \n",
    "    # filter the dataframe with means\n",
    "    ppp = ppp_employment_means[['symbol','employment', column]]\n",
    "    fig, ax = plt.subplots(figsize=(10,8))\n",
    "\n",
    "    labels = ppp['symbol'].unique()\n",
    "\n",
    "    x = np.arange(len(labels))\n",
    "    bar_width = 0.4\n",
    "\n",
    "    g1 = ppp.loc[ppp['employment'] == 1, column]\n",
    "    g2 = ppp.loc[ppp['employment'] == 0, column]\n",
    "\n",
    "    _ = ax.bar(x, g1, width=bar_width, label='Employed')\n",
    "    _ = ax.bar(x+bar_width, g2, width=bar_width, label='Unemployed')\n",
    "    \n",
    "    title = f\"Mean values for answers to question {column} by employment (in international dollars)\"\n",
    "    ax.set_xticks(x + bar_width / 2)\n",
    "    ax.set_xticklabels(labels, fontsize=14)\n",
    "    ax.set_ylabel(\"International dollar\")\n",
    "    ax.set_title(title, pad=15, fontsize=16)\n",
    "    ax.legend()\n",
    "\n",
    "    plt.show()\n",
    "\n",
    "    fig.tight_layout()"
   ]
  },
  {
   "cell_type": "code",
   "execution_count": 88,
   "metadata": {},
   "outputs": [
    {
     "data": {
      "image/png": "[encoded data removed]",
      "text/plain": [
       "<Figure size 720x576 with 1 Axes>"
      ]
     },
     "metadata": {
      "needs_background": "light"
     },
     "output_type": "display_data"
    }
   ],
   "source": [
    "plot_means_by_employment_for_column('A_dol')"
   ]
  },
  {
   "cell_type": "code",
   "execution_count": 89,
   "metadata": {},
   "outputs": [
    {
     "data": {
      "image/png": "[encoded data removed]",
      "text/plain": [
       "<Figure size 720x576 with 1 Axes>"
      ]
     },
     "metadata": {
      "needs_background": "light"
     },
     "output_type": "display_data"
    }
   ],
   "source": [
    "plot_means_by_employment_for_column('B_dol')"
   ]
  },
  {
   "cell_type": "code",
   "execution_count": 90,
   "metadata": {},
   "outputs": [
    {
     "data": {
      "image/png": "[encoded data removed]",
      "text/plain": [
       "<Figure size 720x576 with 1 Axes>"
      ]
     },
     "metadata": {
      "needs_background": "light"
     },
     "output_type": "display_data"
    }
   ],
   "source": [
    "plot_means_by_employment_for_column('C_dol')"
   ]
  },
  {
   "cell_type": "code",
   "execution_count": 91,
   "metadata": {},
   "outputs": [
    {
     "data": {
      "image/png": "[encoded data removed]",
      "text/plain": [
       "<Figure size 720x576 with 1 Axes>"
      ]
     },
     "metadata": {
      "needs_background": "light"
     },
     "output_type": "display_data"
    }
   ],
   "source": [
    "plot_means_by_employment_for_column('D_dol')"
   ]
  },
  {
   "cell_type": "markdown",
   "metadata": {},
   "source": [
    "For each question the employed give higher values than the unemployed. We'll skip checking statistical significance, for each of them."
   ]
  },
  {
   "cell_type": "code",
   "execution_count": 92,
   "metadata": {},
   "outputs": [],
   "source": [
    "p_val_dict_A = check_un_employment_pvals('A_dol')"
   ]
  },
  {
   "cell_type": "code",
   "execution_count": 93,
   "metadata": {},
   "outputs": [
    {
     "name": "stdout",
     "output_type": "stream",
     "text": [
      "There is a significant difference in means between $ and EUR with a p-value of 0.0007312673480793661\n",
      "There is a significant difference in means between $ and GBP with a p-value of 1.0690768581477404e-09\n",
      "There is a significant difference in means between $ and INR with a p-value of 1.6407085175638627e-05\n",
      "There is a significant difference in means between $ and NIS with a p-value of 0.004444757773226471\n",
      "There is NO significant difference in means between $ and RUB with a p-value of 0.22753748154448508\n",
      "There is a significant difference in means between EUR and $ with a p-value of 0.0007312673480793661\n",
      "There is a significant difference in means between EUR and GBP with a p-value of 3.507351415867205e-12\n",
      "There is a significant difference in means between EUR and INR with a p-value of 3.7437111578681685e-07\n",
      "There is a significant difference in means between EUR and NIS with a p-value of 1.7597493661082296e-05\n",
      "There is NO significant difference in means between EUR and RUB with a p-value of 0.35239899163623034\n",
      "There is a significant difference in means between GBP and $ with a p-value of 1.0690768581477404e-09\n",
      "There is a significant difference in means between GBP and EUR with a p-value of 3.507351415867205e-12\n",
      "There is a significant difference in means between GBP and INR with a p-value of 0.005827512976816504\n",
      "There is NO significant difference in means between GBP and NIS with a p-value of 0.7858537161349614\n",
      "There is NO significant difference in means between GBP and RUB with a p-value of 0.11076227018644273\n",
      "There is a significant difference in means between INR and $ with a p-value of 1.6407085175638627e-05\n",
      "There is a significant difference in means between INR and EUR with a p-value of 3.7437111578681685e-07\n",
      "There is a significant difference in means between INR and GBP with a p-value of 0.005827512976816504\n",
      "There is a significant difference in means between INR and NIS with a p-value of 0.007539811098800614\n",
      "There is a significant difference in means between INR and RUB with a p-value of 0.03196671839739034\n",
      "There is a significant difference in means between NIS and $ with a p-value of 0.004444757773226471\n",
      "There is a significant difference in means between NIS and EUR with a p-value of 1.7597493661082296e-05\n",
      "There is NO significant difference in means between NIS and GBP with a p-value of 0.7858537161349614\n",
      "There is a significant difference in means between NIS and INR with a p-value of 0.007539811098800614\n",
      "There is NO significant difference in means between NIS and RUB with a p-value of 0.12046042175936685\n",
      "There is NO significant difference in means between RUB and $ with a p-value of 0.22753748154448508\n",
      "There is NO significant difference in means between RUB and EUR with a p-value of 0.35239899163623034\n",
      "There is NO significant difference in means between RUB and GBP with a p-value of 0.11076227018644273\n",
      "There is a significant difference in means between RUB and INR with a p-value of 0.03196671839739034\n",
      "There is NO significant difference in means between RUB and NIS with a p-value of 0.12046042175936685\n"
     ]
    }
   ],
   "source": [
    "for item in p_val_dict_A:\n",
    "    sub_dict = p_val_dict_A[item]\n",
    "    for c in sub_dict:\n",
    "        if sub_dict[c] < 0.05:\n",
    "            print(\"There is a significant difference in means between\", item, \"and\", c, \"with a p-value of\", sub_dict[c])\n",
    "        if (sub_dict[c] >= 0.05) & (sub_dict[c] < 1):\n",
    "            print(\"There is NO significant difference in means between\", item, \"and\", c, \"with a p-value of\", sub_dict[c])"
   ]
  },
  {
   "cell_type": "markdown",
   "metadata": {},
   "source": [
    "## Correlations\n",
    "We can calculate correlations between answers to each question, for the full dataframe. It will be interesting to see if the correlations are different for each currency group."
   ]
  },
  {
   "cell_type": "code",
   "execution_count": 94,
   "metadata": {},
   "outputs": [
    {
     "name": "stdout",
     "output_type": "stream",
     "text": [
      "For the whole dataframe there are strong correlations between the following columns: \n",
      "D_dol  E_dol    0.795097\n",
      "E_dol  D_dol    0.795097\n",
      "       A_dol    0.832753\n",
      "A_dol  E_dol    0.832753\n",
      "dtype: float64\n"
     ]
    }
   ],
   "source": [
    "# create a base table for correlations\n",
    "base_cols_for_correl = basetv_noout[['A_dol', 'B_dol', 'C_dol', 'D_dol', 'E_dol']]\n",
    "\n",
    "#create a matrix & pick pairs\n",
    "correl_matrix = base_cols_for_correl.corr()\n",
    "correl_pairs = correl_matrix.unstack().sort_values() \n",
    "\n",
    "#pick values above 0.7 sinigficance threshold\n",
    "f = (correl_pairs>0.7) & (correl_pairs<1)\n",
    "large_positive_corr = correl_pairs[f]\n",
    "\n",
    "print(f\"For the whole dataframe there are strong correlations between the following columns: \\n{large_positive_corr}\")"
   ]
  },
  {
   "cell_type": "code",
   "execution_count": 95,
   "metadata": {},
   "outputs": [
    {
     "name": "stdout",
     "output_type": "stream",
     "text": [
      "There is a strong positive correlation between columns D & E: 0.7951  and between A & E: 0.8328\n"
     ]
    }
   ],
   "source": [
    "overal_d_e_correl = large_positive_corr[0]\n",
    "overal_a_e_correl = large_positive_corr[-1]\n",
    "print(\"There is a strong positive correlation between columns D & E:\",round(overal_d_e_correl,4),\" and between A & E:\",round(overal_a_e_correl,4))"
   ]
  },
  {
   "cell_type": "markdown",
   "metadata": {},
   "source": [
    "**Intrerpretation.**\n",
    "\n",
    "To interpret we'll follow standard benchmarks where typically:\n",
    "* values over 0.3 or under -0.3 are considered weak correlations\n",
    "* values over 0.5 or under -0.5 are considered medium correlations\n",
    "* values over 0.7 or under -0.7 are considered strong correlations\n",
    "\n",
    "\n",
    "**Conclusion:**\n",
    "It's expected there would be positive correlations between each question and the final value of time. The higher peole valued their time in each task/question, the higher it means they value it overall. \n",
    "\n",
    "It's interesting to notice some variables correlate with the final value of time more strongly than others. Namely,  answers to questions A and D. This suggests they are stronger predictors of the final value of time, an assumption we can test later by creating a model (fitting a linear regression).\n",
    "\n",
    "\n",
    "### Chcking correlations between columns for each currency group"
   ]
  },
  {
   "cell_type": "code",
   "execution_count": 96,
   "metadata": {},
   "outputs": [],
   "source": [
    "# funciton to check correlations given the currency\n",
    "def check_correl(currency):\n",
    "    # group the table by currency\n",
    "    ppp_currency_gr = basetv_noout.groupby('symbol')\n",
    "    \n",
    "    # get the selected currency group\n",
    "    ppp_currency_gr_selected = ppp_currency_gr.get_group(currency)\n",
    "\n",
    "    # define a df with columns for correlation\n",
    "    ppp_currency_gr_selected_cols = ppp_currency_gr_selected[['A_dol', 'B_dol', 'C_dol', 'D_dol', 'E_dol']]\n",
    "\n",
    "    # create a correlation matrix\n",
    "    corr_matrix = ppp_currency_gr_selected_cols.corr()\n",
    "    corr_pairs = corr_matrix.unstack().sort_values()\n",
    "\n",
    "    # create filter for strong correlations\n",
    "    f = (corr_pairs>0.7) & (corr_pairs<1)\n",
    "    large_positive_corr = corr_pairs[f]\n",
    "    for each_tupple in large_positive_corr.index:\n",
    "        if (each_tupple[0] =='D_dol') & (each_tupple[1] =='E_dol'):\n",
    "            corr_d_e = large_positive_corr['D_dol']['E_dol']\n",
    "            if corr_d_e < overal_d_e_correl:\n",
    "                text = \"is lower\"\n",
    "                number = round((overal_d_e_correl - corr_d_e),3)\n",
    "            else:\n",
    "                text = 'is higher'\n",
    "                number = round((corr_d_e - overal_d_e_correl),3)\n",
    "        else:\n",
    "            print()\n",
    "    print(f'''For {currency} there are strong correlations between the following columns: \\n{large_positive_corr}\n",
    "    \\nThe correlation between columns D and E for {currency} {text} by around {number}\n",
    "    than the overall correlation observed in the whole dataframe.''')\n",
    "    return corr_matrix"
   ]
  },
  {
   "cell_type": "code",
   "execution_count": 97,
   "metadata": {},
   "outputs": [],
   "source": [
    "# funciton to plot a correlatiton heat map depending on curency\n",
    "def plot_correl_heatmap(currency):\n",
    "    corr_matrix = check_correl(currency)\n",
    "    #plot as heatmap\n",
    "    fig = plt.figure(figsize=(10,8))\n",
    "    sns.heatmap(corr_matrix, annot=True)\n",
    "    plt.title(f\"Correlation heatmap for {currency}\", fontsize=14)\n",
    "    plt.show()"
   ]
  },
  {
   "cell_type": "code",
   "execution_count": 98,
   "metadata": {},
   "outputs": [
    {
     "name": "stdout",
     "output_type": "stream",
     "text": [
      "\n",
      "\n",
      "\n",
      "For $ there are strong correlations between the following columns: \n",
      "D_dol  E_dol    0.807918\n",
      "E_dol  D_dol    0.807918\n",
      "       A_dol    0.829346\n",
      "A_dol  E_dol    0.829346\n",
      "dtype: float64\n",
      "    \n",
      "The correlation between columns D and E for $ is higher by around 0.013\n",
      "    than the overall correlation observed in the whole dataframe.\n"
     ]
    },
    {
     "data": {
      "image/png": "[encoded data removed]",
      "text/plain": [
       "<Figure size 720x576 with 2 Axes>"
      ]
     },
     "metadata": {
      "needs_background": "light"
     },
     "output_type": "display_data"
    }
   ],
   "source": [
    "plot_correl_heatmap('$')"
   ]
  },
  {
   "cell_type": "code",
   "execution_count": 99,
   "metadata": {},
   "outputs": [
    {
     "name": "stdout",
     "output_type": "stream",
     "text": [
      "\n",
      "\n",
      "\n",
      "For $ there are strong correlations between the following columns: \n",
      "D_dol  E_dol    0.807918\n",
      "E_dol  D_dol    0.807918\n",
      "       A_dol    0.829346\n",
      "A_dol  E_dol    0.829346\n",
      "dtype: float64\n",
      "    \n",
      "The correlation between columns D and E for $ is higher by around 0.013\n",
      "    than the overall correlation observed in the whole dataframe.\n",
      "\n",
      "\n",
      "\n",
      "For EUR there are strong correlations between the following columns: \n",
      "D_dol  E_dol    0.736351\n",
      "E_dol  D_dol    0.736351\n",
      "       A_dol    0.878141\n",
      "A_dol  E_dol    0.878141\n",
      "dtype: float64\n",
      "    \n",
      "The correlation between columns D and E for EUR is lower by around 0.059\n",
      "    than the overall correlation observed in the whole dataframe.\n",
      "\n",
      "\n",
      "\n",
      "For GBP there are strong correlations between the following columns: \n",
      "D_dol  E_dol    0.788350\n",
      "E_dol  D_dol    0.788350\n",
      "       A_dol    0.830279\n",
      "A_dol  E_dol    0.830279\n",
      "dtype: float64\n",
      "    \n",
      "The correlation between columns D and E for GBP is lower by around 0.007\n",
      "    than the overall correlation observed in the whole dataframe.\n",
      "\n",
      "\n",
      "\n",
      "For INR there are strong correlations between the following columns: \n",
      "E_dol  A_dol    0.718816\n",
      "A_dol  E_dol    0.718816\n",
      "D_dol  E_dol    0.795213\n",
      "E_dol  D_dol    0.795213\n",
      "dtype: float64\n",
      "    \n",
      "The correlation between columns D and E for INR is higher by around 0.0\n",
      "    than the overall correlation observed in the whole dataframe.\n",
      "\n",
      "\n",
      "\n",
      "For NIS there are strong correlations between the following columns: \n",
      "D_dol  E_dol    0.752241\n",
      "E_dol  D_dol    0.752241\n",
      "       A_dol    0.778621\n",
      "A_dol  E_dol    0.778621\n",
      "dtype: float64\n",
      "    \n",
      "The correlation between columns D and E for NIS is lower by around 0.043\n",
      "    than the overall correlation observed in the whole dataframe.\n",
      "\n",
      "\n",
      "\n",
      "\n",
      "\n",
      "\n",
      "\n",
      "For RUB there are strong correlations between the following columns: \n",
      "E_dol  A_dol    0.756323\n",
      "A_dol  E_dol    0.756323\n",
      "B_dol  E_dol    0.784195\n",
      "E_dol  B_dol    0.784195\n",
      "B_dol  D_dol    0.832449\n",
      "D_dol  B_dol    0.832449\n",
      "       E_dol    0.954996\n",
      "E_dol  D_dol    0.954996\n",
      "dtype: float64\n",
      "    \n",
      "The correlation between columns D and E for RUB is higher by around 0.16\n",
      "    than the overall correlation observed in the whole dataframe.\n"
     ]
    }
   ],
   "source": [
    "for l in labels:\n",
    "    check_correl(l)"
   ]
  },
  {
   "cell_type": "markdown",
   "metadata": {},
   "source": [
    "**Conclusion**\n",
    "Just like in the whole datafram, also for each currencies the answers to question D and A have the strongest positive corrlations with the final value of time. This suggests the answers to these questions have the highest impact on the final value of time. \n",
    "\n",
    "Rubles are a standout currency in that there are more strong positive correlations: answers to questions A, B, D (all apart from C) strongly correlate with the final value of time (E). In addition answers to questions B & D positively correate witheach other. We need to bear in mind that the sample size for rubles was very small (<50), so these results aren't reliable. "
   ]
  },
  {
   "cell_type": "markdown",
   "metadata": {},
   "source": [
    "## Value of time by enjoyment\n",
    "\n",
    "Employed participants answered a question about the enjoyment they derive from work. We can check if there is an impact of enjoyment on how they value their time."
   ]
  },
  {
   "cell_type": "code",
   "execution_count": 100,
   "metadata": {},
   "outputs": [
    {
     "data": {
      "text/plain": [
       "Yes         3946\n",
       "Somewhat    3321\n",
       "0           2052\n",
       "No           568\n",
       "Name: enjoy, dtype: int64"
      ]
     },
     "execution_count": 100,
     "metadata": {},
     "output_type": "execute_result"
    }
   ],
   "source": [
    "#create a base table\n",
    "enjoyment = basetv_noout[['enjoy', 'employment','symbol','A_dol', 'B_dol', 'C_dol', 'D_dol', 'E_dol']]\n",
    "\n",
    "#check values in enjoy column\n",
    "enjoyment['enjoy'].value_counts(dropna=False)"
   ]
  },
  {
   "cell_type": "markdown",
   "metadata": {},
   "source": [
    "There are over 2k values of zero where, presumably, the respondent didn't have a job (\"employment\" == 0)."
   ]
  },
  {
   "cell_type": "code",
   "execution_count": 101,
   "metadata": {},
   "outputs": [
    {
     "data": {
      "text/plain": [
       "1    7847\n",
       "0    2040\n",
       "Name: employment, dtype: int64"
      ]
     },
     "execution_count": 101,
     "metadata": {},
     "output_type": "execute_result"
    }
   ],
   "source": [
    "# check how many had employment = 0\n",
    "enjoyment[\"employment\"].value_counts()"
   ]
  },
  {
   "cell_type": "code",
   "execution_count": 102,
   "metadata": {},
   "outputs": [],
   "source": [
    "enjoy_0 = enjoyment.loc[enjoyment['enjoy'] == 0]"
   ]
  },
  {
   "cell_type": "code",
   "execution_count": 103,
   "metadata": {},
   "outputs": [
    {
     "name": "stdout",
     "output_type": "stream",
     "text": [
      "There are 2039 rows where both enjoyment and employment are 0. That leaves 13 rows where enjoyment is marked 0, even if the person is employed.\n"
     ]
    }
   ],
   "source": [
    "en_emp = enjoyment.loc[(enjoyment[\"employment\"] == 0) & (enjoyment[\"enjoy\"] == 0)]\n",
    "print(\"There are\", en_emp.shape[0], \"rows where both enjoyment and employment are 0. That leaves\", enjoy_0.shape[0] - en_emp.shape[0], \"rows where enjoyment is marked 0, even if the person is employed.\" )"
   ]
  },
  {
   "cell_type": "markdown",
   "metadata": {},
   "source": [
    "We can safely remove all the rows where enjoyment was 0."
   ]
  },
  {
   "cell_type": "code",
   "execution_count": 104,
   "metadata": {},
   "outputs": [],
   "source": [
    "enjoyment_n0 = enjoyment.loc[enjoyment[\"enjoy\"] != 0]\n",
    "\n",
    "# separate frame to eliminate Russian responses\n",
    "enjoyment_n0_norus = enjoyment_n0.loc[enjoyment_n0['symbol']!='RUB']"
   ]
  },
  {
   "cell_type": "code",
   "execution_count": 105,
   "metadata": {},
   "outputs": [
    {
     "data": {
      "text/html": [
       "<div>\n",
       "<style scoped>\n",
       "    .dataframe tbody tr th:only-of-type {\n",
       "        vertical-align: middle;\n",
       "    }\n",
       "\n",
       "    .dataframe tbody tr th {\n",
       "        vertical-align: top;\n",
       "    }\n",
       "\n",
       "    .dataframe thead th {\n",
       "        text-align: right;\n",
       "    }\n",
       "</style>\n",
       "<table border=\"1\" class=\"dataframe\">\n",
       "  <thead>\n",
       "    <tr style=\"text-align: right;\">\n",
       "      <th></th>\n",
       "      <th>enjoy</th>\n",
       "      <th>employment</th>\n",
       "      <th>symbol</th>\n",
       "      <th>A_dol</th>\n",
       "      <th>B_dol</th>\n",
       "      <th>C_dol</th>\n",
       "      <th>D_dol</th>\n",
       "      <th>E_dol</th>\n",
       "    </tr>\n",
       "  </thead>\n",
       "  <tbody>\n",
       "    <tr>\n",
       "      <th>0</th>\n",
       "      <td>Somewhat</td>\n",
       "      <td>1</td>\n",
       "      <td>$</td>\n",
       "      <td>20.0</td>\n",
       "      <td>12.5</td>\n",
       "      <td>200.000000</td>\n",
       "      <td>20.000000</td>\n",
       "      <td>20.000000</td>\n",
       "    </tr>\n",
       "    <tr>\n",
       "      <th>2</th>\n",
       "      <td>Yes</td>\n",
       "      <td>1</td>\n",
       "      <td>$</td>\n",
       "      <td>30.0</td>\n",
       "      <td>12.5</td>\n",
       "      <td>50.000000</td>\n",
       "      <td>32.927350</td>\n",
       "      <td>31.463675</td>\n",
       "    </tr>\n",
       "    <tr>\n",
       "      <th>4</th>\n",
       "      <td>Yes</td>\n",
       "      <td>1</td>\n",
       "      <td>$</td>\n",
       "      <td>49.0</td>\n",
       "      <td>12.5</td>\n",
       "      <td>50.000000</td>\n",
       "      <td>101.923077</td>\n",
       "      <td>49.500000</td>\n",
       "    </tr>\n",
       "    <tr>\n",
       "      <th>5</th>\n",
       "      <td>Somewhat</td>\n",
       "      <td>1</td>\n",
       "      <td>$</td>\n",
       "      <td>75.0</td>\n",
       "      <td>20.0</td>\n",
       "      <td>100.000000</td>\n",
       "      <td>100.582333</td>\n",
       "      <td>87.500000</td>\n",
       "    </tr>\n",
       "    <tr>\n",
       "      <th>6</th>\n",
       "      <td>Yes</td>\n",
       "      <td>1</td>\n",
       "      <td>$</td>\n",
       "      <td>35.0</td>\n",
       "      <td>1.5</td>\n",
       "      <td>33.333333</td>\n",
       "      <td>19.500000</td>\n",
       "      <td>26.416667</td>\n",
       "    </tr>\n",
       "  </tbody>\n",
       "</table>\n",
       "</div>"
      ],
      "text/plain": [
       "      enjoy employment symbol  A_dol  B_dol       C_dol       D_dol      E_dol\n",
       "0  Somewhat          1      $   20.0   12.5  200.000000   20.000000  20.000000\n",
       "2       Yes          1      $   30.0   12.5   50.000000   32.927350  31.463675\n",
       "4       Yes          1      $   49.0   12.5   50.000000  101.923077  49.500000\n",
       "5  Somewhat          1      $   75.0   20.0  100.000000  100.582333  87.500000\n",
       "6       Yes          1      $   35.0    1.5   33.333333   19.500000  26.416667"
      ]
     },
     "execution_count": 105,
     "metadata": {},
     "output_type": "execute_result"
    }
   ],
   "source": [
    "enjoyment_n0.head()"
   ]
  },
  {
   "cell_type": "markdown",
   "metadata": {},
   "source": [
    "We can get a feel for the values, and see if anyhtig immediately jumps out, by checking the distributions of each group."
   ]
  },
  {
   "cell_type": "code",
   "execution_count": 106,
   "metadata": {},
   "outputs": [],
   "source": [
    "levels = enjoyment_n0['enjoy'].unique()"
   ]
  },
  {
   "cell_type": "code",
   "execution_count": 107,
   "metadata": {},
   "outputs": [
    {
     "data": {
      "image/png": "[encoded data removed]",
      "text/plain": [
       "<Figure size 720x720 with 4 Axes>"
      ]
     },
     "metadata": {
      "needs_background": "light"
     },
     "output_type": "display_data"
    }
   ],
   "source": [
    "fig, axes = plt.subplots(2,2,figsize=(10,10))\n",
    "\n",
    "# define arays for plotting\n",
    "y1 = enjoyment_n0.loc[enjoyment_n0['enjoy'] == 'Yes']['E_dol']\n",
    "y2 = enjoyment_n0.loc[enjoyment_n0['enjoy'] == 'Somewhat']['E_dol']\n",
    "y3 = enjoyment_n0.loc[enjoyment_n0['enjoy'] == 'No']['E_dol']\n",
    "\n",
    "# one plot on each subplot\n",
    "axes[0][0].hist(y1,bins=20)\n",
    "axes[0][1].hist(y3,bins=20)\n",
    "axes[1][0].hist(y3,bins= 20)\n",
    "\n",
    "# set titles for each subplot\n",
    "axes[0][0].set_title(\"Enjoy work\")\n",
    "axes[0][1].set_title(\"Enjoy somewhat\")\n",
    "axes[1][0].set_title(\"Don't enjoy\")\n",
    "\n",
    "#set main titles\n",
    "plt.suptitle(\"Distribution of value of time depending on job enjoyment level\", size=14)\n",
    "plt.show()"
   ]
  },
  {
   "cell_type": "markdown",
   "metadata": {},
   "source": [
    "Next, we can group by enjoyment levels and plot the means for each quesiton."
   ]
  },
  {
   "cell_type": "code",
   "execution_count": 108,
   "metadata": {},
   "outputs": [],
   "source": [
    "enjoyment_grouped = enjoyment_n0.groupby('enjoy')\n",
    "enjoyment_grouped_mean = enjoyment_grouped.mean()"
   ]
  },
  {
   "cell_type": "code",
   "execution_count": 109,
   "metadata": {},
   "outputs": [
    {
     "data": {
      "text/html": [
       "<div>\n",
       "<style scoped>\n",
       "    .dataframe tbody tr th:only-of-type {\n",
       "        vertical-align: middle;\n",
       "    }\n",
       "\n",
       "    .dataframe tbody tr th {\n",
       "        vertical-align: top;\n",
       "    }\n",
       "\n",
       "    .dataframe thead th {\n",
       "        text-align: right;\n",
       "    }\n",
       "</style>\n",
       "<table border=\"1\" class=\"dataframe\">\n",
       "  <thead>\n",
       "    <tr style=\"text-align: right;\">\n",
       "      <th></th>\n",
       "      <th>enjoy</th>\n",
       "      <th>A_dol</th>\n",
       "      <th>B_dol</th>\n",
       "      <th>C_dol</th>\n",
       "      <th>D_dol</th>\n",
       "      <th>E_dol</th>\n",
       "    </tr>\n",
       "  </thead>\n",
       "  <tbody>\n",
       "    <tr>\n",
       "      <th>0</th>\n",
       "      <td>No</td>\n",
       "      <td>36.007827</td>\n",
       "      <td>11.058119</td>\n",
       "      <td>126.088073</td>\n",
       "      <td>36.891815</td>\n",
       "      <td>35.698445</td>\n",
       "    </tr>\n",
       "    <tr>\n",
       "      <th>1</th>\n",
       "      <td>Somewhat</td>\n",
       "      <td>39.530704</td>\n",
       "      <td>11.694914</td>\n",
       "      <td>132.072474</td>\n",
       "      <td>37.462520</td>\n",
       "      <td>37.791349</td>\n",
       "    </tr>\n",
       "    <tr>\n",
       "      <th>2</th>\n",
       "      <td>Yes</td>\n",
       "      <td>43.982347</td>\n",
       "      <td>12.981455</td>\n",
       "      <td>140.073222</td>\n",
       "      <td>39.344731</td>\n",
       "      <td>41.004214</td>\n",
       "    </tr>\n",
       "  </tbody>\n",
       "</table>\n",
       "</div>"
      ],
      "text/plain": [
       "      enjoy      A_dol      B_dol       C_dol      D_dol      E_dol\n",
       "0        No  36.007827  11.058119  126.088073  36.891815  35.698445\n",
       "1  Somewhat  39.530704  11.694914  132.072474  37.462520  37.791349\n",
       "2       Yes  43.982347  12.981455  140.073222  39.344731  41.004214"
      ]
     },
     "execution_count": 109,
     "metadata": {},
     "output_type": "execute_result"
    }
   ],
   "source": [
    "enjoyment_grouped_mean.reset_index(inplace=True)\n",
    "enjoyment_grouped_mean"
   ]
  },
  {
   "cell_type": "code",
   "execution_count": 110,
   "metadata": {},
   "outputs": [
    {
     "data": {
      "text/plain": [
       "['A_dol', 'B_dol', 'C_dol', 'D_dol', 'E_dol']"
      ]
     },
     "execution_count": 110,
     "metadata": {},
     "output_type": "execute_result"
    }
   ],
   "source": [
    "enjoyment_grouped_mean['enjoy'].values\n",
    "cols_normed"
   ]
  },
  {
   "cell_type": "code",
   "execution_count": 111,
   "metadata": {},
   "outputs": [],
   "source": [
    "enjoyment_grouped_mean.set_index('enjoy',inplace=True)"
   ]
  },
  {
   "cell_type": "code",
   "execution_count": 112,
   "metadata": {},
   "outputs": [],
   "source": [
    "enoyment_transposed = enjoyment_grouped_mean.transpose()"
   ]
  },
  {
   "cell_type": "code",
   "execution_count": 113,
   "metadata": {},
   "outputs": [
    {
     "data": {
      "text/html": [
       "<div>\n",
       "<style scoped>\n",
       "    .dataframe tbody tr th:only-of-type {\n",
       "        vertical-align: middle;\n",
       "    }\n",
       "\n",
       "    .dataframe tbody tr th {\n",
       "        vertical-align: top;\n",
       "    }\n",
       "\n",
       "    .dataframe thead th {\n",
       "        text-align: right;\n",
       "    }\n",
       "</style>\n",
       "<table border=\"1\" class=\"dataframe\">\n",
       "  <thead>\n",
       "    <tr style=\"text-align: right;\">\n",
       "      <th>enjoy</th>\n",
       "      <th>No</th>\n",
       "      <th>Somewhat</th>\n",
       "      <th>Yes</th>\n",
       "    </tr>\n",
       "  </thead>\n",
       "  <tbody>\n",
       "    <tr>\n",
       "      <th>A_dol</th>\n",
       "      <td>36.007827</td>\n",
       "      <td>39.530704</td>\n",
       "      <td>43.982347</td>\n",
       "    </tr>\n",
       "    <tr>\n",
       "      <th>B_dol</th>\n",
       "      <td>11.058119</td>\n",
       "      <td>11.694914</td>\n",
       "      <td>12.981455</td>\n",
       "    </tr>\n",
       "    <tr>\n",
       "      <th>C_dol</th>\n",
       "      <td>126.088073</td>\n",
       "      <td>132.072474</td>\n",
       "      <td>140.073222</td>\n",
       "    </tr>\n",
       "    <tr>\n",
       "      <th>D_dol</th>\n",
       "      <td>36.891815</td>\n",
       "      <td>37.462520</td>\n",
       "      <td>39.344731</td>\n",
       "    </tr>\n",
       "    <tr>\n",
       "      <th>E_dol</th>\n",
       "      <td>35.698445</td>\n",
       "      <td>37.791349</td>\n",
       "      <td>41.004214</td>\n",
       "    </tr>\n",
       "  </tbody>\n",
       "</table>\n",
       "</div>"
      ],
      "text/plain": [
       "enjoy          No    Somewhat         Yes\n",
       "A_dol   36.007827   39.530704   43.982347\n",
       "B_dol   11.058119   11.694914   12.981455\n",
       "C_dol  126.088073  132.072474  140.073222\n",
       "D_dol   36.891815   37.462520   39.344731\n",
       "E_dol   35.698445   37.791349   41.004214"
      ]
     },
     "execution_count": 113,
     "metadata": {},
     "output_type": "execute_result"
    }
   ],
   "source": [
    "enoyment_transposed"
   ]
  },
  {
   "cell_type": "code",
   "execution_count": 114,
   "metadata": {},
   "outputs": [
    {
     "data": {
      "image/png": "[encoded data removed]",
      "text/plain": [
       "<Figure size 1440x576 with 1 Axes>"
      ]
     },
     "metadata": {
      "needs_background": "light"
     },
     "output_type": "display_data"
    }
   ],
   "source": [
    "labels = cols_normed\n",
    "x = np.arange(len(labels))\n",
    "ax = enoyment_transposed.plot(kind='bar',figsize=(20, 8),width=0.8)\n",
    "\n",
    "title = f\"Mean values for each question, by enjoyment (in international $)\"\n",
    "ax.set_ylabel(\"International $\", size=14)\n",
    "ax.set_xticklabels(labels, fontsize=14, rotation=45)\n",
    "ax.set_title(title, pad=15, fontsize=16)\n",
    "ax.legend()\n",
    "\n",
    "plt.show()\n",
    "\n",
    "fig.tight_layout()"
   ]
  },
  {
   "cell_type": "markdown",
   "metadata": {},
   "source": [
    "The diffrences in means between columns don't seem to be very different. That is, the value a person ataches to their free time doesn't depend much on the level of enjoyment they derive from work. We can make sure these results are statistically significant using Welch's t-test (assumes equal variance, unequal population sizes, tests hypothesis that the means are equal)."
   ]
  },
  {
   "cell_type": "code",
   "execution_count": 115,
   "metadata": {},
   "outputs": [
    {
     "data": {
      "text/html": [
       "<div>\n",
       "<style scoped>\n",
       "    .dataframe tbody tr th:only-of-type {\n",
       "        vertical-align: middle;\n",
       "    }\n",
       "\n",
       "    .dataframe tbody tr th {\n",
       "        vertical-align: top;\n",
       "    }\n",
       "\n",
       "    .dataframe thead th {\n",
       "        text-align: right;\n",
       "    }\n",
       "</style>\n",
       "<table border=\"1\" class=\"dataframe\">\n",
       "  <thead>\n",
       "    <tr style=\"text-align: right;\">\n",
       "      <th></th>\n",
       "      <th>A_dol</th>\n",
       "      <th>B_dol</th>\n",
       "      <th>C_dol</th>\n",
       "      <th>D_dol</th>\n",
       "      <th>E_dol</th>\n",
       "    </tr>\n",
       "    <tr>\n",
       "      <th>enjoy</th>\n",
       "      <th></th>\n",
       "      <th></th>\n",
       "      <th></th>\n",
       "      <th></th>\n",
       "      <th></th>\n",
       "    </tr>\n",
       "  </thead>\n",
       "  <tbody>\n",
       "    <tr>\n",
       "      <th>No</th>\n",
       "      <td>666.415373</td>\n",
       "      <td>122.247244</td>\n",
       "      <td>10498.016052</td>\n",
       "      <td>747.795457</td>\n",
       "      <td>442.737329</td>\n",
       "    </tr>\n",
       "    <tr>\n",
       "      <th>Somewhat</th>\n",
       "      <td>700.421775</td>\n",
       "      <td>114.321061</td>\n",
       "      <td>10346.555432</td>\n",
       "      <td>673.202751</td>\n",
       "      <td>460.495636</td>\n",
       "    </tr>\n",
       "    <tr>\n",
       "      <th>Yes</th>\n",
       "      <td>808.356942</td>\n",
       "      <td>128.148370</td>\n",
       "      <td>10965.689434</td>\n",
       "      <td>706.622213</td>\n",
       "      <td>475.620846</td>\n",
       "    </tr>\n",
       "  </tbody>\n",
       "</table>\n",
       "</div>"
      ],
      "text/plain": [
       "               A_dol       B_dol         C_dol       D_dol       E_dol\n",
       "enjoy                                                                 \n",
       "No        666.415373  122.247244  10498.016052  747.795457  442.737329\n",
       "Somewhat  700.421775  114.321061  10346.555432  673.202751  460.495636\n",
       "Yes       808.356942  128.148370  10965.689434  706.622213  475.620846"
      ]
     },
     "execution_count": 115,
     "metadata": {},
     "output_type": "execute_result"
    }
   ],
   "source": [
    "enjoyment_grouped_var = enjoyment_grouped.var()\n",
    "enjoyment_grouped_var"
   ]
  },
  {
   "cell_type": "code",
   "execution_count": 116,
   "metadata": {},
   "outputs": [],
   "source": [
    "#dictonary to hold p values\n",
    "pvals_enjoy_yn = {}\n",
    "pvals_enjoy_y_some = {}\n",
    "pvals_enjoy_n_some = {}\n",
    "\n",
    "#check pvalues between enjoyment yes & no in each question\n",
    "for c in cols_normed:\n",
    "    enjoy_yes_col = enjoyment_grouped.get_group('Yes')[c]\n",
    "    enjoy_no_col = enjoyment_grouped.get_group('No')[c]\n",
    "    enjoy_some_col = enjoyment_grouped.get_group('Somewhat')[c]\n",
    "    \n",
    "    enjoy_test_yn = stats.ttest_ind(enjoy_yes_col, enjoy_no_col)\n",
    "    pval_yn = enjoy_test_yn[1]\n",
    "    pvals_enjoy_yn[c] = pval_yn\n",
    "    \n",
    "    enjoy_test_y_some = stats.ttest_ind(enjoy_yes_col, enjoy_some_col)\n",
    "    pval_y_some = enjoy_test_y_some[1]\n",
    "    pvals_enjoy_y_some[c] = pval_y_some\n",
    "    \n",
    "    enjoy_test_n_some = stats.ttest_ind(enjoy_no_col, enjoy_some_col)\n",
    "    pval_n_some = enjoy_test_n_some[1]\n",
    "    pvals_enjoy_n_some[c] = pval_n_some"
   ]
  },
  {
   "cell_type": "code",
   "execution_count": 117,
   "metadata": {},
   "outputs": [
    {
     "name": "stdout",
     "output_type": "stream",
     "text": [
      "The differences in column A_dol are significant— p-value 3e-10  (lower than 0.05).\n",
      "The differences in column B_dol are significant— p-value 0.000148434  (lower than 0.05).\n",
      "The differences in column C_dol are significant— p-value 0.0028610107  (lower than 0.05).\n",
      "The differences in column D_dol are significant— p-value 0.0405499926  (lower than 0.05).\n",
      "The differences in column E_dol are significant— p-value 5.46e-08  (lower than 0.05).\n"
     ]
    }
   ],
   "source": [
    "for v in pvals_enjoy_yn:\n",
    "    if pvals_enjoy_yn[v] < 0.05:\n",
    "        print(\"The differences in column\", v, \"are significant— p-value\",round(pvals_enjoy_yn[v], 10), \" (lower than 0.05).\" )\n",
    "    else:\n",
    "        print(\"The differences in column\", v, \"are not significant — p-value\",round(pvals_enjoy_yn[v], 2), \"(higer than 0.05).\" )"
   ]
  },
  {
   "cell_type": "markdown",
   "metadata": {},
   "source": [
    "**Conclusion**\n",
    "\n",
    "Looks like eyeballing the chart didn't produce accurate results. There are significant differences in how people answer the questions (A-D) depending on how much they enjoy their work. This in turn produces significant diffrences in how they value their time.\n",
    "\n",
    "People who enjoy their work value their time higher."
   ]
  },
  {
   "cell_type": "code",
   "execution_count": 118,
   "metadata": {},
   "outputs": [
    {
     "name": "stdout",
     "output_type": "stream",
     "text": [
      "The differences in column A_dol are significant— p-value 0.0  (lower than 0.05).\n",
      "The differences in column B_dol are significant— p-value 7.598e-07  (lower than 0.05).\n",
      "The differences in column C_dol are significant— p-value 0.0010167423  (lower than 0.05).\n",
      "The differences in column D_dol are significant— p-value 0.0023752539  (lower than 0.05).\n",
      "The differences in column E_dol are significant— p-value 3e-10  (lower than 0.05).\n"
     ]
    }
   ],
   "source": [
    "for v in pvals_enjoy_y_some:\n",
    "    if pvals_enjoy_y_some[v] < 0.05:\n",
    "        print(\"The differences in column\", v, \"are significant— p-value\",round(pvals_enjoy_y_some[v], 10), \" (lower than 0.05).\" )\n",
    "    else:\n",
    "        print(\"The differences in column\", v, \"are not significant — p-value\",round(pvals_enjoy_y_some[v], 2), \"(higer than 0.05).\" )"
   ]
  },
  {
   "cell_type": "markdown",
   "metadata": {},
   "source": [
    "Even those who only enjoy their work \"somewhat\" value their time significantly lower than those who enjoy their work."
   ]
  },
  {
   "cell_type": "code",
   "execution_count": 119,
   "metadata": {},
   "outputs": [
    {
     "name": "stdout",
     "output_type": "stream",
     "text": [
      "The differences in column A_dol are significant— p-value 0.00328  (lower than 0.05).\n",
      "The differences in column B_dol are not significant — p-value 0.19194 (higer than 0.05).\n",
      "The differences in column C_dol are not significant — p-value 0.19562 (higer than 0.05).\n",
      "The differences in column D_dol are not significant — p-value 0.63086 (higer than 0.05).\n",
      "The differences in column E_dol are significant— p-value 0.0313  (lower than 0.05).\n"
     ]
    }
   ],
   "source": [
    "for v in pvals_enjoy_n_some:\n",
    "    if pvals_enjoy_n_some[v] < 0.05:\n",
    "        print(\"The differences in column\", v, \"are significant— p-value\",round(pvals_enjoy_n_some[v], 5), \" (lower than 0.05).\" )\n",
    "    else:\n",
    "        print(\"The differences in column\", v, \"are not significant — p-value\",round(pvals_enjoy_n_some[v], 5), \"(higer than 0.05).\" )"
   ]
  },
  {
   "cell_type": "markdown",
   "metadata": {},
   "source": [
    "In comparison to those who don't enjoy their work, those who enjoy their work somewhat have significantly higher values in their answer to question A and in the final value of time. \n",
    "\n",
    "It appears that enjoyment of work is an important factor in how people value their free time. The more they enjoy their work the more they value their free time. (Isn't it slightly surprising?)\n",
    "\n",
    "### Work enjoyment by currency"
   ]
  },
  {
   "cell_type": "code",
   "execution_count": 120,
   "metadata": {},
   "outputs": [
    {
     "data": {
      "text/html": [
       "<div>\n",
       "<style scoped>\n",
       "    .dataframe tbody tr th:only-of-type {\n",
       "        vertical-align: middle;\n",
       "    }\n",
       "\n",
       "    .dataframe tbody tr th {\n",
       "        vertical-align: top;\n",
       "    }\n",
       "\n",
       "    .dataframe thead th {\n",
       "        text-align: right;\n",
       "    }\n",
       "</style>\n",
       "<table border=\"1\" class=\"dataframe\">\n",
       "  <thead>\n",
       "    <tr style=\"text-align: right;\">\n",
       "      <th></th>\n",
       "      <th></th>\n",
       "      <th>employment</th>\n",
       "      <th>A_dol</th>\n",
       "      <th>B_dol</th>\n",
       "      <th>C_dol</th>\n",
       "      <th>D_dol</th>\n",
       "      <th>E_dol</th>\n",
       "    </tr>\n",
       "    <tr>\n",
       "      <th>symbol</th>\n",
       "      <th>enjoy</th>\n",
       "      <th></th>\n",
       "      <th></th>\n",
       "      <th></th>\n",
       "      <th></th>\n",
       "      <th></th>\n",
       "      <th></th>\n",
       "    </tr>\n",
       "  </thead>\n",
       "  <tbody>\n",
       "    <tr>\n",
       "      <th rowspan=\"3\" valign=\"top\">$</th>\n",
       "      <th>No</th>\n",
       "      <td>445</td>\n",
       "      <td>445</td>\n",
       "      <td>445</td>\n",
       "      <td>445</td>\n",
       "      <td>445</td>\n",
       "      <td>445</td>\n",
       "    </tr>\n",
       "    <tr>\n",
       "      <th>Somewhat</th>\n",
       "      <td>2565</td>\n",
       "      <td>2565</td>\n",
       "      <td>2565</td>\n",
       "      <td>2565</td>\n",
       "      <td>2565</td>\n",
       "      <td>2565</td>\n",
       "    </tr>\n",
       "    <tr>\n",
       "      <th>Yes</th>\n",
       "      <td>2964</td>\n",
       "      <td>2964</td>\n",
       "      <td>2964</td>\n",
       "      <td>2964</td>\n",
       "      <td>2964</td>\n",
       "      <td>2964</td>\n",
       "    </tr>\n",
       "    <tr>\n",
       "      <th rowspan=\"3\" valign=\"top\">EUR</th>\n",
       "      <th>No</th>\n",
       "      <td>67</td>\n",
       "      <td>67</td>\n",
       "      <td>67</td>\n",
       "      <td>67</td>\n",
       "      <td>67</td>\n",
       "      <td>67</td>\n",
       "    </tr>\n",
       "    <tr>\n",
       "      <th>Somewhat</th>\n",
       "      <td>406</td>\n",
       "      <td>406</td>\n",
       "      <td>406</td>\n",
       "      <td>406</td>\n",
       "      <td>406</td>\n",
       "      <td>406</td>\n",
       "    </tr>\n",
       "    <tr>\n",
       "      <th>Yes</th>\n",
       "      <td>570</td>\n",
       "      <td>570</td>\n",
       "      <td>570</td>\n",
       "      <td>570</td>\n",
       "      <td>570</td>\n",
       "      <td>570</td>\n",
       "    </tr>\n",
       "    <tr>\n",
       "      <th rowspan=\"3\" valign=\"top\">GBP</th>\n",
       "      <th>No</th>\n",
       "      <td>41</td>\n",
       "      <td>41</td>\n",
       "      <td>41</td>\n",
       "      <td>41</td>\n",
       "      <td>41</td>\n",
       "      <td>41</td>\n",
       "    </tr>\n",
       "    <tr>\n",
       "      <th>Somewhat</th>\n",
       "      <td>267</td>\n",
       "      <td>267</td>\n",
       "      <td>267</td>\n",
       "      <td>267</td>\n",
       "      <td>267</td>\n",
       "      <td>267</td>\n",
       "    </tr>\n",
       "    <tr>\n",
       "      <th>Yes</th>\n",
       "      <td>313</td>\n",
       "      <td>313</td>\n",
       "      <td>313</td>\n",
       "      <td>313</td>\n",
       "      <td>313</td>\n",
       "      <td>313</td>\n",
       "    </tr>\n",
       "    <tr>\n",
       "      <th rowspan=\"3\" valign=\"top\">INR</th>\n",
       "      <th>No</th>\n",
       "      <td>6</td>\n",
       "      <td>6</td>\n",
       "      <td>6</td>\n",
       "      <td>6</td>\n",
       "      <td>6</td>\n",
       "      <td>6</td>\n",
       "    </tr>\n",
       "    <tr>\n",
       "      <th>Somewhat</th>\n",
       "      <td>29</td>\n",
       "      <td>29</td>\n",
       "      <td>29</td>\n",
       "      <td>29</td>\n",
       "      <td>29</td>\n",
       "      <td>29</td>\n",
       "    </tr>\n",
       "    <tr>\n",
       "      <th>Yes</th>\n",
       "      <td>20</td>\n",
       "      <td>20</td>\n",
       "      <td>20</td>\n",
       "      <td>20</td>\n",
       "      <td>20</td>\n",
       "      <td>20</td>\n",
       "    </tr>\n",
       "    <tr>\n",
       "      <th rowspan=\"3\" valign=\"top\">NIS</th>\n",
       "      <th>No</th>\n",
       "      <td>9</td>\n",
       "      <td>9</td>\n",
       "      <td>9</td>\n",
       "      <td>9</td>\n",
       "      <td>9</td>\n",
       "      <td>9</td>\n",
       "    </tr>\n",
       "    <tr>\n",
       "      <th>Somewhat</th>\n",
       "      <td>49</td>\n",
       "      <td>49</td>\n",
       "      <td>49</td>\n",
       "      <td>49</td>\n",
       "      <td>49</td>\n",
       "      <td>49</td>\n",
       "    </tr>\n",
       "    <tr>\n",
       "      <th>Yes</th>\n",
       "      <td>72</td>\n",
       "      <td>72</td>\n",
       "      <td>72</td>\n",
       "      <td>72</td>\n",
       "      <td>72</td>\n",
       "      <td>72</td>\n",
       "    </tr>\n",
       "    <tr>\n",
       "      <th rowspan=\"2\" valign=\"top\">RUB</th>\n",
       "      <th>Somewhat</th>\n",
       "      <td>5</td>\n",
       "      <td>5</td>\n",
       "      <td>5</td>\n",
       "      <td>5</td>\n",
       "      <td>5</td>\n",
       "      <td>5</td>\n",
       "    </tr>\n",
       "    <tr>\n",
       "      <th>Yes</th>\n",
       "      <td>7</td>\n",
       "      <td>7</td>\n",
       "      <td>7</td>\n",
       "      <td>7</td>\n",
       "      <td>7</td>\n",
       "      <td>7</td>\n",
       "    </tr>\n",
       "  </tbody>\n",
       "</table>\n",
       "</div>"
      ],
      "text/plain": [
       "                 employment  A_dol  B_dol  C_dol  D_dol  E_dol\n",
       "symbol enjoy                                                  \n",
       "$      No               445    445    445    445    445    445\n",
       "       Somewhat        2565   2565   2565   2565   2565   2565\n",
       "       Yes             2964   2964   2964   2964   2964   2964\n",
       "EUR    No                67     67     67     67     67     67\n",
       "       Somewhat         406    406    406    406    406    406\n",
       "       Yes              570    570    570    570    570    570\n",
       "GBP    No                41     41     41     41     41     41\n",
       "       Somewhat         267    267    267    267    267    267\n",
       "       Yes              313    313    313    313    313    313\n",
       "INR    No                 6      6      6      6      6      6\n",
       "       Somewhat          29     29     29     29     29     29\n",
       "       Yes               20     20     20     20     20     20\n",
       "NIS    No                 9      9      9      9      9      9\n",
       "       Somewhat          49     49     49     49     49     49\n",
       "       Yes               72     72     72     72     72     72\n",
       "RUB    Somewhat           5      5      5      5      5      5\n",
       "       Yes                7      7      7      7      7      7"
      ]
     },
     "execution_count": 120,
     "metadata": {},
     "output_type": "execute_result"
    }
   ],
   "source": [
    "enjoy_bycurrency = enjoyment_n0.groupby(['symbol','enjoy'])\n",
    "enjoy_bycurrency.count()"
   ]
  },
  {
   "cell_type": "code",
   "execution_count": 121,
   "metadata": {},
   "outputs": [
    {
     "data": {
      "text/html": [
       "<div>\n",
       "<style scoped>\n",
       "    .dataframe tbody tr th:only-of-type {\n",
       "        vertical-align: middle;\n",
       "    }\n",
       "\n",
       "    .dataframe tbody tr th {\n",
       "        vertical-align: top;\n",
       "    }\n",
       "\n",
       "    .dataframe thead th {\n",
       "        text-align: right;\n",
       "    }\n",
       "</style>\n",
       "<table border=\"1\" class=\"dataframe\">\n",
       "  <thead>\n",
       "    <tr style=\"text-align: right;\">\n",
       "      <th>enjoy</th>\n",
       "      <th>symbol</th>\n",
       "      <th>No</th>\n",
       "      <th>Somewhat</th>\n",
       "      <th>Yes</th>\n",
       "    </tr>\n",
       "  </thead>\n",
       "  <tbody>\n",
       "    <tr>\n",
       "      <th>0</th>\n",
       "      <td>$</td>\n",
       "      <td>36.766406</td>\n",
       "      <td>38.762837</td>\n",
       "      <td>41.892124</td>\n",
       "    </tr>\n",
       "    <tr>\n",
       "      <th>1</th>\n",
       "      <td>EUR</td>\n",
       "      <td>33.471382</td>\n",
       "      <td>37.348427</td>\n",
       "      <td>41.116898</td>\n",
       "    </tr>\n",
       "    <tr>\n",
       "      <th>2</th>\n",
       "      <td>GBP</td>\n",
       "      <td>31.567061</td>\n",
       "      <td>33.291177</td>\n",
       "      <td>35.347745</td>\n",
       "    </tr>\n",
       "    <tr>\n",
       "      <th>3</th>\n",
       "      <td>INR</td>\n",
       "      <td>18.484969</td>\n",
       "      <td>17.283782</td>\n",
       "      <td>20.475739</td>\n",
       "    </tr>\n",
       "    <tr>\n",
       "      <th>4</th>\n",
       "      <td>NIS</td>\n",
       "      <td>29.769358</td>\n",
       "      <td>28.180354</td>\n",
       "      <td>33.221390</td>\n",
       "    </tr>\n",
       "    <tr>\n",
       "      <th>5</th>\n",
       "      <td>RUB</td>\n",
       "      <td>NaN</td>\n",
       "      <td>28.824302</td>\n",
       "      <td>47.491448</td>\n",
       "    </tr>\n",
       "  </tbody>\n",
       "</table>\n",
       "</div>"
      ],
      "text/plain": [
       "enjoy symbol         No   Somewhat        Yes\n",
       "0          $  36.766406  38.762837  41.892124\n",
       "1        EUR  33.471382  37.348427  41.116898\n",
       "2        GBP  31.567061  33.291177  35.347745\n",
       "3        INR  18.484969  17.283782  20.475739\n",
       "4        NIS  29.769358  28.180354  33.221390\n",
       "5        RUB        NaN  28.824302  47.491448"
      ]
     },
     "execution_count": 121,
     "metadata": {},
     "output_type": "execute_result"
    }
   ],
   "source": [
    "#grouping with all currencies\n",
    "enjoy_bycurrency = enjoyment_n0.groupby(['symbol','enjoy'])\n",
    "enjoy_bycurrency_mean = enjoy_bycurrency.mean().unstack()\n",
    "enjoy_bycurrency_mean_e = enjoy_bycurrency_mean.loc[:,('E_dol')]\n",
    "enjoy_bycurrency_mean_e.reset_index(inplace=True)\n",
    "enjoy_bycurrency_mean_e"
   ]
  },
  {
   "cell_type": "markdown",
   "metadata": {},
   "source": [
    "All 12 Russian respondents enjoy their work? "
   ]
  },
  {
   "cell_type": "code",
   "execution_count": 122,
   "metadata": {},
   "outputs": [],
   "source": [
    "# #grouping without Russian replies\n",
    "# enjoy_bycurrency_norus = enjoyment_n0_norus.groupby(['symbol','enjoy'])\n",
    "# enjoy_bycurrency_mean_norus = enjoy_bycurrency_norus.mean().unstack()\n",
    "# enjoy_bycurrency_mean_e_norus = enjoy_bycurrency_mean_norus.loc[:,('E_dol')]\n",
    "# enjoy_bycurrency_mean_e_norus.reset_index(inplace=True)\n",
    "# enjoy_bycurrency_mean_e_norus"
   ]
  },
  {
   "cell_type": "code",
   "execution_count": 123,
   "metadata": {},
   "outputs": [],
   "source": [
    "# #chart without russian responses\n",
    "# labels = enjoy_bycurrency_mean_e_norus['symbol']\n",
    "# x = np.arange(len(labels))\n",
    "# ax = enjoy_bycurrency_mean_e_norus.plot(kind='bar',figsize=(20, 10),width=0.8)\n",
    "\n",
    "# title = f\"Means of the final value of time by work enjoyment, grouped by currency\"\n",
    "# ax.set_ylabel(\"International $\", size=14)\n",
    "# ax.set_xticklabels(labels, fontsize=14, rotation=45)\n",
    "# ax.set_title(title, pad=15, fontsize=16)\n",
    "# ax.legend(fontsize=14)\n",
    "\n",
    "# plt.show()\n",
    "\n",
    "# fig.tight_layout()"
   ]
  },
  {
   "cell_type": "code",
   "execution_count": 124,
   "metadata": {},
   "outputs": [
    {
     "data": {
      "image/png": "[encoded data removed]",
      "text/plain": [
       "<Figure size 1440x720 with 1 Axes>"
      ]
     },
     "metadata": {
      "needs_background": "light"
     },
     "output_type": "display_data"
    }
   ],
   "source": [
    "#chart with all currencies\n",
    "labels = enjoy_bycurrency_mean_e['symbol']\n",
    "x = np.arange(len(labels))\n",
    "ax = enjoy_bycurrency_mean_e.plot(kind='bar',figsize=(20, 10),width=0.8)\n",
    "\n",
    "title = f\"Means of the final value of time by work enjoyment, grouped by currency\"\n",
    "ax.set_ylabel(\"International $\", size=14)\n",
    "ax.set_xticklabels(labels, fontsize=14, rotation=45)\n",
    "ax.set_title(title, pad=15, fontsize=16)\n",
    "ax.legend(fontsize=14)\n",
    "\n",
    "plt.show()\n",
    "\n",
    "fig.tight_layout()"
   ]
  },
  {
   "cell_type": "markdown",
   "metadata": {},
   "source": [
    "First thing that comes out is that those who don't enjoy their work in India and Israel value their time higher than those who enjoy their work somewhat. This is in contrast to respondents using GBP, USD, and EUR. No data for Russia to make this comparison. "
   ]
  },
  {
   "cell_type": "markdown",
   "metadata": {},
   "source": [
    "It would be interesting to compare that to earnings. "
   ]
  },
  {
   "cell_type": "code",
   "execution_count": 125,
   "metadata": {},
   "outputs": [
    {
     "data": {
      "text/plain": [
       "employment          0\n",
       "symbol              0\n",
       "enjoy               0\n",
       "totalhoursyearly    0\n",
       "totalannualwage     0\n",
       "A_dol               0\n",
       "B_dol               0\n",
       "C_dol               0\n",
       "D_dol               0\n",
       "E_dol               0\n",
       "dtype: int64"
      ]
     },
     "execution_count": 125,
     "metadata": {},
     "output_type": "execute_result"
    }
   ],
   "source": [
    "hours = basetv_noout[['employment', 'symbol', 'enjoy', 'totalhoursyearly', 'totalannualwage', 'A_dol', 'B_dol', 'C_dol', 'D_dol', 'E_dol']]\n",
    "#check for nans\n",
    "hours.isna().sum()"
   ]
  },
  {
   "cell_type": "code",
   "execution_count": 126,
   "metadata": {},
   "outputs": [
    {
     "data": {
      "text/plain": [
       "(9887, 10)"
      ]
     },
     "execution_count": 126,
     "metadata": {},
     "output_type": "execute_result"
    }
   ],
   "source": [
    "hours.shape"
   ]
  },
  {
   "cell_type": "code",
   "execution_count": 127,
   "metadata": {},
   "outputs": [
    {
     "data": {
      "text/plain": [
       "0.0         2058\n",
       "52000.0       60\n",
       "31200.0       49\n",
       "62400.0       45\n",
       "30000.0       45\n",
       "            ... \n",
       "84500.0        1\n",
       "113900.0       1\n",
       "29577.6        1\n",
       "207400.0       1\n",
       "235500.0       1\n",
       "Name: totalannualwage, Length: 4103, dtype: int64"
      ]
     },
     "execution_count": 127,
     "metadata": {},
     "output_type": "execute_result"
    }
   ],
   "source": [
    "# check how many are zeros\n",
    "hours['totalannualwage'].value_counts()"
   ]
  },
  {
   "cell_type": "markdown",
   "metadata": {},
   "source": [
    "Steps:\n",
    "- calculate total wage in international USD\n",
    "- calculate wage per hour in inernational USD \n",
    "- group people by earning levels (How?)\n",
    "- plot value of time by earning level"
   ]
  },
  {
   "cell_type": "code",
   "execution_count": 128,
   "metadata": {},
   "outputs": [
    {
     "name": "stderr",
     "output_type": "stream",
     "text": [
      "/Applications/anaconda3/lib/python3.7/site-packages/ipykernel_launcher.py:12: SettingWithCopyWarning: \n",
      "A value is trying to be set on a copy of a slice from a DataFrame.\n",
      "Try using .loc[row_indexer,col_indexer] = value instead\n",
      "\n",
      "See the caveats in the documentation: https://pandas.pydata.org/pandas-docs/stable/user_guide/indexing.html#returning-a-view-versus-a-copy\n",
      "  if sys.path[0] == '':\n",
      "/Applications/anaconda3/lib/python3.7/site-packages/ipykernel_launcher.py:13: SettingWithCopyWarning: \n",
      "A value is trying to be set on a copy of a slice from a DataFrame.\n",
      "Try using .loc[row_indexer,col_indexer] = value instead\n",
      "\n",
      "See the caveats in the documentation: https://pandas.pydata.org/pandas-docs/stable/user_guide/indexing.html#returning-a-view-versus-a-copy\n",
      "  del sys.path[0]\n"
     ]
    }
   ],
   "source": [
    "# normalise all wages\n",
    "conditions = [\n",
    "    (basetv_noout['symbol'] == 'GBP'),\n",
    "    (basetv_noout['symbol'] == '$'),  \n",
    "    (basetv_noout['symbol'] == 'INR'),\n",
    "    (basetv_noout['symbol'] == 'NIS'),\n",
    "    (basetv_noout['symbol'] == 'EUR'),\n",
    "    (basetv_noout['symbol'] == 'RUB')\n",
    "]\n",
    "\n",
    "choices = [basetv_noout['totalannualwage']/0.68, basetv_noout['totalannualwage']/1, basetv_noout['totalannualwage']/21.107, basetv_noout['totalannualwage']/3.687, basetv_noout['totalannualwage']/0.706, basetv_noout['totalannualwage']/25.701]\n",
    "basetv_noout['totalannualwage_dol'] = np.select(conditions, choices, default=0)\n",
    "hours['totalannualwage_dol'] = np.select(conditions, choices, default=0)"
   ]
  },
  {
   "cell_type": "code",
   "execution_count": 129,
   "metadata": {},
   "outputs": [
    {
     "data": {
      "text/plain": [
       "0.000000        2058\n",
       "52000.000000      54\n",
       "62400.000000      44\n",
       "50000.000000      42\n",
       "31200.000000      41\n",
       "                ... \n",
       "2800.000000        1\n",
       "21416.430595       1\n",
       "41011.650000       1\n",
       "63635.475997       1\n",
       "32512.500000       1\n",
       "Name: totalannualwage_dol, Length: 4686, dtype: int64"
      ]
     },
     "execution_count": 129,
     "metadata": {},
     "output_type": "execute_result"
    }
   ],
   "source": [
    "basetv_noout['totalannualwage_dol'].value_counts()"
   ]
  },
  {
   "cell_type": "code",
   "execution_count": 130,
   "metadata": {},
   "outputs": [
    {
     "data": {
      "text/plain": [
       "0"
      ]
     },
     "execution_count": 130,
     "metadata": {},
     "output_type": "execute_result"
    }
   ],
   "source": [
    "hours['totalhoursyearly'].isna().sum()"
   ]
  },
  {
   "cell_type": "code",
   "execution_count": 131,
   "metadata": {},
   "outputs": [
    {
     "name": "stderr",
     "output_type": "stream",
     "text": [
      "/Applications/anaconda3/lib/python3.7/site-packages/ipykernel_launcher.py:2: SettingWithCopyWarning: \n",
      "A value is trying to be set on a copy of a slice from a DataFrame.\n",
      "Try using .loc[row_indexer,col_indexer] = value instead\n",
      "\n",
      "See the caveats in the documentation: https://pandas.pydata.org/pandas-docs/stable/user_guide/indexing.html#returning-a-view-versus-a-copy\n",
      "  \n"
     ]
    }
   ],
   "source": [
    "# calculate dollar per hour value\n",
    "hours['dol_per_h'] = hours['totalannualwage_dol']/hours['totalhoursyearly']"
   ]
  },
  {
   "cell_type": "code",
   "execution_count": 132,
   "metadata": {},
   "outputs": [
    {
     "data": {
      "text/plain": [
       "2052"
      ]
     },
     "execution_count": 132,
     "metadata": {},
     "output_type": "execute_result"
    }
   ],
   "source": [
    "# chekc for nans\n",
    "hours['dol_per_h'].isna().sum()"
   ]
  },
  {
   "cell_type": "code",
   "execution_count": 133,
   "metadata": {},
   "outputs": [
    {
     "name": "stderr",
     "output_type": "stream",
     "text": [
      "/Applications/anaconda3/lib/python3.7/site-packages/ipykernel_launcher.py:2: SettingWithCopyWarning: \n",
      "A value is trying to be set on a copy of a slice from a DataFrame.\n",
      "Try using .loc[row_indexer,col_indexer] = value instead\n",
      "\n",
      "See the caveats in the documentation: https://pandas.pydata.org/pandas-docs/stable/user_guide/indexing.html#returning-a-view-versus-a-copy\n",
      "  \n"
     ]
    }
   ],
   "source": [
    "# fill the nans with 0s\n",
    "hours['dol_per_h']= hours['dol_per_h'].fillna(0)"
   ]
  },
  {
   "cell_type": "code",
   "execution_count": 134,
   "metadata": {},
   "outputs": [
    {
     "name": "stdout",
     "output_type": "stream",
     "text": [
      "9887\n"
     ]
    },
    {
     "data": {
      "text/html": [
       "<div>\n",
       "<style scoped>\n",
       "    .dataframe tbody tr th:only-of-type {\n",
       "        vertical-align: middle;\n",
       "    }\n",
       "\n",
       "    .dataframe tbody tr th {\n",
       "        vertical-align: top;\n",
       "    }\n",
       "\n",
       "    .dataframe thead th {\n",
       "        text-align: right;\n",
       "    }\n",
       "</style>\n",
       "<table border=\"1\" class=\"dataframe\">\n",
       "  <thead>\n",
       "    <tr style=\"text-align: right;\">\n",
       "      <th></th>\n",
       "      <th>employment</th>\n",
       "      <th>symbol</th>\n",
       "      <th>enjoy</th>\n",
       "      <th>totalhoursyearly</th>\n",
       "      <th>totalannualwage</th>\n",
       "      <th>A_dol</th>\n",
       "      <th>B_dol</th>\n",
       "      <th>C_dol</th>\n",
       "      <th>D_dol</th>\n",
       "      <th>E_dol</th>\n",
       "      <th>totalannualwage_dol</th>\n",
       "      <th>dol_per_h</th>\n",
       "    </tr>\n",
       "  </thead>\n",
       "  <tbody>\n",
       "    <tr>\n",
       "      <th>0</th>\n",
       "      <td>1</td>\n",
       "      <td>$</td>\n",
       "      <td>Somewhat</td>\n",
       "      <td>1970.0</td>\n",
       "      <td>39570.0</td>\n",
       "      <td>20.0</td>\n",
       "      <td>12.5</td>\n",
       "      <td>200.000000</td>\n",
       "      <td>20.000000</td>\n",
       "      <td>20.000000</td>\n",
       "      <td>39570.0</td>\n",
       "      <td>20.086294</td>\n",
       "    </tr>\n",
       "    <tr>\n",
       "      <th>2</th>\n",
       "      <td>1</td>\n",
       "      <td>$</td>\n",
       "      <td>Yes</td>\n",
       "      <td>2340.0</td>\n",
       "      <td>49495.0</td>\n",
       "      <td>30.0</td>\n",
       "      <td>12.5</td>\n",
       "      <td>50.000000</td>\n",
       "      <td>32.927350</td>\n",
       "      <td>31.463675</td>\n",
       "      <td>49495.0</td>\n",
       "      <td>21.151709</td>\n",
       "    </tr>\n",
       "    <tr>\n",
       "      <th>4</th>\n",
       "      <td>1</td>\n",
       "      <td>$</td>\n",
       "      <td>Yes</td>\n",
       "      <td>2600.0</td>\n",
       "      <td>129500.0</td>\n",
       "      <td>49.0</td>\n",
       "      <td>12.5</td>\n",
       "      <td>50.000000</td>\n",
       "      <td>101.923077</td>\n",
       "      <td>49.500000</td>\n",
       "      <td>129500.0</td>\n",
       "      <td>49.807692</td>\n",
       "    </tr>\n",
       "    <tr>\n",
       "      <th>5</th>\n",
       "      <td>1</td>\n",
       "      <td>$</td>\n",
       "      <td>Somewhat</td>\n",
       "      <td>2400.0</td>\n",
       "      <td>120700.0</td>\n",
       "      <td>75.0</td>\n",
       "      <td>20.0</td>\n",
       "      <td>100.000000</td>\n",
       "      <td>100.582333</td>\n",
       "      <td>87.500000</td>\n",
       "      <td>120700.0</td>\n",
       "      <td>50.291667</td>\n",
       "    </tr>\n",
       "    <tr>\n",
       "      <th>6</th>\n",
       "      <td>1</td>\n",
       "      <td>$</td>\n",
       "      <td>Yes</td>\n",
       "      <td>2000.0</td>\n",
       "      <td>52000.0</td>\n",
       "      <td>35.0</td>\n",
       "      <td>1.5</td>\n",
       "      <td>33.333333</td>\n",
       "      <td>19.500000</td>\n",
       "      <td>26.416667</td>\n",
       "      <td>52000.0</td>\n",
       "      <td>26.000000</td>\n",
       "    </tr>\n",
       "  </tbody>\n",
       "</table>\n",
       "</div>"
      ],
      "text/plain": [
       "  employment symbol     enjoy  totalhoursyearly  totalannualwage  A_dol  \\\n",
       "0          1      $  Somewhat            1970.0          39570.0   20.0   \n",
       "2          1      $       Yes            2340.0          49495.0   30.0   \n",
       "4          1      $       Yes            2600.0         129500.0   49.0   \n",
       "5          1      $  Somewhat            2400.0         120700.0   75.0   \n",
       "6          1      $       Yes            2000.0          52000.0   35.0   \n",
       "\n",
       "   B_dol       C_dol       D_dol      E_dol  totalannualwage_dol  dol_per_h  \n",
       "0   12.5  200.000000   20.000000  20.000000              39570.0  20.086294  \n",
       "2   12.5   50.000000   32.927350  31.463675              49495.0  21.151709  \n",
       "4   12.5   50.000000  101.923077  49.500000             129500.0  49.807692  \n",
       "5   20.0  100.000000  100.582333  87.500000             120700.0  50.291667  \n",
       "6    1.5   33.333333   19.500000  26.416667              52000.0  26.000000  "
      ]
     },
     "execution_count": 134,
     "metadata": {},
     "output_type": "execute_result"
    }
   ],
   "source": [
    "print(hours.shape[0])\n",
    "hours.head()"
   ]
  },
  {
   "cell_type": "code",
   "execution_count": 135,
   "metadata": {},
   "outputs": [],
   "source": [
    "hours.to_excel(\"CT_converted.xlsx\")"
   ]
  },
  {
   "cell_type": "code",
   "execution_count": 136,
   "metadata": {},
   "outputs": [
    {
     "name": "stdout",
     "output_type": "stream",
     "text": [
      "7829\n"
     ]
    }
   ],
   "source": [
    "# create bins for the annual wage, remove zero values\n",
    "hours_n0 = hours.loc[hours['totalannualwage_dol'] != 0]\n",
    "print(hours_n0.shape[0])"
   ]
  },
  {
   "cell_type": "code",
   "execution_count": 137,
   "metadata": {},
   "outputs": [
    {
     "data": {
      "image/png": "[encoded data removed]",
      "text/plain": [
       "<Figure size 432x288 with 1 Axes>"
      ]
     },
     "metadata": {
      "needs_background": "light"
     },
     "output_type": "display_data"
    }
   ],
   "source": [
    "#calc number of bins\n",
    "bins = int(np.sqrt(len(hours_n0)))\n",
    "\n",
    "# plot histogram\n",
    "_=plt.hist(hours_n0['totalannualwage_dol'], bins=bins)\n",
    "plt.show()"
   ]
  },
  {
   "cell_type": "markdown",
   "metadata": {},
   "source": [
    "Something seems off here."
   ]
  },
  {
   "cell_type": "code",
   "execution_count": 138,
   "metadata": {},
   "outputs": [
    {
     "data": {
      "image/png": "[encoded data removed]",
      "text/plain": [
       "<Figure size 432x288 with 1 Axes>"
      ]
     },
     "metadata": {
      "needs_background": "light"
     },
     "output_type": "display_data"
    }
   ],
   "source": [
    "# chck for outliers\n",
    "_ = plt.boxplot(hours_n0['totalannualwage_dol'])\n",
    "plt.show()"
   ]
  },
  {
   "cell_type": "code",
   "execution_count": 139,
   "metadata": {},
   "outputs": [
    {
     "data": {
      "image/png": "[encoded data removed]",
      "text/plain": [
       "<Figure size 432x288 with 1 Axes>"
      ]
     },
     "metadata": {
      "needs_background": "light"
     },
     "output_type": "display_data"
    }
   ],
   "source": [
    "_ = plt.boxplot(hours_n0['totalhoursyearly'])\n",
    "plt.show()"
   ]
  },
  {
   "cell_type": "markdown",
   "metadata": {},
   "source": [
    "Clearly an outlier."
   ]
  },
  {
   "cell_type": "code",
   "execution_count": 140,
   "metadata": {},
   "outputs": [
    {
     "data": {
      "text/plain": [
       "count    7.829000e+03\n",
       "mean     6.667506e+04\n",
       "std      9.117005e+05\n",
       "min      1.610832e+02\n",
       "25%      2.823529e+04\n",
       "50%      4.700000e+04\n",
       "75%      7.280000e+04\n",
       "max      8.008000e+07\n",
       "Name: totalannualwage_dol, dtype: float64"
      ]
     },
     "execution_count": 140,
     "metadata": {},
     "output_type": "execute_result"
    }
   ],
   "source": [
    "# check distribution\n",
    "hours_n0['totalannualwage_dol'].describe()"
   ]
  },
  {
   "cell_type": "code",
   "execution_count": 141,
   "metadata": {},
   "outputs": [
    {
     "data": {
      "text/html": [
       "<div>\n",
       "<style scoped>\n",
       "    .dataframe tbody tr th:only-of-type {\n",
       "        vertical-align: middle;\n",
       "    }\n",
       "\n",
       "    .dataframe tbody tr th {\n",
       "        vertical-align: top;\n",
       "    }\n",
       "\n",
       "    .dataframe thead th {\n",
       "        text-align: right;\n",
       "    }\n",
       "</style>\n",
       "<table border=\"1\" class=\"dataframe\">\n",
       "  <thead>\n",
       "    <tr style=\"text-align: right;\">\n",
       "      <th></th>\n",
       "      <th>employment</th>\n",
       "      <th>symbol</th>\n",
       "      <th>enjoy</th>\n",
       "      <th>totalhoursyearly</th>\n",
       "      <th>totalannualwage</th>\n",
       "      <th>A_dol</th>\n",
       "      <th>B_dol</th>\n",
       "      <th>C_dol</th>\n",
       "      <th>D_dol</th>\n",
       "      <th>E_dol</th>\n",
       "      <th>totalannualwage_dol</th>\n",
       "      <th>dol_per_h</th>\n",
       "    </tr>\n",
       "  </thead>\n",
       "  <tbody>\n",
       "    <tr>\n",
       "      <th>0</th>\n",
       "      <td>1</td>\n",
       "      <td>$</td>\n",
       "      <td>Somewhat</td>\n",
       "      <td>1970.0</td>\n",
       "      <td>39570.0</td>\n",
       "      <td>20.0</td>\n",
       "      <td>12.5</td>\n",
       "      <td>200.000000</td>\n",
       "      <td>20.000000</td>\n",
       "      <td>20.000000</td>\n",
       "      <td>39570.0</td>\n",
       "      <td>20.086294</td>\n",
       "    </tr>\n",
       "    <tr>\n",
       "      <th>2</th>\n",
       "      <td>1</td>\n",
       "      <td>$</td>\n",
       "      <td>Yes</td>\n",
       "      <td>2340.0</td>\n",
       "      <td>49495.0</td>\n",
       "      <td>30.0</td>\n",
       "      <td>12.5</td>\n",
       "      <td>50.000000</td>\n",
       "      <td>32.927350</td>\n",
       "      <td>31.463675</td>\n",
       "      <td>49495.0</td>\n",
       "      <td>21.151709</td>\n",
       "    </tr>\n",
       "    <tr>\n",
       "      <th>4</th>\n",
       "      <td>1</td>\n",
       "      <td>$</td>\n",
       "      <td>Yes</td>\n",
       "      <td>2600.0</td>\n",
       "      <td>129500.0</td>\n",
       "      <td>49.0</td>\n",
       "      <td>12.5</td>\n",
       "      <td>50.000000</td>\n",
       "      <td>101.923077</td>\n",
       "      <td>49.500000</td>\n",
       "      <td>129500.0</td>\n",
       "      <td>49.807692</td>\n",
       "    </tr>\n",
       "    <tr>\n",
       "      <th>5</th>\n",
       "      <td>1</td>\n",
       "      <td>$</td>\n",
       "      <td>Somewhat</td>\n",
       "      <td>2400.0</td>\n",
       "      <td>120700.0</td>\n",
       "      <td>75.0</td>\n",
       "      <td>20.0</td>\n",
       "      <td>100.000000</td>\n",
       "      <td>100.582333</td>\n",
       "      <td>87.500000</td>\n",
       "      <td>120700.0</td>\n",
       "      <td>50.291667</td>\n",
       "    </tr>\n",
       "    <tr>\n",
       "      <th>6</th>\n",
       "      <td>1</td>\n",
       "      <td>$</td>\n",
       "      <td>Yes</td>\n",
       "      <td>2000.0</td>\n",
       "      <td>52000.0</td>\n",
       "      <td>35.0</td>\n",
       "      <td>1.5</td>\n",
       "      <td>33.333333</td>\n",
       "      <td>19.500000</td>\n",
       "      <td>26.416667</td>\n",
       "      <td>52000.0</td>\n",
       "      <td>26.000000</td>\n",
       "    </tr>\n",
       "  </tbody>\n",
       "</table>\n",
       "</div>"
      ],
      "text/plain": [
       "  employment symbol     enjoy  totalhoursyearly  totalannualwage  A_dol  \\\n",
       "0          1      $  Somewhat            1970.0          39570.0   20.0   \n",
       "2          1      $       Yes            2340.0          49495.0   30.0   \n",
       "4          1      $       Yes            2600.0         129500.0   49.0   \n",
       "5          1      $  Somewhat            2400.0         120700.0   75.0   \n",
       "6          1      $       Yes            2000.0          52000.0   35.0   \n",
       "\n",
       "   B_dol       C_dol       D_dol      E_dol  totalannualwage_dol  dol_per_h  \n",
       "0   12.5  200.000000   20.000000  20.000000              39570.0  20.086294  \n",
       "2   12.5   50.000000   32.927350  31.463675              49495.0  21.151709  \n",
       "4   12.5   50.000000  101.923077  49.500000             129500.0  49.807692  \n",
       "5   20.0  100.000000  100.582333  87.500000             120700.0  50.291667  \n",
       "6    1.5   33.333333   19.500000  26.416667              52000.0  26.000000  "
      ]
     },
     "execution_count": 141,
     "metadata": {},
     "output_type": "execute_result"
    }
   ],
   "source": [
    "# how convenient someone wrote a \"remove outliers\" function before! <3\n",
    "hours_n0_clean = remove_outliers(hours_n0,'totalannualwage_dol')\n",
    "hours_n0_clean.head()"
   ]
  },
  {
   "cell_type": "code",
   "execution_count": 142,
   "metadata": {},
   "outputs": [],
   "source": [
    "#removing outliers in the time worked column, absolute max time of 18hrs a day is around 25k hrs a year\n",
    "hours_n0_clean = hours_n0_clean[hours_n0_clean['totalhoursyearly']<25000]"
   ]
  },
  {
   "cell_type": "code",
   "execution_count": 143,
   "metadata": {},
   "outputs": [
    {
     "data": {
      "text/html": [
       "<div>\n",
       "<style scoped>\n",
       "    .dataframe tbody tr th:only-of-type {\n",
       "        vertical-align: middle;\n",
       "    }\n",
       "\n",
       "    .dataframe tbody tr th {\n",
       "        vertical-align: top;\n",
       "    }\n",
       "\n",
       "    .dataframe thead th {\n",
       "        text-align: right;\n",
       "    }\n",
       "</style>\n",
       "<table border=\"1\" class=\"dataframe\">\n",
       "  <thead>\n",
       "    <tr style=\"text-align: right;\">\n",
       "      <th></th>\n",
       "      <th>totalhoursyearly</th>\n",
       "      <th>totalannualwage</th>\n",
       "      <th>A_dol</th>\n",
       "      <th>B_dol</th>\n",
       "      <th>C_dol</th>\n",
       "      <th>D_dol</th>\n",
       "      <th>E_dol</th>\n",
       "      <th>totalannualwage_dol</th>\n",
       "      <th>dol_per_h</th>\n",
       "      <th>ratio_test</th>\n",
       "    </tr>\n",
       "    <tr>\n",
       "      <th>symbol</th>\n",
       "      <th></th>\n",
       "      <th></th>\n",
       "      <th></th>\n",
       "      <th></th>\n",
       "      <th></th>\n",
       "      <th></th>\n",
       "      <th></th>\n",
       "      <th></th>\n",
       "      <th></th>\n",
       "      <th></th>\n",
       "    </tr>\n",
       "  </thead>\n",
       "  <tbody>\n",
       "    <tr>\n",
       "      <th>$</th>\n",
       "      <td>2005.473339</td>\n",
       "      <td>5.332192e+04</td>\n",
       "      <td>40.281419</td>\n",
       "      <td>12.555253</td>\n",
       "      <td>128.195526</td>\n",
       "      <td>38.811008</td>\n",
       "      <td>38.911740</td>\n",
       "      <td>53321.924131</td>\n",
       "      <td>26.229208</td>\n",
       "      <td>1.712549</td>\n",
       "    </tr>\n",
       "    <tr>\n",
       "      <th>EUR</th>\n",
       "      <td>1906.271302</td>\n",
       "      <td>2.858150e+04</td>\n",
       "      <td>44.606423</td>\n",
       "      <td>10.165524</td>\n",
       "      <td>170.402896</td>\n",
       "      <td>33.718768</td>\n",
       "      <td>38.774780</td>\n",
       "      <td>40483.716952</td>\n",
       "      <td>21.514034</td>\n",
       "      <td>2.042259</td>\n",
       "    </tr>\n",
       "    <tr>\n",
       "      <th>GBP</th>\n",
       "      <td>1889.836364</td>\n",
       "      <td>2.808220e+04</td>\n",
       "      <td>35.917494</td>\n",
       "      <td>10.984488</td>\n",
       "      <td>153.104884</td>\n",
       "      <td>32.025153</td>\n",
       "      <td>34.013560</td>\n",
       "      <td>41297.353409</td>\n",
       "      <td>21.629402</td>\n",
       "      <td>1.748052</td>\n",
       "    </tr>\n",
       "    <tr>\n",
       "      <th>INR</th>\n",
       "      <td>2310.054545</td>\n",
       "      <td>8.065621e+05</td>\n",
       "      <td>27.218889</td>\n",
       "      <td>5.553091</td>\n",
       "      <td>17.360318</td>\n",
       "      <td>30.394445</td>\n",
       "      <td>18.575532</td>\n",
       "      <td>38213.013365</td>\n",
       "      <td>16.785719</td>\n",
       "      <td>1.421657</td>\n",
       "    </tr>\n",
       "    <tr>\n",
       "      <th>NIS</th>\n",
       "      <td>2242.838462</td>\n",
       "      <td>1.472300e+05</td>\n",
       "      <td>36.677724</td>\n",
       "      <td>8.056581</td>\n",
       "      <td>69.137580</td>\n",
       "      <td>28.252741</td>\n",
       "      <td>31.082320</td>\n",
       "      <td>39932.182345</td>\n",
       "      <td>17.790833</td>\n",
       "      <td>2.699557</td>\n",
       "    </tr>\n",
       "    <tr>\n",
       "      <th>RUB</th>\n",
       "      <td>1747.000000</td>\n",
       "      <td>1.051204e+06</td>\n",
       "      <td>49.209263</td>\n",
       "      <td>18.976976</td>\n",
       "      <td>47.221367</td>\n",
       "      <td>39.968754</td>\n",
       "      <td>37.929585</td>\n",
       "      <td>40901.273739</td>\n",
       "      <td>21.158839</td>\n",
       "      <td>1.858310</td>\n",
       "    </tr>\n",
       "  </tbody>\n",
       "</table>\n",
       "</div>"
      ],
      "text/plain": [
       "        totalhoursyearly  totalannualwage      A_dol      B_dol       C_dol  \\\n",
       "symbol                                                                        \n",
       "$            2005.473339     5.332192e+04  40.281419  12.555253  128.195526   \n",
       "EUR          1906.271302     2.858150e+04  44.606423  10.165524  170.402896   \n",
       "GBP          1889.836364     2.808220e+04  35.917494  10.984488  153.104884   \n",
       "INR          2310.054545     8.065621e+05  27.218889   5.553091   17.360318   \n",
       "NIS          2242.838462     1.472300e+05  36.677724   8.056581   69.137580   \n",
       "RUB          1747.000000     1.051204e+06  49.209263  18.976976   47.221367   \n",
       "\n",
       "            D_dol      E_dol  totalannualwage_dol  dol_per_h  ratio_test  \n",
       "symbol                                                                    \n",
       "$       38.811008  38.911740         53321.924131  26.229208    1.712549  \n",
       "EUR     33.718768  38.774780         40483.716952  21.514034    2.042259  \n",
       "GBP     32.025153  34.013560         41297.353409  21.629402    1.748052  \n",
       "INR     30.394445  18.575532         38213.013365  16.785719    1.421657  \n",
       "NIS     28.252741  31.082320         39932.182345  17.790833    2.699557  \n",
       "RUB     39.968754  37.929585         40901.273739  21.158839    1.858310  "
      ]
     },
     "execution_count": 143,
     "metadata": {},
     "output_type": "execute_result"
    }
   ],
   "source": [
    "# test for ratio values calculated before grouping\n",
    "hours_n0_clean['ratio_test'] = hours_n0_clean['E_dol']/hours_n0_clean['dol_per_h']\n",
    "hours_n0_clean.groupby('symbol').mean()"
   ]
  },
  {
   "cell_type": "code",
   "execution_count": 144,
   "metadata": {},
   "outputs": [],
   "source": [
    "#clean hours minus russian respondents\n",
    "hours_n0_clean_norus = hours_n0_clean[hours_n0_clean['symbol']!='RUB']"
   ]
  },
  {
   "cell_type": "code",
   "execution_count": 145,
   "metadata": {},
   "outputs": [],
   "source": [
    "# this just exports the df with employed people and no outliers\n",
    "#hours_n0_clean.to_excel(\"CT_converted_no_outliers.xlsx\")"
   ]
  },
  {
   "cell_type": "code",
   "execution_count": 146,
   "metadata": {},
   "outputs": [
    {
     "data": {
      "image/png": "[encoded data removed]",
      "text/plain": [
       "<Figure size 720x432 with 1 Axes>"
      ]
     },
     "metadata": {
      "needs_background": "light"
     },
     "output_type": "display_data"
    }
   ],
   "source": [
    "# plot histogram of the annual wage in international dollars\n",
    "fig = plt.figure(figsize=(10,6))\n",
    "bins=int(np.sqrt(len(hours_n0_clean)))\n",
    "_=plt.hist(hours_n0_clean['totalannualwage_dol'], bins=bins)\n",
    "plt.title(\"Distribution of annual wage in international dollars\",fontsize=14)\n",
    "plt.ylabel('Frequency')\n",
    "plt.xlabel('Wage')\n",
    "plt.show()"
   ]
  },
  {
   "cell_type": "code",
   "execution_count": 147,
   "metadata": {},
   "outputs": [],
   "source": [
    "# plot mean wage by currency\n",
    "mean_wage_by_currency = hours_n0_clean.groupby('symbol').mean()\n",
    "mean_wage_by_currency.reset_index(inplace=True)"
   ]
  },
  {
   "cell_type": "code",
   "execution_count": 148,
   "metadata": {},
   "outputs": [],
   "source": [
    "#plot mean wage by currency with no rus\n",
    "mean_wage_by_currency_norus = hours_n0_clean_norus.groupby('symbol').mean()\n",
    "mean_wage_by_currency_norus.reset_index(inplace=True)"
   ]
  },
  {
   "cell_type": "code",
   "execution_count": 149,
   "metadata": {},
   "outputs": [
    {
     "data": {
      "text/html": [
       "<div>\n",
       "<style scoped>\n",
       "    .dataframe tbody tr th:only-of-type {\n",
       "        vertical-align: middle;\n",
       "    }\n",
       "\n",
       "    .dataframe tbody tr th {\n",
       "        vertical-align: top;\n",
       "    }\n",
       "\n",
       "    .dataframe thead th {\n",
       "        text-align: right;\n",
       "    }\n",
       "</style>\n",
       "<table border=\"1\" class=\"dataframe\">\n",
       "  <thead>\n",
       "    <tr style=\"text-align: right;\">\n",
       "      <th></th>\n",
       "      <th>symbol</th>\n",
       "      <th>totalhoursyearly</th>\n",
       "      <th>totalannualwage</th>\n",
       "      <th>A_dol</th>\n",
       "      <th>B_dol</th>\n",
       "      <th>C_dol</th>\n",
       "      <th>D_dol</th>\n",
       "      <th>E_dol</th>\n",
       "      <th>totalannualwage_dol</th>\n",
       "      <th>dol_per_h</th>\n",
       "      <th>ratio_test</th>\n",
       "    </tr>\n",
       "  </thead>\n",
       "  <tbody>\n",
       "    <tr>\n",
       "      <th>0</th>\n",
       "      <td>$</td>\n",
       "      <td>2005.473339</td>\n",
       "      <td>5.332192e+04</td>\n",
       "      <td>40.281419</td>\n",
       "      <td>12.555253</td>\n",
       "      <td>128.195526</td>\n",
       "      <td>38.811008</td>\n",
       "      <td>38.911740</td>\n",
       "      <td>53321.924131</td>\n",
       "      <td>26.229208</td>\n",
       "      <td>1.712549</td>\n",
       "    </tr>\n",
       "    <tr>\n",
       "      <th>1</th>\n",
       "      <td>EUR</td>\n",
       "      <td>1906.271302</td>\n",
       "      <td>2.858150e+04</td>\n",
       "      <td>44.606423</td>\n",
       "      <td>10.165524</td>\n",
       "      <td>170.402896</td>\n",
       "      <td>33.718768</td>\n",
       "      <td>38.774780</td>\n",
       "      <td>40483.716952</td>\n",
       "      <td>21.514034</td>\n",
       "      <td>2.042259</td>\n",
       "    </tr>\n",
       "    <tr>\n",
       "      <th>2</th>\n",
       "      <td>GBP</td>\n",
       "      <td>1889.836364</td>\n",
       "      <td>2.808220e+04</td>\n",
       "      <td>35.917494</td>\n",
       "      <td>10.984488</td>\n",
       "      <td>153.104884</td>\n",
       "      <td>32.025153</td>\n",
       "      <td>34.013560</td>\n",
       "      <td>41297.353409</td>\n",
       "      <td>21.629402</td>\n",
       "      <td>1.748052</td>\n",
       "    </tr>\n",
       "    <tr>\n",
       "      <th>3</th>\n",
       "      <td>INR</td>\n",
       "      <td>2310.054545</td>\n",
       "      <td>8.065621e+05</td>\n",
       "      <td>27.218889</td>\n",
       "      <td>5.553091</td>\n",
       "      <td>17.360318</td>\n",
       "      <td>30.394445</td>\n",
       "      <td>18.575532</td>\n",
       "      <td>38213.013365</td>\n",
       "      <td>16.785719</td>\n",
       "      <td>1.421657</td>\n",
       "    </tr>\n",
       "    <tr>\n",
       "      <th>4</th>\n",
       "      <td>NIS</td>\n",
       "      <td>2242.838462</td>\n",
       "      <td>1.472300e+05</td>\n",
       "      <td>36.677724</td>\n",
       "      <td>8.056581</td>\n",
       "      <td>69.137580</td>\n",
       "      <td>28.252741</td>\n",
       "      <td>31.082320</td>\n",
       "      <td>39932.182345</td>\n",
       "      <td>17.790833</td>\n",
       "      <td>2.699557</td>\n",
       "    </tr>\n",
       "    <tr>\n",
       "      <th>5</th>\n",
       "      <td>RUB</td>\n",
       "      <td>1747.000000</td>\n",
       "      <td>1.051204e+06</td>\n",
       "      <td>49.209263</td>\n",
       "      <td>18.976976</td>\n",
       "      <td>47.221367</td>\n",
       "      <td>39.968754</td>\n",
       "      <td>37.929585</td>\n",
       "      <td>40901.273739</td>\n",
       "      <td>21.158839</td>\n",
       "      <td>1.858310</td>\n",
       "    </tr>\n",
       "  </tbody>\n",
       "</table>\n",
       "</div>"
      ],
      "text/plain": [
       "  symbol  totalhoursyearly  totalannualwage      A_dol      B_dol       C_dol  \\\n",
       "0      $       2005.473339     5.332192e+04  40.281419  12.555253  128.195526   \n",
       "1    EUR       1906.271302     2.858150e+04  44.606423  10.165524  170.402896   \n",
       "2    GBP       1889.836364     2.808220e+04  35.917494  10.984488  153.104884   \n",
       "3    INR       2310.054545     8.065621e+05  27.218889   5.553091   17.360318   \n",
       "4    NIS       2242.838462     1.472300e+05  36.677724   8.056581   69.137580   \n",
       "5    RUB       1747.000000     1.051204e+06  49.209263  18.976976   47.221367   \n",
       "\n",
       "       D_dol      E_dol  totalannualwage_dol  dol_per_h  ratio_test  \n",
       "0  38.811008  38.911740         53321.924131  26.229208    1.712549  \n",
       "1  33.718768  38.774780         40483.716952  21.514034    2.042259  \n",
       "2  32.025153  34.013560         41297.353409  21.629402    1.748052  \n",
       "3  30.394445  18.575532         38213.013365  16.785719    1.421657  \n",
       "4  28.252741  31.082320         39932.182345  17.790833    2.699557  \n",
       "5  39.968754  37.929585         40901.273739  21.158839    1.858310  "
      ]
     },
     "execution_count": 149,
     "metadata": {},
     "output_type": "execute_result"
    }
   ],
   "source": [
    "mean_wage_by_currency"
   ]
  },
  {
   "cell_type": "code",
   "execution_count": 150,
   "metadata": {},
   "outputs": [
    {
     "data": {
      "image/png": "[encoded data removed]",
      "text/plain": [
       "<Figure size 720x432 with 1 Axes>"
      ]
     },
     "metadata": {
      "needs_background": "light"
     },
     "output_type": "display_data"
    }
   ],
   "source": [
    "# figure with all currencies\n",
    "fig = plt.figure(figsize=(10,6))\n",
    "\n",
    "x = np.arange(len(labels))\n",
    "_ = plt.bar(x, height=mean_wage_by_currency['totalannualwage_dol'])\n",
    "\n",
    "plt.xticks(x, labels)\n",
    "plt.ylabel(\"International dollar\")\n",
    "plt.title('Total mean annual earnings by currency', fontsize=14)\n",
    "plt.show()"
   ]
  },
  {
   "cell_type": "code",
   "execution_count": 151,
   "metadata": {},
   "outputs": [
    {
     "data": {
      "image/png": "[encoded data removed]",
      "text/plain": [
       "<Figure size 720x432 with 1 Axes>"
      ]
     },
     "metadata": {
      "needs_background": "light"
     },
     "output_type": "display_data"
    }
   ],
   "source": [
    "#plot the above with no russian respondents\n",
    "fig = plt.figure(figsize=(10,6))\n",
    "\n",
    "labels = mean_wage_by_currency_norus['symbol'].unique()\n",
    "x = np.arange(len(labels))\n",
    "_ = plt.bar(x, height=mean_wage_by_currency_norus['totalannualwage_dol'])\n",
    "\n",
    "plt.xticks(x, labels)\n",
    "plt.ylabel(\"International dollar\")\n",
    "plt.title('Total mean annual earnings by currency', fontsize=14)\n",
    "plt.show()"
   ]
  },
  {
   "cell_type": "code",
   "execution_count": 152,
   "metadata": {},
   "outputs": [
    {
     "data": {
      "image/png": "[encoded data removed]",
      "text/plain": [
       "<Figure size 720x432 with 1 Axes>"
      ]
     },
     "metadata": {
      "needs_background": "light"
     },
     "output_type": "display_data"
    }
   ],
   "source": [
    "# plot mean earnings per hour by currency, all currencies\n",
    "fig = plt.figure(figsize=(10,6))\n",
    "labels = mean_wage_by_currency['symbol'].unique()\n",
    "x = np.arange(len(labels))\n",
    "\n",
    "# define arays for plotting\n",
    "_ = plt.bar(x, height=mean_wage_by_currency['dol_per_h'], color='green')\n",
    "plt.xticks(x, labels)\n",
    "plt.title('Mean earnings per hour by currency', fontsize=14)\n",
    "plt.ylabel(\"International dollar\")\n",
    "plt.show()"
   ]
  },
  {
   "cell_type": "code",
   "execution_count": 153,
   "metadata": {},
   "outputs": [
    {
     "data": {
      "image/png": "[encoded data removed]",
      "text/plain": [
       "<Figure size 720x432 with 1 Axes>"
      ]
     },
     "metadata": {
      "needs_background": "light"
     },
     "output_type": "display_data"
    }
   ],
   "source": [
    "# plot mean earnings per hour by currency (no rus)\n",
    "fig = plt.figure(figsize=(10,6))\n",
    "\n",
    "labels = mean_wage_by_currency_norus['symbol'].unique()\n",
    "x = np.arange(len(labels))\n",
    "\n",
    "# define arays for plotting\n",
    "_ = plt.bar(x, height=mean_wage_by_currency_norus['dol_per_h'], color='green')\n",
    "plt.xticks(x, labels)\n",
    "plt.title('Mean earnings per hour by currency', fontsize=14)\n",
    "plt.ylabel(\"International dollar\")\n",
    "plt.show()"
   ]
  },
  {
   "cell_type": "code",
   "execution_count": 154,
   "metadata": {},
   "outputs": [
    {
     "data": {
      "image/png": "[encoded data removed]",
      "text/plain": [
       "<Figure size 720x432 with 1 Axes>"
      ]
     },
     "metadata": {
      "needs_background": "light"
     },
     "output_type": "display_data"
    }
   ],
   "source": [
    "#plot mean wage by currency for all currencies\n",
    "fig = plt.figure(figsize=(10,6))\n",
    "\n",
    "labels = mean_wage_by_currency['symbol'].unique()\n",
    "x = np.arange(len(labels))\n",
    "\n",
    "# define arays for plotting\n",
    "_ = plt.bar(x, height=mean_wage_by_currency['totalhoursyearly'], color='orange')\n",
    "plt.xticks(x, labels)\n",
    "plt.title('Total hours worked yearly by currency', fontsize=14)\n",
    "plt.ylabel(\"Hours\")\n",
    "plt.show()"
   ]
  },
  {
   "cell_type": "code",
   "execution_count": 155,
   "metadata": {},
   "outputs": [],
   "source": [
    "# #plot mean wage by currency with no Russian respondents\n",
    "# fig = plt.figure(figsize=(10,6))\n",
    "\n",
    "# labels = mean_wage_by_currency_norus['symbol'].unique()\n",
    "# x = np.arange(len(labels))\n",
    "\n",
    "# # define arays for plotting\n",
    "# _ = plt.bar(x, height=mean_wage_by_currency_norus['totalhoursyearly'], color='orange')\n",
    "# plt.xticks(x, labels)\n",
    "# plt.title('Total hours worked yearly by currency', fontsize=14)\n",
    "# plt.ylabel(\"Hours\")\n",
    "# plt.show()"
   ]
  },
  {
   "cell_type": "code",
   "execution_count": 156,
   "metadata": {},
   "outputs": [],
   "source": [
    "mt = mean_wage_by_currency.set_index('symbol')\n",
    "mt = mt[[\"A_dol\",\"B_dol\",\"C_dol\",\"D_dol\", \"E_dol\",\"totalannualwage_dol\", \"dol_per_h\",'totalhoursyearly']]\n",
    "#dropping the rubles not to skew results\n",
    "mt.drop(\"RUB\",inplace=True)"
   ]
  },
  {
   "cell_type": "code",
   "execution_count": 157,
   "metadata": {},
   "outputs": [
    {
     "data": {
      "text/html": [
       "<div>\n",
       "<style scoped>\n",
       "    .dataframe tbody tr th:only-of-type {\n",
       "        vertical-align: middle;\n",
       "    }\n",
       "\n",
       "    .dataframe tbody tr th {\n",
       "        vertical-align: top;\n",
       "    }\n",
       "\n",
       "    .dataframe thead th {\n",
       "        text-align: right;\n",
       "    }\n",
       "</style>\n",
       "<table border=\"1\" class=\"dataframe\">\n",
       "  <thead>\n",
       "    <tr style=\"text-align: right;\">\n",
       "      <th></th>\n",
       "      <th>A_dol</th>\n",
       "      <th>B_dol</th>\n",
       "      <th>C_dol</th>\n",
       "      <th>D_dol</th>\n",
       "      <th>E_dol</th>\n",
       "      <th>totalannualwage_dol</th>\n",
       "      <th>dol_per_h</th>\n",
       "      <th>totalhoursyearly</th>\n",
       "    </tr>\n",
       "    <tr>\n",
       "      <th>symbol</th>\n",
       "      <th></th>\n",
       "      <th></th>\n",
       "      <th></th>\n",
       "      <th></th>\n",
       "      <th></th>\n",
       "      <th></th>\n",
       "      <th></th>\n",
       "      <th></th>\n",
       "    </tr>\n",
       "  </thead>\n",
       "  <tbody>\n",
       "    <tr>\n",
       "      <th>$</th>\n",
       "      <td>40.281419</td>\n",
       "      <td>12.555253</td>\n",
       "      <td>128.195526</td>\n",
       "      <td>38.811008</td>\n",
       "      <td>38.911740</td>\n",
       "      <td>53321.924131</td>\n",
       "      <td>26.229208</td>\n",
       "      <td>2005.473339</td>\n",
       "    </tr>\n",
       "    <tr>\n",
       "      <th>EUR</th>\n",
       "      <td>44.606423</td>\n",
       "      <td>10.165524</td>\n",
       "      <td>170.402896</td>\n",
       "      <td>33.718768</td>\n",
       "      <td>38.774780</td>\n",
       "      <td>40483.716952</td>\n",
       "      <td>21.514034</td>\n",
       "      <td>1906.271302</td>\n",
       "    </tr>\n",
       "    <tr>\n",
       "      <th>GBP</th>\n",
       "      <td>35.917494</td>\n",
       "      <td>10.984488</td>\n",
       "      <td>153.104884</td>\n",
       "      <td>32.025153</td>\n",
       "      <td>34.013560</td>\n",
       "      <td>41297.353409</td>\n",
       "      <td>21.629402</td>\n",
       "      <td>1889.836364</td>\n",
       "    </tr>\n",
       "    <tr>\n",
       "      <th>INR</th>\n",
       "      <td>27.218889</td>\n",
       "      <td>5.553091</td>\n",
       "      <td>17.360318</td>\n",
       "      <td>30.394445</td>\n",
       "      <td>18.575532</td>\n",
       "      <td>38213.013365</td>\n",
       "      <td>16.785719</td>\n",
       "      <td>2310.054545</td>\n",
       "    </tr>\n",
       "    <tr>\n",
       "      <th>NIS</th>\n",
       "      <td>36.677724</td>\n",
       "      <td>8.056581</td>\n",
       "      <td>69.137580</td>\n",
       "      <td>28.252741</td>\n",
       "      <td>31.082320</td>\n",
       "      <td>39932.182345</td>\n",
       "      <td>17.790833</td>\n",
       "      <td>2242.838462</td>\n",
       "    </tr>\n",
       "  </tbody>\n",
       "</table>\n",
       "</div>"
      ],
      "text/plain": [
       "            A_dol      B_dol       C_dol      D_dol      E_dol  \\\n",
       "symbol                                                           \n",
       "$       40.281419  12.555253  128.195526  38.811008  38.911740   \n",
       "EUR     44.606423  10.165524  170.402896  33.718768  38.774780   \n",
       "GBP     35.917494  10.984488  153.104884  32.025153  34.013560   \n",
       "INR     27.218889   5.553091   17.360318  30.394445  18.575532   \n",
       "NIS     36.677724   8.056581   69.137580  28.252741  31.082320   \n",
       "\n",
       "        totalannualwage_dol  dol_per_h  totalhoursyearly  \n",
       "symbol                                                    \n",
       "$              53321.924131  26.229208       2005.473339  \n",
       "EUR            40483.716952  21.514034       1906.271302  \n",
       "GBP            41297.353409  21.629402       1889.836364  \n",
       "INR            38213.013365  16.785719       2310.054545  \n",
       "NIS            39932.182345  17.790833       2242.838462  "
      ]
     },
     "execution_count": 157,
     "metadata": {},
     "output_type": "execute_result"
    }
   ],
   "source": [
    "mt"
   ]
  },
  {
   "cell_type": "code",
   "execution_count": 158,
   "metadata": {},
   "outputs": [
    {
     "name": "stdout",
     "output_type": "stream",
     "text": [
      "INR\n",
      "GBP\n"
     ]
    }
   ],
   "source": [
    "max_values = mt.idxmax()\n",
    "min_values = mt.idxmin()\n",
    "print(min_values['totalannualwage_dol'])\n",
    "print(min_values['totalhoursyearly'])"
   ]
  },
  {
   "cell_type": "code",
   "execution_count": 159,
   "metadata": {},
   "outputs": [
    {
     "name": "stdout",
     "output_type": "stream",
     "text": [
      "The lowest annual wage is earned by those who earn in INR \n",
      "and the lowest pay per hour is earned by those who earn in INR \n",
      "The highest annual wage is earned by those who earn in $ \n",
      "and the highest pay per hour is earned by those who earn in $ . \n",
      "Earners of INR work the highest number of hours per year, and\n",
      "earners of GBP work the lowest number of hours per year.\n"
     ]
    }
   ],
   "source": [
    "print(\"The lowest annual wage is earned by those who earn in\", min_values['totalannualwage_dol'], \n",
    "      \"\\nand the lowest pay per hour is earned by those who earn in\", min_values['dol_per_h'],\n",
    "      \"\\nThe highest annual wage is earned by those who earn in\", max_values['totalannualwage_dol'], \n",
    "      \"\\nand the highest pay per hour is earned by those who earn in\", max_values['dol_per_h'],\n",
    "      \". \\nEarners of\", max_values['totalhoursyearly'], \"work the highest number of hours per year, and\"\n",
    "      \"\\nearners of\", min_values['totalhoursyearly'], \"work the lowest number of hours per year.\")"
   ]
  },
  {
   "cell_type": "markdown",
   "metadata": {},
   "source": [
    "### Value of time vs. earning per hour"
   ]
  },
  {
   "cell_type": "code",
   "execution_count": 160,
   "metadata": {},
   "outputs": [
    {
     "data": {
      "text/plain": [
       "symbol\n",
       "INR    1.106627\n",
       "$      1.483527\n",
       "GBP    1.572561\n",
       "NIS    1.747097\n",
       "EUR    1.802302\n",
       "Name: E_to_perh_ratio, dtype: float64"
      ]
     },
     "execution_count": 160,
     "metadata": {},
     "output_type": "execute_result"
    }
   ],
   "source": [
    "mt['E_to_perh_ratio'] = mt['E_dol']/mt['dol_per_h']\n",
    "mt_sorted = mt['E_to_perh_ratio'].sort_values()\n",
    "mt_sorted"
   ]
  },
  {
   "cell_type": "code",
   "execution_count": 161,
   "metadata": {},
   "outputs": [
    {
     "data": {
      "text/plain": [
       "symbol\n",
       "INR    16.785719\n",
       "NIS    17.790833\n",
       "EUR    21.514034\n",
       "GBP    21.629402\n",
       "$      26.229208\n",
       "Name: dol_per_h, dtype: float64"
      ]
     },
     "execution_count": 161,
     "metadata": {},
     "output_type": "execute_result"
    }
   ],
   "source": [
    "mt['dol_per_h'].sort_values()"
   ]
  },
  {
   "cell_type": "code",
   "execution_count": 162,
   "metadata": {},
   "outputs": [
    {
     "data": {
      "image/png": "[encoded data removed]",
      "text/plain": [
       "<Figure size 864x576 with 1 Axes>"
      ]
     },
     "metadata": {
      "needs_background": "light"
     },
     "output_type": "display_data"
    }
   ],
   "source": [
    "fig = plt.figure(figsize=(12,8))\n",
    "labels = mt_sorted.index\n",
    "x = np.arange(len(labels))\n",
    "\n",
    "# _ = mt_sorted.plot(kind='bar')\n",
    "\n",
    "# define arays for plotting\n",
    "ax = plt.bar(x, height=mt_sorted)\n",
    "plt.xticks(x, labels)\n",
    "\n",
    "plt.title('Ratios of value of time to one hour of paid work', fontsize=14)\n",
    "plt.xticks(fontsize=14)\n",
    "plt.xlabel(\"\")\n",
    "\n",
    "plt.show()"
   ]
  },
  {
   "cell_type": "markdown",
   "metadata": {},
   "source": [
    "**Conclusion**\n",
    "\n",
    "While the highest annual wage and the highest pay per hour is earned by US$-earners, people who earn in other curencies value their time higher as compared to how much they earn. EUR earners value an hour of their time at 1.8x more than an hour of paid work, NIS-earners 1.75x more and GBP earners 1.57x more. The last onesare INR earners, 1.11x on average. \n",
    "\n",
    "Looking at the absolute average values of earnings per hour it suggests that earning more per hours doesn't lead to valuing one's time more.\n",
    "\n",
    "### Quesions:\n",
    "\n",
    "It'd be ideal to see how enjoyment is correlated with earnings, as in: are people who earn more, more likely enjoy their work more? But it would be hard to execute since enjoyment is measured on a 3 point scale. Would it make sense to check this? How can this be done? "
   ]
  },
  {
   "cell_type": "markdown",
   "metadata": {},
   "source": [
    "# Predicting final value of time\n",
    "\n",
    "### Questions to answer: \n",
    "\n",
    " 1. Can we predict final value of time based on salary, employment, currency, etc. (factors **other than** questions A-D)?\n",
    " 2. Adding the answer to which question (out of questions A-D) would make the results more accurate? \n",
    " \n",
    "Doing a linear regression allows to factor in enjoyment to the prediction.\n",
    " \n",
    "The problem here might be that the variables are correlated (presumably more total hours means higher annual wage)."
   ]
  },
  {
   "cell_type": "code",
   "execution_count": 163,
   "metadata": {},
   "outputs": [
    {
     "data": {
      "text/html": [
       "<div>\n",
       "<style scoped>\n",
       "    .dataframe tbody tr th:only-of-type {\n",
       "        vertical-align: middle;\n",
       "    }\n",
       "\n",
       "    .dataframe tbody tr th {\n",
       "        vertical-align: top;\n",
       "    }\n",
       "\n",
       "    .dataframe thead th {\n",
       "        text-align: right;\n",
       "    }\n",
       "</style>\n",
       "<table border=\"1\" class=\"dataframe\">\n",
       "  <thead>\n",
       "    <tr style=\"text-align: right;\">\n",
       "      <th></th>\n",
       "      <th>employment</th>\n",
       "      <th>wageorsalary</th>\n",
       "      <th>symbol</th>\n",
       "      <th>enjoy</th>\n",
       "      <th>jobnumber</th>\n",
       "      <th>totalhoursyearly</th>\n",
       "      <th>totalannualwage</th>\n",
       "      <th>E_dol</th>\n",
       "    </tr>\n",
       "  </thead>\n",
       "  <tbody>\n",
       "    <tr>\n",
       "      <th>0</th>\n",
       "      <td>1</td>\n",
       "      <td>0</td>\n",
       "      <td>$</td>\n",
       "      <td>Somewhat</td>\n",
       "      <td>2.0</td>\n",
       "      <td>1970.0</td>\n",
       "      <td>39570.0</td>\n",
       "      <td>20.000000</td>\n",
       "    </tr>\n",
       "    <tr>\n",
       "      <th>2</th>\n",
       "      <td>1</td>\n",
       "      <td>2</td>\n",
       "      <td>$</td>\n",
       "      <td>Yes</td>\n",
       "      <td>1.0</td>\n",
       "      <td>2340.0</td>\n",
       "      <td>49495.0</td>\n",
       "      <td>31.463675</td>\n",
       "    </tr>\n",
       "    <tr>\n",
       "      <th>4</th>\n",
       "      <td>1</td>\n",
       "      <td>2</td>\n",
       "      <td>$</td>\n",
       "      <td>Yes</td>\n",
       "      <td>1.0</td>\n",
       "      <td>2600.0</td>\n",
       "      <td>129500.0</td>\n",
       "      <td>49.500000</td>\n",
       "    </tr>\n",
       "    <tr>\n",
       "      <th>5</th>\n",
       "      <td>1</td>\n",
       "      <td>2</td>\n",
       "      <td>$</td>\n",
       "      <td>Somewhat</td>\n",
       "      <td>1.0</td>\n",
       "      <td>2400.0</td>\n",
       "      <td>120700.0</td>\n",
       "      <td>87.500000</td>\n",
       "    </tr>\n",
       "    <tr>\n",
       "      <th>6</th>\n",
       "      <td>1</td>\n",
       "      <td>0</td>\n",
       "      <td>$</td>\n",
       "      <td>Yes</td>\n",
       "      <td>1.0</td>\n",
       "      <td>2000.0</td>\n",
       "      <td>52000.0</td>\n",
       "      <td>26.416667</td>\n",
       "    </tr>\n",
       "  </tbody>\n",
       "</table>\n",
       "</div>"
      ],
      "text/plain": [
       "  employment wageorsalary symbol     enjoy  jobnumber  totalhoursyearly  \\\n",
       "0          1            0      $  Somewhat        2.0            1970.0   \n",
       "2          1            2      $       Yes        1.0            2340.0   \n",
       "4          1            2      $       Yes        1.0            2600.0   \n",
       "5          1            2      $  Somewhat        1.0            2400.0   \n",
       "6          1            0      $       Yes        1.0            2000.0   \n",
       "\n",
       "   totalannualwage      E_dol  \n",
       "0          39570.0  20.000000  \n",
       "2          49495.0  31.463675  \n",
       "4         129500.0  49.500000  \n",
       "5         120700.0  87.500000  \n",
       "6          52000.0  26.416667  "
      ]
     },
     "execution_count": 163,
     "metadata": {},
     "output_type": "execute_result"
    }
   ],
   "source": [
    "#create a base table\n",
    "table_for_model = basetv_noout[['employment', 'wageorsalary', 'symbol', 'enjoy', 'jobnumber', 'totalhoursyearly', 'totalannualwage', 'E_dol']]\n",
    "table_for_model.head()"
   ]
  },
  {
   "cell_type": "code",
   "execution_count": 164,
   "metadata": {},
   "outputs": [
    {
     "data": {
      "text/plain": [
       "employment          0\n",
       "wageorsalary        0\n",
       "symbol              0\n",
       "enjoy               0\n",
       "jobnumber           0\n",
       "totalhoursyearly    0\n",
       "totalannualwage     0\n",
       "E_dol               0\n",
       "dtype: int64"
      ]
     },
     "execution_count": 164,
     "metadata": {},
     "output_type": "execute_result"
    }
   ],
   "source": [
    "#check for nans \n",
    "table_for_model.isna().sum()"
   ]
  },
  {
   "cell_type": "markdown",
   "metadata": {},
   "source": [
    "### Process base table to prep for regression\n",
    "We will use the replace function to turn the categriacal variables in \"enjoy\" column into labels, to make sure the values have the right weights (that is Enjoy has a higher vlaue than Somewhat). For the 'symbol' column we can use one hot encoding wit get dummies."
   ]
  },
  {
   "cell_type": "code",
   "execution_count": 165,
   "metadata": {},
   "outputs": [],
   "source": [
    "enjoy_encode = {\"enjoy\":{\"Yes\":3,\"Somewhat\":2,\"No\":1}}"
   ]
  },
  {
   "cell_type": "code",
   "execution_count": 166,
   "metadata": {},
   "outputs": [
    {
     "name": "stderr",
     "output_type": "stream",
     "text": [
      "/Applications/anaconda3/lib/python3.7/site-packages/pandas/core/generic.py:6666: SettingWithCopyWarning: \n",
      "A value is trying to be set on a copy of a slice from a DataFrame.\n",
      "Try using .loc[row_indexer,col_indexer] = value instead\n",
      "\n",
      "See the caveats in the documentation: https://pandas.pydata.org/pandas-docs/stable/user_guide/indexing.html#returning-a-view-versus-a-copy\n",
      "  regex=regex,\n"
     ]
    }
   ],
   "source": [
    "table_for_model.replace(enjoy_encode,inplace=True )"
   ]
  },
  {
   "cell_type": "code",
   "execution_count": 167,
   "metadata": {},
   "outputs": [],
   "source": [
    "# default drop first is False, which afaiu is not the best practice. \n",
    "table_for_model = pd.get_dummies(table_for_model, columns=[\"symbol\"], drop_first=True)"
   ]
  },
  {
   "cell_type": "code",
   "execution_count": 168,
   "metadata": {},
   "outputs": [
    {
     "data": {
      "text/html": [
       "<div>\n",
       "<style scoped>\n",
       "    .dataframe tbody tr th:only-of-type {\n",
       "        vertical-align: middle;\n",
       "    }\n",
       "\n",
       "    .dataframe tbody tr th {\n",
       "        vertical-align: top;\n",
       "    }\n",
       "\n",
       "    .dataframe thead th {\n",
       "        text-align: right;\n",
       "    }\n",
       "</style>\n",
       "<table border=\"1\" class=\"dataframe\">\n",
       "  <thead>\n",
       "    <tr style=\"text-align: right;\">\n",
       "      <th></th>\n",
       "      <th>employment</th>\n",
       "      <th>wageorsalary</th>\n",
       "      <th>enjoy</th>\n",
       "      <th>jobnumber</th>\n",
       "      <th>totalhoursyearly</th>\n",
       "      <th>totalannualwage</th>\n",
       "      <th>E_dol</th>\n",
       "      <th>symbol_EUR</th>\n",
       "      <th>symbol_GBP</th>\n",
       "      <th>symbol_INR</th>\n",
       "      <th>symbol_NIS</th>\n",
       "      <th>symbol_RUB</th>\n",
       "    </tr>\n",
       "  </thead>\n",
       "  <tbody>\n",
       "    <tr>\n",
       "      <th>0</th>\n",
       "      <td>1</td>\n",
       "      <td>0</td>\n",
       "      <td>2</td>\n",
       "      <td>2.0</td>\n",
       "      <td>1970.0</td>\n",
       "      <td>39570.0</td>\n",
       "      <td>20.000000</td>\n",
       "      <td>0</td>\n",
       "      <td>0</td>\n",
       "      <td>0</td>\n",
       "      <td>0</td>\n",
       "      <td>0</td>\n",
       "    </tr>\n",
       "    <tr>\n",
       "      <th>2</th>\n",
       "      <td>1</td>\n",
       "      <td>2</td>\n",
       "      <td>3</td>\n",
       "      <td>1.0</td>\n",
       "      <td>2340.0</td>\n",
       "      <td>49495.0</td>\n",
       "      <td>31.463675</td>\n",
       "      <td>0</td>\n",
       "      <td>0</td>\n",
       "      <td>0</td>\n",
       "      <td>0</td>\n",
       "      <td>0</td>\n",
       "    </tr>\n",
       "    <tr>\n",
       "      <th>4</th>\n",
       "      <td>1</td>\n",
       "      <td>2</td>\n",
       "      <td>3</td>\n",
       "      <td>1.0</td>\n",
       "      <td>2600.0</td>\n",
       "      <td>129500.0</td>\n",
       "      <td>49.500000</td>\n",
       "      <td>0</td>\n",
       "      <td>0</td>\n",
       "      <td>0</td>\n",
       "      <td>0</td>\n",
       "      <td>0</td>\n",
       "    </tr>\n",
       "    <tr>\n",
       "      <th>5</th>\n",
       "      <td>1</td>\n",
       "      <td>2</td>\n",
       "      <td>2</td>\n",
       "      <td>1.0</td>\n",
       "      <td>2400.0</td>\n",
       "      <td>120700.0</td>\n",
       "      <td>87.500000</td>\n",
       "      <td>0</td>\n",
       "      <td>0</td>\n",
       "      <td>0</td>\n",
       "      <td>0</td>\n",
       "      <td>0</td>\n",
       "    </tr>\n",
       "    <tr>\n",
       "      <th>6</th>\n",
       "      <td>1</td>\n",
       "      <td>0</td>\n",
       "      <td>3</td>\n",
       "      <td>1.0</td>\n",
       "      <td>2000.0</td>\n",
       "      <td>52000.0</td>\n",
       "      <td>26.416667</td>\n",
       "      <td>0</td>\n",
       "      <td>0</td>\n",
       "      <td>0</td>\n",
       "      <td>0</td>\n",
       "      <td>0</td>\n",
       "    </tr>\n",
       "  </tbody>\n",
       "</table>\n",
       "</div>"
      ],
      "text/plain": [
       "  employment wageorsalary  enjoy  jobnumber  totalhoursyearly  \\\n",
       "0          1            0      2        2.0            1970.0   \n",
       "2          1            2      3        1.0            2340.0   \n",
       "4          1            2      3        1.0            2600.0   \n",
       "5          1            2      2        1.0            2400.0   \n",
       "6          1            0      3        1.0            2000.0   \n",
       "\n",
       "   totalannualwage      E_dol  symbol_EUR  symbol_GBP  symbol_INR  symbol_NIS  \\\n",
       "0          39570.0  20.000000           0           0           0           0   \n",
       "2          49495.0  31.463675           0           0           0           0   \n",
       "4         129500.0  49.500000           0           0           0           0   \n",
       "5         120700.0  87.500000           0           0           0           0   \n",
       "6          52000.0  26.416667           0           0           0           0   \n",
       "\n",
       "   symbol_RUB  \n",
       "0           0  \n",
       "2           0  \n",
       "4           0  \n",
       "5           0  \n",
       "6           0  "
      ]
     },
     "execution_count": 168,
     "metadata": {},
     "output_type": "execute_result"
    }
   ],
   "source": [
    "table_for_model.head()"
   ]
  },
  {
   "cell_type": "code",
   "execution_count": 169,
   "metadata": {},
   "outputs": [],
   "source": [
    "from sklearn.linear_model import LinearRegression \n",
    "from sklearn.model_selection import train_test_split\n",
    "from sklearn import metrics "
   ]
  },
  {
   "cell_type": "code",
   "execution_count": 170,
   "metadata": {},
   "outputs": [
    {
     "data": {
      "text/plain": [
       "LinearRegression(copy_X=True, fit_intercept=True, n_jobs=None, normalize=False)"
      ]
     },
     "execution_count": 170,
     "metadata": {},
     "output_type": "execute_result"
    }
   ],
   "source": [
    "# define predictors and response\n",
    "x = table_for_model.drop(columns='E_dol')\n",
    "y = table_for_model['E_dol']\n",
    "\n",
    "#split into train and test sets\n",
    "x_train, x_test, y_train, y_test = train_test_split(x, y, test_size = 0.3)\n",
    "\n",
    "# instantiate the model\n",
    "lr = LinearRegression()\n",
    "\n",
    "#fit the model\n",
    "lr.fit(x_train, y_train)"
   ]
  },
  {
   "cell_type": "code",
   "execution_count": 171,
   "metadata": {},
   "outputs": [
    {
     "name": "stdout",
     "output_type": "stream",
     "text": [
      "9887 9887\n"
     ]
    }
   ],
   "source": [
    "print(len(x), len(y))"
   ]
  },
  {
   "cell_type": "code",
   "execution_count": 172,
   "metadata": {},
   "outputs": [
    {
     "name": "stdout",
     "output_type": "stream",
     "text": [
      "[ 7.15819525e+00  3.58805543e+00  2.21681046e+00 -7.04532568e+00\n",
      "  5.20590085e-03  1.95524601e-07 -9.86681502e-02 -5.58879278e+00\n",
      " -2.10875337e+01 -8.83474084e+00 -8.73559950e+00]\n"
     ]
    }
   ],
   "source": [
    "# check coefficients\n",
    "print(lr.coef_)"
   ]
  },
  {
   "cell_type": "code",
   "execution_count": 173,
   "metadata": {},
   "outputs": [
    {
     "data": {
      "text/html": [
       "<div>\n",
       "<style scoped>\n",
       "    .dataframe tbody tr th:only-of-type {\n",
       "        vertical-align: middle;\n",
       "    }\n",
       "\n",
       "    .dataframe tbody tr th {\n",
       "        vertical-align: top;\n",
       "    }\n",
       "\n",
       "    .dataframe thead th {\n",
       "        text-align: right;\n",
       "    }\n",
       "</style>\n",
       "<table border=\"1\" class=\"dataframe\">\n",
       "  <thead>\n",
       "    <tr style=\"text-align: right;\">\n",
       "      <th></th>\n",
       "      <th>Coefficient</th>\n",
       "    </tr>\n",
       "  </thead>\n",
       "  <tbody>\n",
       "    <tr>\n",
       "      <th>employment</th>\n",
       "      <td>7.158195e+00</td>\n",
       "    </tr>\n",
       "    <tr>\n",
       "      <th>wageorsalary</th>\n",
       "      <td>3.588055e+00</td>\n",
       "    </tr>\n",
       "    <tr>\n",
       "      <th>enjoy</th>\n",
       "      <td>2.216810e+00</td>\n",
       "    </tr>\n",
       "    <tr>\n",
       "      <th>jobnumber</th>\n",
       "      <td>-7.045326e+00</td>\n",
       "    </tr>\n",
       "    <tr>\n",
       "      <th>totalhoursyearly</th>\n",
       "      <td>5.205901e-03</td>\n",
       "    </tr>\n",
       "    <tr>\n",
       "      <th>totalannualwage</th>\n",
       "      <td>1.955246e-07</td>\n",
       "    </tr>\n",
       "    <tr>\n",
       "      <th>symbol_EUR</th>\n",
       "      <td>-9.866815e-02</td>\n",
       "    </tr>\n",
       "    <tr>\n",
       "      <th>symbol_GBP</th>\n",
       "      <td>-5.588793e+00</td>\n",
       "    </tr>\n",
       "    <tr>\n",
       "      <th>symbol_INR</th>\n",
       "      <td>-2.108753e+01</td>\n",
       "    </tr>\n",
       "    <tr>\n",
       "      <th>symbol_NIS</th>\n",
       "      <td>-8.834741e+00</td>\n",
       "    </tr>\n",
       "    <tr>\n",
       "      <th>symbol_RUB</th>\n",
       "      <td>-8.735599e+00</td>\n",
       "    </tr>\n",
       "  </tbody>\n",
       "</table>\n",
       "</div>"
      ],
      "text/plain": [
       "                   Coefficient\n",
       "employment        7.158195e+00\n",
       "wageorsalary      3.588055e+00\n",
       "enjoy             2.216810e+00\n",
       "jobnumber        -7.045326e+00\n",
       "totalhoursyearly  5.205901e-03\n",
       "totalannualwage   1.955246e-07\n",
       "symbol_EUR       -9.866815e-02\n",
       "symbol_GBP       -5.588793e+00\n",
       "symbol_INR       -2.108753e+01\n",
       "symbol_NIS       -8.834741e+00\n",
       "symbol_RUB       -8.735599e+00"
      ]
     },
     "execution_count": 173,
     "metadata": {},
     "output_type": "execute_result"
    }
   ],
   "source": [
    "coef_frame = pd.DataFrame(lr.coef_, x.columns, columns=['Coefficient'])\n",
    "coef_frame"
   ]
  },
  {
   "cell_type": "code",
   "execution_count": 174,
   "metadata": {},
   "outputs": [],
   "source": [
    "# predictions\n",
    "predictions = lr.predict(x_test)"
   ]
  },
  {
   "cell_type": "code",
   "execution_count": 175,
   "metadata": {},
   "outputs": [
    {
     "data": {
      "image/png": "[encoded data removed]",
      "text/plain": [
       "<Figure size 432x288 with 1 Axes>"
      ]
     },
     "metadata": {
      "needs_background": "light"
     },
     "output_type": "display_data"
    }
   ],
   "source": [
    "#visualise predictions\n",
    "_ = plt.scatter(y_test,predictions)\n",
    "plt.show()"
   ]
  },
  {
   "cell_type": "markdown",
   "metadata": {},
   "source": [
    "This model sucks."
   ]
  },
  {
   "cell_type": "code",
   "execution_count": 176,
   "metadata": {},
   "outputs": [
    {
     "data": {
      "image/png": "[encoded data removed]",
      "text/plain": [
       "<Figure size 432x288 with 1 Axes>"
      ]
     },
     "metadata": {
      "needs_background": "light"
     },
     "output_type": "display_data"
    }
   ],
   "source": [
    "# plot residuals\n",
    "_ = plt.hist(y_test - predictions)\n",
    "plt.show()"
   ]
  },
  {
   "cell_type": "code",
   "execution_count": 177,
   "metadata": {},
   "outputs": [
    {
     "data": {
      "text/plain": [
       "364.89876058932407"
      ]
     },
     "execution_count": 177,
     "metadata": {},
     "output_type": "execute_result"
    }
   ],
   "source": [
    "# test\n",
    "metrics.mean_squared_error(y_test, predictions)"
   ]
  },
  {
   "cell_type": "markdown",
   "metadata": {},
   "source": [
    "Let's try to make this model better. Perhaps the currency encoding should be changed."
   ]
  },
  {
   "cell_type": "code",
   "execution_count": 178,
   "metadata": {},
   "outputs": [
    {
     "data": {
      "text/html": [
       "<div>\n",
       "<style scoped>\n",
       "    .dataframe tbody tr th:only-of-type {\n",
       "        vertical-align: middle;\n",
       "    }\n",
       "\n",
       "    .dataframe tbody tr th {\n",
       "        vertical-align: top;\n",
       "    }\n",
       "\n",
       "    .dataframe thead th {\n",
       "        text-align: right;\n",
       "    }\n",
       "</style>\n",
       "<table border=\"1\" class=\"dataframe\">\n",
       "  <thead>\n",
       "    <tr style=\"text-align: right;\">\n",
       "      <th></th>\n",
       "      <th>employment</th>\n",
       "      <th>wageorsalary</th>\n",
       "      <th>symbol</th>\n",
       "      <th>enjoy</th>\n",
       "      <th>jobnumber</th>\n",
       "      <th>totalhoursyearly</th>\n",
       "      <th>totalannualwage</th>\n",
       "      <th>E_dol</th>\n",
       "    </tr>\n",
       "  </thead>\n",
       "  <tbody>\n",
       "    <tr>\n",
       "      <th>0</th>\n",
       "      <td>1</td>\n",
       "      <td>0</td>\n",
       "      <td>$</td>\n",
       "      <td>2</td>\n",
       "      <td>2.0</td>\n",
       "      <td>1970.0</td>\n",
       "      <td>39570.0</td>\n",
       "      <td>20.000000</td>\n",
       "    </tr>\n",
       "    <tr>\n",
       "      <th>2</th>\n",
       "      <td>1</td>\n",
       "      <td>2</td>\n",
       "      <td>$</td>\n",
       "      <td>3</td>\n",
       "      <td>1.0</td>\n",
       "      <td>2340.0</td>\n",
       "      <td>49495.0</td>\n",
       "      <td>31.463675</td>\n",
       "    </tr>\n",
       "    <tr>\n",
       "      <th>4</th>\n",
       "      <td>1</td>\n",
       "      <td>2</td>\n",
       "      <td>$</td>\n",
       "      <td>3</td>\n",
       "      <td>1.0</td>\n",
       "      <td>2600.0</td>\n",
       "      <td>129500.0</td>\n",
       "      <td>49.500000</td>\n",
       "    </tr>\n",
       "    <tr>\n",
       "      <th>5</th>\n",
       "      <td>1</td>\n",
       "      <td>2</td>\n",
       "      <td>$</td>\n",
       "      <td>2</td>\n",
       "      <td>1.0</td>\n",
       "      <td>2400.0</td>\n",
       "      <td>120700.0</td>\n",
       "      <td>87.500000</td>\n",
       "    </tr>\n",
       "    <tr>\n",
       "      <th>6</th>\n",
       "      <td>1</td>\n",
       "      <td>0</td>\n",
       "      <td>$</td>\n",
       "      <td>3</td>\n",
       "      <td>1.0</td>\n",
       "      <td>2000.0</td>\n",
       "      <td>52000.0</td>\n",
       "      <td>26.416667</td>\n",
       "    </tr>\n",
       "  </tbody>\n",
       "</table>\n",
       "</div>"
      ],
      "text/plain": [
       "  employment wageorsalary symbol  enjoy  jobnumber  totalhoursyearly  \\\n",
       "0          1            0      $      2        2.0            1970.0   \n",
       "2          1            2      $      3        1.0            2340.0   \n",
       "4          1            2      $      3        1.0            2600.0   \n",
       "5          1            2      $      2        1.0            2400.0   \n",
       "6          1            0      $      3        1.0            2000.0   \n",
       "\n",
       "   totalannualwage      E_dol  \n",
       "0          39570.0  20.000000  \n",
       "2          49495.0  31.463675  \n",
       "4         129500.0  49.500000  \n",
       "5         120700.0  87.500000  \n",
       "6          52000.0  26.416667  "
      ]
     },
     "execution_count": 178,
     "metadata": {},
     "output_type": "execute_result"
    }
   ],
   "source": [
    "table_for_model_1 = basetv_noout[['employment', 'wageorsalary', 'symbol', 'enjoy', 'jobnumber', 'totalhoursyearly', 'totalannualwage', 'E_dol']]\n",
    "table_for_model_1 = table_for_model_1.replace(enjoy_encode)\n",
    "table_for_model_1.head()"
   ]
  },
  {
   "cell_type": "code",
   "execution_count": 179,
   "metadata": {},
   "outputs": [],
   "source": [
    "#building in my bias into the model by creting a currency hierarchy? \n",
    "# hierarchy based on ratios in cell 188\n",
    "symbol_encode = {\"symbol\":{\"EUR\":5,\"NIS\":4,\"GBP\":3,'$':2,\"RUB\":1,'INR':0}}"
   ]
  },
  {
   "cell_type": "code",
   "execution_count": 180,
   "metadata": {},
   "outputs": [],
   "source": [
    "table_for_model_1 = table_for_model_1.replace(symbol_encode)"
   ]
  },
  {
   "cell_type": "code",
   "execution_count": 181,
   "metadata": {},
   "outputs": [
    {
     "data": {
      "text/html": [
       "<div>\n",
       "<style scoped>\n",
       "    .dataframe tbody tr th:only-of-type {\n",
       "        vertical-align: middle;\n",
       "    }\n",
       "\n",
       "    .dataframe tbody tr th {\n",
       "        vertical-align: top;\n",
       "    }\n",
       "\n",
       "    .dataframe thead th {\n",
       "        text-align: right;\n",
       "    }\n",
       "</style>\n",
       "<table border=\"1\" class=\"dataframe\">\n",
       "  <thead>\n",
       "    <tr style=\"text-align: right;\">\n",
       "      <th></th>\n",
       "      <th>employment</th>\n",
       "      <th>wageorsalary</th>\n",
       "      <th>symbol</th>\n",
       "      <th>enjoy</th>\n",
       "      <th>jobnumber</th>\n",
       "      <th>totalhoursyearly</th>\n",
       "      <th>totalannualwage</th>\n",
       "      <th>E_dol</th>\n",
       "    </tr>\n",
       "  </thead>\n",
       "  <tbody>\n",
       "    <tr>\n",
       "      <th>0</th>\n",
       "      <td>1</td>\n",
       "      <td>0</td>\n",
       "      <td>2</td>\n",
       "      <td>2</td>\n",
       "      <td>2.0</td>\n",
       "      <td>1970.0</td>\n",
       "      <td>39570.0</td>\n",
       "      <td>20.000000</td>\n",
       "    </tr>\n",
       "    <tr>\n",
       "      <th>2</th>\n",
       "      <td>1</td>\n",
       "      <td>2</td>\n",
       "      <td>2</td>\n",
       "      <td>3</td>\n",
       "      <td>1.0</td>\n",
       "      <td>2340.0</td>\n",
       "      <td>49495.0</td>\n",
       "      <td>31.463675</td>\n",
       "    </tr>\n",
       "    <tr>\n",
       "      <th>4</th>\n",
       "      <td>1</td>\n",
       "      <td>2</td>\n",
       "      <td>2</td>\n",
       "      <td>3</td>\n",
       "      <td>1.0</td>\n",
       "      <td>2600.0</td>\n",
       "      <td>129500.0</td>\n",
       "      <td>49.500000</td>\n",
       "    </tr>\n",
       "    <tr>\n",
       "      <th>5</th>\n",
       "      <td>1</td>\n",
       "      <td>2</td>\n",
       "      <td>2</td>\n",
       "      <td>2</td>\n",
       "      <td>1.0</td>\n",
       "      <td>2400.0</td>\n",
       "      <td>120700.0</td>\n",
       "      <td>87.500000</td>\n",
       "    </tr>\n",
       "    <tr>\n",
       "      <th>6</th>\n",
       "      <td>1</td>\n",
       "      <td>0</td>\n",
       "      <td>2</td>\n",
       "      <td>3</td>\n",
       "      <td>1.0</td>\n",
       "      <td>2000.0</td>\n",
       "      <td>52000.0</td>\n",
       "      <td>26.416667</td>\n",
       "    </tr>\n",
       "  </tbody>\n",
       "</table>\n",
       "</div>"
      ],
      "text/plain": [
       "  employment wageorsalary  symbol  enjoy  jobnumber  totalhoursyearly  \\\n",
       "0          1            0       2      2        2.0            1970.0   \n",
       "2          1            2       2      3        1.0            2340.0   \n",
       "4          1            2       2      3        1.0            2600.0   \n",
       "5          1            2       2      2        1.0            2400.0   \n",
       "6          1            0       2      3        1.0            2000.0   \n",
       "\n",
       "   totalannualwage      E_dol  \n",
       "0          39570.0  20.000000  \n",
       "2          49495.0  31.463675  \n",
       "4         129500.0  49.500000  \n",
       "5         120700.0  87.500000  \n",
       "6          52000.0  26.416667  "
      ]
     },
     "execution_count": 181,
     "metadata": {},
     "output_type": "execute_result"
    }
   ],
   "source": [
    "table_for_model_1.head()"
   ]
  },
  {
   "cell_type": "code",
   "execution_count": 182,
   "metadata": {},
   "outputs": [
    {
     "data": {
      "text/plain": [
       "377.55513455860745"
      ]
     },
     "execution_count": 182,
     "metadata": {},
     "output_type": "execute_result"
    }
   ],
   "source": [
    "# define predictors and response\n",
    "x = table_for_model_1.drop(columns='E_dol')\n",
    "y = table_for_model_1['E_dol']\n",
    "\n",
    "#split into train and test sets\n",
    "x_train, x_test, y_train, y_test = train_test_split(x, y, test_size = 0.3)\n",
    "\n",
    "# instantiate the model\n",
    "lr = LinearRegression()\n",
    "\n",
    "#fit the model\n",
    "lr.fit(x_train, y_train)\n",
    "\n",
    "# predictions\n",
    "predictions = lr.predict(x_test)\n",
    "\n",
    "# check accuracy\n",
    "metrics.mean_squared_error(y_test, predictions)"
   ]
  },
  {
   "cell_type": "code",
   "execution_count": 183,
   "metadata": {},
   "outputs": [
    {
     "data": {
      "image/png": "[encoded data removed]",
      "text/plain": [
       "<Figure size 432x288 with 1 Axes>"
      ]
     },
     "metadata": {
      "needs_background": "light"
     },
     "output_type": "display_data"
    }
   ],
   "source": [
    "#visualise predictions\n",
    "_ = plt.scatter(y_test,predictions)\n",
    "plt.show()"
   ]
  },
  {
   "cell_type": "markdown",
   "metadata": {},
   "source": [
    "Still sucks. In more professional words, the mean square error remains very high.\n",
    "\n",
    "We can test adding an answer to one question to the other variable, to see how much it wil increase accuracy."
   ]
  },
  {
   "cell_type": "code",
   "execution_count": 184,
   "metadata": {},
   "outputs": [
    {
     "data": {
      "image/png": "[encoded data removed]",
      "text/plain": [
       "<Figure size 432x288 with 1 Axes>"
      ]
     },
     "metadata": {
      "needs_background": "light"
     },
     "output_type": "display_data"
    },
    {
     "data": {
      "image/png": "[encoded data removed]",
      "text/plain": [
       "<Figure size 432x288 with 1 Axes>"
      ]
     },
     "metadata": {
      "needs_background": "light"
     },
     "output_type": "display_data"
    },
    {
     "data": {
      "image/png": "[encoded data removed]",
      "text/plain": [
       "<Figure size 432x288 with 1 Axes>"
      ]
     },
     "metadata": {
      "needs_background": "light"
     },
     "output_type": "display_data"
    },
    {
     "data": {
      "image/png": "[encoded data removed]",
      "text/plain": [
       "<Figure size 432x288 with 1 Axes>"
      ]
     },
     "metadata": {
      "needs_background": "light"
     },
     "output_type": "display_data"
    },
    {
     "data": {
      "image/png": "[encoded data removed]",
      "text/plain": [
       "<Figure size 432x288 with 1 Axes>"
      ]
     },
     "metadata": {
      "needs_background": "light"
     },
     "output_type": "display_data"
    }
   ],
   "source": [
    "MSE_dict = {}\n",
    "\n",
    "# run the model adding a different 'question column' (A-D) each time, calc the MSE & plot\n",
    "for c in cols_normed:\n",
    "    table_for_model_c = basetv_noout[['employment', 'wageorsalary', 'symbol', 'enjoy', 'jobnumber', 'totalhoursyearly', 'totalannualwage',c, 'E_dol']]\n",
    "    table_for_model_c = table_for_model_c.replace(enjoy_encode)\n",
    "    table_for_model_c = table_for_model_c.replace(symbol_encode)\n",
    "    \n",
    "    # define predictors and response\n",
    "    x = table_for_model_c.drop(columns='E_dol')\n",
    "    y = table_for_model_c['E_dol']\n",
    "\n",
    "    #split into train and test sets\n",
    "    x_train, x_test, y_train, y_test = train_test_split(x, y, test_size = 0.3)\n",
    "\n",
    "    # instantiate the model\n",
    "    lr = LinearRegression()\n",
    "\n",
    "    #fit the model\n",
    "    lr.fit(x_train, y_train)\n",
    "\n",
    "    # predictions\n",
    "    predictions = lr.predict(x_test)\n",
    "\n",
    "    # check accuracy\n",
    "    accuracy = metrics.mean_squared_error(y_test, predictions)\n",
    "    \n",
    "    MSE_dict[c] = accuracy\n",
    "    \n",
    "    _ = plt.scatter(y_test, predictions)\n",
    "    plt.title(c)\n",
    "    plt.show()"
   ]
  },
  {
   "cell_type": "code",
   "execution_count": 185,
   "metadata": {},
   "outputs": [
    {
     "data": {
      "text/plain": [
       "{'A_dol': 119.46817527262763,\n",
       " 'B_dol': 330.0558332369977,\n",
       " 'C_dol': 345.29604144304034,\n",
       " 'D_dol': 163.1548022184124,\n",
       " 'E_dol': 399.26475229530195}"
      ]
     },
     "execution_count": 185,
     "metadata": {},
     "output_type": "execute_result"
    }
   ],
   "source": [
    "MSE_dict"
   ]
  },
  {
   "cell_type": "markdown",
   "metadata": {},
   "source": [
    "**Conclusion**\n",
    "\n",
    "Adding the answer to  question A to the model removes the highest amount of variance. It's still pretty miserable afaik. But, these results match the earlier correlation analysis which suggested answers to questions A & D are most highly correlated with the final value of time."
   ]
  },
  {
   "cell_type": "markdown",
   "metadata": {},
   "source": [
    "# Final conclusions\n",
    "#### How employment changes how you value your time?\n",
    "_Comparison of subgroups: employed vs unemployed_\n",
    "For each currency group the employed people value their time higher than the unemployed. The differences are statistically significant.\n",
    "\n",
    "#### Which question form the test is the best predictor of the final value of time?\n",
    "_Correlations between answers & final value of time_\n",
    "It's expected there would be positive correlations between each question and the final value of time. The higher peole valued their time in each task/question, the higher it means they value it overall. \n",
    "\n",
    "Some variables correlate with the final value of time more strongly than others —namely, answers to questions A and D (strong positive correlation between columns D & E: ~0.7951  and between A & E: ~0.8328). This suggests they are stronger predictors of the final value of time, an assumption we can test later by creating a model (fitting a linear regression). \n",
    "\n",
    "The strength of the correlations vary between currency groups, for example A-E for EUR is 0.878141 (over 0.04 higher than the total average), and D-E is 0.736351 (0.059 lower than average). The total is very strongly informed by the USD subgroup of values (the largest in the dataset). Similar results were shown by fitting a regression.\n",
    "\n",
    "####  How does enjoyment influence value of time?\n",
    "_Correlations between work enjoyment and final value of time_\n",
    "There are significant differences in how people answer the questions (A-D) depending on how much they enjoy their work. This in turn produces significant differences in how they value their time. Even in comparison to those who only enjoy their work “somewhat”, people who enjoy their work (enjoy=Yes) value their time significantly higher.\n",
    "In comparison to those who don't enjoy their work, those who enjoy their work somewhat have significantly higher values only in their answers to question A.\n",
    "This adds to the evidence that question A is the strongest predictor of the final value of time.\n",
    "\n",
    "When grouped by currency I turns out that, those who don't enjoy their work in India and Israel value their time higher than those who enjoy their work somewhat. This is in contrast to respondents using GBP, USD, and EUR.\n",
    "\n",
    "#### How do earnings influence the final value of time?\n",
    "_Ratios of final value of time and earnings per hour across currencies_\n",
    "\n",
    "While the highest annual wage and the highest pay per hour is earned by US$-earners, people who earn in other curencies value their time higher as compared to how much they earn. EUR earners value an hour of their time at 1.8x more than an hour of paid work, NIS-earners 1.75x more and GBP earners 1.57x more. The last onesare INR earners, 1.11x on average.\n",
    "\n",
    "Looking at the absolute average values of earnings per hour it seems that earning more per hour doesn't lead to valuing one's time more. \n",
    "\n",
    "## Next steps\n",
    "It'd be nice to see if these results hold with a higher sample size, here the samples for some currencies (especially rubles) were very small.\n",
    "\n",
    "We coud also do some clustering to check if there are other relationships between data points that were missed here. "
   ]
  }
 ],
 "metadata": {
  "kernelspec": {
   "display_name": "Python 3",
   "language": "python",
   "name": "python3"
  },
  "language_info": {
   "codemirror_mode": {
    "name": "ipython",
    "version": 3
   },
   "file_extension": ".py",
   "mimetype": "text/x-python",
   "name": "python",
   "nbconvert_exporter": "python",
   "pygments_lexer": "ipython3",
   "version": "3.7.6"
  }
 },
 "nbformat": 4,
 "nbformat_minor": 4
}
